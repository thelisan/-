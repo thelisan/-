{
 "cells": [
  {
   "cell_type": "markdown",
   "metadata": {},
   "source": [
    "# Рынок заведений общественного питания Москвы."
   ]
  },
  {
   "cell_type": "markdown",
   "metadata": {},
   "source": [
    "Цель исследования: анализ рынка общественных заведений Москвы, для выяснения рентабельности кафе.\n",
    "Планируется открыть небольшое кафе в Москве, оно оригинальное — гостей должны обслуживать роботы. Проект многообещающий, но дорогой. Инвесторов интересует положение дел на рынке — сможет ли кафе снискать популярность на долгое время. Исследуем рынок. Мы имеем открытые данные о заведениях общественного питания в Москве."
   ]
  },
  {
   "cell_type": "markdown",
   "metadata": {},
   "source": [
    "https://docs.google.com/spreadsheets/d/1o2m2rqv8oZ83oPzaIUupP2Vvl0GNmOF9PAKC9EreCXw/edit?usp=sharing"
   ]
  },
  {
   "cell_type": "markdown",
   "metadata": {},
   "source": [
    "### Данные таблицы"
   ]
  },
  {
   "cell_type": "markdown",
   "metadata": {},
   "source": [
    "Таблица rest:\n",
    "\n",
    "object_name — название объекта общественного питания;\n",
    "chain — сетевой ресторан;\n",
    "object_type — тип объекта общественного питания;\n",
    "address — адрес;\n",
    "number — количество посадочных мест."
   ]
  },
  {
   "cell_type": "markdown",
   "metadata": {},
   "source": [
    "## Шаг. Обработка данных"
   ]
  },
  {
   "cell_type": "code",
   "execution_count": 83,
   "metadata": {},
   "outputs": [],
   "source": [
    "import pandas as pd\n",
    "import numpy as np\n",
    "import matplotlib.pyplot as plt\n",
    "import seaborn as sns\n",
    "from scipy import stats\n",
    "from plotly import graph_objects as go\n",
    "import plotly.express as px"
   ]
  },
  {
   "cell_type": "code",
   "execution_count": 84,
   "metadata": {},
   "outputs": [],
   "source": [
    "rest = pd.read_csv('/datasets/rest_data.csv')"
   ]
  },
  {
   "cell_type": "code",
   "execution_count": 85,
   "metadata": {},
   "outputs": [
    {
     "data": {
      "text/html": [
       "<div>\n",
       "<style scoped>\n",
       "    .dataframe tbody tr th:only-of-type {\n",
       "        vertical-align: middle;\n",
       "    }\n",
       "\n",
       "    .dataframe tbody tr th {\n",
       "        vertical-align: top;\n",
       "    }\n",
       "\n",
       "    .dataframe thead th {\n",
       "        text-align: right;\n",
       "    }\n",
       "</style>\n",
       "<table border=\"1\" class=\"dataframe\">\n",
       "  <thead>\n",
       "    <tr style=\"text-align: right;\">\n",
       "      <th></th>\n",
       "      <th>id</th>\n",
       "      <th>object_name</th>\n",
       "      <th>chain</th>\n",
       "      <th>object_type</th>\n",
       "      <th>address</th>\n",
       "      <th>number</th>\n",
       "    </tr>\n",
       "  </thead>\n",
       "  <tbody>\n",
       "    <tr>\n",
       "      <th>0</th>\n",
       "      <td>151635</td>\n",
       "      <td>СМЕТАНА</td>\n",
       "      <td>нет</td>\n",
       "      <td>кафе</td>\n",
       "      <td>город Москва, улица Егора Абакумова, дом 9</td>\n",
       "      <td>48</td>\n",
       "    </tr>\n",
       "    <tr>\n",
       "      <th>1</th>\n",
       "      <td>77874</td>\n",
       "      <td>Родник</td>\n",
       "      <td>нет</td>\n",
       "      <td>кафе</td>\n",
       "      <td>город Москва, улица Талалихина, дом 2/1, корпус 1</td>\n",
       "      <td>35</td>\n",
       "    </tr>\n",
       "    <tr>\n",
       "      <th>2</th>\n",
       "      <td>24309</td>\n",
       "      <td>Кафе «Академия»</td>\n",
       "      <td>нет</td>\n",
       "      <td>кафе</td>\n",
       "      <td>город Москва, Абельмановская улица, дом 6</td>\n",
       "      <td>95</td>\n",
       "    </tr>\n",
       "    <tr>\n",
       "      <th>3</th>\n",
       "      <td>21894</td>\n",
       "      <td>ПИЦЦЕТОРИЯ</td>\n",
       "      <td>да</td>\n",
       "      <td>кафе</td>\n",
       "      <td>город Москва, Абрамцевская улица, дом 1</td>\n",
       "      <td>40</td>\n",
       "    </tr>\n",
       "    <tr>\n",
       "      <th>4</th>\n",
       "      <td>119365</td>\n",
       "      <td>Кафе «Вишневая метель»</td>\n",
       "      <td>нет</td>\n",
       "      <td>кафе</td>\n",
       "      <td>город Москва, Абрамцевская улица, дом 9, корпус 1</td>\n",
       "      <td>50</td>\n",
       "    </tr>\n",
       "    <tr>\n",
       "      <th>...</th>\n",
       "      <td>...</td>\n",
       "      <td>...</td>\n",
       "      <td>...</td>\n",
       "      <td>...</td>\n",
       "      <td>...</td>\n",
       "      <td>...</td>\n",
       "    </tr>\n",
       "    <tr>\n",
       "      <th>15361</th>\n",
       "      <td>208537</td>\n",
       "      <td>Шоколадница</td>\n",
       "      <td>да</td>\n",
       "      <td>кафе</td>\n",
       "      <td>город Москва, 3-й Крутицкий переулок, дом 18</td>\n",
       "      <td>50</td>\n",
       "    </tr>\n",
       "    <tr>\n",
       "      <th>15362</th>\n",
       "      <td>209264</td>\n",
       "      <td>Шоколадница</td>\n",
       "      <td>да</td>\n",
       "      <td>кафе</td>\n",
       "      <td>город Москва, улица Земляной Вал, дом 33</td>\n",
       "      <td>10</td>\n",
       "    </tr>\n",
       "    <tr>\n",
       "      <th>15363</th>\n",
       "      <td>209186</td>\n",
       "      <td>Шоколадница</td>\n",
       "      <td>да</td>\n",
       "      <td>кафе</td>\n",
       "      <td>город Москва, улица Земляной Вал, дом 33</td>\n",
       "      <td>20</td>\n",
       "    </tr>\n",
       "    <tr>\n",
       "      <th>15364</th>\n",
       "      <td>221900</td>\n",
       "      <td>Шоколадница</td>\n",
       "      <td>да</td>\n",
       "      <td>кафе</td>\n",
       "      <td>город Москва, поселение Московский, Киевское ш...</td>\n",
       "      <td>36</td>\n",
       "    </tr>\n",
       "    <tr>\n",
       "      <th>15365</th>\n",
       "      <td>222535</td>\n",
       "      <td>Шоколадница</td>\n",
       "      <td>да</td>\n",
       "      <td>кафе</td>\n",
       "      <td>город Москва, Ходынский бульвар, дом 4</td>\n",
       "      <td>10</td>\n",
       "    </tr>\n",
       "  </tbody>\n",
       "</table>\n",
       "<p>15366 rows × 6 columns</p>\n",
       "</div>"
      ],
      "text/plain": [
       "           id             object_name chain object_type  \\\n",
       "0      151635                 СМЕТАНА   нет        кафе   \n",
       "1       77874                  Родник   нет        кафе   \n",
       "2       24309         Кафе «Академия»   нет        кафе   \n",
       "3       21894              ПИЦЦЕТОРИЯ    да        кафе   \n",
       "4      119365  Кафе «Вишневая метель»   нет        кафе   \n",
       "...       ...                     ...   ...         ...   \n",
       "15361  208537             Шоколадница    да        кафе   \n",
       "15362  209264             Шоколадница    да        кафе   \n",
       "15363  209186             Шоколадница    да        кафе   \n",
       "15364  221900             Шоколадница    да        кафе   \n",
       "15365  222535             Шоколадница    да        кафе   \n",
       "\n",
       "                                                 address  number  \n",
       "0             город Москва, улица Егора Абакумова, дом 9      48  \n",
       "1      город Москва, улица Талалихина, дом 2/1, корпус 1      35  \n",
       "2              город Москва, Абельмановская улица, дом 6      95  \n",
       "3                город Москва, Абрамцевская улица, дом 1      40  \n",
       "4      город Москва, Абрамцевская улица, дом 9, корпус 1      50  \n",
       "...                                                  ...     ...  \n",
       "15361       город Москва, 3-й Крутицкий переулок, дом 18      50  \n",
       "15362           город Москва, улица Земляной Вал, дом 33      10  \n",
       "15363           город Москва, улица Земляной Вал, дом 33      20  \n",
       "15364  город Москва, поселение Московский, Киевское ш...      36  \n",
       "15365             город Москва, Ходынский бульвар, дом 4      10  \n",
       "\n",
       "[15366 rows x 6 columns]"
      ]
     },
     "execution_count": 85,
     "metadata": {},
     "output_type": "execute_result"
    }
   ],
   "source": [
    "rest"
   ]
  },
  {
   "cell_type": "code",
   "execution_count": 86,
   "metadata": {},
   "outputs": [],
   "source": [
    "rest['object_name'] = rest['object_name'].str.lower()"
   ]
  },
  {
   "cell_type": "code",
   "execution_count": 87,
   "metadata": {},
   "outputs": [],
   "source": [
    "rest['object_type'] = rest['object_type'].str.lower()"
   ]
  },
  {
   "cell_type": "code",
   "execution_count": 88,
   "metadata": {},
   "outputs": [
    {
     "name": "stdout",
     "output_type": "stream",
     "text": [
      "<class 'pandas.core.frame.DataFrame'>\n",
      "RangeIndex: 15366 entries, 0 to 15365\n",
      "Data columns (total 6 columns):\n",
      " #   Column       Non-Null Count  Dtype \n",
      "---  ------       --------------  ----- \n",
      " 0   id           15366 non-null  int64 \n",
      " 1   object_name  15366 non-null  object\n",
      " 2   chain        15366 non-null  object\n",
      " 3   object_type  15366 non-null  object\n",
      " 4   address      15366 non-null  object\n",
      " 5   number       15366 non-null  int64 \n",
      "dtypes: int64(2), object(4)\n",
      "memory usage: 720.4+ KB\n"
     ]
    }
   ],
   "source": [
    "rest.info()"
   ]
  },
  {
   "cell_type": "code",
   "execution_count": 89,
   "metadata": {},
   "outputs": [
    {
     "data": {
      "text/html": [
       "<div>\n",
       "<style scoped>\n",
       "    .dataframe tbody tr th:only-of-type {\n",
       "        vertical-align: middle;\n",
       "    }\n",
       "\n",
       "    .dataframe tbody tr th {\n",
       "        vertical-align: top;\n",
       "    }\n",
       "\n",
       "    .dataframe thead th {\n",
       "        text-align: right;\n",
       "    }\n",
       "</style>\n",
       "<table border=\"1\" class=\"dataframe\">\n",
       "  <thead>\n",
       "    <tr style=\"text-align: right;\">\n",
       "      <th></th>\n",
       "      <th>id</th>\n",
       "      <th>object_name</th>\n",
       "      <th>chain</th>\n",
       "      <th>object_type</th>\n",
       "      <th>address</th>\n",
       "      <th>number</th>\n",
       "    </tr>\n",
       "  </thead>\n",
       "  <tbody>\n",
       "    <tr>\n",
       "      <th>0</th>\n",
       "      <td>151635</td>\n",
       "      <td>сметана</td>\n",
       "      <td>нет</td>\n",
       "      <td>кафе</td>\n",
       "      <td>город Москва, улица Егора Абакумова, дом 9</td>\n",
       "      <td>48</td>\n",
       "    </tr>\n",
       "    <tr>\n",
       "      <th>1</th>\n",
       "      <td>77874</td>\n",
       "      <td>родник</td>\n",
       "      <td>нет</td>\n",
       "      <td>кафе</td>\n",
       "      <td>город Москва, улица Талалихина, дом 2/1, корпус 1</td>\n",
       "      <td>35</td>\n",
       "    </tr>\n",
       "    <tr>\n",
       "      <th>2</th>\n",
       "      <td>24309</td>\n",
       "      <td>кафе «академия»</td>\n",
       "      <td>нет</td>\n",
       "      <td>кафе</td>\n",
       "      <td>город Москва, Абельмановская улица, дом 6</td>\n",
       "      <td>95</td>\n",
       "    </tr>\n",
       "    <tr>\n",
       "      <th>3</th>\n",
       "      <td>21894</td>\n",
       "      <td>пиццетория</td>\n",
       "      <td>да</td>\n",
       "      <td>кафе</td>\n",
       "      <td>город Москва, Абрамцевская улица, дом 1</td>\n",
       "      <td>40</td>\n",
       "    </tr>\n",
       "    <tr>\n",
       "      <th>4</th>\n",
       "      <td>119365</td>\n",
       "      <td>кафе «вишневая метель»</td>\n",
       "      <td>нет</td>\n",
       "      <td>кафе</td>\n",
       "      <td>город Москва, Абрамцевская улица, дом 9, корпус 1</td>\n",
       "      <td>50</td>\n",
       "    </tr>\n",
       "  </tbody>\n",
       "</table>\n",
       "</div>"
      ],
      "text/plain": [
       "       id             object_name chain object_type  \\\n",
       "0  151635                 сметана   нет        кафе   \n",
       "1   77874                  родник   нет        кафе   \n",
       "2   24309         кафе «академия»   нет        кафе   \n",
       "3   21894              пиццетория    да        кафе   \n",
       "4  119365  кафе «вишневая метель»   нет        кафе   \n",
       "\n",
       "                                             address  number  \n",
       "0         город Москва, улица Егора Абакумова, дом 9      48  \n",
       "1  город Москва, улица Талалихина, дом 2/1, корпус 1      35  \n",
       "2          город Москва, Абельмановская улица, дом 6      95  \n",
       "3            город Москва, Абрамцевская улица, дом 1      40  \n",
       "4  город Москва, Абрамцевская улица, дом 9, корпус 1      50  "
      ]
     },
     "execution_count": 89,
     "metadata": {},
     "output_type": "execute_result"
    }
   ],
   "source": [
    "rest.head()"
   ]
  },
  {
   "cell_type": "markdown",
   "metadata": {},
   "source": [
    "Пропусков нет в таблице"
   ]
  },
  {
   "cell_type": "code",
   "execution_count": 90,
   "metadata": {},
   "outputs": [
    {
     "data": {
      "text/plain": [
       "0"
      ]
     },
     "execution_count": 90,
     "metadata": {},
     "output_type": "execute_result"
    }
   ],
   "source": [
    "rest.duplicated().sum() #смотрим количество дубликатов"
   ]
  },
  {
   "cell_type": "code",
   "execution_count": 91,
   "metadata": {},
   "outputs": [
    {
     "name": "stdout",
     "output_type": "stream",
     "text": [
      "Дубликатов строк в датасете: 0\n",
      "Дубликатов id объектов: 0\n",
      "\n"
     ]
    }
   ],
   "source": [
    "print('Дубликатов строк в датасете: {}'.format(rest.duplicated().sum()))\n",
    "print('Дубликатов id объектов: {}\\n'.format(len(rest)-len(rest['id'].value_counts())))"
   ]
  },
  {
   "cell_type": "markdown",
   "metadata": {},
   "source": [
    "Дубликатов в таблице нет"
   ]
  },
  {
   "cell_type": "code",
   "execution_count": 92,
   "metadata": {},
   "outputs": [
    {
     "data": {
      "text/plain": [
       "array(['кафе', 'столовая', 'закусочная',\n",
       "       'предприятие быстрого обслуживания', 'ресторан', 'кафетерий',\n",
       "       'буфет', 'бар', 'магазин (отдел кулинарии)'], dtype=object)"
      ]
     },
     "execution_count": 92,
     "metadata": {},
     "output_type": "execute_result"
    }
   ],
   "source": [
    "rest.object_type.unique() # смотрим уникальные значения, неявных дубликатов нет"
   ]
  },
  {
   "cell_type": "code",
   "execution_count": 93,
   "metadata": {},
   "outputs": [
    {
     "data": {
      "text/plain": [
       "85"
      ]
     },
     "execution_count": 93,
     "metadata": {},
     "output_type": "execute_result"
    }
   ],
   "source": [
    "rest.duplicated(subset=['object_name', 'chain', 'object_type', 'address', 'number']).sum()"
   ]
  },
  {
   "cell_type": "markdown",
   "metadata": {},
   "source": [
    "Найдено 85 дубликатов, такое количество невлияет на иследование, можно оставить без изменений"
   ]
  },
  {
   "cell_type": "markdown",
   "metadata": {},
   "source": [
    "## Шаг. Анализ данных."
   ]
  },
  {
   "cell_type": "markdown",
   "metadata": {},
   "source": [
    "Соотношение видов объектов общественного питания по количеству."
   ]
  },
  {
   "cell_type": "code",
   "execution_count": 94,
   "metadata": {},
   "outputs": [
    {
     "data": {
      "text/html": [
       "<div>\n",
       "<style scoped>\n",
       "    .dataframe tbody tr th:only-of-type {\n",
       "        vertical-align: middle;\n",
       "    }\n",
       "\n",
       "    .dataframe tbody tr th {\n",
       "        vertical-align: top;\n",
       "    }\n",
       "\n",
       "    .dataframe thead th {\n",
       "        text-align: right;\n",
       "    }\n",
       "</style>\n",
       "<table border=\"1\" class=\"dataframe\">\n",
       "  <thead>\n",
       "    <tr style=\"text-align: right;\">\n",
       "      <th></th>\n",
       "      <th>object_type</th>\n",
       "      <th>counts</th>\n",
       "      <th>number</th>\n",
       "      <th>ratio</th>\n",
       "    </tr>\n",
       "  </thead>\n",
       "  <tbody>\n",
       "    <tr>\n",
       "      <th>0</th>\n",
       "      <td>бар</td>\n",
       "      <td>856</td>\n",
       "      <td>43.494159</td>\n",
       "      <td>0.055707</td>\n",
       "    </tr>\n",
       "    <tr>\n",
       "      <th>1</th>\n",
       "      <td>буфет</td>\n",
       "      <td>585</td>\n",
       "      <td>51.129915</td>\n",
       "      <td>0.038071</td>\n",
       "    </tr>\n",
       "    <tr>\n",
       "      <th>2</th>\n",
       "      <td>закусочная</td>\n",
       "      <td>360</td>\n",
       "      <td>7.608333</td>\n",
       "      <td>0.023428</td>\n",
       "    </tr>\n",
       "    <tr>\n",
       "      <th>3</th>\n",
       "      <td>кафе</td>\n",
       "      <td>6099</td>\n",
       "      <td>39.716019</td>\n",
       "      <td>0.396915</td>\n",
       "    </tr>\n",
       "    <tr>\n",
       "      <th>4</th>\n",
       "      <td>кафетерий</td>\n",
       "      <td>398</td>\n",
       "      <td>9.123116</td>\n",
       "      <td>0.025901</td>\n",
       "    </tr>\n",
       "    <tr>\n",
       "      <th>5</th>\n",
       "      <td>магазин (отдел кулинарии)</td>\n",
       "      <td>273</td>\n",
       "      <td>5.589744</td>\n",
       "      <td>0.017766</td>\n",
       "    </tr>\n",
       "    <tr>\n",
       "      <th>6</th>\n",
       "      <td>предприятие быстрого обслуживания</td>\n",
       "      <td>1923</td>\n",
       "      <td>20.552262</td>\n",
       "      <td>0.125146</td>\n",
       "    </tr>\n",
       "    <tr>\n",
       "      <th>7</th>\n",
       "      <td>ресторан</td>\n",
       "      <td>2285</td>\n",
       "      <td>96.834136</td>\n",
       "      <td>0.148705</td>\n",
       "    </tr>\n",
       "    <tr>\n",
       "      <th>8</th>\n",
       "      <td>столовая</td>\n",
       "      <td>2587</td>\n",
       "      <td>130.246618</td>\n",
       "      <td>0.168359</td>\n",
       "    </tr>\n",
       "  </tbody>\n",
       "</table>\n",
       "</div>"
      ],
      "text/plain": [
       "                         object_type  counts      number     ratio\n",
       "0                                бар     856   43.494159  0.055707\n",
       "1                              буфет     585   51.129915  0.038071\n",
       "2                         закусочная     360    7.608333  0.023428\n",
       "3                               кафе    6099   39.716019  0.396915\n",
       "4                          кафетерий     398    9.123116  0.025901\n",
       "5          магазин (отдел кулинарии)     273    5.589744  0.017766\n",
       "6  предприятие быстрого обслуживания    1923   20.552262  0.125146\n",
       "7                           ресторан    2285   96.834136  0.148705\n",
       "8                           столовая    2587  130.246618  0.168359"
      ]
     },
     "execution_count": 94,
     "metadata": {},
     "output_type": "execute_result"
    }
   ],
   "source": [
    "type_counts = rest.groupby('object_type').agg({'id':'count','number':'mean'}).reset_index().rename(columns={'id':'counts'})\n",
    "total_rests = type_counts.counts.sum()\n",
    "type_counts['ratio'] = type_counts['counts'] / total_rests\n",
    "type_counts"
   ]
  },
  {
   "cell_type": "code",
   "execution_count": 95,
   "metadata": {},
   "outputs": [
    {
     "data": {
      "application/vnd.plotly.v1+json": {
       "config": {
        "plotlyServerURL": "https://plot.ly"
       },
       "data": [
        {
         "labels": [
          "бар",
          "буфет",
          "закусочная",
          "кафе",
          "кафетерий",
          "магазин (отдел кулинарии)",
          "предприятие быстрого обслуживания",
          "ресторан",
          "столовая"
         ],
         "type": "pie",
         "values": [
          856,
          585,
          360,
          6099,
          398,
          273,
          1923,
          2285,
          2587
         ]
        }
       ],
       "layout": {
        "template": {
         "data": {
          "bar": [
           {
            "error_x": {
             "color": "#2a3f5f"
            },
            "error_y": {
             "color": "#2a3f5f"
            },
            "marker": {
             "line": {
              "color": "#E5ECF6",
              "width": 0.5
             },
             "pattern": {
              "fillmode": "overlay",
              "size": 10,
              "solidity": 0.2
             }
            },
            "type": "bar"
           }
          ],
          "barpolar": [
           {
            "marker": {
             "line": {
              "color": "#E5ECF6",
              "width": 0.5
             },
             "pattern": {
              "fillmode": "overlay",
              "size": 10,
              "solidity": 0.2
             }
            },
            "type": "barpolar"
           }
          ],
          "carpet": [
           {
            "aaxis": {
             "endlinecolor": "#2a3f5f",
             "gridcolor": "white",
             "linecolor": "white",
             "minorgridcolor": "white",
             "startlinecolor": "#2a3f5f"
            },
            "baxis": {
             "endlinecolor": "#2a3f5f",
             "gridcolor": "white",
             "linecolor": "white",
             "minorgridcolor": "white",
             "startlinecolor": "#2a3f5f"
            },
            "type": "carpet"
           }
          ],
          "choropleth": [
           {
            "colorbar": {
             "outlinewidth": 0,
             "ticks": ""
            },
            "type": "choropleth"
           }
          ],
          "contour": [
           {
            "colorbar": {
             "outlinewidth": 0,
             "ticks": ""
            },
            "colorscale": [
             [
              0,
              "#0d0887"
             ],
             [
              0.1111111111111111,
              "#46039f"
             ],
             [
              0.2222222222222222,
              "#7201a8"
             ],
             [
              0.3333333333333333,
              "#9c179e"
             ],
             [
              0.4444444444444444,
              "#bd3786"
             ],
             [
              0.5555555555555556,
              "#d8576b"
             ],
             [
              0.6666666666666666,
              "#ed7953"
             ],
             [
              0.7777777777777778,
              "#fb9f3a"
             ],
             [
              0.8888888888888888,
              "#fdca26"
             ],
             [
              1,
              "#f0f921"
             ]
            ],
            "type": "contour"
           }
          ],
          "contourcarpet": [
           {
            "colorbar": {
             "outlinewidth": 0,
             "ticks": ""
            },
            "type": "contourcarpet"
           }
          ],
          "heatmap": [
           {
            "colorbar": {
             "outlinewidth": 0,
             "ticks": ""
            },
            "colorscale": [
             [
              0,
              "#0d0887"
             ],
             [
              0.1111111111111111,
              "#46039f"
             ],
             [
              0.2222222222222222,
              "#7201a8"
             ],
             [
              0.3333333333333333,
              "#9c179e"
             ],
             [
              0.4444444444444444,
              "#bd3786"
             ],
             [
              0.5555555555555556,
              "#d8576b"
             ],
             [
              0.6666666666666666,
              "#ed7953"
             ],
             [
              0.7777777777777778,
              "#fb9f3a"
             ],
             [
              0.8888888888888888,
              "#fdca26"
             ],
             [
              1,
              "#f0f921"
             ]
            ],
            "type": "heatmap"
           }
          ],
          "heatmapgl": [
           {
            "colorbar": {
             "outlinewidth": 0,
             "ticks": ""
            },
            "colorscale": [
             [
              0,
              "#0d0887"
             ],
             [
              0.1111111111111111,
              "#46039f"
             ],
             [
              0.2222222222222222,
              "#7201a8"
             ],
             [
              0.3333333333333333,
              "#9c179e"
             ],
             [
              0.4444444444444444,
              "#bd3786"
             ],
             [
              0.5555555555555556,
              "#d8576b"
             ],
             [
              0.6666666666666666,
              "#ed7953"
             ],
             [
              0.7777777777777778,
              "#fb9f3a"
             ],
             [
              0.8888888888888888,
              "#fdca26"
             ],
             [
              1,
              "#f0f921"
             ]
            ],
            "type": "heatmapgl"
           }
          ],
          "histogram": [
           {
            "marker": {
             "pattern": {
              "fillmode": "overlay",
              "size": 10,
              "solidity": 0.2
             }
            },
            "type": "histogram"
           }
          ],
          "histogram2d": [
           {
            "colorbar": {
             "outlinewidth": 0,
             "ticks": ""
            },
            "colorscale": [
             [
              0,
              "#0d0887"
             ],
             [
              0.1111111111111111,
              "#46039f"
             ],
             [
              0.2222222222222222,
              "#7201a8"
             ],
             [
              0.3333333333333333,
              "#9c179e"
             ],
             [
              0.4444444444444444,
              "#bd3786"
             ],
             [
              0.5555555555555556,
              "#d8576b"
             ],
             [
              0.6666666666666666,
              "#ed7953"
             ],
             [
              0.7777777777777778,
              "#fb9f3a"
             ],
             [
              0.8888888888888888,
              "#fdca26"
             ],
             [
              1,
              "#f0f921"
             ]
            ],
            "type": "histogram2d"
           }
          ],
          "histogram2dcontour": [
           {
            "colorbar": {
             "outlinewidth": 0,
             "ticks": ""
            },
            "colorscale": [
             [
              0,
              "#0d0887"
             ],
             [
              0.1111111111111111,
              "#46039f"
             ],
             [
              0.2222222222222222,
              "#7201a8"
             ],
             [
              0.3333333333333333,
              "#9c179e"
             ],
             [
              0.4444444444444444,
              "#bd3786"
             ],
             [
              0.5555555555555556,
              "#d8576b"
             ],
             [
              0.6666666666666666,
              "#ed7953"
             ],
             [
              0.7777777777777778,
              "#fb9f3a"
             ],
             [
              0.8888888888888888,
              "#fdca26"
             ],
             [
              1,
              "#f0f921"
             ]
            ],
            "type": "histogram2dcontour"
           }
          ],
          "mesh3d": [
           {
            "colorbar": {
             "outlinewidth": 0,
             "ticks": ""
            },
            "type": "mesh3d"
           }
          ],
          "parcoords": [
           {
            "line": {
             "colorbar": {
              "outlinewidth": 0,
              "ticks": ""
             }
            },
            "type": "parcoords"
           }
          ],
          "pie": [
           {
            "automargin": true,
            "type": "pie"
           }
          ],
          "scatter": [
           {
            "marker": {
             "colorbar": {
              "outlinewidth": 0,
              "ticks": ""
             }
            },
            "type": "scatter"
           }
          ],
          "scatter3d": [
           {
            "line": {
             "colorbar": {
              "outlinewidth": 0,
              "ticks": ""
             }
            },
            "marker": {
             "colorbar": {
              "outlinewidth": 0,
              "ticks": ""
             }
            },
            "type": "scatter3d"
           }
          ],
          "scattercarpet": [
           {
            "marker": {
             "colorbar": {
              "outlinewidth": 0,
              "ticks": ""
             }
            },
            "type": "scattercarpet"
           }
          ],
          "scattergeo": [
           {
            "marker": {
             "colorbar": {
              "outlinewidth": 0,
              "ticks": ""
             }
            },
            "type": "scattergeo"
           }
          ],
          "scattergl": [
           {
            "marker": {
             "colorbar": {
              "outlinewidth": 0,
              "ticks": ""
             }
            },
            "type": "scattergl"
           }
          ],
          "scattermapbox": [
           {
            "marker": {
             "colorbar": {
              "outlinewidth": 0,
              "ticks": ""
             }
            },
            "type": "scattermapbox"
           }
          ],
          "scatterpolar": [
           {
            "marker": {
             "colorbar": {
              "outlinewidth": 0,
              "ticks": ""
             }
            },
            "type": "scatterpolar"
           }
          ],
          "scatterpolargl": [
           {
            "marker": {
             "colorbar": {
              "outlinewidth": 0,
              "ticks": ""
             }
            },
            "type": "scatterpolargl"
           }
          ],
          "scatterternary": [
           {
            "marker": {
             "colorbar": {
              "outlinewidth": 0,
              "ticks": ""
             }
            },
            "type": "scatterternary"
           }
          ],
          "surface": [
           {
            "colorbar": {
             "outlinewidth": 0,
             "ticks": ""
            },
            "colorscale": [
             [
              0,
              "#0d0887"
             ],
             [
              0.1111111111111111,
              "#46039f"
             ],
             [
              0.2222222222222222,
              "#7201a8"
             ],
             [
              0.3333333333333333,
              "#9c179e"
             ],
             [
              0.4444444444444444,
              "#bd3786"
             ],
             [
              0.5555555555555556,
              "#d8576b"
             ],
             [
              0.6666666666666666,
              "#ed7953"
             ],
             [
              0.7777777777777778,
              "#fb9f3a"
             ],
             [
              0.8888888888888888,
              "#fdca26"
             ],
             [
              1,
              "#f0f921"
             ]
            ],
            "type": "surface"
           }
          ],
          "table": [
           {
            "cells": {
             "fill": {
              "color": "#EBF0F8"
             },
             "line": {
              "color": "white"
             }
            },
            "header": {
             "fill": {
              "color": "#C8D4E3"
             },
             "line": {
              "color": "white"
             }
            },
            "type": "table"
           }
          ]
         },
         "layout": {
          "annotationdefaults": {
           "arrowcolor": "#2a3f5f",
           "arrowhead": 0,
           "arrowwidth": 1
          },
          "autotypenumbers": "strict",
          "coloraxis": {
           "colorbar": {
            "outlinewidth": 0,
            "ticks": ""
           }
          },
          "colorscale": {
           "diverging": [
            [
             0,
             "#8e0152"
            ],
            [
             0.1,
             "#c51b7d"
            ],
            [
             0.2,
             "#de77ae"
            ],
            [
             0.3,
             "#f1b6da"
            ],
            [
             0.4,
             "#fde0ef"
            ],
            [
             0.5,
             "#f7f7f7"
            ],
            [
             0.6,
             "#e6f5d0"
            ],
            [
             0.7,
             "#b8e186"
            ],
            [
             0.8,
             "#7fbc41"
            ],
            [
             0.9,
             "#4d9221"
            ],
            [
             1,
             "#276419"
            ]
           ],
           "sequential": [
            [
             0,
             "#0d0887"
            ],
            [
             0.1111111111111111,
             "#46039f"
            ],
            [
             0.2222222222222222,
             "#7201a8"
            ],
            [
             0.3333333333333333,
             "#9c179e"
            ],
            [
             0.4444444444444444,
             "#bd3786"
            ],
            [
             0.5555555555555556,
             "#d8576b"
            ],
            [
             0.6666666666666666,
             "#ed7953"
            ],
            [
             0.7777777777777778,
             "#fb9f3a"
            ],
            [
             0.8888888888888888,
             "#fdca26"
            ],
            [
             1,
             "#f0f921"
            ]
           ],
           "sequentialminus": [
            [
             0,
             "#0d0887"
            ],
            [
             0.1111111111111111,
             "#46039f"
            ],
            [
             0.2222222222222222,
             "#7201a8"
            ],
            [
             0.3333333333333333,
             "#9c179e"
            ],
            [
             0.4444444444444444,
             "#bd3786"
            ],
            [
             0.5555555555555556,
             "#d8576b"
            ],
            [
             0.6666666666666666,
             "#ed7953"
            ],
            [
             0.7777777777777778,
             "#fb9f3a"
            ],
            [
             0.8888888888888888,
             "#fdca26"
            ],
            [
             1,
             "#f0f921"
            ]
           ]
          },
          "colorway": [
           "#636efa",
           "#EF553B",
           "#00cc96",
           "#ab63fa",
           "#FFA15A",
           "#19d3f3",
           "#FF6692",
           "#B6E880",
           "#FF97FF",
           "#FECB52"
          ],
          "font": {
           "color": "#2a3f5f"
          },
          "geo": {
           "bgcolor": "white",
           "lakecolor": "white",
           "landcolor": "#E5ECF6",
           "showlakes": true,
           "showland": true,
           "subunitcolor": "white"
          },
          "hoverlabel": {
           "align": "left"
          },
          "hovermode": "closest",
          "mapbox": {
           "style": "light"
          },
          "paper_bgcolor": "white",
          "plot_bgcolor": "#E5ECF6",
          "polar": {
           "angularaxis": {
            "gridcolor": "white",
            "linecolor": "white",
            "ticks": ""
           },
           "bgcolor": "#E5ECF6",
           "radialaxis": {
            "gridcolor": "white",
            "linecolor": "white",
            "ticks": ""
           }
          },
          "scene": {
           "xaxis": {
            "backgroundcolor": "#E5ECF6",
            "gridcolor": "white",
            "gridwidth": 2,
            "linecolor": "white",
            "showbackground": true,
            "ticks": "",
            "zerolinecolor": "white"
           },
           "yaxis": {
            "backgroundcolor": "#E5ECF6",
            "gridcolor": "white",
            "gridwidth": 2,
            "linecolor": "white",
            "showbackground": true,
            "ticks": "",
            "zerolinecolor": "white"
           },
           "zaxis": {
            "backgroundcolor": "#E5ECF6",
            "gridcolor": "white",
            "gridwidth": 2,
            "linecolor": "white",
            "showbackground": true,
            "ticks": "",
            "zerolinecolor": "white"
           }
          },
          "shapedefaults": {
           "line": {
            "color": "#2a3f5f"
           }
          },
          "ternary": {
           "aaxis": {
            "gridcolor": "white",
            "linecolor": "white",
            "ticks": ""
           },
           "baxis": {
            "gridcolor": "white",
            "linecolor": "white",
            "ticks": ""
           },
           "bgcolor": "#E5ECF6",
           "caxis": {
            "gridcolor": "white",
            "linecolor": "white",
            "ticks": ""
           }
          },
          "title": {
           "x": 0.05
          },
          "xaxis": {
           "automargin": true,
           "gridcolor": "white",
           "linecolor": "white",
           "ticks": "",
           "title": {
            "standoff": 15
           },
           "zerolinecolor": "white",
           "zerolinewidth": 2
          },
          "yaxis": {
           "automargin": true,
           "gridcolor": "white",
           "linecolor": "white",
           "ticks": "",
           "title": {
            "standoff": 15
           },
           "zerolinecolor": "white",
           "zerolinewidth": 2
          }
         }
        }
       }
      },
      "text/html": [
       "<div>                            <div id=\"530cf90a-0bfb-4c3f-b267-11a50a754cb9\" class=\"plotly-graph-div\" style=\"height:525px; width:100%;\"></div>            <script type=\"text/javascript\">                require([\"plotly\"], function(Plotly) {                    window.PLOTLYENV=window.PLOTLYENV || {};                                    if (document.getElementById(\"530cf90a-0bfb-4c3f-b267-11a50a754cb9\")) {                    Plotly.newPlot(                        \"530cf90a-0bfb-4c3f-b267-11a50a754cb9\",                        [{\"labels\":[\"\\u0431\\u0430\\u0440\",\"\\u0431\\u0443\\u0444\\u0435\\u0442\",\"\\u0437\\u0430\\u043a\\u0443\\u0441\\u043e\\u0447\\u043d\\u0430\\u044f\",\"\\u043a\\u0430\\u0444\\u0435\",\"\\u043a\\u0430\\u0444\\u0435\\u0442\\u0435\\u0440\\u0438\\u0439\",\"\\u043c\\u0430\\u0433\\u0430\\u0437\\u0438\\u043d (\\u043e\\u0442\\u0434\\u0435\\u043b \\u043a\\u0443\\u043b\\u0438\\u043d\\u0430\\u0440\\u0438\\u0438)\",\"\\u043f\\u0440\\u0435\\u0434\\u043f\\u0440\\u0438\\u044f\\u0442\\u0438\\u0435 \\u0431\\u044b\\u0441\\u0442\\u0440\\u043e\\u0433\\u043e \\u043e\\u0431\\u0441\\u043b\\u0443\\u0436\\u0438\\u0432\\u0430\\u043d\\u0438\\u044f\",\"\\u0440\\u0435\\u0441\\u0442\\u043e\\u0440\\u0430\\u043d\",\"\\u0441\\u0442\\u043e\\u043b\\u043e\\u0432\\u0430\\u044f\"],\"values\":[856,585,360,6099,398,273,1923,2285,2587],\"type\":\"pie\"}],                        {\"template\":{\"data\":{\"bar\":[{\"error_x\":{\"color\":\"#2a3f5f\"},\"error_y\":{\"color\":\"#2a3f5f\"},\"marker\":{\"line\":{\"color\":\"#E5ECF6\",\"width\":0.5},\"pattern\":{\"fillmode\":\"overlay\",\"size\":10,\"solidity\":0.2}},\"type\":\"bar\"}],\"barpolar\":[{\"marker\":{\"line\":{\"color\":\"#E5ECF6\",\"width\":0.5},\"pattern\":{\"fillmode\":\"overlay\",\"size\":10,\"solidity\":0.2}},\"type\":\"barpolar\"}],\"carpet\":[{\"aaxis\":{\"endlinecolor\":\"#2a3f5f\",\"gridcolor\":\"white\",\"linecolor\":\"white\",\"minorgridcolor\":\"white\",\"startlinecolor\":\"#2a3f5f\"},\"baxis\":{\"endlinecolor\":\"#2a3f5f\",\"gridcolor\":\"white\",\"linecolor\":\"white\",\"minorgridcolor\":\"white\",\"startlinecolor\":\"#2a3f5f\"},\"type\":\"carpet\"}],\"choropleth\":[{\"colorbar\":{\"outlinewidth\":0,\"ticks\":\"\"},\"type\":\"choropleth\"}],\"contour\":[{\"colorbar\":{\"outlinewidth\":0,\"ticks\":\"\"},\"colorscale\":[[0.0,\"#0d0887\"],[0.1111111111111111,\"#46039f\"],[0.2222222222222222,\"#7201a8\"],[0.3333333333333333,\"#9c179e\"],[0.4444444444444444,\"#bd3786\"],[0.5555555555555556,\"#d8576b\"],[0.6666666666666666,\"#ed7953\"],[0.7777777777777778,\"#fb9f3a\"],[0.8888888888888888,\"#fdca26\"],[1.0,\"#f0f921\"]],\"type\":\"contour\"}],\"contourcarpet\":[{\"colorbar\":{\"outlinewidth\":0,\"ticks\":\"\"},\"type\":\"contourcarpet\"}],\"heatmap\":[{\"colorbar\":{\"outlinewidth\":0,\"ticks\":\"\"},\"colorscale\":[[0.0,\"#0d0887\"],[0.1111111111111111,\"#46039f\"],[0.2222222222222222,\"#7201a8\"],[0.3333333333333333,\"#9c179e\"],[0.4444444444444444,\"#bd3786\"],[0.5555555555555556,\"#d8576b\"],[0.6666666666666666,\"#ed7953\"],[0.7777777777777778,\"#fb9f3a\"],[0.8888888888888888,\"#fdca26\"],[1.0,\"#f0f921\"]],\"type\":\"heatmap\"}],\"heatmapgl\":[{\"colorbar\":{\"outlinewidth\":0,\"ticks\":\"\"},\"colorscale\":[[0.0,\"#0d0887\"],[0.1111111111111111,\"#46039f\"],[0.2222222222222222,\"#7201a8\"],[0.3333333333333333,\"#9c179e\"],[0.4444444444444444,\"#bd3786\"],[0.5555555555555556,\"#d8576b\"],[0.6666666666666666,\"#ed7953\"],[0.7777777777777778,\"#fb9f3a\"],[0.8888888888888888,\"#fdca26\"],[1.0,\"#f0f921\"]],\"type\":\"heatmapgl\"}],\"histogram\":[{\"marker\":{\"pattern\":{\"fillmode\":\"overlay\",\"size\":10,\"solidity\":0.2}},\"type\":\"histogram\"}],\"histogram2d\":[{\"colorbar\":{\"outlinewidth\":0,\"ticks\":\"\"},\"colorscale\":[[0.0,\"#0d0887\"],[0.1111111111111111,\"#46039f\"],[0.2222222222222222,\"#7201a8\"],[0.3333333333333333,\"#9c179e\"],[0.4444444444444444,\"#bd3786\"],[0.5555555555555556,\"#d8576b\"],[0.6666666666666666,\"#ed7953\"],[0.7777777777777778,\"#fb9f3a\"],[0.8888888888888888,\"#fdca26\"],[1.0,\"#f0f921\"]],\"type\":\"histogram2d\"}],\"histogram2dcontour\":[{\"colorbar\":{\"outlinewidth\":0,\"ticks\":\"\"},\"colorscale\":[[0.0,\"#0d0887\"],[0.1111111111111111,\"#46039f\"],[0.2222222222222222,\"#7201a8\"],[0.3333333333333333,\"#9c179e\"],[0.4444444444444444,\"#bd3786\"],[0.5555555555555556,\"#d8576b\"],[0.6666666666666666,\"#ed7953\"],[0.7777777777777778,\"#fb9f3a\"],[0.8888888888888888,\"#fdca26\"],[1.0,\"#f0f921\"]],\"type\":\"histogram2dcontour\"}],\"mesh3d\":[{\"colorbar\":{\"outlinewidth\":0,\"ticks\":\"\"},\"type\":\"mesh3d\"}],\"parcoords\":[{\"line\":{\"colorbar\":{\"outlinewidth\":0,\"ticks\":\"\"}},\"type\":\"parcoords\"}],\"pie\":[{\"automargin\":true,\"type\":\"pie\"}],\"scatter\":[{\"marker\":{\"colorbar\":{\"outlinewidth\":0,\"ticks\":\"\"}},\"type\":\"scatter\"}],\"scatter3d\":[{\"line\":{\"colorbar\":{\"outlinewidth\":0,\"ticks\":\"\"}},\"marker\":{\"colorbar\":{\"outlinewidth\":0,\"ticks\":\"\"}},\"type\":\"scatter3d\"}],\"scattercarpet\":[{\"marker\":{\"colorbar\":{\"outlinewidth\":0,\"ticks\":\"\"}},\"type\":\"scattercarpet\"}],\"scattergeo\":[{\"marker\":{\"colorbar\":{\"outlinewidth\":0,\"ticks\":\"\"}},\"type\":\"scattergeo\"}],\"scattergl\":[{\"marker\":{\"colorbar\":{\"outlinewidth\":0,\"ticks\":\"\"}},\"type\":\"scattergl\"}],\"scattermapbox\":[{\"marker\":{\"colorbar\":{\"outlinewidth\":0,\"ticks\":\"\"}},\"type\":\"scattermapbox\"}],\"scatterpolar\":[{\"marker\":{\"colorbar\":{\"outlinewidth\":0,\"ticks\":\"\"}},\"type\":\"scatterpolar\"}],\"scatterpolargl\":[{\"marker\":{\"colorbar\":{\"outlinewidth\":0,\"ticks\":\"\"}},\"type\":\"scatterpolargl\"}],\"scatterternary\":[{\"marker\":{\"colorbar\":{\"outlinewidth\":0,\"ticks\":\"\"}},\"type\":\"scatterternary\"}],\"surface\":[{\"colorbar\":{\"outlinewidth\":0,\"ticks\":\"\"},\"colorscale\":[[0.0,\"#0d0887\"],[0.1111111111111111,\"#46039f\"],[0.2222222222222222,\"#7201a8\"],[0.3333333333333333,\"#9c179e\"],[0.4444444444444444,\"#bd3786\"],[0.5555555555555556,\"#d8576b\"],[0.6666666666666666,\"#ed7953\"],[0.7777777777777778,\"#fb9f3a\"],[0.8888888888888888,\"#fdca26\"],[1.0,\"#f0f921\"]],\"type\":\"surface\"}],\"table\":[{\"cells\":{\"fill\":{\"color\":\"#EBF0F8\"},\"line\":{\"color\":\"white\"}},\"header\":{\"fill\":{\"color\":\"#C8D4E3\"},\"line\":{\"color\":\"white\"}},\"type\":\"table\"}]},\"layout\":{\"annotationdefaults\":{\"arrowcolor\":\"#2a3f5f\",\"arrowhead\":0,\"arrowwidth\":1},\"autotypenumbers\":\"strict\",\"coloraxis\":{\"colorbar\":{\"outlinewidth\":0,\"ticks\":\"\"}},\"colorscale\":{\"diverging\":[[0,\"#8e0152\"],[0.1,\"#c51b7d\"],[0.2,\"#de77ae\"],[0.3,\"#f1b6da\"],[0.4,\"#fde0ef\"],[0.5,\"#f7f7f7\"],[0.6,\"#e6f5d0\"],[0.7,\"#b8e186\"],[0.8,\"#7fbc41\"],[0.9,\"#4d9221\"],[1,\"#276419\"]],\"sequential\":[[0.0,\"#0d0887\"],[0.1111111111111111,\"#46039f\"],[0.2222222222222222,\"#7201a8\"],[0.3333333333333333,\"#9c179e\"],[0.4444444444444444,\"#bd3786\"],[0.5555555555555556,\"#d8576b\"],[0.6666666666666666,\"#ed7953\"],[0.7777777777777778,\"#fb9f3a\"],[0.8888888888888888,\"#fdca26\"],[1.0,\"#f0f921\"]],\"sequentialminus\":[[0.0,\"#0d0887\"],[0.1111111111111111,\"#46039f\"],[0.2222222222222222,\"#7201a8\"],[0.3333333333333333,\"#9c179e\"],[0.4444444444444444,\"#bd3786\"],[0.5555555555555556,\"#d8576b\"],[0.6666666666666666,\"#ed7953\"],[0.7777777777777778,\"#fb9f3a\"],[0.8888888888888888,\"#fdca26\"],[1.0,\"#f0f921\"]]},\"colorway\":[\"#636efa\",\"#EF553B\",\"#00cc96\",\"#ab63fa\",\"#FFA15A\",\"#19d3f3\",\"#FF6692\",\"#B6E880\",\"#FF97FF\",\"#FECB52\"],\"font\":{\"color\":\"#2a3f5f\"},\"geo\":{\"bgcolor\":\"white\",\"lakecolor\":\"white\",\"landcolor\":\"#E5ECF6\",\"showlakes\":true,\"showland\":true,\"subunitcolor\":\"white\"},\"hoverlabel\":{\"align\":\"left\"},\"hovermode\":\"closest\",\"mapbox\":{\"style\":\"light\"},\"paper_bgcolor\":\"white\",\"plot_bgcolor\":\"#E5ECF6\",\"polar\":{\"angularaxis\":{\"gridcolor\":\"white\",\"linecolor\":\"white\",\"ticks\":\"\"},\"bgcolor\":\"#E5ECF6\",\"radialaxis\":{\"gridcolor\":\"white\",\"linecolor\":\"white\",\"ticks\":\"\"}},\"scene\":{\"xaxis\":{\"backgroundcolor\":\"#E5ECF6\",\"gridcolor\":\"white\",\"gridwidth\":2,\"linecolor\":\"white\",\"showbackground\":true,\"ticks\":\"\",\"zerolinecolor\":\"white\"},\"yaxis\":{\"backgroundcolor\":\"#E5ECF6\",\"gridcolor\":\"white\",\"gridwidth\":2,\"linecolor\":\"white\",\"showbackground\":true,\"ticks\":\"\",\"zerolinecolor\":\"white\"},\"zaxis\":{\"backgroundcolor\":\"#E5ECF6\",\"gridcolor\":\"white\",\"gridwidth\":2,\"linecolor\":\"white\",\"showbackground\":true,\"ticks\":\"\",\"zerolinecolor\":\"white\"}},\"shapedefaults\":{\"line\":{\"color\":\"#2a3f5f\"}},\"ternary\":{\"aaxis\":{\"gridcolor\":\"white\",\"linecolor\":\"white\",\"ticks\":\"\"},\"baxis\":{\"gridcolor\":\"white\",\"linecolor\":\"white\",\"ticks\":\"\"},\"bgcolor\":\"#E5ECF6\",\"caxis\":{\"gridcolor\":\"white\",\"linecolor\":\"white\",\"ticks\":\"\"}},\"title\":{\"x\":0.05},\"xaxis\":{\"automargin\":true,\"gridcolor\":\"white\",\"linecolor\":\"white\",\"ticks\":\"\",\"title\":{\"standoff\":15},\"zerolinecolor\":\"white\",\"zerolinewidth\":2},\"yaxis\":{\"automargin\":true,\"gridcolor\":\"white\",\"linecolor\":\"white\",\"ticks\":\"\",\"title\":{\"standoff\":15},\"zerolinecolor\":\"white\",\"zerolinewidth\":2}}}},                        {\"responsive\": true}                    ).then(function(){\n",
       "                            \n",
       "var gd = document.getElementById('530cf90a-0bfb-4c3f-b267-11a50a754cb9');\n",
       "var x = new MutationObserver(function (mutations, observer) {{\n",
       "        var display = window.getComputedStyle(gd).display;\n",
       "        if (!display || display === 'none') {{\n",
       "            console.log([gd, 'removed!']);\n",
       "            Plotly.purge(gd);\n",
       "            observer.disconnect();\n",
       "        }}\n",
       "}});\n",
       "\n",
       "// Listen for the removal of the full notebook cells\n",
       "var notebookContainer = gd.closest('#notebook-container');\n",
       "if (notebookContainer) {{\n",
       "    x.observe(notebookContainer, {childList: true});\n",
       "}}\n",
       "\n",
       "// Listen for the clearing of the current output cell\n",
       "var outputEl = gd.closest('.output');\n",
       "if (outputEl) {{\n",
       "    x.observe(outputEl, {childList: true});\n",
       "}}\n",
       "\n",
       "                        })                };                });            </script>        </div>"
      ]
     },
     "metadata": {},
     "output_type": "display_data"
    }
   ],
   "source": [
    "fig = go.Figure(go.Pie(labels=type_counts.object_type, values=type_counts.counts))\n",
    "fig.show() "
   ]
  },
  {
   "cell_type": "markdown",
   "metadata": {},
   "source": [
    "Cоотношение сетевых и несетевых заведений по количеству"
   ]
  },
  {
   "cell_type": "code",
   "execution_count": 96,
   "metadata": {},
   "outputs": [
    {
     "data": {
      "image/png": "[encoded data removed]",
      "text/plain": [
       "<Figure size 432x288 with 1 Axes>"
      ]
     },
     "metadata": {},
     "output_type": "display_data"
    }
   ],
   "source": [
    "sns.set()\n",
    "chains = rest.groupby('chain')['id'].count().reset_index().rename(columns={'id':'counts'})\n",
    "chains['ratio'] = chains['counts'] / chains['counts'].sum()\n",
    "sns.barplot(x='chain',y='ratio', data=chains)\n",
    "plt.xlabel('является сетью')\n",
    "plt.ylabel('')\n",
    "plt.show()"
   ]
  },
  {
   "cell_type": "markdown",
   "metadata": {},
   "source": [
    "**Из визуализации понятно, что 20% общественных заведений являются сетевыми и 80% не сетевыми заведениями.**"
   ]
  },
  {
   "cell_type": "markdown",
   "metadata": {},
   "source": [
    "Выясним для какого вида объекта общественного питания характерно сетевое распространение."
   ]
  },
  {
   "cell_type": "code",
   "execution_count": 97,
   "metadata": {},
   "outputs": [],
   "source": [
    "object_chain = (rest\n",
    "                .groupby(['object_type','chain'])['id'].count()\n",
    "                .reset_index()\n",
    "                .rename(columns={'id':'counts'})\n",
    "                .merge(rest.groupby('object_type').chain.count(), on='object_type',suffixes=('','_total'))\n",
    "               )"
   ]
  },
  {
   "cell_type": "code",
   "execution_count": 98,
   "metadata": {},
   "outputs": [
    {
     "data": {
      "text/html": [
       "<div>\n",
       "<style scoped>\n",
       "    .dataframe tbody tr th:only-of-type {\n",
       "        vertical-align: middle;\n",
       "    }\n",
       "\n",
       "    .dataframe tbody tr th {\n",
       "        vertical-align: top;\n",
       "    }\n",
       "\n",
       "    .dataframe thead th {\n",
       "        text-align: right;\n",
       "    }\n",
       "</style>\n",
       "<table border=\"1\" class=\"dataframe\">\n",
       "  <thead>\n",
       "    <tr style=\"text-align: right;\">\n",
       "      <th></th>\n",
       "      <th>object_type</th>\n",
       "      <th>chain</th>\n",
       "      <th>counts</th>\n",
       "      <th>chain_total</th>\n",
       "      <th>ratio_percent</th>\n",
       "    </tr>\n",
       "  </thead>\n",
       "  <tbody>\n",
       "    <tr>\n",
       "      <th>0</th>\n",
       "      <td>бар</td>\n",
       "      <td>да</td>\n",
       "      <td>37</td>\n",
       "      <td>856</td>\n",
       "      <td>4.0</td>\n",
       "    </tr>\n",
       "    <tr>\n",
       "      <th>1</th>\n",
       "      <td>бар</td>\n",
       "      <td>нет</td>\n",
       "      <td>819</td>\n",
       "      <td>856</td>\n",
       "      <td>96.0</td>\n",
       "    </tr>\n",
       "    <tr>\n",
       "      <th>2</th>\n",
       "      <td>буфет</td>\n",
       "      <td>да</td>\n",
       "      <td>11</td>\n",
       "      <td>585</td>\n",
       "      <td>2.0</td>\n",
       "    </tr>\n",
       "    <tr>\n",
       "      <th>3</th>\n",
       "      <td>буфет</td>\n",
       "      <td>нет</td>\n",
       "      <td>574</td>\n",
       "      <td>585</td>\n",
       "      <td>98.0</td>\n",
       "    </tr>\n",
       "    <tr>\n",
       "      <th>4</th>\n",
       "      <td>закусочная</td>\n",
       "      <td>да</td>\n",
       "      <td>56</td>\n",
       "      <td>360</td>\n",
       "      <td>16.0</td>\n",
       "    </tr>\n",
       "    <tr>\n",
       "      <th>5</th>\n",
       "      <td>закусочная</td>\n",
       "      <td>нет</td>\n",
       "      <td>304</td>\n",
       "      <td>360</td>\n",
       "      <td>84.0</td>\n",
       "    </tr>\n",
       "    <tr>\n",
       "      <th>6</th>\n",
       "      <td>кафе</td>\n",
       "      <td>да</td>\n",
       "      <td>1396</td>\n",
       "      <td>6099</td>\n",
       "      <td>23.0</td>\n",
       "    </tr>\n",
       "    <tr>\n",
       "      <th>7</th>\n",
       "      <td>кафе</td>\n",
       "      <td>нет</td>\n",
       "      <td>4703</td>\n",
       "      <td>6099</td>\n",
       "      <td>77.0</td>\n",
       "    </tr>\n",
       "    <tr>\n",
       "      <th>8</th>\n",
       "      <td>кафетерий</td>\n",
       "      <td>да</td>\n",
       "      <td>52</td>\n",
       "      <td>398</td>\n",
       "      <td>13.0</td>\n",
       "    </tr>\n",
       "    <tr>\n",
       "      <th>9</th>\n",
       "      <td>кафетерий</td>\n",
       "      <td>нет</td>\n",
       "      <td>346</td>\n",
       "      <td>398</td>\n",
       "      <td>87.0</td>\n",
       "    </tr>\n",
       "    <tr>\n",
       "      <th>10</th>\n",
       "      <td>магазин (отдел кулинарии)</td>\n",
       "      <td>да</td>\n",
       "      <td>78</td>\n",
       "      <td>273</td>\n",
       "      <td>29.0</td>\n",
       "    </tr>\n",
       "    <tr>\n",
       "      <th>11</th>\n",
       "      <td>магазин (отдел кулинарии)</td>\n",
       "      <td>нет</td>\n",
       "      <td>195</td>\n",
       "      <td>273</td>\n",
       "      <td>71.0</td>\n",
       "    </tr>\n",
       "    <tr>\n",
       "      <th>12</th>\n",
       "      <td>предприятие быстрого обслуживания</td>\n",
       "      <td>да</td>\n",
       "      <td>791</td>\n",
       "      <td>1923</td>\n",
       "      <td>41.0</td>\n",
       "    </tr>\n",
       "    <tr>\n",
       "      <th>13</th>\n",
       "      <td>предприятие быстрого обслуживания</td>\n",
       "      <td>нет</td>\n",
       "      <td>1132</td>\n",
       "      <td>1923</td>\n",
       "      <td>59.0</td>\n",
       "    </tr>\n",
       "    <tr>\n",
       "      <th>14</th>\n",
       "      <td>ресторан</td>\n",
       "      <td>да</td>\n",
       "      <td>544</td>\n",
       "      <td>2285</td>\n",
       "      <td>24.0</td>\n",
       "    </tr>\n",
       "    <tr>\n",
       "      <th>15</th>\n",
       "      <td>ресторан</td>\n",
       "      <td>нет</td>\n",
       "      <td>1741</td>\n",
       "      <td>2285</td>\n",
       "      <td>76.0</td>\n",
       "    </tr>\n",
       "    <tr>\n",
       "      <th>16</th>\n",
       "      <td>столовая</td>\n",
       "      <td>да</td>\n",
       "      <td>3</td>\n",
       "      <td>2587</td>\n",
       "      <td>0.0</td>\n",
       "    </tr>\n",
       "    <tr>\n",
       "      <th>17</th>\n",
       "      <td>столовая</td>\n",
       "      <td>нет</td>\n",
       "      <td>2584</td>\n",
       "      <td>2587</td>\n",
       "      <td>100.0</td>\n",
       "    </tr>\n",
       "  </tbody>\n",
       "</table>\n",
       "</div>"
      ],
      "text/plain": [
       "                          object_type chain  counts  chain_total  \\\n",
       "0                                 бар    да      37          856   \n",
       "1                                 бар   нет     819          856   \n",
       "2                               буфет    да      11          585   \n",
       "3                               буфет   нет     574          585   \n",
       "4                          закусочная    да      56          360   \n",
       "5                          закусочная   нет     304          360   \n",
       "6                                кафе    да    1396         6099   \n",
       "7                                кафе   нет    4703         6099   \n",
       "8                           кафетерий    да      52          398   \n",
       "9                           кафетерий   нет     346          398   \n",
       "10          магазин (отдел кулинарии)    да      78          273   \n",
       "11          магазин (отдел кулинарии)   нет     195          273   \n",
       "12  предприятие быстрого обслуживания    да     791         1923   \n",
       "13  предприятие быстрого обслуживания   нет    1132         1923   \n",
       "14                           ресторан    да     544         2285   \n",
       "15                           ресторан   нет    1741         2285   \n",
       "16                           столовая    да       3         2587   \n",
       "17                           столовая   нет    2584         2587   \n",
       "\n",
       "    ratio_percent  \n",
       "0             4.0  \n",
       "1            96.0  \n",
       "2             2.0  \n",
       "3            98.0  \n",
       "4            16.0  \n",
       "5            84.0  \n",
       "6            23.0  \n",
       "7            77.0  \n",
       "8            13.0  \n",
       "9            87.0  \n",
       "10           29.0  \n",
       "11           71.0  \n",
       "12           41.0  \n",
       "13           59.0  \n",
       "14           24.0  \n",
       "15           76.0  \n",
       "16            0.0  \n",
       "17          100.0  "
      ]
     },
     "execution_count": 98,
     "metadata": {},
     "output_type": "execute_result"
    }
   ],
   "source": [
    "object_chain['ratio_percent'] = round((object_chain.counts / object_chain.chain_total) * 100)\n",
    "object_chain"
   ]
  },
  {
   "cell_type": "code",
   "execution_count": 99,
   "metadata": {},
   "outputs": [
    {
     "data": {
      "application/vnd.plotly.v1+json": {
       "config": {
        "plotlyServerURL": "https://plot.ly"
       },
       "data": [
        {
         "alignmentgroup": "True",
         "hovertemplate": "chain=да<br>object_type=%{x}<br>counts=%{y}<extra></extra>",
         "legendgroup": "да",
         "marker": {
          "color": "#636efa",
          "pattern": {
           "shape": ""
          }
         },
         "name": "да",
         "offsetgroup": "да",
         "orientation": "v",
         "showlegend": true,
         "textposition": "auto",
         "type": "bar",
         "x": [
          "бар",
          "буфет",
          "закусочная",
          "кафе",
          "кафетерий",
          "магазин (отдел кулинарии)",
          "предприятие быстрого обслуживания",
          "ресторан",
          "столовая"
         ],
         "xaxis": "x",
         "y": [
          37,
          11,
          56,
          1396,
          52,
          78,
          791,
          544,
          3
         ],
         "yaxis": "y"
        },
        {
         "alignmentgroup": "True",
         "hovertemplate": "chain=нет<br>object_type=%{x}<br>counts=%{y}<extra></extra>",
         "legendgroup": "нет",
         "marker": {
          "color": "#EF553B",
          "pattern": {
           "shape": ""
          }
         },
         "name": "нет",
         "offsetgroup": "нет",
         "orientation": "v",
         "showlegend": true,
         "textposition": "auto",
         "type": "bar",
         "x": [
          "бар",
          "буфет",
          "закусочная",
          "кафе",
          "кафетерий",
          "магазин (отдел кулинарии)",
          "предприятие быстрого обслуживания",
          "ресторан",
          "столовая"
         ],
         "xaxis": "x",
         "y": [
          819,
          574,
          304,
          4703,
          346,
          195,
          1132,
          1741,
          2584
         ],
         "yaxis": "y"
        }
       ],
       "layout": {
        "barmode": "relative",
        "legend": {
         "title": {
          "text": "chain"
         },
         "tracegroupgap": 0
        },
        "margin": {
         "t": 60
        },
        "template": {
         "data": {
          "bar": [
           {
            "error_x": {
             "color": "#2a3f5f"
            },
            "error_y": {
             "color": "#2a3f5f"
            },
            "marker": {
             "line": {
              "color": "#E5ECF6",
              "width": 0.5
             },
             "pattern": {
              "fillmode": "overlay",
              "size": 10,
              "solidity": 0.2
             }
            },
            "type": "bar"
           }
          ],
          "barpolar": [
           {
            "marker": {
             "line": {
              "color": "#E5ECF6",
              "width": 0.5
             },
             "pattern": {
              "fillmode": "overlay",
              "size": 10,
              "solidity": 0.2
             }
            },
            "type": "barpolar"
           }
          ],
          "carpet": [
           {
            "aaxis": {
             "endlinecolor": "#2a3f5f",
             "gridcolor": "white",
             "linecolor": "white",
             "minorgridcolor": "white",
             "startlinecolor": "#2a3f5f"
            },
            "baxis": {
             "endlinecolor": "#2a3f5f",
             "gridcolor": "white",
             "linecolor": "white",
             "minorgridcolor": "white",
             "startlinecolor": "#2a3f5f"
            },
            "type": "carpet"
           }
          ],
          "choropleth": [
           {
            "colorbar": {
             "outlinewidth": 0,
             "ticks": ""
            },
            "type": "choropleth"
           }
          ],
          "contour": [
           {
            "colorbar": {
             "outlinewidth": 0,
             "ticks": ""
            },
            "colorscale": [
             [
              0,
              "#0d0887"
             ],
             [
              0.1111111111111111,
              "#46039f"
             ],
             [
              0.2222222222222222,
              "#7201a8"
             ],
             [
              0.3333333333333333,
              "#9c179e"
             ],
             [
              0.4444444444444444,
              "#bd3786"
             ],
             [
              0.5555555555555556,
              "#d8576b"
             ],
             [
              0.6666666666666666,
              "#ed7953"
             ],
             [
              0.7777777777777778,
              "#fb9f3a"
             ],
             [
              0.8888888888888888,
              "#fdca26"
             ],
             [
              1,
              "#f0f921"
             ]
            ],
            "type": "contour"
           }
          ],
          "contourcarpet": [
           {
            "colorbar": {
             "outlinewidth": 0,
             "ticks": ""
            },
            "type": "contourcarpet"
           }
          ],
          "heatmap": [
           {
            "colorbar": {
             "outlinewidth": 0,
             "ticks": ""
            },
            "colorscale": [
             [
              0,
              "#0d0887"
             ],
             [
              0.1111111111111111,
              "#46039f"
             ],
             [
              0.2222222222222222,
              "#7201a8"
             ],
             [
              0.3333333333333333,
              "#9c179e"
             ],
             [
              0.4444444444444444,
              "#bd3786"
             ],
             [
              0.5555555555555556,
              "#d8576b"
             ],
             [
              0.6666666666666666,
              "#ed7953"
             ],
             [
              0.7777777777777778,
              "#fb9f3a"
             ],
             [
              0.8888888888888888,
              "#fdca26"
             ],
             [
              1,
              "#f0f921"
             ]
            ],
            "type": "heatmap"
           }
          ],
          "heatmapgl": [
           {
            "colorbar": {
             "outlinewidth": 0,
             "ticks": ""
            },
            "colorscale": [
             [
              0,
              "#0d0887"
             ],
             [
              0.1111111111111111,
              "#46039f"
             ],
             [
              0.2222222222222222,
              "#7201a8"
             ],
             [
              0.3333333333333333,
              "#9c179e"
             ],
             [
              0.4444444444444444,
              "#bd3786"
             ],
             [
              0.5555555555555556,
              "#d8576b"
             ],
             [
              0.6666666666666666,
              "#ed7953"
             ],
             [
              0.7777777777777778,
              "#fb9f3a"
             ],
             [
              0.8888888888888888,
              "#fdca26"
             ],
             [
              1,
              "#f0f921"
             ]
            ],
            "type": "heatmapgl"
           }
          ],
          "histogram": [
           {
            "marker": {
             "pattern": {
              "fillmode": "overlay",
              "size": 10,
              "solidity": 0.2
             }
            },
            "type": "histogram"
           }
          ],
          "histogram2d": [
           {
            "colorbar": {
             "outlinewidth": 0,
             "ticks": ""
            },
            "colorscale": [
             [
              0,
              "#0d0887"
             ],
             [
              0.1111111111111111,
              "#46039f"
             ],
             [
              0.2222222222222222,
              "#7201a8"
             ],
             [
              0.3333333333333333,
              "#9c179e"
             ],
             [
              0.4444444444444444,
              "#bd3786"
             ],
             [
              0.5555555555555556,
              "#d8576b"
             ],
             [
              0.6666666666666666,
              "#ed7953"
             ],
             [
              0.7777777777777778,
              "#fb9f3a"
             ],
             [
              0.8888888888888888,
              "#fdca26"
             ],
             [
              1,
              "#f0f921"
             ]
            ],
            "type": "histogram2d"
           }
          ],
          "histogram2dcontour": [
           {
            "colorbar": {
             "outlinewidth": 0,
             "ticks": ""
            },
            "colorscale": [
             [
              0,
              "#0d0887"
             ],
             [
              0.1111111111111111,
              "#46039f"
             ],
             [
              0.2222222222222222,
              "#7201a8"
             ],
             [
              0.3333333333333333,
              "#9c179e"
             ],
             [
              0.4444444444444444,
              "#bd3786"
             ],
             [
              0.5555555555555556,
              "#d8576b"
             ],
             [
              0.6666666666666666,
              "#ed7953"
             ],
             [
              0.7777777777777778,
              "#fb9f3a"
             ],
             [
              0.8888888888888888,
              "#fdca26"
             ],
             [
              1,
              "#f0f921"
             ]
            ],
            "type": "histogram2dcontour"
           }
          ],
          "mesh3d": [
           {
            "colorbar": {
             "outlinewidth": 0,
             "ticks": ""
            },
            "type": "mesh3d"
           }
          ],
          "parcoords": [
           {
            "line": {
             "colorbar": {
              "outlinewidth": 0,
              "ticks": ""
             }
            },
            "type": "parcoords"
           }
          ],
          "pie": [
           {
            "automargin": true,
            "type": "pie"
           }
          ],
          "scatter": [
           {
            "marker": {
             "colorbar": {
              "outlinewidth": 0,
              "ticks": ""
             }
            },
            "type": "scatter"
           }
          ],
          "scatter3d": [
           {
            "line": {
             "colorbar": {
              "outlinewidth": 0,
              "ticks": ""
             }
            },
            "marker": {
             "colorbar": {
              "outlinewidth": 0,
              "ticks": ""
             }
            },
            "type": "scatter3d"
           }
          ],
          "scattercarpet": [
           {
            "marker": {
             "colorbar": {
              "outlinewidth": 0,
              "ticks": ""
             }
            },
            "type": "scattercarpet"
           }
          ],
          "scattergeo": [
           {
            "marker": {
             "colorbar": {
              "outlinewidth": 0,
              "ticks": ""
             }
            },
            "type": "scattergeo"
           }
          ],
          "scattergl": [
           {
            "marker": {
             "colorbar": {
              "outlinewidth": 0,
              "ticks": ""
             }
            },
            "type": "scattergl"
           }
          ],
          "scattermapbox": [
           {
            "marker": {
             "colorbar": {
              "outlinewidth": 0,
              "ticks": ""
             }
            },
            "type": "scattermapbox"
           }
          ],
          "scatterpolar": [
           {
            "marker": {
             "colorbar": {
              "outlinewidth": 0,
              "ticks": ""
             }
            },
            "type": "scatterpolar"
           }
          ],
          "scatterpolargl": [
           {
            "marker": {
             "colorbar": {
              "outlinewidth": 0,
              "ticks": ""
             }
            },
            "type": "scatterpolargl"
           }
          ],
          "scatterternary": [
           {
            "marker": {
             "colorbar": {
              "outlinewidth": 0,
              "ticks": ""
             }
            },
            "type": "scatterternary"
           }
          ],
          "surface": [
           {
            "colorbar": {
             "outlinewidth": 0,
             "ticks": ""
            },
            "colorscale": [
             [
              0,
              "#0d0887"
             ],
             [
              0.1111111111111111,
              "#46039f"
             ],
             [
              0.2222222222222222,
              "#7201a8"
             ],
             [
              0.3333333333333333,
              "#9c179e"
             ],
             [
              0.4444444444444444,
              "#bd3786"
             ],
             [
              0.5555555555555556,
              "#d8576b"
             ],
             [
              0.6666666666666666,
              "#ed7953"
             ],
             [
              0.7777777777777778,
              "#fb9f3a"
             ],
             [
              0.8888888888888888,
              "#fdca26"
             ],
             [
              1,
              "#f0f921"
             ]
            ],
            "type": "surface"
           }
          ],
          "table": [
           {
            "cells": {
             "fill": {
              "color": "#EBF0F8"
             },
             "line": {
              "color": "white"
             }
            },
            "header": {
             "fill": {
              "color": "#C8D4E3"
             },
             "line": {
              "color": "white"
             }
            },
            "type": "table"
           }
          ]
         },
         "layout": {
          "annotationdefaults": {
           "arrowcolor": "#2a3f5f",
           "arrowhead": 0,
           "arrowwidth": 1
          },
          "autotypenumbers": "strict",
          "coloraxis": {
           "colorbar": {
            "outlinewidth": 0,
            "ticks": ""
           }
          },
          "colorscale": {
           "diverging": [
            [
             0,
             "#8e0152"
            ],
            [
             0.1,
             "#c51b7d"
            ],
            [
             0.2,
             "#de77ae"
            ],
            [
             0.3,
             "#f1b6da"
            ],
            [
             0.4,
             "#fde0ef"
            ],
            [
             0.5,
             "#f7f7f7"
            ],
            [
             0.6,
             "#e6f5d0"
            ],
            [
             0.7,
             "#b8e186"
            ],
            [
             0.8,
             "#7fbc41"
            ],
            [
             0.9,
             "#4d9221"
            ],
            [
             1,
             "#276419"
            ]
           ],
           "sequential": [
            [
             0,
             "#0d0887"
            ],
            [
             0.1111111111111111,
             "#46039f"
            ],
            [
             0.2222222222222222,
             "#7201a8"
            ],
            [
             0.3333333333333333,
             "#9c179e"
            ],
            [
             0.4444444444444444,
             "#bd3786"
            ],
            [
             0.5555555555555556,
             "#d8576b"
            ],
            [
             0.6666666666666666,
             "#ed7953"
            ],
            [
             0.7777777777777778,
             "#fb9f3a"
            ],
            [
             0.8888888888888888,
             "#fdca26"
            ],
            [
             1,
             "#f0f921"
            ]
           ],
           "sequentialminus": [
            [
             0,
             "#0d0887"
            ],
            [
             0.1111111111111111,
             "#46039f"
            ],
            [
             0.2222222222222222,
             "#7201a8"
            ],
            [
             0.3333333333333333,
             "#9c179e"
            ],
            [
             0.4444444444444444,
             "#bd3786"
            ],
            [
             0.5555555555555556,
             "#d8576b"
            ],
            [
             0.6666666666666666,
             "#ed7953"
            ],
            [
             0.7777777777777778,
             "#fb9f3a"
            ],
            [
             0.8888888888888888,
             "#fdca26"
            ],
            [
             1,
             "#f0f921"
            ]
           ]
          },
          "colorway": [
           "#636efa",
           "#EF553B",
           "#00cc96",
           "#ab63fa",
           "#FFA15A",
           "#19d3f3",
           "#FF6692",
           "#B6E880",
           "#FF97FF",
           "#FECB52"
          ],
          "font": {
           "color": "#2a3f5f"
          },
          "geo": {
           "bgcolor": "white",
           "lakecolor": "white",
           "landcolor": "#E5ECF6",
           "showlakes": true,
           "showland": true,
           "subunitcolor": "white"
          },
          "hoverlabel": {
           "align": "left"
          },
          "hovermode": "closest",
          "mapbox": {
           "style": "light"
          },
          "paper_bgcolor": "white",
          "plot_bgcolor": "#E5ECF6",
          "polar": {
           "angularaxis": {
            "gridcolor": "white",
            "linecolor": "white",
            "ticks": ""
           },
           "bgcolor": "#E5ECF6",
           "radialaxis": {
            "gridcolor": "white",
            "linecolor": "white",
            "ticks": ""
           }
          },
          "scene": {
           "xaxis": {
            "backgroundcolor": "#E5ECF6",
            "gridcolor": "white",
            "gridwidth": 2,
            "linecolor": "white",
            "showbackground": true,
            "ticks": "",
            "zerolinecolor": "white"
           },
           "yaxis": {
            "backgroundcolor": "#E5ECF6",
            "gridcolor": "white",
            "gridwidth": 2,
            "linecolor": "white",
            "showbackground": true,
            "ticks": "",
            "zerolinecolor": "white"
           },
           "zaxis": {
            "backgroundcolor": "#E5ECF6",
            "gridcolor": "white",
            "gridwidth": 2,
            "linecolor": "white",
            "showbackground": true,
            "ticks": "",
            "zerolinecolor": "white"
           }
          },
          "shapedefaults": {
           "line": {
            "color": "#2a3f5f"
           }
          },
          "ternary": {
           "aaxis": {
            "gridcolor": "white",
            "linecolor": "white",
            "ticks": ""
           },
           "baxis": {
            "gridcolor": "white",
            "linecolor": "white",
            "ticks": ""
           },
           "bgcolor": "#E5ECF6",
           "caxis": {
            "gridcolor": "white",
            "linecolor": "white",
            "ticks": ""
           }
          },
          "title": {
           "x": 0.05
          },
          "xaxis": {
           "automargin": true,
           "gridcolor": "white",
           "linecolor": "white",
           "ticks": "",
           "title": {
            "standoff": 15
           },
           "zerolinecolor": "white",
           "zerolinewidth": 2
          },
          "yaxis": {
           "automargin": true,
           "gridcolor": "white",
           "linecolor": "white",
           "ticks": "",
           "title": {
            "standoff": 15
           },
           "zerolinecolor": "white",
           "zerolinewidth": 2
          }
         }
        },
        "xaxis": {
         "anchor": "y",
         "domain": [
          0,
          1
         ],
         "tickangle": 45,
         "title": {
          "text": "object_type"
         }
        },
        "yaxis": {
         "anchor": "x",
         "domain": [
          0,
          1
         ],
         "title": {
          "text": "counts"
         }
        }
       }
      },
      "text/html": [
       "<div>                            <div id=\"c93a883e-8c74-40f0-a4f7-44a5289801d7\" class=\"plotly-graph-div\" style=\"height:525px; width:100%;\"></div>            <script type=\"text/javascript\">                require([\"plotly\"], function(Plotly) {                    window.PLOTLYENV=window.PLOTLYENV || {};                                    if (document.getElementById(\"c93a883e-8c74-40f0-a4f7-44a5289801d7\")) {                    Plotly.newPlot(                        \"c93a883e-8c74-40f0-a4f7-44a5289801d7\",                        [{\"alignmentgroup\":\"True\",\"hovertemplate\":\"chain=\\u0434\\u0430<br>object_type=%{x}<br>counts=%{y}<extra></extra>\",\"legendgroup\":\"\\u0434\\u0430\",\"marker\":{\"color\":\"#636efa\",\"pattern\":{\"shape\":\"\"}},\"name\":\"\\u0434\\u0430\",\"offsetgroup\":\"\\u0434\\u0430\",\"orientation\":\"v\",\"showlegend\":true,\"textposition\":\"auto\",\"x\":[\"\\u0431\\u0430\\u0440\",\"\\u0431\\u0443\\u0444\\u0435\\u0442\",\"\\u0437\\u0430\\u043a\\u0443\\u0441\\u043e\\u0447\\u043d\\u0430\\u044f\",\"\\u043a\\u0430\\u0444\\u0435\",\"\\u043a\\u0430\\u0444\\u0435\\u0442\\u0435\\u0440\\u0438\\u0439\",\"\\u043c\\u0430\\u0433\\u0430\\u0437\\u0438\\u043d (\\u043e\\u0442\\u0434\\u0435\\u043b \\u043a\\u0443\\u043b\\u0438\\u043d\\u0430\\u0440\\u0438\\u0438)\",\"\\u043f\\u0440\\u0435\\u0434\\u043f\\u0440\\u0438\\u044f\\u0442\\u0438\\u0435 \\u0431\\u044b\\u0441\\u0442\\u0440\\u043e\\u0433\\u043e \\u043e\\u0431\\u0441\\u043b\\u0443\\u0436\\u0438\\u0432\\u0430\\u043d\\u0438\\u044f\",\"\\u0440\\u0435\\u0441\\u0442\\u043e\\u0440\\u0430\\u043d\",\"\\u0441\\u0442\\u043e\\u043b\\u043e\\u0432\\u0430\\u044f\"],\"xaxis\":\"x\",\"y\":[37,11,56,1396,52,78,791,544,3],\"yaxis\":\"y\",\"type\":\"bar\"},{\"alignmentgroup\":\"True\",\"hovertemplate\":\"chain=\\u043d\\u0435\\u0442<br>object_type=%{x}<br>counts=%{y}<extra></extra>\",\"legendgroup\":\"\\u043d\\u0435\\u0442\",\"marker\":{\"color\":\"#EF553B\",\"pattern\":{\"shape\":\"\"}},\"name\":\"\\u043d\\u0435\\u0442\",\"offsetgroup\":\"\\u043d\\u0435\\u0442\",\"orientation\":\"v\",\"showlegend\":true,\"textposition\":\"auto\",\"x\":[\"\\u0431\\u0430\\u0440\",\"\\u0431\\u0443\\u0444\\u0435\\u0442\",\"\\u0437\\u0430\\u043a\\u0443\\u0441\\u043e\\u0447\\u043d\\u0430\\u044f\",\"\\u043a\\u0430\\u0444\\u0435\",\"\\u043a\\u0430\\u0444\\u0435\\u0442\\u0435\\u0440\\u0438\\u0439\",\"\\u043c\\u0430\\u0433\\u0430\\u0437\\u0438\\u043d (\\u043e\\u0442\\u0434\\u0435\\u043b \\u043a\\u0443\\u043b\\u0438\\u043d\\u0430\\u0440\\u0438\\u0438)\",\"\\u043f\\u0440\\u0435\\u0434\\u043f\\u0440\\u0438\\u044f\\u0442\\u0438\\u0435 \\u0431\\u044b\\u0441\\u0442\\u0440\\u043e\\u0433\\u043e \\u043e\\u0431\\u0441\\u043b\\u0443\\u0436\\u0438\\u0432\\u0430\\u043d\\u0438\\u044f\",\"\\u0440\\u0435\\u0441\\u0442\\u043e\\u0440\\u0430\\u043d\",\"\\u0441\\u0442\\u043e\\u043b\\u043e\\u0432\\u0430\\u044f\"],\"xaxis\":\"x\",\"y\":[819,574,304,4703,346,195,1132,1741,2584],\"yaxis\":\"y\",\"type\":\"bar\"}],                        {\"template\":{\"data\":{\"bar\":[{\"error_x\":{\"color\":\"#2a3f5f\"},\"error_y\":{\"color\":\"#2a3f5f\"},\"marker\":{\"line\":{\"color\":\"#E5ECF6\",\"width\":0.5},\"pattern\":{\"fillmode\":\"overlay\",\"size\":10,\"solidity\":0.2}},\"type\":\"bar\"}],\"barpolar\":[{\"marker\":{\"line\":{\"color\":\"#E5ECF6\",\"width\":0.5},\"pattern\":{\"fillmode\":\"overlay\",\"size\":10,\"solidity\":0.2}},\"type\":\"barpolar\"}],\"carpet\":[{\"aaxis\":{\"endlinecolor\":\"#2a3f5f\",\"gridcolor\":\"white\",\"linecolor\":\"white\",\"minorgridcolor\":\"white\",\"startlinecolor\":\"#2a3f5f\"},\"baxis\":{\"endlinecolor\":\"#2a3f5f\",\"gridcolor\":\"white\",\"linecolor\":\"white\",\"minorgridcolor\":\"white\",\"startlinecolor\":\"#2a3f5f\"},\"type\":\"carpet\"}],\"choropleth\":[{\"colorbar\":{\"outlinewidth\":0,\"ticks\":\"\"},\"type\":\"choropleth\"}],\"contour\":[{\"colorbar\":{\"outlinewidth\":0,\"ticks\":\"\"},\"colorscale\":[[0.0,\"#0d0887\"],[0.1111111111111111,\"#46039f\"],[0.2222222222222222,\"#7201a8\"],[0.3333333333333333,\"#9c179e\"],[0.4444444444444444,\"#bd3786\"],[0.5555555555555556,\"#d8576b\"],[0.6666666666666666,\"#ed7953\"],[0.7777777777777778,\"#fb9f3a\"],[0.8888888888888888,\"#fdca26\"],[1.0,\"#f0f921\"]],\"type\":\"contour\"}],\"contourcarpet\":[{\"colorbar\":{\"outlinewidth\":0,\"ticks\":\"\"},\"type\":\"contourcarpet\"}],\"heatmap\":[{\"colorbar\":{\"outlinewidth\":0,\"ticks\":\"\"},\"colorscale\":[[0.0,\"#0d0887\"],[0.1111111111111111,\"#46039f\"],[0.2222222222222222,\"#7201a8\"],[0.3333333333333333,\"#9c179e\"],[0.4444444444444444,\"#bd3786\"],[0.5555555555555556,\"#d8576b\"],[0.6666666666666666,\"#ed7953\"],[0.7777777777777778,\"#fb9f3a\"],[0.8888888888888888,\"#fdca26\"],[1.0,\"#f0f921\"]],\"type\":\"heatmap\"}],\"heatmapgl\":[{\"colorbar\":{\"outlinewidth\":0,\"ticks\":\"\"},\"colorscale\":[[0.0,\"#0d0887\"],[0.1111111111111111,\"#46039f\"],[0.2222222222222222,\"#7201a8\"],[0.3333333333333333,\"#9c179e\"],[0.4444444444444444,\"#bd3786\"],[0.5555555555555556,\"#d8576b\"],[0.6666666666666666,\"#ed7953\"],[0.7777777777777778,\"#fb9f3a\"],[0.8888888888888888,\"#fdca26\"],[1.0,\"#f0f921\"]],\"type\":\"heatmapgl\"}],\"histogram\":[{\"marker\":{\"pattern\":{\"fillmode\":\"overlay\",\"size\":10,\"solidity\":0.2}},\"type\":\"histogram\"}],\"histogram2d\":[{\"colorbar\":{\"outlinewidth\":0,\"ticks\":\"\"},\"colorscale\":[[0.0,\"#0d0887\"],[0.1111111111111111,\"#46039f\"],[0.2222222222222222,\"#7201a8\"],[0.3333333333333333,\"#9c179e\"],[0.4444444444444444,\"#bd3786\"],[0.5555555555555556,\"#d8576b\"],[0.6666666666666666,\"#ed7953\"],[0.7777777777777778,\"#fb9f3a\"],[0.8888888888888888,\"#fdca26\"],[1.0,\"#f0f921\"]],\"type\":\"histogram2d\"}],\"histogram2dcontour\":[{\"colorbar\":{\"outlinewidth\":0,\"ticks\":\"\"},\"colorscale\":[[0.0,\"#0d0887\"],[0.1111111111111111,\"#46039f\"],[0.2222222222222222,\"#7201a8\"],[0.3333333333333333,\"#9c179e\"],[0.4444444444444444,\"#bd3786\"],[0.5555555555555556,\"#d8576b\"],[0.6666666666666666,\"#ed7953\"],[0.7777777777777778,\"#fb9f3a\"],[0.8888888888888888,\"#fdca26\"],[1.0,\"#f0f921\"]],\"type\":\"histogram2dcontour\"}],\"mesh3d\":[{\"colorbar\":{\"outlinewidth\":0,\"ticks\":\"\"},\"type\":\"mesh3d\"}],\"parcoords\":[{\"line\":{\"colorbar\":{\"outlinewidth\":0,\"ticks\":\"\"}},\"type\":\"parcoords\"}],\"pie\":[{\"automargin\":true,\"type\":\"pie\"}],\"scatter\":[{\"marker\":{\"colorbar\":{\"outlinewidth\":0,\"ticks\":\"\"}},\"type\":\"scatter\"}],\"scatter3d\":[{\"line\":{\"colorbar\":{\"outlinewidth\":0,\"ticks\":\"\"}},\"marker\":{\"colorbar\":{\"outlinewidth\":0,\"ticks\":\"\"}},\"type\":\"scatter3d\"}],\"scattercarpet\":[{\"marker\":{\"colorbar\":{\"outlinewidth\":0,\"ticks\":\"\"}},\"type\":\"scattercarpet\"}],\"scattergeo\":[{\"marker\":{\"colorbar\":{\"outlinewidth\":0,\"ticks\":\"\"}},\"type\":\"scattergeo\"}],\"scattergl\":[{\"marker\":{\"colorbar\":{\"outlinewidth\":0,\"ticks\":\"\"}},\"type\":\"scattergl\"}],\"scattermapbox\":[{\"marker\":{\"colorbar\":{\"outlinewidth\":0,\"ticks\":\"\"}},\"type\":\"scattermapbox\"}],\"scatterpolar\":[{\"marker\":{\"colorbar\":{\"outlinewidth\":0,\"ticks\":\"\"}},\"type\":\"scatterpolar\"}],\"scatterpolargl\":[{\"marker\":{\"colorbar\":{\"outlinewidth\":0,\"ticks\":\"\"}},\"type\":\"scatterpolargl\"}],\"scatterternary\":[{\"marker\":{\"colorbar\":{\"outlinewidth\":0,\"ticks\":\"\"}},\"type\":\"scatterternary\"}],\"surface\":[{\"colorbar\":{\"outlinewidth\":0,\"ticks\":\"\"},\"colorscale\":[[0.0,\"#0d0887\"],[0.1111111111111111,\"#46039f\"],[0.2222222222222222,\"#7201a8\"],[0.3333333333333333,\"#9c179e\"],[0.4444444444444444,\"#bd3786\"],[0.5555555555555556,\"#d8576b\"],[0.6666666666666666,\"#ed7953\"],[0.7777777777777778,\"#fb9f3a\"],[0.8888888888888888,\"#fdca26\"],[1.0,\"#f0f921\"]],\"type\":\"surface\"}],\"table\":[{\"cells\":{\"fill\":{\"color\":\"#EBF0F8\"},\"line\":{\"color\":\"white\"}},\"header\":{\"fill\":{\"color\":\"#C8D4E3\"},\"line\":{\"color\":\"white\"}},\"type\":\"table\"}]},\"layout\":{\"annotationdefaults\":{\"arrowcolor\":\"#2a3f5f\",\"arrowhead\":0,\"arrowwidth\":1},\"autotypenumbers\":\"strict\",\"coloraxis\":{\"colorbar\":{\"outlinewidth\":0,\"ticks\":\"\"}},\"colorscale\":{\"diverging\":[[0,\"#8e0152\"],[0.1,\"#c51b7d\"],[0.2,\"#de77ae\"],[0.3,\"#f1b6da\"],[0.4,\"#fde0ef\"],[0.5,\"#f7f7f7\"],[0.6,\"#e6f5d0\"],[0.7,\"#b8e186\"],[0.8,\"#7fbc41\"],[0.9,\"#4d9221\"],[1,\"#276419\"]],\"sequential\":[[0.0,\"#0d0887\"],[0.1111111111111111,\"#46039f\"],[0.2222222222222222,\"#7201a8\"],[0.3333333333333333,\"#9c179e\"],[0.4444444444444444,\"#bd3786\"],[0.5555555555555556,\"#d8576b\"],[0.6666666666666666,\"#ed7953\"],[0.7777777777777778,\"#fb9f3a\"],[0.8888888888888888,\"#fdca26\"],[1.0,\"#f0f921\"]],\"sequentialminus\":[[0.0,\"#0d0887\"],[0.1111111111111111,\"#46039f\"],[0.2222222222222222,\"#7201a8\"],[0.3333333333333333,\"#9c179e\"],[0.4444444444444444,\"#bd3786\"],[0.5555555555555556,\"#d8576b\"],[0.6666666666666666,\"#ed7953\"],[0.7777777777777778,\"#fb9f3a\"],[0.8888888888888888,\"#fdca26\"],[1.0,\"#f0f921\"]]},\"colorway\":[\"#636efa\",\"#EF553B\",\"#00cc96\",\"#ab63fa\",\"#FFA15A\",\"#19d3f3\",\"#FF6692\",\"#B6E880\",\"#FF97FF\",\"#FECB52\"],\"font\":{\"color\":\"#2a3f5f\"},\"geo\":{\"bgcolor\":\"white\",\"lakecolor\":\"white\",\"landcolor\":\"#E5ECF6\",\"showlakes\":true,\"showland\":true,\"subunitcolor\":\"white\"},\"hoverlabel\":{\"align\":\"left\"},\"hovermode\":\"closest\",\"mapbox\":{\"style\":\"light\"},\"paper_bgcolor\":\"white\",\"plot_bgcolor\":\"#E5ECF6\",\"polar\":{\"angularaxis\":{\"gridcolor\":\"white\",\"linecolor\":\"white\",\"ticks\":\"\"},\"bgcolor\":\"#E5ECF6\",\"radialaxis\":{\"gridcolor\":\"white\",\"linecolor\":\"white\",\"ticks\":\"\"}},\"scene\":{\"xaxis\":{\"backgroundcolor\":\"#E5ECF6\",\"gridcolor\":\"white\",\"gridwidth\":2,\"linecolor\":\"white\",\"showbackground\":true,\"ticks\":\"\",\"zerolinecolor\":\"white\"},\"yaxis\":{\"backgroundcolor\":\"#E5ECF6\",\"gridcolor\":\"white\",\"gridwidth\":2,\"linecolor\":\"white\",\"showbackground\":true,\"ticks\":\"\",\"zerolinecolor\":\"white\"},\"zaxis\":{\"backgroundcolor\":\"#E5ECF6\",\"gridcolor\":\"white\",\"gridwidth\":2,\"linecolor\":\"white\",\"showbackground\":true,\"ticks\":\"\",\"zerolinecolor\":\"white\"}},\"shapedefaults\":{\"line\":{\"color\":\"#2a3f5f\"}},\"ternary\":{\"aaxis\":{\"gridcolor\":\"white\",\"linecolor\":\"white\",\"ticks\":\"\"},\"baxis\":{\"gridcolor\":\"white\",\"linecolor\":\"white\",\"ticks\":\"\"},\"bgcolor\":\"#E5ECF6\",\"caxis\":{\"gridcolor\":\"white\",\"linecolor\":\"white\",\"ticks\":\"\"}},\"title\":{\"x\":0.05},\"xaxis\":{\"automargin\":true,\"gridcolor\":\"white\",\"linecolor\":\"white\",\"ticks\":\"\",\"title\":{\"standoff\":15},\"zerolinecolor\":\"white\",\"zerolinewidth\":2},\"yaxis\":{\"automargin\":true,\"gridcolor\":\"white\",\"linecolor\":\"white\",\"ticks\":\"\",\"title\":{\"standoff\":15},\"zerolinecolor\":\"white\",\"zerolinewidth\":2}}},\"xaxis\":{\"anchor\":\"y\",\"domain\":[0.0,1.0],\"title\":{\"text\":\"object_type\"},\"tickangle\":45},\"yaxis\":{\"anchor\":\"x\",\"domain\":[0.0,1.0],\"title\":{\"text\":\"counts\"}},\"legend\":{\"title\":{\"text\":\"chain\"},\"tracegroupgap\":0},\"margin\":{\"t\":60},\"barmode\":\"relative\"},                        {\"responsive\": true}                    ).then(function(){\n",
       "                            \n",
       "var gd = document.getElementById('c93a883e-8c74-40f0-a4f7-44a5289801d7');\n",
       "var x = new MutationObserver(function (mutations, observer) {{\n",
       "        var display = window.getComputedStyle(gd).display;\n",
       "        if (!display || display === 'none') {{\n",
       "            console.log([gd, 'removed!']);\n",
       "            Plotly.purge(gd);\n",
       "            observer.disconnect();\n",
       "        }}\n",
       "}});\n",
       "\n",
       "// Listen for the removal of the full notebook cells\n",
       "var notebookContainer = gd.closest('#notebook-container');\n",
       "if (notebookContainer) {{\n",
       "    x.observe(notebookContainer, {childList: true});\n",
       "}}\n",
       "\n",
       "// Listen for the clearing of the current output cell\n",
       "var outputEl = gd.closest('.output');\n",
       "if (outputEl) {{\n",
       "    x.observe(outputEl, {childList: true});\n",
       "}}\n",
       "\n",
       "                        })                };                });            </script>        </div>"
      ]
     },
     "metadata": {},
     "output_type": "display_data"
    }
   ],
   "source": [
    "fig = px.bar(object_chain, x='object_type', y='counts', color='chain')\n",
    "fig.update_xaxes(tickangle=45)\n",
    "fig.show()"
   ]
  },
  {
   "cell_type": "markdown",
   "metadata": {},
   "source": [
    "Сетевое распределение характерно для кафе,ресторанов, предприятий общественного питания, и отделов кулинарии в магазинах."
   ]
  },
  {
   "cell_type": "markdown",
   "metadata": {},
   "source": [
    "Выясним, что характорно для сетевых заведений: много заведений с небольшим числом посадочных мест в каждом или мало заведений с большим количеством посадочных мест."
   ]
  },
  {
   "cell_type": "code",
   "execution_count": 100,
   "metadata": {},
   "outputs": [
    {
     "data": {
      "application/vnd.plotly.v1+json": {
       "config": {
        "plotlyServerURL": "https://plot.ly"
       },
       "data": [
        {
         "alignmentgroup": "True",
         "hovertemplate": "object_type=%{x}<br>ratio=%{y}<extra></extra>",
         "legendgroup": "",
         "marker": {
          "color": "#636efa",
          "pattern": {
           "shape": ""
          }
         },
         "name": "",
         "offsetgroup": "",
         "orientation": "v",
         "showlegend": false,
         "textposition": "auto",
         "type": "bar",
         "x": [
          "ресторан",
          "магазин (отдел кулинарии)",
          "предприятие быстрого обслуживания",
          "кафе"
         ],
         "xaxis": "x",
         "y": [
          0.04237817753496545,
          0.02047525124448201,
          0.01068760379120313,
          0.00651189031308598
         ],
         "yaxis": "y"
        }
       ],
       "layout": {
        "autosize": false,
        "barmode": "relative",
        "height": 400,
        "legend": {
         "tracegroupgap": 0
        },
        "template": {
         "data": {
          "bar": [
           {
            "error_x": {
             "color": "#2a3f5f"
            },
            "error_y": {
             "color": "#2a3f5f"
            },
            "marker": {
             "line": {
              "color": "#E5ECF6",
              "width": 0.5
             },
             "pattern": {
              "fillmode": "overlay",
              "size": 10,
              "solidity": 0.2
             }
            },
            "type": "bar"
           }
          ],
          "barpolar": [
           {
            "marker": {
             "line": {
              "color": "#E5ECF6",
              "width": 0.5
             },
             "pattern": {
              "fillmode": "overlay",
              "size": 10,
              "solidity": 0.2
             }
            },
            "type": "barpolar"
           }
          ],
          "carpet": [
           {
            "aaxis": {
             "endlinecolor": "#2a3f5f",
             "gridcolor": "white",
             "linecolor": "white",
             "minorgridcolor": "white",
             "startlinecolor": "#2a3f5f"
            },
            "baxis": {
             "endlinecolor": "#2a3f5f",
             "gridcolor": "white",
             "linecolor": "white",
             "minorgridcolor": "white",
             "startlinecolor": "#2a3f5f"
            },
            "type": "carpet"
           }
          ],
          "choropleth": [
           {
            "colorbar": {
             "outlinewidth": 0,
             "ticks": ""
            },
            "type": "choropleth"
           }
          ],
          "contour": [
           {
            "colorbar": {
             "outlinewidth": 0,
             "ticks": ""
            },
            "colorscale": [
             [
              0,
              "#0d0887"
             ],
             [
              0.1111111111111111,
              "#46039f"
             ],
             [
              0.2222222222222222,
              "#7201a8"
             ],
             [
              0.3333333333333333,
              "#9c179e"
             ],
             [
              0.4444444444444444,
              "#bd3786"
             ],
             [
              0.5555555555555556,
              "#d8576b"
             ],
             [
              0.6666666666666666,
              "#ed7953"
             ],
             [
              0.7777777777777778,
              "#fb9f3a"
             ],
             [
              0.8888888888888888,
              "#fdca26"
             ],
             [
              1,
              "#f0f921"
             ]
            ],
            "type": "contour"
           }
          ],
          "contourcarpet": [
           {
            "colorbar": {
             "outlinewidth": 0,
             "ticks": ""
            },
            "type": "contourcarpet"
           }
          ],
          "heatmap": [
           {
            "colorbar": {
             "outlinewidth": 0,
             "ticks": ""
            },
            "colorscale": [
             [
              0,
              "#0d0887"
             ],
             [
              0.1111111111111111,
              "#46039f"
             ],
             [
              0.2222222222222222,
              "#7201a8"
             ],
             [
              0.3333333333333333,
              "#9c179e"
             ],
             [
              0.4444444444444444,
              "#bd3786"
             ],
             [
              0.5555555555555556,
              "#d8576b"
             ],
             [
              0.6666666666666666,
              "#ed7953"
             ],
             [
              0.7777777777777778,
              "#fb9f3a"
             ],
             [
              0.8888888888888888,
              "#fdca26"
             ],
             [
              1,
              "#f0f921"
             ]
            ],
            "type": "heatmap"
           }
          ],
          "heatmapgl": [
           {
            "colorbar": {
             "outlinewidth": 0,
             "ticks": ""
            },
            "colorscale": [
             [
              0,
              "#0d0887"
             ],
             [
              0.1111111111111111,
              "#46039f"
             ],
             [
              0.2222222222222222,
              "#7201a8"
             ],
             [
              0.3333333333333333,
              "#9c179e"
             ],
             [
              0.4444444444444444,
              "#bd3786"
             ],
             [
              0.5555555555555556,
              "#d8576b"
             ],
             [
              0.6666666666666666,
              "#ed7953"
             ],
             [
              0.7777777777777778,
              "#fb9f3a"
             ],
             [
              0.8888888888888888,
              "#fdca26"
             ],
             [
              1,
              "#f0f921"
             ]
            ],
            "type": "heatmapgl"
           }
          ],
          "histogram": [
           {
            "marker": {
             "pattern": {
              "fillmode": "overlay",
              "size": 10,
              "solidity": 0.2
             }
            },
            "type": "histogram"
           }
          ],
          "histogram2d": [
           {
            "colorbar": {
             "outlinewidth": 0,
             "ticks": ""
            },
            "colorscale": [
             [
              0,
              "#0d0887"
             ],
             [
              0.1111111111111111,
              "#46039f"
             ],
             [
              0.2222222222222222,
              "#7201a8"
             ],
             [
              0.3333333333333333,
              "#9c179e"
             ],
             [
              0.4444444444444444,
              "#bd3786"
             ],
             [
              0.5555555555555556,
              "#d8576b"
             ],
             [
              0.6666666666666666,
              "#ed7953"
             ],
             [
              0.7777777777777778,
              "#fb9f3a"
             ],
             [
              0.8888888888888888,
              "#fdca26"
             ],
             [
              1,
              "#f0f921"
             ]
            ],
            "type": "histogram2d"
           }
          ],
          "histogram2dcontour": [
           {
            "colorbar": {
             "outlinewidth": 0,
             "ticks": ""
            },
            "colorscale": [
             [
              0,
              "#0d0887"
             ],
             [
              0.1111111111111111,
              "#46039f"
             ],
             [
              0.2222222222222222,
              "#7201a8"
             ],
             [
              0.3333333333333333,
              "#9c179e"
             ],
             [
              0.4444444444444444,
              "#bd3786"
             ],
             [
              0.5555555555555556,
              "#d8576b"
             ],
             [
              0.6666666666666666,
              "#ed7953"
             ],
             [
              0.7777777777777778,
              "#fb9f3a"
             ],
             [
              0.8888888888888888,
              "#fdca26"
             ],
             [
              1,
              "#f0f921"
             ]
            ],
            "type": "histogram2dcontour"
           }
          ],
          "mesh3d": [
           {
            "colorbar": {
             "outlinewidth": 0,
             "ticks": ""
            },
            "type": "mesh3d"
           }
          ],
          "parcoords": [
           {
            "line": {
             "colorbar": {
              "outlinewidth": 0,
              "ticks": ""
             }
            },
            "type": "parcoords"
           }
          ],
          "pie": [
           {
            "automargin": true,
            "type": "pie"
           }
          ],
          "scatter": [
           {
            "marker": {
             "colorbar": {
              "outlinewidth": 0,
              "ticks": ""
             }
            },
            "type": "scatter"
           }
          ],
          "scatter3d": [
           {
            "line": {
             "colorbar": {
              "outlinewidth": 0,
              "ticks": ""
             }
            },
            "marker": {
             "colorbar": {
              "outlinewidth": 0,
              "ticks": ""
             }
            },
            "type": "scatter3d"
           }
          ],
          "scattercarpet": [
           {
            "marker": {
             "colorbar": {
              "outlinewidth": 0,
              "ticks": ""
             }
            },
            "type": "scattercarpet"
           }
          ],
          "scattergeo": [
           {
            "marker": {
             "colorbar": {
              "outlinewidth": 0,
              "ticks": ""
             }
            },
            "type": "scattergeo"
           }
          ],
          "scattergl": [
           {
            "marker": {
             "colorbar": {
              "outlinewidth": 0,
              "ticks": ""
             }
            },
            "type": "scattergl"
           }
          ],
          "scattermapbox": [
           {
            "marker": {
             "colorbar": {
              "outlinewidth": 0,
              "ticks": ""
             }
            },
            "type": "scattermapbox"
           }
          ],
          "scatterpolar": [
           {
            "marker": {
             "colorbar": {
              "outlinewidth": 0,
              "ticks": ""
             }
            },
            "type": "scatterpolar"
           }
          ],
          "scatterpolargl": [
           {
            "marker": {
             "colorbar": {
              "outlinewidth": 0,
              "ticks": ""
             }
            },
            "type": "scatterpolargl"
           }
          ],
          "scatterternary": [
           {
            "marker": {
             "colorbar": {
              "outlinewidth": 0,
              "ticks": ""
             }
            },
            "type": "scatterternary"
           }
          ],
          "surface": [
           {
            "colorbar": {
             "outlinewidth": 0,
             "ticks": ""
            },
            "colorscale": [
             [
              0,
              "#0d0887"
             ],
             [
              0.1111111111111111,
              "#46039f"
             ],
             [
              0.2222222222222222,
              "#7201a8"
             ],
             [
              0.3333333333333333,
              "#9c179e"
             ],
             [
              0.4444444444444444,
              "#bd3786"
             ],
             [
              0.5555555555555556,
              "#d8576b"
             ],
             [
              0.6666666666666666,
              "#ed7953"
             ],
             [
              0.7777777777777778,
              "#fb9f3a"
             ],
             [
              0.8888888888888888,
              "#fdca26"
             ],
             [
              1,
              "#f0f921"
             ]
            ],
            "type": "surface"
           }
          ],
          "table": [
           {
            "cells": {
             "fill": {
              "color": "#EBF0F8"
             },
             "line": {
              "color": "white"
             }
            },
            "header": {
             "fill": {
              "color": "#C8D4E3"
             },
             "line": {
              "color": "white"
             }
            },
            "type": "table"
           }
          ]
         },
         "layout": {
          "annotationdefaults": {
           "arrowcolor": "#2a3f5f",
           "arrowhead": 0,
           "arrowwidth": 1
          },
          "autotypenumbers": "strict",
          "coloraxis": {
           "colorbar": {
            "outlinewidth": 0,
            "ticks": ""
           }
          },
          "colorscale": {
           "diverging": [
            [
             0,
             "#8e0152"
            ],
            [
             0.1,
             "#c51b7d"
            ],
            [
             0.2,
             "#de77ae"
            ],
            [
             0.3,
             "#f1b6da"
            ],
            [
             0.4,
             "#fde0ef"
            ],
            [
             0.5,
             "#f7f7f7"
            ],
            [
             0.6,
             "#e6f5d0"
            ],
            [
             0.7,
             "#b8e186"
            ],
            [
             0.8,
             "#7fbc41"
            ],
            [
             0.9,
             "#4d9221"
            ],
            [
             1,
             "#276419"
            ]
           ],
           "sequential": [
            [
             0,
             "#0d0887"
            ],
            [
             0.1111111111111111,
             "#46039f"
            ],
            [
             0.2222222222222222,
             "#7201a8"
            ],
            [
             0.3333333333333333,
             "#9c179e"
            ],
            [
             0.4444444444444444,
             "#bd3786"
            ],
            [
             0.5555555555555556,
             "#d8576b"
            ],
            [
             0.6666666666666666,
             "#ed7953"
            ],
            [
             0.7777777777777778,
             "#fb9f3a"
            ],
            [
             0.8888888888888888,
             "#fdca26"
            ],
            [
             1,
             "#f0f921"
            ]
           ],
           "sequentialminus": [
            [
             0,
             "#0d0887"
            ],
            [
             0.1111111111111111,
             "#46039f"
            ],
            [
             0.2222222222222222,
             "#7201a8"
            ],
            [
             0.3333333333333333,
             "#9c179e"
            ],
            [
             0.4444444444444444,
             "#bd3786"
            ],
            [
             0.5555555555555556,
             "#d8576b"
            ],
            [
             0.6666666666666666,
             "#ed7953"
            ],
            [
             0.7777777777777778,
             "#fb9f3a"
            ],
            [
             0.8888888888888888,
             "#fdca26"
            ],
            [
             1,
             "#f0f921"
            ]
           ]
          },
          "colorway": [
           "#636efa",
           "#EF553B",
           "#00cc96",
           "#ab63fa",
           "#FFA15A",
           "#19d3f3",
           "#FF6692",
           "#B6E880",
           "#FF97FF",
           "#FECB52"
          ],
          "font": {
           "color": "#2a3f5f"
          },
          "geo": {
           "bgcolor": "white",
           "lakecolor": "white",
           "landcolor": "#E5ECF6",
           "showlakes": true,
           "showland": true,
           "subunitcolor": "white"
          },
          "hoverlabel": {
           "align": "left"
          },
          "hovermode": "closest",
          "mapbox": {
           "style": "light"
          },
          "paper_bgcolor": "white",
          "plot_bgcolor": "#E5ECF6",
          "polar": {
           "angularaxis": {
            "gridcolor": "white",
            "linecolor": "white",
            "ticks": ""
           },
           "bgcolor": "#E5ECF6",
           "radialaxis": {
            "gridcolor": "white",
            "linecolor": "white",
            "ticks": ""
           }
          },
          "scene": {
           "xaxis": {
            "backgroundcolor": "#E5ECF6",
            "gridcolor": "white",
            "gridwidth": 2,
            "linecolor": "white",
            "showbackground": true,
            "ticks": "",
            "zerolinecolor": "white"
           },
           "yaxis": {
            "backgroundcolor": "#E5ECF6",
            "gridcolor": "white",
            "gridwidth": 2,
            "linecolor": "white",
            "showbackground": true,
            "ticks": "",
            "zerolinecolor": "white"
           },
           "zaxis": {
            "backgroundcolor": "#E5ECF6",
            "gridcolor": "white",
            "gridwidth": 2,
            "linecolor": "white",
            "showbackground": true,
            "ticks": "",
            "zerolinecolor": "white"
           }
          },
          "shapedefaults": {
           "line": {
            "color": "#2a3f5f"
           }
          },
          "ternary": {
           "aaxis": {
            "gridcolor": "white",
            "linecolor": "white",
            "ticks": ""
           },
           "baxis": {
            "gridcolor": "white",
            "linecolor": "white",
            "ticks": ""
           },
           "bgcolor": "#E5ECF6",
           "caxis": {
            "gridcolor": "white",
            "linecolor": "white",
            "ticks": ""
           }
          },
          "title": {
           "x": 0.05
          },
          "xaxis": {
           "automargin": true,
           "gridcolor": "white",
           "linecolor": "white",
           "ticks": "",
           "title": {
            "standoff": 15
           },
           "zerolinecolor": "white",
           "zerolinewidth": 2
          },
          "yaxis": {
           "automargin": true,
           "gridcolor": "white",
           "linecolor": "white",
           "ticks": "",
           "title": {
            "standoff": 15
           },
           "zerolinecolor": "white",
           "zerolinewidth": 2
          }
         }
        },
        "title": {
         "text": "Отношение среднего числа мест к количеству заведений"
        },
        "width": 700,
        "xaxis": {
         "anchor": "y",
         "domain": [
          0,
          1
         ],
         "title": {
          "text": ""
         }
        },
        "yaxis": {
         "anchor": "x",
         "domain": [
          0,
          1
         ],
         "title": {
          "text": "ratio"
         }
        }
       }
      },
      "text/html": [
       "<div>                            <div id=\"887b6307-fe60-432e-b80e-ddacb41bcfdc\" class=\"plotly-graph-div\" style=\"height:400px; width:700px;\"></div>            <script type=\"text/javascript\">                require([\"plotly\"], function(Plotly) {                    window.PLOTLYENV=window.PLOTLYENV || {};                                    if (document.getElementById(\"887b6307-fe60-432e-b80e-ddacb41bcfdc\")) {                    Plotly.newPlot(                        \"887b6307-fe60-432e-b80e-ddacb41bcfdc\",                        [{\"alignmentgroup\":\"True\",\"hovertemplate\":\"object_type=%{x}<br>ratio=%{y}<extra></extra>\",\"legendgroup\":\"\",\"marker\":{\"color\":\"#636efa\",\"pattern\":{\"shape\":\"\"}},\"name\":\"\",\"offsetgroup\":\"\",\"orientation\":\"v\",\"showlegend\":false,\"textposition\":\"auto\",\"x\":[\"\\u0440\\u0435\\u0441\\u0442\\u043e\\u0440\\u0430\\u043d\",\"\\u043c\\u0430\\u0433\\u0430\\u0437\\u0438\\u043d (\\u043e\\u0442\\u0434\\u0435\\u043b \\u043a\\u0443\\u043b\\u0438\\u043d\\u0430\\u0440\\u0438\\u0438)\",\"\\u043f\\u0440\\u0435\\u0434\\u043f\\u0440\\u0438\\u044f\\u0442\\u0438\\u0435 \\u0431\\u044b\\u0441\\u0442\\u0440\\u043e\\u0433\\u043e \\u043e\\u0431\\u0441\\u043b\\u0443\\u0436\\u0438\\u0432\\u0430\\u043d\\u0438\\u044f\",\"\\u043a\\u0430\\u0444\\u0435\"],\"xaxis\":\"x\",\"y\":[0.04237817753496545,0.02047525124448201,0.01068760379120313,0.00651189031308598],\"yaxis\":\"y\",\"type\":\"bar\"}],                        {\"template\":{\"data\":{\"bar\":[{\"error_x\":{\"color\":\"#2a3f5f\"},\"error_y\":{\"color\":\"#2a3f5f\"},\"marker\":{\"line\":{\"color\":\"#E5ECF6\",\"width\":0.5},\"pattern\":{\"fillmode\":\"overlay\",\"size\":10,\"solidity\":0.2}},\"type\":\"bar\"}],\"barpolar\":[{\"marker\":{\"line\":{\"color\":\"#E5ECF6\",\"width\":0.5},\"pattern\":{\"fillmode\":\"overlay\",\"size\":10,\"solidity\":0.2}},\"type\":\"barpolar\"}],\"carpet\":[{\"aaxis\":{\"endlinecolor\":\"#2a3f5f\",\"gridcolor\":\"white\",\"linecolor\":\"white\",\"minorgridcolor\":\"white\",\"startlinecolor\":\"#2a3f5f\"},\"baxis\":{\"endlinecolor\":\"#2a3f5f\",\"gridcolor\":\"white\",\"linecolor\":\"white\",\"minorgridcolor\":\"white\",\"startlinecolor\":\"#2a3f5f\"},\"type\":\"carpet\"}],\"choropleth\":[{\"colorbar\":{\"outlinewidth\":0,\"ticks\":\"\"},\"type\":\"choropleth\"}],\"contour\":[{\"colorbar\":{\"outlinewidth\":0,\"ticks\":\"\"},\"colorscale\":[[0.0,\"#0d0887\"],[0.1111111111111111,\"#46039f\"],[0.2222222222222222,\"#7201a8\"],[0.3333333333333333,\"#9c179e\"],[0.4444444444444444,\"#bd3786\"],[0.5555555555555556,\"#d8576b\"],[0.6666666666666666,\"#ed7953\"],[0.7777777777777778,\"#fb9f3a\"],[0.8888888888888888,\"#fdca26\"],[1.0,\"#f0f921\"]],\"type\":\"contour\"}],\"contourcarpet\":[{\"colorbar\":{\"outlinewidth\":0,\"ticks\":\"\"},\"type\":\"contourcarpet\"}],\"heatmap\":[{\"colorbar\":{\"outlinewidth\":0,\"ticks\":\"\"},\"colorscale\":[[0.0,\"#0d0887\"],[0.1111111111111111,\"#46039f\"],[0.2222222222222222,\"#7201a8\"],[0.3333333333333333,\"#9c179e\"],[0.4444444444444444,\"#bd3786\"],[0.5555555555555556,\"#d8576b\"],[0.6666666666666666,\"#ed7953\"],[0.7777777777777778,\"#fb9f3a\"],[0.8888888888888888,\"#fdca26\"],[1.0,\"#f0f921\"]],\"type\":\"heatmap\"}],\"heatmapgl\":[{\"colorbar\":{\"outlinewidth\":0,\"ticks\":\"\"},\"colorscale\":[[0.0,\"#0d0887\"],[0.1111111111111111,\"#46039f\"],[0.2222222222222222,\"#7201a8\"],[0.3333333333333333,\"#9c179e\"],[0.4444444444444444,\"#bd3786\"],[0.5555555555555556,\"#d8576b\"],[0.6666666666666666,\"#ed7953\"],[0.7777777777777778,\"#fb9f3a\"],[0.8888888888888888,\"#fdca26\"],[1.0,\"#f0f921\"]],\"type\":\"heatmapgl\"}],\"histogram\":[{\"marker\":{\"pattern\":{\"fillmode\":\"overlay\",\"size\":10,\"solidity\":0.2}},\"type\":\"histogram\"}],\"histogram2d\":[{\"colorbar\":{\"outlinewidth\":0,\"ticks\":\"\"},\"colorscale\":[[0.0,\"#0d0887\"],[0.1111111111111111,\"#46039f\"],[0.2222222222222222,\"#7201a8\"],[0.3333333333333333,\"#9c179e\"],[0.4444444444444444,\"#bd3786\"],[0.5555555555555556,\"#d8576b\"],[0.6666666666666666,\"#ed7953\"],[0.7777777777777778,\"#fb9f3a\"],[0.8888888888888888,\"#fdca26\"],[1.0,\"#f0f921\"]],\"type\":\"histogram2d\"}],\"histogram2dcontour\":[{\"colorbar\":{\"outlinewidth\":0,\"ticks\":\"\"},\"colorscale\":[[0.0,\"#0d0887\"],[0.1111111111111111,\"#46039f\"],[0.2222222222222222,\"#7201a8\"],[0.3333333333333333,\"#9c179e\"],[0.4444444444444444,\"#bd3786\"],[0.5555555555555556,\"#d8576b\"],[0.6666666666666666,\"#ed7953\"],[0.7777777777777778,\"#fb9f3a\"],[0.8888888888888888,\"#fdca26\"],[1.0,\"#f0f921\"]],\"type\":\"histogram2dcontour\"}],\"mesh3d\":[{\"colorbar\":{\"outlinewidth\":0,\"ticks\":\"\"},\"type\":\"mesh3d\"}],\"parcoords\":[{\"line\":{\"colorbar\":{\"outlinewidth\":0,\"ticks\":\"\"}},\"type\":\"parcoords\"}],\"pie\":[{\"automargin\":true,\"type\":\"pie\"}],\"scatter\":[{\"marker\":{\"colorbar\":{\"outlinewidth\":0,\"ticks\":\"\"}},\"type\":\"scatter\"}],\"scatter3d\":[{\"line\":{\"colorbar\":{\"outlinewidth\":0,\"ticks\":\"\"}},\"marker\":{\"colorbar\":{\"outlinewidth\":0,\"ticks\":\"\"}},\"type\":\"scatter3d\"}],\"scattercarpet\":[{\"marker\":{\"colorbar\":{\"outlinewidth\":0,\"ticks\":\"\"}},\"type\":\"scattercarpet\"}],\"scattergeo\":[{\"marker\":{\"colorbar\":{\"outlinewidth\":0,\"ticks\":\"\"}},\"type\":\"scattergeo\"}],\"scattergl\":[{\"marker\":{\"colorbar\":{\"outlinewidth\":0,\"ticks\":\"\"}},\"type\":\"scattergl\"}],\"scattermapbox\":[{\"marker\":{\"colorbar\":{\"outlinewidth\":0,\"ticks\":\"\"}},\"type\":\"scattermapbox\"}],\"scatterpolar\":[{\"marker\":{\"colorbar\":{\"outlinewidth\":0,\"ticks\":\"\"}},\"type\":\"scatterpolar\"}],\"scatterpolargl\":[{\"marker\":{\"colorbar\":{\"outlinewidth\":0,\"ticks\":\"\"}},\"type\":\"scatterpolargl\"}],\"scatterternary\":[{\"marker\":{\"colorbar\":{\"outlinewidth\":0,\"ticks\":\"\"}},\"type\":\"scatterternary\"}],\"surface\":[{\"colorbar\":{\"outlinewidth\":0,\"ticks\":\"\"},\"colorscale\":[[0.0,\"#0d0887\"],[0.1111111111111111,\"#46039f\"],[0.2222222222222222,\"#7201a8\"],[0.3333333333333333,\"#9c179e\"],[0.4444444444444444,\"#bd3786\"],[0.5555555555555556,\"#d8576b\"],[0.6666666666666666,\"#ed7953\"],[0.7777777777777778,\"#fb9f3a\"],[0.8888888888888888,\"#fdca26\"],[1.0,\"#f0f921\"]],\"type\":\"surface\"}],\"table\":[{\"cells\":{\"fill\":{\"color\":\"#EBF0F8\"},\"line\":{\"color\":\"white\"}},\"header\":{\"fill\":{\"color\":\"#C8D4E3\"},\"line\":{\"color\":\"white\"}},\"type\":\"table\"}]},\"layout\":{\"annotationdefaults\":{\"arrowcolor\":\"#2a3f5f\",\"arrowhead\":0,\"arrowwidth\":1},\"autotypenumbers\":\"strict\",\"coloraxis\":{\"colorbar\":{\"outlinewidth\":0,\"ticks\":\"\"}},\"colorscale\":{\"diverging\":[[0,\"#8e0152\"],[0.1,\"#c51b7d\"],[0.2,\"#de77ae\"],[0.3,\"#f1b6da\"],[0.4,\"#fde0ef\"],[0.5,\"#f7f7f7\"],[0.6,\"#e6f5d0\"],[0.7,\"#b8e186\"],[0.8,\"#7fbc41\"],[0.9,\"#4d9221\"],[1,\"#276419\"]],\"sequential\":[[0.0,\"#0d0887\"],[0.1111111111111111,\"#46039f\"],[0.2222222222222222,\"#7201a8\"],[0.3333333333333333,\"#9c179e\"],[0.4444444444444444,\"#bd3786\"],[0.5555555555555556,\"#d8576b\"],[0.6666666666666666,\"#ed7953\"],[0.7777777777777778,\"#fb9f3a\"],[0.8888888888888888,\"#fdca26\"],[1.0,\"#f0f921\"]],\"sequentialminus\":[[0.0,\"#0d0887\"],[0.1111111111111111,\"#46039f\"],[0.2222222222222222,\"#7201a8\"],[0.3333333333333333,\"#9c179e\"],[0.4444444444444444,\"#bd3786\"],[0.5555555555555556,\"#d8576b\"],[0.6666666666666666,\"#ed7953\"],[0.7777777777777778,\"#fb9f3a\"],[0.8888888888888888,\"#fdca26\"],[1.0,\"#f0f921\"]]},\"colorway\":[\"#636efa\",\"#EF553B\",\"#00cc96\",\"#ab63fa\",\"#FFA15A\",\"#19d3f3\",\"#FF6692\",\"#B6E880\",\"#FF97FF\",\"#FECB52\"],\"font\":{\"color\":\"#2a3f5f\"},\"geo\":{\"bgcolor\":\"white\",\"lakecolor\":\"white\",\"landcolor\":\"#E5ECF6\",\"showlakes\":true,\"showland\":true,\"subunitcolor\":\"white\"},\"hoverlabel\":{\"align\":\"left\"},\"hovermode\":\"closest\",\"mapbox\":{\"style\":\"light\"},\"paper_bgcolor\":\"white\",\"plot_bgcolor\":\"#E5ECF6\",\"polar\":{\"angularaxis\":{\"gridcolor\":\"white\",\"linecolor\":\"white\",\"ticks\":\"\"},\"bgcolor\":\"#E5ECF6\",\"radialaxis\":{\"gridcolor\":\"white\",\"linecolor\":\"white\",\"ticks\":\"\"}},\"scene\":{\"xaxis\":{\"backgroundcolor\":\"#E5ECF6\",\"gridcolor\":\"white\",\"gridwidth\":2,\"linecolor\":\"white\",\"showbackground\":true,\"ticks\":\"\",\"zerolinecolor\":\"white\"},\"yaxis\":{\"backgroundcolor\":\"#E5ECF6\",\"gridcolor\":\"white\",\"gridwidth\":2,\"linecolor\":\"white\",\"showbackground\":true,\"ticks\":\"\",\"zerolinecolor\":\"white\"},\"zaxis\":{\"backgroundcolor\":\"#E5ECF6\",\"gridcolor\":\"white\",\"gridwidth\":2,\"linecolor\":\"white\",\"showbackground\":true,\"ticks\":\"\",\"zerolinecolor\":\"white\"}},\"shapedefaults\":{\"line\":{\"color\":\"#2a3f5f\"}},\"ternary\":{\"aaxis\":{\"gridcolor\":\"white\",\"linecolor\":\"white\",\"ticks\":\"\"},\"baxis\":{\"gridcolor\":\"white\",\"linecolor\":\"white\",\"ticks\":\"\"},\"bgcolor\":\"#E5ECF6\",\"caxis\":{\"gridcolor\":\"white\",\"linecolor\":\"white\",\"ticks\":\"\"}},\"title\":{\"x\":0.05},\"xaxis\":{\"automargin\":true,\"gridcolor\":\"white\",\"linecolor\":\"white\",\"ticks\":\"\",\"title\":{\"standoff\":15},\"zerolinecolor\":\"white\",\"zerolinewidth\":2},\"yaxis\":{\"automargin\":true,\"gridcolor\":\"white\",\"linecolor\":\"white\",\"ticks\":\"\",\"title\":{\"standoff\":15},\"zerolinecolor\":\"white\",\"zerolinewidth\":2}}},\"xaxis\":{\"anchor\":\"y\",\"domain\":[0.0,1.0],\"title\":{\"text\":\"\"}},\"yaxis\":{\"anchor\":\"x\",\"domain\":[0.0,1.0],\"title\":{\"text\":\"ratio\"}},\"legend\":{\"tracegroupgap\":0},\"title\":{\"text\":\"\\u041e\\u0442\\u043d\\u043e\\u0448\\u0435\\u043d\\u0438\\u0435 \\u0441\\u0440\\u0435\\u0434\\u043d\\u0435\\u0433\\u043e \\u0447\\u0438\\u0441\\u043b\\u0430 \\u043c\\u0435\\u0441\\u0442 \\u043a \\u043a\\u043e\\u043b\\u0438\\u0447\\u0435\\u0441\\u0442\\u0432\\u0443 \\u0437\\u0430\\u0432\\u0435\\u0434\\u0435\\u043d\\u0438\\u0439\"},\"barmode\":\"relative\",\"autosize\":false,\"width\":700,\"height\":400},                        {\"responsive\": true}                    ).then(function(){\n",
       "                            \n",
       "var gd = document.getElementById('887b6307-fe60-432e-b80e-ddacb41bcfdc');\n",
       "var x = new MutationObserver(function (mutations, observer) {{\n",
       "        var display = window.getComputedStyle(gd).display;\n",
       "        if (!display || display === 'none') {{\n",
       "            console.log([gd, 'removed!']);\n",
       "            Plotly.purge(gd);\n",
       "            observer.disconnect();\n",
       "        }}\n",
       "}});\n",
       "\n",
       "// Listen for the removal of the full notebook cells\n",
       "var notebookContainer = gd.closest('#notebook-container');\n",
       "if (notebookContainer) {{\n",
       "    x.observe(notebookContainer, {childList: true});\n",
       "}}\n",
       "\n",
       "// Listen for the clearing of the current output cell\n",
       "var outputEl = gd.closest('.output');\n",
       "if (outputEl) {{\n",
       "    x.observe(outputEl, {childList: true});\n",
       "}}\n",
       "\n",
       "                        })                };                });            </script>        </div>"
      ]
     },
     "metadata": {},
     "output_type": "display_data"
    }
   ],
   "source": [
    "seats = rest.groupby('object_type').agg({'number':'mean','id':'count'}).reset_index().rename(columns={'id':'counts'})\n",
    "seats['ratio'] = seats.number / seats.counts # медианное число посад.мест в расчете на одно заведение\n",
    "seats = seats.sort_values(by='ratio', ascending=False)\n",
    "fig = px.bar(seats.query('object_type in [\"кафе\",\"ресторан\",\"предприятие быстрого обслуживания\", \"магазин (отдел кулинарии)\"]'), x='object_type', y='ratio', title='Отношение среднего числа мест к количеству заведений')\n",
    "fig.update_xaxes(title='')\n",
    "fig.update_layout(\n",
    "    autosize=False,\n",
    "    width=700,\n",
    "    height=400)\n",
    "fig.show()"
   ]
  },
  {
   "cell_type": "code",
   "execution_count": 101,
   "metadata": {},
   "outputs": [
    {
     "data": {
      "image/png": "[encoded data removed]",
      "text/plain": [
       "<Figure size 432x432 with 1 Axes>"
      ]
     },
     "metadata": {},
     "output_type": "display_data"
    },
    {
     "name": "stdout",
     "output_type": "stream",
     "text": [
      "Как мы видим из графика, как правило, в сетевых заведениях - мало заведений с большим количеством посадочных мест.\n",
      "В 90% сетей не больше 125 посадочных мест и 8 заведений в среднем\n",
      "\n",
      "Проверим, отличается ли количество посадочных мест в сетевых заведениях от несетевых\n",
      "\n",
      "Проверим нулевую гипотезу о том, что кол-во посадочных мест в сетевых и несетевых заведениях ОДИНАКОВО\n",
      "Применим тест Стъюдента, несмотря на то, что наши распределения скорее всего не нормальны.\n",
      "Благодаря большому количеству значений, нам позволительно использовать здесь тест Стъюдента,\n",
      "так как распределение всех выборочных средних стремится к нормальному распределению.\n",
      "Возьмем критический уровень значимости, равный 0.05\n",
      "P-value: 0.3489196828294546\n",
      "Нулевая гипотеза НЕ отвергнута. \n",
      "Разница между кол-вом посадочных мест в сетевых и несетевых объектах ОТСУТСТВУЕТ\n"
     ]
    },
    {
     "data": {
      "text/plain": [
       "125.0"
      ]
     },
     "execution_count": 101,
     "metadata": {},
     "output_type": "execute_result"
    }
   ],
   "source": [
    "chain_objects = rest[rest['chain']==\"да\"].groupby('object_name').agg({'object_name':'count', 'number':'median'})\n",
    "chain_objects.columns = ['objects', 'median_number']\n",
    "plt.figure(figsize=(6\n",
    "                    \n",
    "                    ,6))\n",
    "plt.scatter(chain_objects['median_number'], chain_objects['objects'])\n",
    "plt.xlabel('Медианное кол-во посадочных мест')\n",
    "plt.ylabel('Кол-во объектов в сети')\n",
    "plt.title('Совместное распределение количества сетевых заведений \\nи их медианного количества посадочных мест', fontsize=13)\n",
    "plt.axhline(np.percentile(chain_objects['objects'], 90), linestyle='--', color='black')\n",
    "plt.axvline(np.percentile(chain_objects['median_number'], 90), linestyle='--', color='black')\n",
    "plt.text(390,7, '90% заведений ниже этой линии')\n",
    "plt.text(135,100, '90% заведений левее этой линии')\n",
    "plt.show()\n",
    "print('Как мы видим из графика, как правило, в сетевых заведениях - мало заведений с большим количеством посадочных мест.')\n",
    "print('В 90% сетей не больше {} посадочных мест и {} заведений в среднем'.format(int(np.percentile(chain_objects['median_number'], 90)) , int(np.percentile(chain_objects['objects'], 90))))\n",
    "\n",
    "print('\\nПроверим, отличается ли количество посадочных мест в сетевых заведениях от несетевых')\n",
    "\n",
    "alpha=0.05\n",
    "\n",
    "results = stats.ttest_ind(chain_objects['median_number'], rest[rest['chain']=='нет']['number'])\n",
    "\n",
    "print('\\nПроверим нулевую гипотезу о том, что кол-во посадочных мест в сетевых и несетевых заведениях ОДИНАКОВО')\n",
    "print('Применим тест Стъюдента, несмотря на то, что наши распределения скорее всего не нормальны.'\n",
    "     '\\nБлагодаря большому количеству значений, нам позволительно использовать здесь тест Стъюдента,'\n",
    "     '\\nтак как распределение всех выборочных средних стремится к нормальному распределению.')\n",
    "print('Возьмем критический уровень значимости, равный', alpha)\n",
    "print('P-value: {}'.format(results.pvalue))\n",
    "if results.pvalue < alpha:\n",
    "    print('Нулевая гипотеза отвергнута. \\nРазница между кол-вом посадочных мест в сетевых и несетевых объектах СТАТИСТИЧЕСКИ ЗНАЧИМА')\n",
    "else:\n",
    "    print('Нулевая гипотеза НЕ отвергнута. \\nРазница между кол-вом посадочных мест в сетевых и несетевых объектах ОТСУТСТВУЕТ')\n",
    "chain_objects\n",
    "np.percentile(chain_objects['median_number'], 90)"
   ]
  },
  {
   "cell_type": "code",
   "execution_count": 102,
   "metadata": {},
   "outputs": [
    {
     "data": {
      "text/html": [
       "<div>\n",
       "<style scoped>\n",
       "    .dataframe tbody tr th:only-of-type {\n",
       "        vertical-align: middle;\n",
       "    }\n",
       "\n",
       "    .dataframe tbody tr th {\n",
       "        vertical-align: top;\n",
       "    }\n",
       "\n",
       "    .dataframe thead th {\n",
       "        text-align: right;\n",
       "    }\n",
       "</style>\n",
       "<table border=\"1\" class=\"dataframe\">\n",
       "  <thead>\n",
       "    <tr style=\"text-align: right;\">\n",
       "      <th></th>\n",
       "      <th>object_type</th>\n",
       "      <th>number</th>\n",
       "      <th>counts</th>\n",
       "      <th>ratio</th>\n",
       "    </tr>\n",
       "  </thead>\n",
       "  <tbody>\n",
       "    <tr>\n",
       "      <th>7</th>\n",
       "      <td>ресторан</td>\n",
       "      <td>96.834136</td>\n",
       "      <td>2285</td>\n",
       "      <td>0.042378</td>\n",
       "    </tr>\n",
       "    <tr>\n",
       "      <th>5</th>\n",
       "      <td>магазин (отдел кулинарии)</td>\n",
       "      <td>5.589744</td>\n",
       "      <td>273</td>\n",
       "      <td>0.020475</td>\n",
       "    </tr>\n",
       "    <tr>\n",
       "      <th>6</th>\n",
       "      <td>предприятие быстрого обслуживания</td>\n",
       "      <td>20.552262</td>\n",
       "      <td>1923</td>\n",
       "      <td>0.010688</td>\n",
       "    </tr>\n",
       "    <tr>\n",
       "      <th>3</th>\n",
       "      <td>кафе</td>\n",
       "      <td>39.716019</td>\n",
       "      <td>6099</td>\n",
       "      <td>0.006512</td>\n",
       "    </tr>\n",
       "  </tbody>\n",
       "</table>\n",
       "</div>"
      ],
      "text/plain": [
       "                         object_type     number  counts     ratio\n",
       "7                           ресторан  96.834136    2285  0.042378\n",
       "5          магазин (отдел кулинарии)   5.589744     273  0.020475\n",
       "6  предприятие быстрого обслуживания  20.552262    1923  0.010688\n",
       "3                               кафе  39.716019    6099  0.006512"
      ]
     },
     "execution_count": 102,
     "metadata": {},
     "output_type": "execute_result"
    }
   ],
   "source": [
    "seats.query('object_type in [\"кафе\",\"ресторан\",\"предприятие быстрого обслуживания\",\"магазин (отдел кулинарии)\"]')"
   ]
  },
  {
   "cell_type": "markdown",
   "metadata": {},
   "source": [
    "В ресторанах больше мест, но меньше заведений. В отделах кулинарии, кафе и предприятиях быстрого обслуживания: меньше мест, но больше точек."
   ]
  },
  {
   "cell_type": "code",
   "execution_count": 103,
   "metadata": {},
   "outputs": [
    {
     "data": {
      "application/vnd.plotly.v1+json": {
       "config": {
        "plotlyServerURL": "https://plot.ly"
       },
       "data": [
        {
         "alignmentgroup": "True",
         "hovertemplate": "object_type=%{x}<br>number=%{y}<extra></extra>",
         "legendgroup": "",
         "marker": {
          "color": "#636efa",
          "pattern": {
           "shape": ""
          }
         },
         "name": "",
         "offsetgroup": "",
         "orientation": "v",
         "showlegend": false,
         "textposition": "auto",
         "type": "bar",
         "x": [
          "магазин (отдел кулинарии)",
          "закусочная",
          "кафетерий",
          "предприятие быстрого обслуживания",
          "кафе",
          "бар",
          "буфет",
          "ресторан",
          "столовая"
         ],
         "xaxis": "x",
         "y": [
          5.589743589743589,
          7.608333333333333,
          9.123115577889447,
          20.55226209048362,
          39.71601901951139,
          43.49415887850467,
          51.12991452991453,
          96.83413566739605,
          130.24661770390415
         ],
         "yaxis": "y"
        }
       ],
       "layout": {
        "barmode": "relative",
        "legend": {
         "tracegroupgap": 0
        },
        "template": {
         "data": {
          "bar": [
           {
            "error_x": {
             "color": "#2a3f5f"
            },
            "error_y": {
             "color": "#2a3f5f"
            },
            "marker": {
             "line": {
              "color": "#E5ECF6",
              "width": 0.5
             },
             "pattern": {
              "fillmode": "overlay",
              "size": 10,
              "solidity": 0.2
             }
            },
            "type": "bar"
           }
          ],
          "barpolar": [
           {
            "marker": {
             "line": {
              "color": "#E5ECF6",
              "width": 0.5
             },
             "pattern": {
              "fillmode": "overlay",
              "size": 10,
              "solidity": 0.2
             }
            },
            "type": "barpolar"
           }
          ],
          "carpet": [
           {
            "aaxis": {
             "endlinecolor": "#2a3f5f",
             "gridcolor": "white",
             "linecolor": "white",
             "minorgridcolor": "white",
             "startlinecolor": "#2a3f5f"
            },
            "baxis": {
             "endlinecolor": "#2a3f5f",
             "gridcolor": "white",
             "linecolor": "white",
             "minorgridcolor": "white",
             "startlinecolor": "#2a3f5f"
            },
            "type": "carpet"
           }
          ],
          "choropleth": [
           {
            "colorbar": {
             "outlinewidth": 0,
             "ticks": ""
            },
            "type": "choropleth"
           }
          ],
          "contour": [
           {
            "colorbar": {
             "outlinewidth": 0,
             "ticks": ""
            },
            "colorscale": [
             [
              0,
              "#0d0887"
             ],
             [
              0.1111111111111111,
              "#46039f"
             ],
             [
              0.2222222222222222,
              "#7201a8"
             ],
             [
              0.3333333333333333,
              "#9c179e"
             ],
             [
              0.4444444444444444,
              "#bd3786"
             ],
             [
              0.5555555555555556,
              "#d8576b"
             ],
             [
              0.6666666666666666,
              "#ed7953"
             ],
             [
              0.7777777777777778,
              "#fb9f3a"
             ],
             [
              0.8888888888888888,
              "#fdca26"
             ],
             [
              1,
              "#f0f921"
             ]
            ],
            "type": "contour"
           }
          ],
          "contourcarpet": [
           {
            "colorbar": {
             "outlinewidth": 0,
             "ticks": ""
            },
            "type": "contourcarpet"
           }
          ],
          "heatmap": [
           {
            "colorbar": {
             "outlinewidth": 0,
             "ticks": ""
            },
            "colorscale": [
             [
              0,
              "#0d0887"
             ],
             [
              0.1111111111111111,
              "#46039f"
             ],
             [
              0.2222222222222222,
              "#7201a8"
             ],
             [
              0.3333333333333333,
              "#9c179e"
             ],
             [
              0.4444444444444444,
              "#bd3786"
             ],
             [
              0.5555555555555556,
              "#d8576b"
             ],
             [
              0.6666666666666666,
              "#ed7953"
             ],
             [
              0.7777777777777778,
              "#fb9f3a"
             ],
             [
              0.8888888888888888,
              "#fdca26"
             ],
             [
              1,
              "#f0f921"
             ]
            ],
            "type": "heatmap"
           }
          ],
          "heatmapgl": [
           {
            "colorbar": {
             "outlinewidth": 0,
             "ticks": ""
            },
            "colorscale": [
             [
              0,
              "#0d0887"
             ],
             [
              0.1111111111111111,
              "#46039f"
             ],
             [
              0.2222222222222222,
              "#7201a8"
             ],
             [
              0.3333333333333333,
              "#9c179e"
             ],
             [
              0.4444444444444444,
              "#bd3786"
             ],
             [
              0.5555555555555556,
              "#d8576b"
             ],
             [
              0.6666666666666666,
              "#ed7953"
             ],
             [
              0.7777777777777778,
              "#fb9f3a"
             ],
             [
              0.8888888888888888,
              "#fdca26"
             ],
             [
              1,
              "#f0f921"
             ]
            ],
            "type": "heatmapgl"
           }
          ],
          "histogram": [
           {
            "marker": {
             "pattern": {
              "fillmode": "overlay",
              "size": 10,
              "solidity": 0.2
             }
            },
            "type": "histogram"
           }
          ],
          "histogram2d": [
           {
            "colorbar": {
             "outlinewidth": 0,
             "ticks": ""
            },
            "colorscale": [
             [
              0,
              "#0d0887"
             ],
             [
              0.1111111111111111,
              "#46039f"
             ],
             [
              0.2222222222222222,
              "#7201a8"
             ],
             [
              0.3333333333333333,
              "#9c179e"
             ],
             [
              0.4444444444444444,
              "#bd3786"
             ],
             [
              0.5555555555555556,
              "#d8576b"
             ],
             [
              0.6666666666666666,
              "#ed7953"
             ],
             [
              0.7777777777777778,
              "#fb9f3a"
             ],
             [
              0.8888888888888888,
              "#fdca26"
             ],
             [
              1,
              "#f0f921"
             ]
            ],
            "type": "histogram2d"
           }
          ],
          "histogram2dcontour": [
           {
            "colorbar": {
             "outlinewidth": 0,
             "ticks": ""
            },
            "colorscale": [
             [
              0,
              "#0d0887"
             ],
             [
              0.1111111111111111,
              "#46039f"
             ],
             [
              0.2222222222222222,
              "#7201a8"
             ],
             [
              0.3333333333333333,
              "#9c179e"
             ],
             [
              0.4444444444444444,
              "#bd3786"
             ],
             [
              0.5555555555555556,
              "#d8576b"
             ],
             [
              0.6666666666666666,
              "#ed7953"
             ],
             [
              0.7777777777777778,
              "#fb9f3a"
             ],
             [
              0.8888888888888888,
              "#fdca26"
             ],
             [
              1,
              "#f0f921"
             ]
            ],
            "type": "histogram2dcontour"
           }
          ],
          "mesh3d": [
           {
            "colorbar": {
             "outlinewidth": 0,
             "ticks": ""
            },
            "type": "mesh3d"
           }
          ],
          "parcoords": [
           {
            "line": {
             "colorbar": {
              "outlinewidth": 0,
              "ticks": ""
             }
            },
            "type": "parcoords"
           }
          ],
          "pie": [
           {
            "automargin": true,
            "type": "pie"
           }
          ],
          "scatter": [
           {
            "marker": {
             "colorbar": {
              "outlinewidth": 0,
              "ticks": ""
             }
            },
            "type": "scatter"
           }
          ],
          "scatter3d": [
           {
            "line": {
             "colorbar": {
              "outlinewidth": 0,
              "ticks": ""
             }
            },
            "marker": {
             "colorbar": {
              "outlinewidth": 0,
              "ticks": ""
             }
            },
            "type": "scatter3d"
           }
          ],
          "scattercarpet": [
           {
            "marker": {
             "colorbar": {
              "outlinewidth": 0,
              "ticks": ""
             }
            },
            "type": "scattercarpet"
           }
          ],
          "scattergeo": [
           {
            "marker": {
             "colorbar": {
              "outlinewidth": 0,
              "ticks": ""
             }
            },
            "type": "scattergeo"
           }
          ],
          "scattergl": [
           {
            "marker": {
             "colorbar": {
              "outlinewidth": 0,
              "ticks": ""
             }
            },
            "type": "scattergl"
           }
          ],
          "scattermapbox": [
           {
            "marker": {
             "colorbar": {
              "outlinewidth": 0,
              "ticks": ""
             }
            },
            "type": "scattermapbox"
           }
          ],
          "scatterpolar": [
           {
            "marker": {
             "colorbar": {
              "outlinewidth": 0,
              "ticks": ""
             }
            },
            "type": "scatterpolar"
           }
          ],
          "scatterpolargl": [
           {
            "marker": {
             "colorbar": {
              "outlinewidth": 0,
              "ticks": ""
             }
            },
            "type": "scatterpolargl"
           }
          ],
          "scatterternary": [
           {
            "marker": {
             "colorbar": {
              "outlinewidth": 0,
              "ticks": ""
             }
            },
            "type": "scatterternary"
           }
          ],
          "surface": [
           {
            "colorbar": {
             "outlinewidth": 0,
             "ticks": ""
            },
            "colorscale": [
             [
              0,
              "#0d0887"
             ],
             [
              0.1111111111111111,
              "#46039f"
             ],
             [
              0.2222222222222222,
              "#7201a8"
             ],
             [
              0.3333333333333333,
              "#9c179e"
             ],
             [
              0.4444444444444444,
              "#bd3786"
             ],
             [
              0.5555555555555556,
              "#d8576b"
             ],
             [
              0.6666666666666666,
              "#ed7953"
             ],
             [
              0.7777777777777778,
              "#fb9f3a"
             ],
             [
              0.8888888888888888,
              "#fdca26"
             ],
             [
              1,
              "#f0f921"
             ]
            ],
            "type": "surface"
           }
          ],
          "table": [
           {
            "cells": {
             "fill": {
              "color": "#EBF0F8"
             },
             "line": {
              "color": "white"
             }
            },
            "header": {
             "fill": {
              "color": "#C8D4E3"
             },
             "line": {
              "color": "white"
             }
            },
            "type": "table"
           }
          ]
         },
         "layout": {
          "annotationdefaults": {
           "arrowcolor": "#2a3f5f",
           "arrowhead": 0,
           "arrowwidth": 1
          },
          "autotypenumbers": "strict",
          "coloraxis": {
           "colorbar": {
            "outlinewidth": 0,
            "ticks": ""
           }
          },
          "colorscale": {
           "diverging": [
            [
             0,
             "#8e0152"
            ],
            [
             0.1,
             "#c51b7d"
            ],
            [
             0.2,
             "#de77ae"
            ],
            [
             0.3,
             "#f1b6da"
            ],
            [
             0.4,
             "#fde0ef"
            ],
            [
             0.5,
             "#f7f7f7"
            ],
            [
             0.6,
             "#e6f5d0"
            ],
            [
             0.7,
             "#b8e186"
            ],
            [
             0.8,
             "#7fbc41"
            ],
            [
             0.9,
             "#4d9221"
            ],
            [
             1,
             "#276419"
            ]
           ],
           "sequential": [
            [
             0,
             "#0d0887"
            ],
            [
             0.1111111111111111,
             "#46039f"
            ],
            [
             0.2222222222222222,
             "#7201a8"
            ],
            [
             0.3333333333333333,
             "#9c179e"
            ],
            [
             0.4444444444444444,
             "#bd3786"
            ],
            [
             0.5555555555555556,
             "#d8576b"
            ],
            [
             0.6666666666666666,
             "#ed7953"
            ],
            [
             0.7777777777777778,
             "#fb9f3a"
            ],
            [
             0.8888888888888888,
             "#fdca26"
            ],
            [
             1,
             "#f0f921"
            ]
           ],
           "sequentialminus": [
            [
             0,
             "#0d0887"
            ],
            [
             0.1111111111111111,
             "#46039f"
            ],
            [
             0.2222222222222222,
             "#7201a8"
            ],
            [
             0.3333333333333333,
             "#9c179e"
            ],
            [
             0.4444444444444444,
             "#bd3786"
            ],
            [
             0.5555555555555556,
             "#d8576b"
            ],
            [
             0.6666666666666666,
             "#ed7953"
            ],
            [
             0.7777777777777778,
             "#fb9f3a"
            ],
            [
             0.8888888888888888,
             "#fdca26"
            ],
            [
             1,
             "#f0f921"
            ]
           ]
          },
          "colorway": [
           "#636efa",
           "#EF553B",
           "#00cc96",
           "#ab63fa",
           "#FFA15A",
           "#19d3f3",
           "#FF6692",
           "#B6E880",
           "#FF97FF",
           "#FECB52"
          ],
          "font": {
           "color": "#2a3f5f"
          },
          "geo": {
           "bgcolor": "white",
           "lakecolor": "white",
           "landcolor": "#E5ECF6",
           "showlakes": true,
           "showland": true,
           "subunitcolor": "white"
          },
          "hoverlabel": {
           "align": "left"
          },
          "hovermode": "closest",
          "mapbox": {
           "style": "light"
          },
          "paper_bgcolor": "white",
          "plot_bgcolor": "#E5ECF6",
          "polar": {
           "angularaxis": {
            "gridcolor": "white",
            "linecolor": "white",
            "ticks": ""
           },
           "bgcolor": "#E5ECF6",
           "radialaxis": {
            "gridcolor": "white",
            "linecolor": "white",
            "ticks": ""
           }
          },
          "scene": {
           "xaxis": {
            "backgroundcolor": "#E5ECF6",
            "gridcolor": "white",
            "gridwidth": 2,
            "linecolor": "white",
            "showbackground": true,
            "ticks": "",
            "zerolinecolor": "white"
           },
           "yaxis": {
            "backgroundcolor": "#E5ECF6",
            "gridcolor": "white",
            "gridwidth": 2,
            "linecolor": "white",
            "showbackground": true,
            "ticks": "",
            "zerolinecolor": "white"
           },
           "zaxis": {
            "backgroundcolor": "#E5ECF6",
            "gridcolor": "white",
            "gridwidth": 2,
            "linecolor": "white",
            "showbackground": true,
            "ticks": "",
            "zerolinecolor": "white"
           }
          },
          "shapedefaults": {
           "line": {
            "color": "#2a3f5f"
           }
          },
          "ternary": {
           "aaxis": {
            "gridcolor": "white",
            "linecolor": "white",
            "ticks": ""
           },
           "baxis": {
            "gridcolor": "white",
            "linecolor": "white",
            "ticks": ""
           },
           "bgcolor": "#E5ECF6",
           "caxis": {
            "gridcolor": "white",
            "linecolor": "white",
            "ticks": ""
           }
          },
          "title": {
           "x": 0.05
          },
          "xaxis": {
           "automargin": true,
           "gridcolor": "white",
           "linecolor": "white",
           "ticks": "",
           "title": {
            "standoff": 15
           },
           "zerolinecolor": "white",
           "zerolinewidth": 2
          },
          "yaxis": {
           "automargin": true,
           "gridcolor": "white",
           "linecolor": "white",
           "ticks": "",
           "title": {
            "standoff": 15
           },
           "zerolinecolor": "white",
           "zerolinewidth": 2
          }
         }
        },
        "title": {
         "text": "Среднее число посадочных мест по типам заведений"
        },
        "xaxis": {
         "anchor": "y",
         "domain": [
          0,
          1
         ],
         "title": {
          "text": "object_type"
         }
        },
        "yaxis": {
         "anchor": "x",
         "domain": [
          0,
          1
         ],
         "title": {
          "text": "среднее число мест"
         }
        }
       }
      },
      "text/html": [
       "<div>                            <div id=\"791e1c83-b239-4c3c-9423-21a56c9c8821\" class=\"plotly-graph-div\" style=\"height:525px; width:100%;\"></div>            <script type=\"text/javascript\">                require([\"plotly\"], function(Plotly) {                    window.PLOTLYENV=window.PLOTLYENV || {};                                    if (document.getElementById(\"791e1c83-b239-4c3c-9423-21a56c9c8821\")) {                    Plotly.newPlot(                        \"791e1c83-b239-4c3c-9423-21a56c9c8821\",                        [{\"alignmentgroup\":\"True\",\"hovertemplate\":\"object_type=%{x}<br>number=%{y}<extra></extra>\",\"legendgroup\":\"\",\"marker\":{\"color\":\"#636efa\",\"pattern\":{\"shape\":\"\"}},\"name\":\"\",\"offsetgroup\":\"\",\"orientation\":\"v\",\"showlegend\":false,\"textposition\":\"auto\",\"x\":[\"\\u043c\\u0430\\u0433\\u0430\\u0437\\u0438\\u043d (\\u043e\\u0442\\u0434\\u0435\\u043b \\u043a\\u0443\\u043b\\u0438\\u043d\\u0430\\u0440\\u0438\\u0438)\",\"\\u0437\\u0430\\u043a\\u0443\\u0441\\u043e\\u0447\\u043d\\u0430\\u044f\",\"\\u043a\\u0430\\u0444\\u0435\\u0442\\u0435\\u0440\\u0438\\u0439\",\"\\u043f\\u0440\\u0435\\u0434\\u043f\\u0440\\u0438\\u044f\\u0442\\u0438\\u0435 \\u0431\\u044b\\u0441\\u0442\\u0440\\u043e\\u0433\\u043e \\u043e\\u0431\\u0441\\u043b\\u0443\\u0436\\u0438\\u0432\\u0430\\u043d\\u0438\\u044f\",\"\\u043a\\u0430\\u0444\\u0435\",\"\\u0431\\u0430\\u0440\",\"\\u0431\\u0443\\u0444\\u0435\\u0442\",\"\\u0440\\u0435\\u0441\\u0442\\u043e\\u0440\\u0430\\u043d\",\"\\u0441\\u0442\\u043e\\u043b\\u043e\\u0432\\u0430\\u044f\"],\"xaxis\":\"x\",\"y\":[5.589743589743589,7.608333333333333,9.123115577889447,20.55226209048362,39.71601901951139,43.49415887850467,51.12991452991453,96.83413566739605,130.24661770390415],\"yaxis\":\"y\",\"type\":\"bar\"}],                        {\"template\":{\"data\":{\"bar\":[{\"error_x\":{\"color\":\"#2a3f5f\"},\"error_y\":{\"color\":\"#2a3f5f\"},\"marker\":{\"line\":{\"color\":\"#E5ECF6\",\"width\":0.5},\"pattern\":{\"fillmode\":\"overlay\",\"size\":10,\"solidity\":0.2}},\"type\":\"bar\"}],\"barpolar\":[{\"marker\":{\"line\":{\"color\":\"#E5ECF6\",\"width\":0.5},\"pattern\":{\"fillmode\":\"overlay\",\"size\":10,\"solidity\":0.2}},\"type\":\"barpolar\"}],\"carpet\":[{\"aaxis\":{\"endlinecolor\":\"#2a3f5f\",\"gridcolor\":\"white\",\"linecolor\":\"white\",\"minorgridcolor\":\"white\",\"startlinecolor\":\"#2a3f5f\"},\"baxis\":{\"endlinecolor\":\"#2a3f5f\",\"gridcolor\":\"white\",\"linecolor\":\"white\",\"minorgridcolor\":\"white\",\"startlinecolor\":\"#2a3f5f\"},\"type\":\"carpet\"}],\"choropleth\":[{\"colorbar\":{\"outlinewidth\":0,\"ticks\":\"\"},\"type\":\"choropleth\"}],\"contour\":[{\"colorbar\":{\"outlinewidth\":0,\"ticks\":\"\"},\"colorscale\":[[0.0,\"#0d0887\"],[0.1111111111111111,\"#46039f\"],[0.2222222222222222,\"#7201a8\"],[0.3333333333333333,\"#9c179e\"],[0.4444444444444444,\"#bd3786\"],[0.5555555555555556,\"#d8576b\"],[0.6666666666666666,\"#ed7953\"],[0.7777777777777778,\"#fb9f3a\"],[0.8888888888888888,\"#fdca26\"],[1.0,\"#f0f921\"]],\"type\":\"contour\"}],\"contourcarpet\":[{\"colorbar\":{\"outlinewidth\":0,\"ticks\":\"\"},\"type\":\"contourcarpet\"}],\"heatmap\":[{\"colorbar\":{\"outlinewidth\":0,\"ticks\":\"\"},\"colorscale\":[[0.0,\"#0d0887\"],[0.1111111111111111,\"#46039f\"],[0.2222222222222222,\"#7201a8\"],[0.3333333333333333,\"#9c179e\"],[0.4444444444444444,\"#bd3786\"],[0.5555555555555556,\"#d8576b\"],[0.6666666666666666,\"#ed7953\"],[0.7777777777777778,\"#fb9f3a\"],[0.8888888888888888,\"#fdca26\"],[1.0,\"#f0f921\"]],\"type\":\"heatmap\"}],\"heatmapgl\":[{\"colorbar\":{\"outlinewidth\":0,\"ticks\":\"\"},\"colorscale\":[[0.0,\"#0d0887\"],[0.1111111111111111,\"#46039f\"],[0.2222222222222222,\"#7201a8\"],[0.3333333333333333,\"#9c179e\"],[0.4444444444444444,\"#bd3786\"],[0.5555555555555556,\"#d8576b\"],[0.6666666666666666,\"#ed7953\"],[0.7777777777777778,\"#fb9f3a\"],[0.8888888888888888,\"#fdca26\"],[1.0,\"#f0f921\"]],\"type\":\"heatmapgl\"}],\"histogram\":[{\"marker\":{\"pattern\":{\"fillmode\":\"overlay\",\"size\":10,\"solidity\":0.2}},\"type\":\"histogram\"}],\"histogram2d\":[{\"colorbar\":{\"outlinewidth\":0,\"ticks\":\"\"},\"colorscale\":[[0.0,\"#0d0887\"],[0.1111111111111111,\"#46039f\"],[0.2222222222222222,\"#7201a8\"],[0.3333333333333333,\"#9c179e\"],[0.4444444444444444,\"#bd3786\"],[0.5555555555555556,\"#d8576b\"],[0.6666666666666666,\"#ed7953\"],[0.7777777777777778,\"#fb9f3a\"],[0.8888888888888888,\"#fdca26\"],[1.0,\"#f0f921\"]],\"type\":\"histogram2d\"}],\"histogram2dcontour\":[{\"colorbar\":{\"outlinewidth\":0,\"ticks\":\"\"},\"colorscale\":[[0.0,\"#0d0887\"],[0.1111111111111111,\"#46039f\"],[0.2222222222222222,\"#7201a8\"],[0.3333333333333333,\"#9c179e\"],[0.4444444444444444,\"#bd3786\"],[0.5555555555555556,\"#d8576b\"],[0.6666666666666666,\"#ed7953\"],[0.7777777777777778,\"#fb9f3a\"],[0.8888888888888888,\"#fdca26\"],[1.0,\"#f0f921\"]],\"type\":\"histogram2dcontour\"}],\"mesh3d\":[{\"colorbar\":{\"outlinewidth\":0,\"ticks\":\"\"},\"type\":\"mesh3d\"}],\"parcoords\":[{\"line\":{\"colorbar\":{\"outlinewidth\":0,\"ticks\":\"\"}},\"type\":\"parcoords\"}],\"pie\":[{\"automargin\":true,\"type\":\"pie\"}],\"scatter\":[{\"marker\":{\"colorbar\":{\"outlinewidth\":0,\"ticks\":\"\"}},\"type\":\"scatter\"}],\"scatter3d\":[{\"line\":{\"colorbar\":{\"outlinewidth\":0,\"ticks\":\"\"}},\"marker\":{\"colorbar\":{\"outlinewidth\":0,\"ticks\":\"\"}},\"type\":\"scatter3d\"}],\"scattercarpet\":[{\"marker\":{\"colorbar\":{\"outlinewidth\":0,\"ticks\":\"\"}},\"type\":\"scattercarpet\"}],\"scattergeo\":[{\"marker\":{\"colorbar\":{\"outlinewidth\":0,\"ticks\":\"\"}},\"type\":\"scattergeo\"}],\"scattergl\":[{\"marker\":{\"colorbar\":{\"outlinewidth\":0,\"ticks\":\"\"}},\"type\":\"scattergl\"}],\"scattermapbox\":[{\"marker\":{\"colorbar\":{\"outlinewidth\":0,\"ticks\":\"\"}},\"type\":\"scattermapbox\"}],\"scatterpolar\":[{\"marker\":{\"colorbar\":{\"outlinewidth\":0,\"ticks\":\"\"}},\"type\":\"scatterpolar\"}],\"scatterpolargl\":[{\"marker\":{\"colorbar\":{\"outlinewidth\":0,\"ticks\":\"\"}},\"type\":\"scatterpolargl\"}],\"scatterternary\":[{\"marker\":{\"colorbar\":{\"outlinewidth\":0,\"ticks\":\"\"}},\"type\":\"scatterternary\"}],\"surface\":[{\"colorbar\":{\"outlinewidth\":0,\"ticks\":\"\"},\"colorscale\":[[0.0,\"#0d0887\"],[0.1111111111111111,\"#46039f\"],[0.2222222222222222,\"#7201a8\"],[0.3333333333333333,\"#9c179e\"],[0.4444444444444444,\"#bd3786\"],[0.5555555555555556,\"#d8576b\"],[0.6666666666666666,\"#ed7953\"],[0.7777777777777778,\"#fb9f3a\"],[0.8888888888888888,\"#fdca26\"],[1.0,\"#f0f921\"]],\"type\":\"surface\"}],\"table\":[{\"cells\":{\"fill\":{\"color\":\"#EBF0F8\"},\"line\":{\"color\":\"white\"}},\"header\":{\"fill\":{\"color\":\"#C8D4E3\"},\"line\":{\"color\":\"white\"}},\"type\":\"table\"}]},\"layout\":{\"annotationdefaults\":{\"arrowcolor\":\"#2a3f5f\",\"arrowhead\":0,\"arrowwidth\":1},\"autotypenumbers\":\"strict\",\"coloraxis\":{\"colorbar\":{\"outlinewidth\":0,\"ticks\":\"\"}},\"colorscale\":{\"diverging\":[[0,\"#8e0152\"],[0.1,\"#c51b7d\"],[0.2,\"#de77ae\"],[0.3,\"#f1b6da\"],[0.4,\"#fde0ef\"],[0.5,\"#f7f7f7\"],[0.6,\"#e6f5d0\"],[0.7,\"#b8e186\"],[0.8,\"#7fbc41\"],[0.9,\"#4d9221\"],[1,\"#276419\"]],\"sequential\":[[0.0,\"#0d0887\"],[0.1111111111111111,\"#46039f\"],[0.2222222222222222,\"#7201a8\"],[0.3333333333333333,\"#9c179e\"],[0.4444444444444444,\"#bd3786\"],[0.5555555555555556,\"#d8576b\"],[0.6666666666666666,\"#ed7953\"],[0.7777777777777778,\"#fb9f3a\"],[0.8888888888888888,\"#fdca26\"],[1.0,\"#f0f921\"]],\"sequentialminus\":[[0.0,\"#0d0887\"],[0.1111111111111111,\"#46039f\"],[0.2222222222222222,\"#7201a8\"],[0.3333333333333333,\"#9c179e\"],[0.4444444444444444,\"#bd3786\"],[0.5555555555555556,\"#d8576b\"],[0.6666666666666666,\"#ed7953\"],[0.7777777777777778,\"#fb9f3a\"],[0.8888888888888888,\"#fdca26\"],[1.0,\"#f0f921\"]]},\"colorway\":[\"#636efa\",\"#EF553B\",\"#00cc96\",\"#ab63fa\",\"#FFA15A\",\"#19d3f3\",\"#FF6692\",\"#B6E880\",\"#FF97FF\",\"#FECB52\"],\"font\":{\"color\":\"#2a3f5f\"},\"geo\":{\"bgcolor\":\"white\",\"lakecolor\":\"white\",\"landcolor\":\"#E5ECF6\",\"showlakes\":true,\"showland\":true,\"subunitcolor\":\"white\"},\"hoverlabel\":{\"align\":\"left\"},\"hovermode\":\"closest\",\"mapbox\":{\"style\":\"light\"},\"paper_bgcolor\":\"white\",\"plot_bgcolor\":\"#E5ECF6\",\"polar\":{\"angularaxis\":{\"gridcolor\":\"white\",\"linecolor\":\"white\",\"ticks\":\"\"},\"bgcolor\":\"#E5ECF6\",\"radialaxis\":{\"gridcolor\":\"white\",\"linecolor\":\"white\",\"ticks\":\"\"}},\"scene\":{\"xaxis\":{\"backgroundcolor\":\"#E5ECF6\",\"gridcolor\":\"white\",\"gridwidth\":2,\"linecolor\":\"white\",\"showbackground\":true,\"ticks\":\"\",\"zerolinecolor\":\"white\"},\"yaxis\":{\"backgroundcolor\":\"#E5ECF6\",\"gridcolor\":\"white\",\"gridwidth\":2,\"linecolor\":\"white\",\"showbackground\":true,\"ticks\":\"\",\"zerolinecolor\":\"white\"},\"zaxis\":{\"backgroundcolor\":\"#E5ECF6\",\"gridcolor\":\"white\",\"gridwidth\":2,\"linecolor\":\"white\",\"showbackground\":true,\"ticks\":\"\",\"zerolinecolor\":\"white\"}},\"shapedefaults\":{\"line\":{\"color\":\"#2a3f5f\"}},\"ternary\":{\"aaxis\":{\"gridcolor\":\"white\",\"linecolor\":\"white\",\"ticks\":\"\"},\"baxis\":{\"gridcolor\":\"white\",\"linecolor\":\"white\",\"ticks\":\"\"},\"bgcolor\":\"#E5ECF6\",\"caxis\":{\"gridcolor\":\"white\",\"linecolor\":\"white\",\"ticks\":\"\"}},\"title\":{\"x\":0.05},\"xaxis\":{\"automargin\":true,\"gridcolor\":\"white\",\"linecolor\":\"white\",\"ticks\":\"\",\"title\":{\"standoff\":15},\"zerolinecolor\":\"white\",\"zerolinewidth\":2},\"yaxis\":{\"automargin\":true,\"gridcolor\":\"white\",\"linecolor\":\"white\",\"ticks\":\"\",\"title\":{\"standoff\":15},\"zerolinecolor\":\"white\",\"zerolinewidth\":2}}},\"xaxis\":{\"anchor\":\"y\",\"domain\":[0.0,1.0],\"title\":{\"text\":\"object_type\"}},\"yaxis\":{\"anchor\":\"x\",\"domain\":[0.0,1.0],\"title\":{\"text\":\"\\u0441\\u0440\\u0435\\u0434\\u043d\\u0435\\u0435 \\u0447\\u0438\\u0441\\u043b\\u043e \\u043c\\u0435\\u0441\\u0442\"}},\"legend\":{\"tracegroupgap\":0},\"title\":{\"text\":\"\\u0421\\u0440\\u0435\\u0434\\u043d\\u0435\\u0435 \\u0447\\u0438\\u0441\\u043b\\u043e \\u043f\\u043e\\u0441\\u0430\\u0434\\u043e\\u0447\\u043d\\u044b\\u0445 \\u043c\\u0435\\u0441\\u0442 \\u043f\\u043e \\u0442\\u0438\\u043f\\u0430\\u043c \\u0437\\u0430\\u0432\\u0435\\u0434\\u0435\\u043d\\u0438\\u0439\"},\"barmode\":\"relative\"},                        {\"responsive\": true}                    ).then(function(){\n",
       "                            \n",
       "var gd = document.getElementById('791e1c83-b239-4c3c-9423-21a56c9c8821');\n",
       "var x = new MutationObserver(function (mutations, observer) {{\n",
       "        var display = window.getComputedStyle(gd).display;\n",
       "        if (!display || display === 'none') {{\n",
       "            console.log([gd, 'removed!']);\n",
       "            Plotly.purge(gd);\n",
       "            observer.disconnect();\n",
       "        }}\n",
       "}});\n",
       "\n",
       "// Listen for the removal of the full notebook cells\n",
       "var notebookContainer = gd.closest('#notebook-container');\n",
       "if (notebookContainer) {{\n",
       "    x.observe(notebookContainer, {childList: true});\n",
       "}}\n",
       "\n",
       "// Listen for the clearing of the current output cell\n",
       "var outputEl = gd.closest('.output');\n",
       "if (outputEl) {{\n",
       "    x.observe(outputEl, {childList: true});\n",
       "}}\n",
       "\n",
       "                        })                };                });            </script>        </div>"
      ]
     },
     "metadata": {},
     "output_type": "display_data"
    }
   ],
   "source": [
    "fig = px.bar(seats.sort_values(by='number'), x='object_type', y='number', title='Среднее число посадочных мест по типам заведений')\n",
    "fig.update_yaxes(title='среднее число мест')\n",
    "fig.show()"
   ]
  },
  {
   "cell_type": "markdown",
   "metadata": {},
   "source": [
    "Столовые и рестораны предоставляют большее число мест."
   ]
  },
  {
   "cell_type": "code",
   "execution_count": 104,
   "metadata": {},
   "outputs": [
    {
     "name": "stdout",
     "output_type": "stream",
     "text": [
      "город Москва, поселение Вороновское, село Вороново, дом 110\n",
      "город Москва, поселение Внуковское, улица Лётчика Ульянина, дом 2\n",
      "город Москва, поселение Внуковское, улица Лётчика Ульянина, дом 4\n",
      "город Москва, поселение Новофедоровское, деревня Рассудово, улица Рассудовское Лесничество, дом 9А\n",
      "город Москва, поселение Марушкинское, деревня Власово, Юбилейная улица, дом 148\n",
      "город Москва, поселение Внуковское, деревня Ликова, дом 1А\n",
      "город Москва, поселение Десеновское, Армейская улица, дом 1\n",
      "город Москва, поселение Десеновское, деревня Десна, дом 144УЧ\n",
      "город Москва, поселение Московский, квартал № 80, дом 11А, строение 1\n",
      "город Москва, поселение Московский, деревня Говорово, дом 1Б/Н\n",
      "город Москва, поселение Щаповское, деревня Троицкое, дом 38Б\n",
      "город Москва, поселение Краснопахорское, село Красная Пахра, дом 2\n",
      "город Москва, поселение Краснопахорское, село Красная Пахра, дом 6\n",
      "город Москва, поселение Краснопахорское, село Красная Пахра, дом 9\n",
      "город Москва, поселение Щаповское, деревня Овечкино, дом 42\n",
      "город Москва, поселение Внуковское, деревня Пыхтино, дом 46А\n",
      "город Москва, поселение Воскресенское, посёлок Воскресенское, дом 1\n",
      "город Москва, поселение Сосенское, посёлок Коммунарка, улица Липовый Парк, дом 5, корпус 1\n",
      "город Москва, поселение Сосенское, посёлок Коммунарка, улица Сосенский Стан, дом 11\n",
      "город Москва, поселение Щаповское, посёлок Щапово, улица Садовый Квартал, дом 59А\n",
      "город Москва, поселение Сосенское, улица Александры Монаховой, дом 101\n",
      "город Москва, поселение Роговское, деревня Бунчиха, владение 1\n",
      "город Москва, поселение Филимонковское, деревня Верхнее Валуево, дом 21А\n",
      "город Москва, поселение Новофедоровское, деревня Яковлевское, дом 132\n",
      "город Москва, поселение Московский, деревня Лапшинка, дом 2Б\n",
      "город Москва, поселение Краснопахорское, село Красная Пахра, дом 8\n",
      "город Москва, поселение Кленовское, село Кленово, улица 1-й километр Объездной Дороги, дом 11\n",
      "город Москва, поселение Сосенское, Калужское шоссе, 22-й километр, дом 10\n",
      "город Москва, поселение Московский, деревня Лапшинка, владение 8, корпус 1\n",
      "город Москва, поселение Московский, деревня Картмазово, Киевская улица, владение 2\n",
      "город Москва, поселение Сосенское, деревня Сосенки, дом 190\n",
      "город Москва, поселение Марушкинское, деревня Марушкино, Полевая улица, дом 16\n",
      "город Москва, поселение Марушкинское, посёлок Совхоза \"Крёкшино\", Озёрная улица, владение 6, строение 2\n",
      "город Москва, поселение Кокошкино, дачный посёлок Кокошкино, улица Горького, дом 1Б\n",
      "город Москва, поселение Марушкинское, Киевское шоссе, 39-й километр, владение 2, строение 1\n",
      "город Москва, поселение Сосенское, улица Поляны, владение 50, строение 1\n",
      "город Москва, поселение Марушкинское, Киевское шоссе, 32-й километр, владение 3, строение 1\n",
      "город Москва, поселение Рязановское, посёлок Знамя Октября, микрорайон \"Родники\", дом 8\n",
      "город Москва, поселение Рязановское, посёлок Знамя Октября, микрорайон \"Родники\", дом 11\n",
      "город Москва, поселение Рязановское, посёлок Знамя Октября, микрорайон \"Родники\", дом 12\n",
      "город Москва, поселение Рязановское, посёлок Ерино, Высокая улица, дом 5\n",
      "город Москва, поселение Роговское, посёлок Рогово, Школьная улица, дом 5А\n",
      "город Москва, поселение Сосенское, посёлок Коммунарка, Фитарёвская улица, дом 15\n",
      "город Москва, поселение Вороновское, посёлок ЛМС, микрорайон \"Центральный\", дом 34, строение 1\n",
      "город Москва, поселение Вороновское, посёлок ЛМС, микрорайон \"Центральный\", дом 40, строение 1\n",
      "город Москва, поселение Внуковское, посёлок ДСК \"Мичуринец\", улица Энгельса, дом 10А\n",
      "город Москва, поселение Внуковское, деревня Внуково, дом 155\n",
      "город Москва, поселение Воскресенское, Варшавское шоссе, 28-й километр, владение 3, строение 1\n",
      "город Москва, поселение Сосенское, посёлок Коммунарка, улица Липовый Парк, дом 9\n",
      "город Москва, поселение Сосенское, посёлок Коммунарка, улица Липовый Парк, дом 6\n",
      "город Москва, поселение Кленовское, село Кленово, Центральная улица, дом 8\n",
      "город Москва, поселение Московский, посёлок Ульяновского Лесопарка, владение 6\n",
      "город Москва, поселение Кокошкино, дачный посёлок Кокошкино, Дачная улица, дом 3А\n",
      "город Москва, поселение Кокошкино, дачный посёлок Кокошкино, Дачная улица, дом 9А\n",
      "город Москва, поселение Щаповское, посёлок Щапово, улица Садовый Квартал, владение 5А, строение 1\n",
      "город Москва, поселение Марушкинское, Киевское шоссе, 37-й километр, владение 1, строение 1\n",
      "город Москва, поселение Михайлово-Ярцевское, посёлок Шишкин Лес, дом 23\n",
      "город Москва, поселение Михайлово-Ярцевское, посёлок Шишкин Лес, дом 41\n",
      "город Москва, поселение Краснопахорское, село Красная Пахра, дом 24А\n",
      "город Москва, поселение Краснопахорское, село Красное, улица Школа-интернат, дом 1\n",
      "город Москва, поселение Рязановское, Симферопольское шоссе, владение 20А/1\n",
      "город Москва, поселение Рязановское, посёлок Знамя Октября, дом 37\n",
      "город Москва, поселение Рязановское, посёлок Знамя Октября, дом 39\n",
      "город Москва, поселение Рязановское, посёлок Знамя Октября, дом 40\n",
      "город Москва, поселение Рязановское, посёлок Ерино, дом 1\n",
      "город Москва, поселение Рязановское, посёлок Ерино, дом 3\n",
      "город Москва, поселение Рязановское, посёлок Фабрики имени 1 Мая, дом 3\n",
      "город Москва, поселение Рязановское, посёлок Фабрики имени 1 Мая, дом 45А\n",
      "город Москва, поселение Рязановское, посёлок Фабрики имени 1 Мая, дом 53\n",
      "город Москва, поселение Вороновское, село Вороново, дом 31, строение 1\n",
      "город Москва, поселение \"Мосрентген\", посёлок Завода Мосрентген, дом 20\n",
      "город Москва, поселение \"Мосрентген\", посёлок Завода Мосрентген, дом 33\n",
      "город Москва, поселение Рязановское, посёлок Остафьево, дом 1\n",
      "город Москва, поселение Вороновское, деревня Ясенки, дом 1\n",
      "город Москва, поселение Марушкинское, деревня Марушкино, улица Липовая Аллея, дом 6\n",
      "город Москва, поселение Сосенское, ж/к \"Дубровка\", Сосновая улица, дом 15\n",
      "город Москва, поселение Киевский, рабочий посёлок Киевский, Молодежная улица, дом 2\n",
      "город Москва, поселение \"Мосрентген\", посёлок Завода Мосрентген, Институтский проезд, дом 2\n",
      "город Москва, поселение Внуковское, улица Бориса Пастернака, дом 17\n",
      "город Москва, поселение Киевский, рабочий посёлок Киевский, дом 18А\n",
      "город Москва, поселение Внуковское, улица Анны Ахматовой, дом 10\n",
      "город Москва, поселение Марушкинское, деревня Давыдково, дом 116А\n",
      "город Москва, поселение Кленовское, село Кленово, Центральная улица, дом 3\n",
      "город Москва, поселение Михайлово-Ярцевское, посёлок Шишкин Лес, домовладение 51Б, строение 1\n",
      "город Москва, поселение \"Мосрентген\", Калужское шоссе, 20-й километр, владение 4, строение 1\n",
      "город Москва, поселение Краснопахорское, Калужское шоссе, 43-й километр, владение 1, строение 1\n",
      "город Москва, поселение Вороновское, деревня Голохвастово, дом 2Г\n",
      "город Москва, поселение Воскресенское, посёлок Воскресенское, дом 20А\n",
      "город Москва, поселение Краснопахорское, Калужское шоссе, 47-й километр, дом 4, строение 1\n",
      "город Москва, поселение Краснопахорское, Калужское шоссе, 47-й километр, дом 4, строение 3\n",
      "город Москва, поселение Рязановское, село Остафьево, Троицкая улица, дом 1\n",
      "город Москва, поселение Марушкинское, деревня Марушкино, улица Липовая Аллея, дом 6, строение 1\n",
      "город Москва, поселение Марушкинское, посёлок Совхоза \"Крёкшино\", дом 7А, строение 1\n",
      "город Москва, поселение Десеновское, 6-я Нововатутинская улица, дом 2\n",
      "город Москва, поселение Московский, Киевское шоссе, 22-й километр, домовладение 6, строение 1\n",
      "город Москва, поселение Сосенское, деревня Сосенки, дом 126\n",
      "город Москва, поселение Марушкинское, посёлок Совхоза \"Крёкшино\", дом 2Б/Н\n",
      "город Москва, поселение Московский, Киевское шоссе, 22-й километр, домовладение 4, строение 2\n",
      "город Москва, поселение Московский, Киевское шоссе, 22-й километр, домовладение 4, строение 1\n",
      "город Москва, поселение Московский, Киевское шоссе, 23-й километр, домовладение 8, строение 1\n",
      "город Москва, поселение Сосенское, деревня Николо-Хованское, территория ТСЖ \"Лесная поляна-2\", владение 53, строение 1\n",
      "город Москва, поселение Щаповское, вблизи деревни Троицкое, дом 1Б/Н\n",
      "город Москва, поселение Внуковское, Боровское шоссе, 29-й километр, домовладение 4, строение 1\n",
      "город Москва, поселение Десеновское, Нововатутинский проспект, дом 12\n",
      "город Москва, поселение Новофедоровское, деревня Руднево, дом 1Б/Н\n",
      "город Москва, поселение Рязановское, деревня Мостовское, улица Слобода, дом 26, корпус 1\n",
      "город Москва, поселение Щаповское, вблизи пос.Курилово, дом 1Б/Н\n",
      "город Москва, поселение Кленовское, село Кленово, Центральная улица, дом 2\n",
      "город Москва, поселение Сосенское, деревня Сосенки, дом 37\n",
      "город Москва, поселение Воскресенское, Чечёрский проезд, дом 51\n",
      "город Москва, поселение \"Мосрентген\", деревня Дудкино, дом 66\n",
      "поселение Сосенское, деревня Столбово, дом 1\n",
      "поселение Марушкинское, деревня Давыдково, дом 101\n",
      "поселение Михайлово-Ярцевское, деревня Сенькино-Секерино, дом 154А\n",
      "город Москва, поселение Роговское, деревня Каменка, Центральная улица, владение 30\n",
      "город Москва, поселение Вороновское, деревня Бабенки, дом 1\n",
      "город Москва, поселение Сосенское, деревня Сосенки, дом 133Б\n",
      "город Москва, поселение Первомайское, деревня Рогозинино, Луговая улица, домовладение 20А, строение 1\n",
      "город Москва, поселение Внуковское, улица Корнея Чуковского, дом 5\n",
      "город Москва, поселение Внуковское, улица Лётчика Грицевца, дом 4\n",
      "город Москва, поселение Марушкинское, деревня Крёкшино, Советская улица, дом 25А\n",
      "город Москва, поселение Щаповское, посёлок Щапово, дом 21\n",
      "город Москва, поселение Щаповское, посёлок Курилово, Школьная улица, дом 3\n",
      "город Москва, поселение Краснопахорское, село Былово, дом 1\n",
      "город Москва, поселение \"Мосрентген\", 43-й километр МКАД, дом 1Б/Н\n",
      "город Москва, поселение Марушкинское, посёлок Совхоза \"Крёкшино\", Озёрная улица, дом 2\n",
      "город Москва, поселение \"Мосрентген\", Калужское шоссе, 22-й километр, домовладение 8, строение 1\n",
      "город Москва, поселение Сосенское, посёлок Коммунарка, улица Липовый Парк, дом 8, корпус 1\n",
      "город Москва, поселение \"Мосрентген\", посёлок Завода Мосрентген, дом 31\n",
      "город Москва, поселение Щаповское, посёлок Щапово, дом 22, строение 1\n",
      "город Москва, поселение Щаповское, посёлок Щапово, дом 80\n",
      "город Москва, поселение Щаповское, деревня Троицкое, дом 47Б\n",
      "город Москва, поселение Десеновское, Нововатутинский проспект, дом 7\n",
      "город Москва, поселение Сосенское, посёлок Коммунарка, улица Липовый Парк, дом 8, корпус 2\n",
      "город Москва, поселение Внуковское, улица Лётчика Ульянина, дом 5\n",
      "город Москва, поселение Сосенское, посёлок Коммунарка, Ясная улица, дом 5\n",
      "город Москва, поселение Внуковское, улица Лётчика Грицевца, дом 10\n",
      "город Москва, поселение Сосенское, посёлок Коммунарка, дом 20А\n",
      "город Москва, поселение Роговское, деревня Каменка, дом 1Б/Н\n",
      "город Москва, поселение Сосенское, посёлок Коммунарка, улица Липовый Парк, дом 5, корпус 2\n",
      "город Москва, поселение Сосенское, посёлок Коммунарка, улица Липовый Парк, дом 4, корпус 1\n",
      "город Москва, поселение Сосенское, посёлок Коммунарка, улица Липовый Парк, дом 4, корпус 3\n",
      "город Москва, поселение Воскресенское, посёлок Воскресенское, дом 39\n",
      "город Москва, поселение Внуковское, улица Анны Ахматовой, дом 20\n",
      "город Москва, поселение Внуковское, улица Самуила Маршака, дом 23\n",
      "город Москва, поселение Сосенское, посёлок Коммунарка, улица Александры Монаховой, дом 5, корпус 2\n",
      "город Москва, поселение Сосенское, посёлок Коммунарка, улица Александры Монаховой, дом 5, корпус 3\n",
      "город Москва, поселение Десеновское, 3-я Нововатутинская улица, дом 13, корпус 1\n",
      "город Москва, поселение Марушкинское, деревня Власово, Луговая улица, дом 4\n",
      "город Москва, поселение Воскресенское, Чечёрский проезд, дом 122, корпус 1\n",
      "город Москва, поселение Киевский, рабочий посёлок Киевский, дом 31\n",
      "город Москва, поселение Московский, деревня Саларьево, владение 3, строение 1\n",
      "город Москва, поселение Сосенское, посёлок Коммунарка, улица Липовый Парк, дом 11\n",
      "город Москва, поселение Рязановское, посёлок Знамя Октября, дом 14\n",
      "город Москва, поселение Воскресенское, посёлок Воскресенское, дом 22А\n",
      "город Москва, поселение Щаповское, деревня Троицкое, домовладение 66, корпус 2\n",
      "город Москва, поселение Марушкинское, вблизи деревни Крекшино, дом 14Б/Н\n",
      "город Москва, поселение Вороновское, вблизи деревни Безобразово, дом 1Б/Н\n",
      "город Москва, поселение Сосенское, посёлок Коммунарка, улица Александры Монаховой, дом 96, корпус 2\n",
      "город Москва, поселение Воскресенское, посёлок Воскресенское, дом 40, корпус 2\n",
      "город Москва, поселение Десеновское, 1-я Нововатутинская улица, дом 1\n",
      "город Москва, поселение Сосенское, посёлок Коммунарка, Лазурная улица, дом 1\n",
      "город Москва, поселение Краснопахорское, деревня Колотилово, Цветочная улица, дом 1\n",
      "город Москва, поселение Сосенское, улица Адмирала Корнилова, дом 44\n",
      "город Москва, поселение Внуковское, улица Самуила Маршака, дом 17\n",
      "город Москва, поселение Сосенское, деревня Сосенки, дом 55А\n",
      "город Москва, поселение Сосенское, улица Сервантеса, дом 3, корпус 3\n",
      "город Москва, поселение Сосенское, улица Сервантеса, дом 1, корпус 3\n",
      "город Москва, поселение Сосенское, улица Сервантеса, дом 1, корпус 4\n",
      "город Москва, поселение Воскресенское, посёлок Воскресенское, домовладение 57, строение 3\n",
      "город Москва, поселение Сосенское, посёлок Коммунарка, улица Александры Монаховой, дом 94, корпус 4\n",
      "город Москва, поселение Десеновское, 6-я Нововатутинская улица, дом 1\n",
      "город Москва, поселение Сосенское, улица Сервантеса, дом 3, корпус 1\n",
      "город Москва, поселение Московский, улица Татьянин Парк, дом 15, корпус 1\n",
      "город Москва, поселение Щаповское, деревня Троицкое, дом 3Б/Н\n",
      "город Москва, поселение Московский, Киевское шоссе, 28-й километр, владение 2, строение 1\n",
      "город Москва, поселение Сосенское, деревня Сосенки, дом 39\n",
      "город Москва, поселение Десеновское, Нововатутинский проспект, дом 10\n",
      "город Москва, поселение Щаповское, деревня Шаганино, дом 8\n",
      "город Москва, поселение Сосенское, посёлок Коммунарка, улица Потаповская Роща, дом 4, корпус 2\n",
      "город Москва, поселение \"Мосрентген\", посёлок Завода Мосрентген, дом 32\n",
      "город Москва, поселение Первомайское, посёлок Первомайское, Рабочая улица, дом 9, строение 1\n",
      "город Москва, поселение Сосенское, территория СНТ \"Гавриково-1\", владение 172А, строение 1\n",
      "город Москва, поселение Сосенское, посёлок Коммунарка, Ясная улица, дом 1\n",
      "город Москва, поселение Сосенское, улица Александры Монаховой, дом 103\n",
      "город Москва, поселение Московский, улица Адмирала Корнилова, дом 61\n",
      "город Москва, поселение Краснопахорское, село Красное, Парковая улица, домовладение 10, строение 1\n",
      "город Москва, поселение Первомайское, деревня Рогозинино, Луговая улица, домовладение 20А, строение 3\n",
      "город Москва, поселение Первомайское, деревня Горчаково, Школьная улица, дом 1А\n",
      "город Москва, поселение Десеновское, деревня Ватутинки, дом 46А\n",
      "город Москва, поселение Сосенское, посёлок Коммунарка, улица Александры Монаховой, домовладение 30, строение 1\n",
      "город Москва, поселение \"Мосрентген\", Киевское шоссе, 21-й километр, домовладение 3, строение 1\n",
      "город Москва, поселение Московский, улица Татьянин Парк, дом 11\n",
      "город Москва, поселение Десеновское, 1-я Ватутинская улица, дом 5\n",
      "город Москва, поселение Роговское, посёлок Рогово, дом 2Б/Н\n",
      "город Москва, поселение Десеновское, Футбольная улица, дом 17\n",
      "город Москва, поселение Сосенское, посёлок Коммунарка, микрорайон \"Эдальго\", дом 1\n",
      "город Москва, поселение Сосенское, посёлок Коммунарка, Ясная улица, дом 2\n",
      "город Москва, поселение Марушкинское, посёлок Совхоза \"Крёкшино\", дом 15\n",
      "город Москва, поселение Сосенское, посёлок Коммунарка, Бачуринская улица, дом 19\n",
      "город Москва, поселение Сосенское, Николо-Хованская улица, дом 28, строение 5\n",
      "город Москва, поселение Сосенское, посёлок Коммунарка, улица Александры Монаховой, дом 98, корпус 1\n",
      "город Москва, поселение Сосенское, деревня Сосенки, дом 73\n",
      "город Москва, поселение Сосенское, деревня Сосенки, владение 121\n",
      "город Москва, поселение Внуковское, квартал № 30, домовладение 1, строение 1\n",
      "город Москва, поселение Сосенское, посёлок Коммунарка, улица Александры Монаховой, дом 98, корпус 3\n",
      "город Москва, поселение Щаповское, деревня Овечкино, владение 7\n",
      "город Москва, поселение Сосенское, посёлок Коммунарка, улица Александры Монаховой, домовладение 21, строение 1\n",
      "город Москва, поселение Сосенское, улица Сервантеса, дом 1, корпус 1\n",
      "город Москва, поселение Сосенское, посёлок Коммунарка, улица Александры Монаховой, дом 98, корпус 2\n",
      "город Москва, поселение Сосенское, деревня Сосенки, дом 25Б\n",
      "город Москва, поселение Сосенское, посёлок Коммунарка, улица Александры Монаховой, дом 92, корпус 1\n",
      "город Москва, поселение Сосенское, бульвар Веласкеса, дом 1, корпус 2\n",
      "город Москва, поселение Внуковское, улица Лётчика Ульянина, владение 7\n",
      "город Москва, поселение Краснопахорское, Калужское шоссе, 47-й километр, владение 6, строение 2\n",
      "город Москва, поселение Внуковское, улица Лётчика Ульянина, дом 6\n",
      "город Москва, поселение Краснопахорское, село Красная Пахра, дом 5\n",
      "город Москва, поселение Сосенское, посёлок Коммунарка, Лазурная улица, дом 6\n",
      "город Москва, поселение Сосенское, посёлок Коммунарка, дом 9\n",
      "город Москва, поселение Сосенское, посёлок Коммунарка, дом 30\n",
      "город Москва, поселение Сосенское, посёлок Газопровод, дом 101, корпус 1\n",
      "город Москва, поселение \"Мосрентген\", МКАД, 44-й километр, владение 1, строение 1\n",
      "город Москва, поселение Сосенское, деревня Сосенки, Ясеневая улица, дом 3\n",
      "город Москва, поселение Первомайское, деревня Поповка, Дорожная улица, дом 12, строение 1\n",
      "город Москва, поселение Воскресенское, посёлок Воскресенское, дом 40, корпус 1\n",
      "город Москва, поселение Воскресенское, посёлок Воскресенское, дом 9, корпус 1\n",
      "город Москва, поселение Воскресенское, посёлок Воскресенское, владение 54А, строение 1\n",
      "город Москва, поселение Сосенское, посёлок Коммунарка, улица Липовый Парк, дом 2\n",
      "город Москва, поселение Щаповское, деревня Троицкое, дом 2Б\n",
      "город Москва, поселение Десеновское, улица Дмитрия Рябинкина, дом 13\n",
      "город Москва, поселение Сосенское, посёлок Коммунарка, Бачуринская улица, дом 21\n",
      "город Москва, поселение Воскресенское, деревня Ямонтово, владение 71\n",
      "город Москва, поселение Десеновское, деревня Ватутинки, дом 34\n",
      "город Москва, поселение Десеновское, деревня Ватутинки, владение 10\n",
      "город Москва, поселение Десеновское, деревня Ватутинки, владение 15\n",
      "город Москва, поселение Сосенское, улица Сервантеса, дом 3, корпус 2\n",
      "город Москва, поселение Сосенское, бульвар Веласкеса, дом 1, корпус 1\n",
      "поселение \"Мосрентген\", деревня Дудкино, владение 1\n",
      "город Москва, поселение Сосенское, посёлок Коммунарка, улица Липовый Парк, владение 5, корпус 1, строение 1\n",
      "город Москва, поселение Щаповское, улица Евгения Родионова, владение 1\n",
      "город Москва, поселение Десеновское, 1-я Нововатутинская улица, дом 3\n",
      "город Москва, поселение Сосенское, бульвар Веласкеса, дом 5, корпус 3\n",
      "город Москва, поселение Московский, Киевское шоссе, 23-й километр, дом 1, строение 1\n",
      "город Москва, поселение Первомайское, деревня Фоминское, Лесная улица, владение 14\n"
     ]
    }
   ],
   "source": [
    "for col in rest.address.unique():\n",
    "    if \"поселение\" in col:\n",
    "        print(col)"
   ]
  },
  {
   "cell_type": "code",
   "execution_count": 105,
   "metadata": {},
   "outputs": [
    {
     "data": {
      "text/html": [
       "<div>\n",
       "<style scoped>\n",
       "    .dataframe tbody tr th:only-of-type {\n",
       "        vertical-align: middle;\n",
       "    }\n",
       "\n",
       "    .dataframe tbody tr th {\n",
       "        vertical-align: top;\n",
       "    }\n",
       "\n",
       "    .dataframe thead th {\n",
       "        text-align: right;\n",
       "    }\n",
       "</style>\n",
       "<table border=\"1\" class=\"dataframe\">\n",
       "  <thead>\n",
       "    <tr style=\"text-align: right;\">\n",
       "      <th></th>\n",
       "      <th>id</th>\n",
       "      <th>object_name</th>\n",
       "      <th>chain</th>\n",
       "      <th>object_type</th>\n",
       "      <th>address</th>\n",
       "      <th>number</th>\n",
       "      <th>street</th>\n",
       "    </tr>\n",
       "  </thead>\n",
       "  <tbody>\n",
       "    <tr>\n",
       "      <th>0</th>\n",
       "      <td>151635</td>\n",
       "      <td>сметана</td>\n",
       "      <td>нет</td>\n",
       "      <td>кафе</td>\n",
       "      <td>город Москва, улица Егора Абакумова, дом 9</td>\n",
       "      <td>48</td>\n",
       "      <td>улица Егора Абакумова</td>\n",
       "    </tr>\n",
       "    <tr>\n",
       "      <th>1</th>\n",
       "      <td>77874</td>\n",
       "      <td>родник</td>\n",
       "      <td>нет</td>\n",
       "      <td>кафе</td>\n",
       "      <td>город Москва, улица Талалихина, дом 2/1, корпус 1</td>\n",
       "      <td>35</td>\n",
       "      <td>улица Талалихина</td>\n",
       "    </tr>\n",
       "    <tr>\n",
       "      <th>2</th>\n",
       "      <td>24309</td>\n",
       "      <td>кафе «академия»</td>\n",
       "      <td>нет</td>\n",
       "      <td>кафе</td>\n",
       "      <td>город Москва, Абельмановская улица, дом 6</td>\n",
       "      <td>95</td>\n",
       "      <td>Абельмановская улица</td>\n",
       "    </tr>\n",
       "    <tr>\n",
       "      <th>3</th>\n",
       "      <td>21894</td>\n",
       "      <td>пиццетория</td>\n",
       "      <td>да</td>\n",
       "      <td>кафе</td>\n",
       "      <td>город Москва, Абрамцевская улица, дом 1</td>\n",
       "      <td>40</td>\n",
       "      <td>Абрамцевская улица</td>\n",
       "    </tr>\n",
       "    <tr>\n",
       "      <th>4</th>\n",
       "      <td>119365</td>\n",
       "      <td>кафе «вишневая метель»</td>\n",
       "      <td>нет</td>\n",
       "      <td>кафе</td>\n",
       "      <td>город Москва, Абрамцевская улица, дом 9, корпус 1</td>\n",
       "      <td>50</td>\n",
       "      <td>Абрамцевская улица</td>\n",
       "    </tr>\n",
       "    <tr>\n",
       "      <th>...</th>\n",
       "      <td>...</td>\n",
       "      <td>...</td>\n",
       "      <td>...</td>\n",
       "      <td>...</td>\n",
       "      <td>...</td>\n",
       "      <td>...</td>\n",
       "      <td>...</td>\n",
       "    </tr>\n",
       "    <tr>\n",
       "      <th>15361</th>\n",
       "      <td>208537</td>\n",
       "      <td>шоколадница</td>\n",
       "      <td>да</td>\n",
       "      <td>кафе</td>\n",
       "      <td>город Москва, 3-й Крутицкий переулок, дом 18</td>\n",
       "      <td>50</td>\n",
       "      <td>3-й Крутицкий переулок</td>\n",
       "    </tr>\n",
       "    <tr>\n",
       "      <th>15362</th>\n",
       "      <td>209264</td>\n",
       "      <td>шоколадница</td>\n",
       "      <td>да</td>\n",
       "      <td>кафе</td>\n",
       "      <td>город Москва, улица Земляной Вал, дом 33</td>\n",
       "      <td>10</td>\n",
       "      <td>улица Земляной Вал</td>\n",
       "    </tr>\n",
       "    <tr>\n",
       "      <th>15363</th>\n",
       "      <td>209186</td>\n",
       "      <td>шоколадница</td>\n",
       "      <td>да</td>\n",
       "      <td>кафе</td>\n",
       "      <td>город Москва, улица Земляной Вал, дом 33</td>\n",
       "      <td>20</td>\n",
       "      <td>улица Земляной Вал</td>\n",
       "    </tr>\n",
       "    <tr>\n",
       "      <th>15364</th>\n",
       "      <td>221900</td>\n",
       "      <td>шоколадница</td>\n",
       "      <td>да</td>\n",
       "      <td>кафе</td>\n",
       "      <td>город Москва, поселение Московский, Киевское ш...</td>\n",
       "      <td>36</td>\n",
       "      <td>Киевское шоссе</td>\n",
       "    </tr>\n",
       "    <tr>\n",
       "      <th>15365</th>\n",
       "      <td>222535</td>\n",
       "      <td>шоколадница</td>\n",
       "      <td>да</td>\n",
       "      <td>кафе</td>\n",
       "      <td>город Москва, Ходынский бульвар, дом 4</td>\n",
       "      <td>10</td>\n",
       "      <td>Ходынский бульвар</td>\n",
       "    </tr>\n",
       "  </tbody>\n",
       "</table>\n",
       "<p>15366 rows × 7 columns</p>\n",
       "</div>"
      ],
      "text/plain": [
       "           id             object_name chain object_type  \\\n",
       "0      151635                 сметана   нет        кафе   \n",
       "1       77874                  родник   нет        кафе   \n",
       "2       24309         кафе «академия»   нет        кафе   \n",
       "3       21894              пиццетория    да        кафе   \n",
       "4      119365  кафе «вишневая метель»   нет        кафе   \n",
       "...       ...                     ...   ...         ...   \n",
       "15361  208537             шоколадница    да        кафе   \n",
       "15362  209264             шоколадница    да        кафе   \n",
       "15363  209186             шоколадница    да        кафе   \n",
       "15364  221900             шоколадница    да        кафе   \n",
       "15365  222535             шоколадница    да        кафе   \n",
       "\n",
       "                                                 address  number  \\\n",
       "0             город Москва, улица Егора Абакумова, дом 9      48   \n",
       "1      город Москва, улица Талалихина, дом 2/1, корпус 1      35   \n",
       "2              город Москва, Абельмановская улица, дом 6      95   \n",
       "3                город Москва, Абрамцевская улица, дом 1      40   \n",
       "4      город Москва, Абрамцевская улица, дом 9, корпус 1      50   \n",
       "...                                                  ...     ...   \n",
       "15361       город Москва, 3-й Крутицкий переулок, дом 18      50   \n",
       "15362           город Москва, улица Земляной Вал, дом 33      10   \n",
       "15363           город Москва, улица Земляной Вал, дом 33      20   \n",
       "15364  город Москва, поселение Московский, Киевское ш...      36   \n",
       "15365             город Москва, Ходынский бульвар, дом 4      10   \n",
       "\n",
       "                       street  \n",
       "0       улица Егора Абакумова  \n",
       "1            улица Талалихина  \n",
       "2        Абельмановская улица  \n",
       "3          Абрамцевская улица  \n",
       "4          Абрамцевская улица  \n",
       "...                       ...  \n",
       "15361  3-й Крутицкий переулок  \n",
       "15362      улица Земляной Вал  \n",
       "15363      улица Земляной Вал  \n",
       "15364          Киевское шоссе  \n",
       "15365       Ходынский бульвар  \n",
       "\n",
       "[15366 rows x 7 columns]"
      ]
     },
     "execution_count": 105,
     "metadata": {},
     "output_type": "execute_result"
    }
   ],
   "source": [
    "def get_street(col): \n",
    "    a = col.split(',')\n",
    "    if 'поселение' in a[1]:\n",
    "        return a[2].strip()\n",
    "    elif 'город ' not in a[0]: # если адрес сразу начинается с улицы\n",
    "        return a[0].strip()\n",
    "    elif 'город ' in a[1]: # если есть \"подгород\"\n",
    "        return a[2].strip()\n",
    "    else:                   # обычные адреса, где после города сразу идет улица\n",
    "        return a[1].strip()\n",
    "       \n",
    "   \n",
    "rest['street'] = rest['address'].apply(get_street)\n",
    "rest"
   ]
  },
  {
   "cell_type": "markdown",
   "metadata": {},
   "source": [
    "Чтобы определить районы для каждой улицы, в интеренете были найдены соответствующие таблицы:\n"
   ]
  },
  {
   "cell_type": "markdown",
   "metadata": {},
   "source": [
    "https://docs.google.com/spreadsheets/d/1o2m2rqv8oZ83oPzaIUupP2Vvl0GNmOF9PAKC9EreCXw/edit?usp=sharing"
   ]
  },
  {
   "cell_type": "code",
   "execution_count": 106,
   "metadata": {},
   "outputs": [
    {
     "data": {
      "text/html": [
       "<div>\n",
       "<style scoped>\n",
       "    .dataframe tbody tr th:only-of-type {\n",
       "        vertical-align: middle;\n",
       "    }\n",
       "\n",
       "    .dataframe tbody tr th {\n",
       "        vertical-align: top;\n",
       "    }\n",
       "\n",
       "    .dataframe thead th {\n",
       "        text-align: right;\n",
       "    }\n",
       "</style>\n",
       "<table border=\"1\" class=\"dataframe\">\n",
       "  <thead>\n",
       "    <tr style=\"text-align: right;\">\n",
       "      <th></th>\n",
       "      <th>ID</th>\n",
       "      <th>Name</th>\n",
       "      <th>global_id</th>\n",
       "      <th>IsNetObject</th>\n",
       "      <th>OperatingCompany</th>\n",
       "      <th>TypeObject</th>\n",
       "      <th>AdmArea</th>\n",
       "      <th>District</th>\n",
       "      <th>Address</th>\n",
       "      <th>PublicPhone</th>\n",
       "      <th>...</th>\n",
       "      <th>AdmArea_en</th>\n",
       "      <th>District_en</th>\n",
       "      <th>Address_en</th>\n",
       "      <th>PublicPhone_en</th>\n",
       "      <th>SeatsCount_en</th>\n",
       "      <th>SocialPrivileges_en</th>\n",
       "      <th>Longitude_WGS84_en</th>\n",
       "      <th>Latitude_WGS84_en</th>\n",
       "      <th>geodata_center</th>\n",
       "      <th>geoarea</th>\n",
       "    </tr>\n",
       "  </thead>\n",
       "  <tbody>\n",
       "    <tr>\n",
       "      <th>0</th>\n",
       "      <td>Код</td>\n",
       "      <td>Наименование</td>\n",
       "      <td>global_id</td>\n",
       "      <td>Является сетевым</td>\n",
       "      <td>Название управляющей компании</td>\n",
       "      <td>Вид объекта</td>\n",
       "      <td>Административный округ по адресу</td>\n",
       "      <td>Район</td>\n",
       "      <td>Адрес</td>\n",
       "      <td>Контактный телефон</td>\n",
       "      <td>...</td>\n",
       "      <td>AdmArea_en</td>\n",
       "      <td>District_en</td>\n",
       "      <td>Address_en</td>\n",
       "      <td>PublicPhone_en</td>\n",
       "      <td>SeatsCount_en</td>\n",
       "      <td>SocialPrivileges_en</td>\n",
       "      <td>Longitude_WGS84_en</td>\n",
       "      <td>Latitude_WGS84_en</td>\n",
       "      <td>geodata_center</td>\n",
       "      <td>geoarea</td>\n",
       "    </tr>\n",
       "    <tr>\n",
       "      <th>1</th>\n",
       "      <td>00151635</td>\n",
       "      <td>СМЕТАНА</td>\n",
       "      <td>637376221</td>\n",
       "      <td>нет</td>\n",
       "      <td>NaN</td>\n",
       "      <td>кафе</td>\n",
       "      <td>Северо-Восточный административный округ</td>\n",
       "      <td>Ярославский район</td>\n",
       "      <td>город Москва, улица Егора Абакумова, дом 9</td>\n",
       "      <td>PublicPhone:(499) 183-14-10\\n\\n</td>\n",
       "      <td>...</td>\n",
       "      <td>NaN</td>\n",
       "      <td>NaN</td>\n",
       "      <td>NaN</td>\n",
       "      <td>NaN</td>\n",
       "      <td>NaN</td>\n",
       "      <td>NaN</td>\n",
       "      <td>NaN</td>\n",
       "      <td>NaN</td>\n",
       "      <td>NaN</td>\n",
       "      <td>NaN</td>\n",
       "    </tr>\n",
       "    <tr>\n",
       "      <th>2</th>\n",
       "      <td>000077874</td>\n",
       "      <td>Родник</td>\n",
       "      <td>637376331</td>\n",
       "      <td>нет</td>\n",
       "      <td>NaN</td>\n",
       "      <td>кафе</td>\n",
       "      <td>Центральный административный округ</td>\n",
       "      <td>Таганский район</td>\n",
       "      <td>город Москва, улица Талалихина, дом 2/1, корпус 1</td>\n",
       "      <td>PublicPhone:(495) 676-55-35\\n\\n</td>\n",
       "      <td>...</td>\n",
       "      <td>NaN</td>\n",
       "      <td>NaN</td>\n",
       "      <td>NaN</td>\n",
       "      <td>NaN</td>\n",
       "      <td>NaN</td>\n",
       "      <td>NaN</td>\n",
       "      <td>NaN</td>\n",
       "      <td>NaN</td>\n",
       "      <td>NaN</td>\n",
       "      <td>NaN</td>\n",
       "    </tr>\n",
       "    <tr>\n",
       "      <th>3</th>\n",
       "      <td>000024309</td>\n",
       "      <td>Кафе «Академия»</td>\n",
       "      <td>637376349</td>\n",
       "      <td>нет</td>\n",
       "      <td>NaN</td>\n",
       "      <td>ресторан</td>\n",
       "      <td>Центральный административный округ</td>\n",
       "      <td>Таганский район</td>\n",
       "      <td>Российская Федерация, город Москва, внутригоро...</td>\n",
       "      <td>PublicPhone:(495) 662-30-10\\n\\n</td>\n",
       "      <td>...</td>\n",
       "      <td>NaN</td>\n",
       "      <td>NaN</td>\n",
       "      <td>NaN</td>\n",
       "      <td>NaN</td>\n",
       "      <td>NaN</td>\n",
       "      <td>NaN</td>\n",
       "      <td>NaN</td>\n",
       "      <td>NaN</td>\n",
       "      <td>NaN</td>\n",
       "      <td>NaN</td>\n",
       "    </tr>\n",
       "    <tr>\n",
       "      <th>4</th>\n",
       "      <td>000027429</td>\n",
       "      <td>ГБОУ «Школа № 1430 имени Героя Социалистическо...</td>\n",
       "      <td>637376480</td>\n",
       "      <td>нет</td>\n",
       "      <td>NaN</td>\n",
       "      <td>столовая</td>\n",
       "      <td>Северо-Восточный административный округ</td>\n",
       "      <td>район Лианозово</td>\n",
       "      <td>город Москва, Угличская улица, дом 17</td>\n",
       "      <td>PublicPhone:(499) 908-06-15\\n\\n</td>\n",
       "      <td>...</td>\n",
       "      <td>NaN</td>\n",
       "      <td>NaN</td>\n",
       "      <td>NaN</td>\n",
       "      <td>NaN</td>\n",
       "      <td>NaN</td>\n",
       "      <td>NaN</td>\n",
       "      <td>NaN</td>\n",
       "      <td>NaN</td>\n",
       "      <td>NaN</td>\n",
       "      <td>NaN</td>\n",
       "    </tr>\n",
       "    <tr>\n",
       "      <th>...</th>\n",
       "      <td>...</td>\n",
       "      <td>...</td>\n",
       "      <td>...</td>\n",
       "      <td>...</td>\n",
       "      <td>...</td>\n",
       "      <td>...</td>\n",
       "      <td>...</td>\n",
       "      <td>...</td>\n",
       "      <td>...</td>\n",
       "      <td>...</td>\n",
       "      <td>...</td>\n",
       "      <td>...</td>\n",
       "      <td>...</td>\n",
       "      <td>...</td>\n",
       "      <td>...</td>\n",
       "      <td>...</td>\n",
       "      <td>...</td>\n",
       "      <td>...</td>\n",
       "      <td>...</td>\n",
       "      <td>...</td>\n",
       "      <td>...</td>\n",
       "    </tr>\n",
       "    <tr>\n",
       "      <th>18319</th>\n",
       "      <td>00348837</td>\n",
       "      <td>Милти</td>\n",
       "      <td>2366737142</td>\n",
       "      <td>да</td>\n",
       "      <td>Милти</td>\n",
       "      <td>магазин (отдел кулинарии)</td>\n",
       "      <td>Западный административный округ</td>\n",
       "      <td>район Раменки</td>\n",
       "      <td>Российская Федерация, город Москва, внутригоро...</td>\n",
       "      <td>PublicPhone:нет телефона\\n\\n</td>\n",
       "      <td>...</td>\n",
       "      <td>NaN</td>\n",
       "      <td>NaN</td>\n",
       "      <td>NaN</td>\n",
       "      <td>NaN</td>\n",
       "      <td>NaN</td>\n",
       "      <td>NaN</td>\n",
       "      <td>NaN</td>\n",
       "      <td>NaN</td>\n",
       "      <td>NaN</td>\n",
       "      <td>NaN</td>\n",
       "    </tr>\n",
       "    <tr>\n",
       "      <th>18320</th>\n",
       "      <td>00349359</td>\n",
       "      <td>МИЛТИ</td>\n",
       "      <td>2366737143</td>\n",
       "      <td>да</td>\n",
       "      <td>Милти</td>\n",
       "      <td>магазин (отдел кулинарии)</td>\n",
       "      <td>Центральный административный округ</td>\n",
       "      <td>Тверской район</td>\n",
       "      <td>Российская Федерация, город Москва, внутригоро...</td>\n",
       "      <td>PublicPhone:нет телефона\\n\\n</td>\n",
       "      <td>...</td>\n",
       "      <td>NaN</td>\n",
       "      <td>NaN</td>\n",
       "      <td>NaN</td>\n",
       "      <td>NaN</td>\n",
       "      <td>NaN</td>\n",
       "      <td>NaN</td>\n",
       "      <td>NaN</td>\n",
       "      <td>NaN</td>\n",
       "      <td>NaN</td>\n",
       "      <td>NaN</td>\n",
       "    </tr>\n",
       "    <tr>\n",
       "      <th>18321</th>\n",
       "      <td>00349256</td>\n",
       "      <td>Burger Club</td>\n",
       "      <td>2366737161</td>\n",
       "      <td>да</td>\n",
       "      <td>Burger Club</td>\n",
       "      <td>предприятие быстрого обслуживания</td>\n",
       "      <td>Юго-Западный административный округ</td>\n",
       "      <td>район Ясенево</td>\n",
       "      <td>город Москва, Профсоюзная улица, дом 129А</td>\n",
       "      <td>PublicPhone:(495) 987-17-00\\n\\n</td>\n",
       "      <td>...</td>\n",
       "      <td>NaN</td>\n",
       "      <td>NaN</td>\n",
       "      <td>NaN</td>\n",
       "      <td>NaN</td>\n",
       "      <td>NaN</td>\n",
       "      <td>NaN</td>\n",
       "      <td>NaN</td>\n",
       "      <td>NaN</td>\n",
       "      <td>NaN</td>\n",
       "      <td>NaN</td>\n",
       "    </tr>\n",
       "    <tr>\n",
       "      <th>18322</th>\n",
       "      <td>00349234</td>\n",
       "      <td>Милти</td>\n",
       "      <td>2366737162</td>\n",
       "      <td>да</td>\n",
       "      <td>Милти</td>\n",
       "      <td>магазин (отдел кулинарии)</td>\n",
       "      <td>Северный административный округ</td>\n",
       "      <td>Головинский район</td>\n",
       "      <td>город Москва, Ленинградское шоссе, дом 58, стр...</td>\n",
       "      <td>PublicPhone:(495) 215-13-11\\n\\n</td>\n",
       "      <td>...</td>\n",
       "      <td>NaN</td>\n",
       "      <td>NaN</td>\n",
       "      <td>NaN</td>\n",
       "      <td>NaN</td>\n",
       "      <td>NaN</td>\n",
       "      <td>NaN</td>\n",
       "      <td>NaN</td>\n",
       "      <td>NaN</td>\n",
       "      <td>NaN</td>\n",
       "      <td>NaN</td>\n",
       "    </tr>\n",
       "    <tr>\n",
       "      <th>18323</th>\n",
       "      <td>00349207</td>\n",
       "      <td>Шоколадница</td>\n",
       "      <td>2366737168</td>\n",
       "      <td>да</td>\n",
       "      <td>Шоколадница</td>\n",
       "      <td>кафе</td>\n",
       "      <td>Северный административный округ</td>\n",
       "      <td>Савёловский район</td>\n",
       "      <td>город Москва, Бутырская улица, дом 7</td>\n",
       "      <td>PublicPhone:(495) 981-19-63\\n\\n</td>\n",
       "      <td>...</td>\n",
       "      <td>NaN</td>\n",
       "      <td>NaN</td>\n",
       "      <td>NaN</td>\n",
       "      <td>NaN</td>\n",
       "      <td>NaN</td>\n",
       "      <td>NaN</td>\n",
       "      <td>NaN</td>\n",
       "      <td>NaN</td>\n",
       "      <td>NaN</td>\n",
       "      <td>NaN</td>\n",
       "    </tr>\n",
       "  </tbody>\n",
       "</table>\n",
       "<p>18324 rows × 29 columns</p>\n",
       "</div>"
      ],
      "text/plain": [
       "              ID                                               Name  \\\n",
       "0            Код                                       Наименование   \n",
       "1       00151635                                            СМЕТАНА   \n",
       "2      000077874                                             Родник   \n",
       "3      000024309                                    Кафе «Академия»   \n",
       "4      000027429  ГБОУ «Школа № 1430 имени Героя Социалистическо...   \n",
       "...          ...                                                ...   \n",
       "18319   00348837                                              Милти   \n",
       "18320   00349359                                              МИЛТИ   \n",
       "18321   00349256                                        Burger Club   \n",
       "18322   00349234                                              Милти   \n",
       "18323   00349207                                        Шоколадница   \n",
       "\n",
       "        global_id       IsNetObject               OperatingCompany  \\\n",
       "0       global_id  Является сетевым  Название управляющей компании   \n",
       "1       637376221               нет                            NaN   \n",
       "2       637376331               нет                            NaN   \n",
       "3       637376349               нет                            NaN   \n",
       "4       637376480               нет                            NaN   \n",
       "...           ...               ...                            ...   \n",
       "18319  2366737142                да                          Милти   \n",
       "18320  2366737143                да                          Милти   \n",
       "18321  2366737161                да                    Burger Club   \n",
       "18322  2366737162                да                          Милти   \n",
       "18323  2366737168                да                    Шоколадница   \n",
       "\n",
       "                              TypeObject  \\\n",
       "0                            Вид объекта   \n",
       "1                                   кафе   \n",
       "2                                   кафе   \n",
       "3                               ресторан   \n",
       "4                               столовая   \n",
       "...                                  ...   \n",
       "18319          магазин (отдел кулинарии)   \n",
       "18320          магазин (отдел кулинарии)   \n",
       "18321  предприятие быстрого обслуживания   \n",
       "18322          магазин (отдел кулинарии)   \n",
       "18323                               кафе   \n",
       "\n",
       "                                       AdmArea           District  \\\n",
       "0             Административный округ по адресу              Район   \n",
       "1      Северо-Восточный административный округ  Ярославский район   \n",
       "2           Центральный административный округ    Таганский район   \n",
       "3           Центральный административный округ    Таганский район   \n",
       "4      Северо-Восточный административный округ    район Лианозово   \n",
       "...                                        ...                ...   \n",
       "18319          Западный административный округ      район Раменки   \n",
       "18320       Центральный административный округ     Тверской район   \n",
       "18321      Юго-Западный административный округ      район Ясенево   \n",
       "18322          Северный административный округ  Головинский район   \n",
       "18323          Северный административный округ  Савёловский район   \n",
       "\n",
       "                                                 Address  \\\n",
       "0                                                  Адрес   \n",
       "1             город Москва, улица Егора Абакумова, дом 9   \n",
       "2      город Москва, улица Талалихина, дом 2/1, корпус 1   \n",
       "3      Российская Федерация, город Москва, внутригоро...   \n",
       "4                  город Москва, Угличская улица, дом 17   \n",
       "...                                                  ...   \n",
       "18319  Российская Федерация, город Москва, внутригоро...   \n",
       "18320  Российская Федерация, город Москва, внутригоро...   \n",
       "18321          город Москва, Профсоюзная улица, дом 129А   \n",
       "18322  город Москва, Ленинградское шоссе, дом 58, стр...   \n",
       "18323               город Москва, Бутырская улица, дом 7   \n",
       "\n",
       "                           PublicPhone  ...  AdmArea_en  District_en  \\\n",
       "0                   Контактный телефон  ...  AdmArea_en  District_en   \n",
       "1      PublicPhone:(499) 183-14-10\\n\\n  ...         NaN          NaN   \n",
       "2      PublicPhone:(495) 676-55-35\\n\\n  ...         NaN          NaN   \n",
       "3      PublicPhone:(495) 662-30-10\\n\\n  ...         NaN          NaN   \n",
       "4      PublicPhone:(499) 908-06-15\\n\\n  ...         NaN          NaN   \n",
       "...                                ...  ...         ...          ...   \n",
       "18319     PublicPhone:нет телефона\\n\\n  ...         NaN          NaN   \n",
       "18320     PublicPhone:нет телефона\\n\\n  ...         NaN          NaN   \n",
       "18321  PublicPhone:(495) 987-17-00\\n\\n  ...         NaN          NaN   \n",
       "18322  PublicPhone:(495) 215-13-11\\n\\n  ...         NaN          NaN   \n",
       "18323  PublicPhone:(495) 981-19-63\\n\\n  ...         NaN          NaN   \n",
       "\n",
       "       Address_en  PublicPhone_en  SeatsCount_en  SocialPrivileges_en  \\\n",
       "0      Address_en  PublicPhone_en  SeatsCount_en  SocialPrivileges_en   \n",
       "1             NaN             NaN            NaN                  NaN   \n",
       "2             NaN             NaN            NaN                  NaN   \n",
       "3             NaN             NaN            NaN                  NaN   \n",
       "4             NaN             NaN            NaN                  NaN   \n",
       "...           ...             ...            ...                  ...   \n",
       "18319         NaN             NaN            NaN                  NaN   \n",
       "18320         NaN             NaN            NaN                  NaN   \n",
       "18321         NaN             NaN            NaN                  NaN   \n",
       "18322         NaN             NaN            NaN                  NaN   \n",
       "18323         NaN             NaN            NaN                  NaN   \n",
       "\n",
       "       Longitude_WGS84_en  Latitude_WGS84_en  geodata_center  geoarea  \n",
       "0      Longitude_WGS84_en  Latitude_WGS84_en  geodata_center  geoarea  \n",
       "1                     NaN                NaN             NaN      NaN  \n",
       "2                     NaN                NaN             NaN      NaN  \n",
       "3                     NaN                NaN             NaN      NaN  \n",
       "4                     NaN                NaN             NaN      NaN  \n",
       "...                   ...                ...             ...      ...  \n",
       "18319                 NaN                NaN             NaN      NaN  \n",
       "18320                 NaN                NaN             NaN      NaN  \n",
       "18321                 NaN                NaN             NaN      NaN  \n",
       "18322                 NaN                NaN             NaN      NaN  \n",
       "18323                 NaN                NaN             NaN      NaN  \n",
       "\n",
       "[18324 rows x 29 columns]"
      ]
     },
     "execution_count": 106,
     "metadata": {},
     "output_type": "execute_result"
    }
   ],
   "source": [
    "from io import BytesIO\n",
    "import requests\n",
    "spreadsheet_id = '1o2m2rqv8oZ83oPzaIUupP2Vvl0GNmOF9PAKC9EreCXw'\n",
    "file_name = 'https://docs.google.com/spreadsheets/d/{}/export?format=csv'.format(spreadsheet_id)\n",
    "r = requests.get(file_name)\n",
    "district = pd.read_csv(BytesIO(r.content))\n",
    "district"
   ]
  },
  {
   "cell_type": "code",
   "execution_count": 107,
   "metadata": {},
   "outputs": [
    {
     "data": {
      "text/html": [
       "<div>\n",
       "<style scoped>\n",
       "    .dataframe tbody tr th:only-of-type {\n",
       "        vertical-align: middle;\n",
       "    }\n",
       "\n",
       "    .dataframe tbody tr th {\n",
       "        vertical-align: top;\n",
       "    }\n",
       "\n",
       "    .dataframe thead th {\n",
       "        text-align: right;\n",
       "    }\n",
       "</style>\n",
       "<table border=\"1\" class=\"dataframe\">\n",
       "  <thead>\n",
       "    <tr style=\"text-align: right;\">\n",
       "      <th></th>\n",
       "      <th>District</th>\n",
       "      <th>Address</th>\n",
       "    </tr>\n",
       "  </thead>\n",
       "  <tbody>\n",
       "    <tr>\n",
       "      <th>0</th>\n",
       "      <td>Район</td>\n",
       "      <td>Адрес</td>\n",
       "    </tr>\n",
       "    <tr>\n",
       "      <th>1</th>\n",
       "      <td>Ярославский район</td>\n",
       "      <td>город Москва, улица Егора Абакумова, дом 9</td>\n",
       "    </tr>\n",
       "    <tr>\n",
       "      <th>2</th>\n",
       "      <td>Таганский район</td>\n",
       "      <td>город Москва, улица Талалихина, дом 2/1, корпус 1</td>\n",
       "    </tr>\n",
       "    <tr>\n",
       "      <th>3</th>\n",
       "      <td>Таганский район</td>\n",
       "      <td>Российская Федерация, город Москва, внутригоро...</td>\n",
       "    </tr>\n",
       "    <tr>\n",
       "      <th>4</th>\n",
       "      <td>район Лианозово</td>\n",
       "      <td>город Москва, Угличская улица, дом 17</td>\n",
       "    </tr>\n",
       "    <tr>\n",
       "      <th>...</th>\n",
       "      <td>...</td>\n",
       "      <td>...</td>\n",
       "    </tr>\n",
       "    <tr>\n",
       "      <th>18319</th>\n",
       "      <td>район Раменки</td>\n",
       "      <td>Российская Федерация, город Москва, внутригоро...</td>\n",
       "    </tr>\n",
       "    <tr>\n",
       "      <th>18320</th>\n",
       "      <td>Тверской район</td>\n",
       "      <td>Российская Федерация, город Москва, внутригоро...</td>\n",
       "    </tr>\n",
       "    <tr>\n",
       "      <th>18321</th>\n",
       "      <td>район Ясенево</td>\n",
       "      <td>город Москва, Профсоюзная улица, дом 129А</td>\n",
       "    </tr>\n",
       "    <tr>\n",
       "      <th>18322</th>\n",
       "      <td>Головинский район</td>\n",
       "      <td>город Москва, Ленинградское шоссе, дом 58, стр...</td>\n",
       "    </tr>\n",
       "    <tr>\n",
       "      <th>18323</th>\n",
       "      <td>Савёловский район</td>\n",
       "      <td>город Москва, Бутырская улица, дом 7</td>\n",
       "    </tr>\n",
       "  </tbody>\n",
       "</table>\n",
       "<p>18324 rows × 2 columns</p>\n",
       "</div>"
      ],
      "text/plain": [
       "                District                                            Address\n",
       "0                  Район                                              Адрес\n",
       "1      Ярославский район         город Москва, улица Егора Абакумова, дом 9\n",
       "2        Таганский район  город Москва, улица Талалихина, дом 2/1, корпус 1\n",
       "3        Таганский район  Российская Федерация, город Москва, внутригоро...\n",
       "4        район Лианозово              город Москва, Угличская улица, дом 17\n",
       "...                  ...                                                ...\n",
       "18319      район Раменки  Российская Федерация, город Москва, внутригоро...\n",
       "18320     Тверской район  Российская Федерация, город Москва, внутригоро...\n",
       "18321      район Ясенево          город Москва, Профсоюзная улица, дом 129А\n",
       "18322  Головинский район  город Москва, Ленинградское шоссе, дом 58, стр...\n",
       "18323  Савёловский район               город Москва, Бутырская улица, дом 7\n",
       "\n",
       "[18324 rows x 2 columns]"
      ]
     },
     "execution_count": 107,
     "metadata": {},
     "output_type": "execute_result"
    }
   ],
   "source": [
    "district = district[['District','Address']]\n",
    "district"
   ]
  },
  {
   "cell_type": "code",
   "execution_count": 108,
   "metadata": {},
   "outputs": [],
   "source": [
    "district = district.drop_duplicates() "
   ]
  },
  {
   "cell_type": "code",
   "execution_count": 109,
   "metadata": {},
   "outputs": [
    {
     "data": {
      "text/html": [
       "<div>\n",
       "<style scoped>\n",
       "    .dataframe tbody tr th:only-of-type {\n",
       "        vertical-align: middle;\n",
       "    }\n",
       "\n",
       "    .dataframe tbody tr th {\n",
       "        vertical-align: top;\n",
       "    }\n",
       "\n",
       "    .dataframe thead th {\n",
       "        text-align: right;\n",
       "    }\n",
       "</style>\n",
       "<table border=\"1\" class=\"dataframe\">\n",
       "  <thead>\n",
       "    <tr style=\"text-align: right;\">\n",
       "      <th></th>\n",
       "      <th>id</th>\n",
       "      <th>object_name</th>\n",
       "      <th>chain</th>\n",
       "      <th>object_type</th>\n",
       "      <th>address</th>\n",
       "      <th>number</th>\n",
       "      <th>street</th>\n",
       "      <th>District</th>\n",
       "    </tr>\n",
       "  </thead>\n",
       "  <tbody>\n",
       "    <tr>\n",
       "      <th>0</th>\n",
       "      <td>151635</td>\n",
       "      <td>сметана</td>\n",
       "      <td>нет</td>\n",
       "      <td>кафе</td>\n",
       "      <td>город Москва, улица Егора Абакумова, дом 9</td>\n",
       "      <td>48</td>\n",
       "      <td>улица Егора Абакумова</td>\n",
       "      <td>Ярославский район</td>\n",
       "    </tr>\n",
       "    <tr>\n",
       "      <th>1</th>\n",
       "      <td>77874</td>\n",
       "      <td>родник</td>\n",
       "      <td>нет</td>\n",
       "      <td>кафе</td>\n",
       "      <td>город Москва, улица Талалихина, дом 2/1, корпус 1</td>\n",
       "      <td>35</td>\n",
       "      <td>улица Талалихина</td>\n",
       "      <td>Таганский район</td>\n",
       "    </tr>\n",
       "    <tr>\n",
       "      <th>2</th>\n",
       "      <td>24309</td>\n",
       "      <td>кафе «академия»</td>\n",
       "      <td>нет</td>\n",
       "      <td>кафе</td>\n",
       "      <td>город Москва, Абельмановская улица, дом 6</td>\n",
       "      <td>95</td>\n",
       "      <td>Абельмановская улица</td>\n",
       "      <td>NaN</td>\n",
       "    </tr>\n",
       "    <tr>\n",
       "      <th>3</th>\n",
       "      <td>21894</td>\n",
       "      <td>пиццетория</td>\n",
       "      <td>да</td>\n",
       "      <td>кафе</td>\n",
       "      <td>город Москва, Абрамцевская улица, дом 1</td>\n",
       "      <td>40</td>\n",
       "      <td>Абрамцевская улица</td>\n",
       "      <td>район Лианозово</td>\n",
       "    </tr>\n",
       "    <tr>\n",
       "      <th>4</th>\n",
       "      <td>119365</td>\n",
       "      <td>кафе «вишневая метель»</td>\n",
       "      <td>нет</td>\n",
       "      <td>кафе</td>\n",
       "      <td>город Москва, Абрамцевская улица, дом 9, корпус 1</td>\n",
       "      <td>50</td>\n",
       "      <td>Абрамцевская улица</td>\n",
       "      <td>район Лианозово</td>\n",
       "    </tr>\n",
       "    <tr>\n",
       "      <th>...</th>\n",
       "      <td>...</td>\n",
       "      <td>...</td>\n",
       "      <td>...</td>\n",
       "      <td>...</td>\n",
       "      <td>...</td>\n",
       "      <td>...</td>\n",
       "      <td>...</td>\n",
       "      <td>...</td>\n",
       "    </tr>\n",
       "    <tr>\n",
       "      <th>15505</th>\n",
       "      <td>208537</td>\n",
       "      <td>шоколадница</td>\n",
       "      <td>да</td>\n",
       "      <td>кафе</td>\n",
       "      <td>город Москва, 3-й Крутицкий переулок, дом 18</td>\n",
       "      <td>50</td>\n",
       "      <td>3-й Крутицкий переулок</td>\n",
       "      <td>Таганский район</td>\n",
       "    </tr>\n",
       "    <tr>\n",
       "      <th>15506</th>\n",
       "      <td>209264</td>\n",
       "      <td>шоколадница</td>\n",
       "      <td>да</td>\n",
       "      <td>кафе</td>\n",
       "      <td>город Москва, улица Земляной Вал, дом 33</td>\n",
       "      <td>10</td>\n",
       "      <td>улица Земляной Вал</td>\n",
       "      <td>Басманный район</td>\n",
       "    </tr>\n",
       "    <tr>\n",
       "      <th>15507</th>\n",
       "      <td>209186</td>\n",
       "      <td>шоколадница</td>\n",
       "      <td>да</td>\n",
       "      <td>кафе</td>\n",
       "      <td>город Москва, улица Земляной Вал, дом 33</td>\n",
       "      <td>20</td>\n",
       "      <td>улица Земляной Вал</td>\n",
       "      <td>Басманный район</td>\n",
       "    </tr>\n",
       "    <tr>\n",
       "      <th>15508</th>\n",
       "      <td>221900</td>\n",
       "      <td>шоколадница</td>\n",
       "      <td>да</td>\n",
       "      <td>кафе</td>\n",
       "      <td>город Москва, поселение Московский, Киевское ш...</td>\n",
       "      <td>36</td>\n",
       "      <td>Киевское шоссе</td>\n",
       "      <td>поселение Московский</td>\n",
       "    </tr>\n",
       "    <tr>\n",
       "      <th>15509</th>\n",
       "      <td>222535</td>\n",
       "      <td>шоколадница</td>\n",
       "      <td>да</td>\n",
       "      <td>кафе</td>\n",
       "      <td>город Москва, Ходынский бульвар, дом 4</td>\n",
       "      <td>10</td>\n",
       "      <td>Ходынский бульвар</td>\n",
       "      <td>Хорошёвский район</td>\n",
       "    </tr>\n",
       "  </tbody>\n",
       "</table>\n",
       "<p>15510 rows × 8 columns</p>\n",
       "</div>"
      ],
      "text/plain": [
       "           id             object_name chain object_type  \\\n",
       "0      151635                 сметана   нет        кафе   \n",
       "1       77874                  родник   нет        кафе   \n",
       "2       24309         кафе «академия»   нет        кафе   \n",
       "3       21894              пиццетория    да        кафе   \n",
       "4      119365  кафе «вишневая метель»   нет        кафе   \n",
       "...       ...                     ...   ...         ...   \n",
       "15505  208537             шоколадница    да        кафе   \n",
       "15506  209264             шоколадница    да        кафе   \n",
       "15507  209186             шоколадница    да        кафе   \n",
       "15508  221900             шоколадница    да        кафе   \n",
       "15509  222535             шоколадница    да        кафе   \n",
       "\n",
       "                                                 address  number  \\\n",
       "0             город Москва, улица Егора Абакумова, дом 9      48   \n",
       "1      город Москва, улица Талалихина, дом 2/1, корпус 1      35   \n",
       "2              город Москва, Абельмановская улица, дом 6      95   \n",
       "3                город Москва, Абрамцевская улица, дом 1      40   \n",
       "4      город Москва, Абрамцевская улица, дом 9, корпус 1      50   \n",
       "...                                                  ...     ...   \n",
       "15505       город Москва, 3-й Крутицкий переулок, дом 18      50   \n",
       "15506           город Москва, улица Земляной Вал, дом 33      10   \n",
       "15507           город Москва, улица Земляной Вал, дом 33      20   \n",
       "15508  город Москва, поселение Московский, Киевское ш...      36   \n",
       "15509             город Москва, Ходынский бульвар, дом 4      10   \n",
       "\n",
       "                       street              District  \n",
       "0       улица Егора Абакумова     Ярославский район  \n",
       "1            улица Талалихина       Таганский район  \n",
       "2        Абельмановская улица                   NaN  \n",
       "3          Абрамцевская улица       район Лианозово  \n",
       "4          Абрамцевская улица       район Лианозово  \n",
       "...                       ...                   ...  \n",
       "15505  3-й Крутицкий переулок       Таганский район  \n",
       "15506      улица Земляной Вал       Басманный район  \n",
       "15507      улица Земляной Вал       Басманный район  \n",
       "15508          Киевское шоссе  поселение Московский  \n",
       "15509       Ходынский бульвар     Хорошёвский район  \n",
       "\n",
       "[15510 rows x 8 columns]"
      ]
     },
     "execution_count": 109,
     "metadata": {},
     "output_type": "execute_result"
    }
   ],
   "source": [
    "rest_district = rest.merge(district, left_on='address', right_on='Address', how='left').drop(['Address'], axis=1)\n",
    "rest_district = rest_district.drop_duplicates()\n",
    "rest_district"
   ]
  },
  {
   "cell_type": "code",
   "execution_count": 110,
   "metadata": {},
   "outputs": [
    {
     "data": {
      "text/html": [
       "<div>\n",
       "<style scoped>\n",
       "    .dataframe tbody tr th:only-of-type {\n",
       "        vertical-align: middle;\n",
       "    }\n",
       "\n",
       "    .dataframe tbody tr th {\n",
       "        vertical-align: top;\n",
       "    }\n",
       "\n",
       "    .dataframe thead th {\n",
       "        text-align: right;\n",
       "    }\n",
       "</style>\n",
       "<table border=\"1\" class=\"dataframe\">\n",
       "  <thead>\n",
       "    <tr style=\"text-align: right;\">\n",
       "      <th></th>\n",
       "      <th>id</th>\n",
       "      <th>object_name</th>\n",
       "      <th>chain</th>\n",
       "      <th>object_type</th>\n",
       "      <th>address</th>\n",
       "      <th>number</th>\n",
       "      <th>street</th>\n",
       "      <th>District</th>\n",
       "    </tr>\n",
       "  </thead>\n",
       "  <tbody>\n",
       "    <tr>\n",
       "      <th>2</th>\n",
       "      <td>24309</td>\n",
       "      <td>кафе «академия»</td>\n",
       "      <td>нет</td>\n",
       "      <td>кафе</td>\n",
       "      <td>город Москва, Абельмановская улица, дом 6</td>\n",
       "      <td>95</td>\n",
       "      <td>Абельмановская улица</td>\n",
       "      <td>NaN</td>\n",
       "    </tr>\n",
       "    <tr>\n",
       "      <th>5</th>\n",
       "      <td>27429</td>\n",
       "      <td>стол. при гоу сош № 1051</td>\n",
       "      <td>нет</td>\n",
       "      <td>столовая</td>\n",
       "      <td>город Москва, Абрамцевская улица, дом 15, корп...</td>\n",
       "      <td>240</td>\n",
       "      <td>Абрамцевская улица</td>\n",
       "      <td>NaN</td>\n",
       "    </tr>\n",
       "    <tr>\n",
       "      <th>12</th>\n",
       "      <td>28582</td>\n",
       "      <td>школа 735</td>\n",
       "      <td>нет</td>\n",
       "      <td>столовая</td>\n",
       "      <td>город Москва, Авиамоторная улица, дом 51</td>\n",
       "      <td>140</td>\n",
       "      <td>Авиамоторная улица</td>\n",
       "      <td>NaN</td>\n",
       "    </tr>\n",
       "    <tr>\n",
       "      <th>13</th>\n",
       "      <td>22579</td>\n",
       "      <td>алло пицца</td>\n",
       "      <td>да</td>\n",
       "      <td>кафе</td>\n",
       "      <td>город Москва, улица Авиаторов, дом 14</td>\n",
       "      <td>32</td>\n",
       "      <td>улица Авиаторов</td>\n",
       "      <td>NaN</td>\n",
       "    </tr>\n",
       "    <tr>\n",
       "      <th>14</th>\n",
       "      <td>23670</td>\n",
       "      <td>гимназия 1542</td>\n",
       "      <td>нет</td>\n",
       "      <td>столовая</td>\n",
       "      <td>город Москва, улица Авиаторов, дом 16</td>\n",
       "      <td>270</td>\n",
       "      <td>улица Авиаторов</td>\n",
       "      <td>NaN</td>\n",
       "    </tr>\n",
       "  </tbody>\n",
       "</table>\n",
       "</div>"
      ],
      "text/plain": [
       "       id               object_name chain object_type  \\\n",
       "2   24309           кафе «академия»   нет        кафе   \n",
       "5   27429  стол. при гоу сош № 1051   нет    столовая   \n",
       "12  28582                 школа 735   нет    столовая   \n",
       "13  22579                алло пицца    да        кафе   \n",
       "14  23670             гимназия 1542   нет    столовая   \n",
       "\n",
       "                                              address  number  \\\n",
       "2           город Москва, Абельмановская улица, дом 6      95   \n",
       "5   город Москва, Абрамцевская улица, дом 15, корп...     240   \n",
       "12           город Москва, Авиамоторная улица, дом 51     140   \n",
       "13              город Москва, улица Авиаторов, дом 14      32   \n",
       "14              город Москва, улица Авиаторов, дом 16     270   \n",
       "\n",
       "                  street District  \n",
       "2   Абельмановская улица      NaN  \n",
       "5     Абрамцевская улица      NaN  \n",
       "12    Авиамоторная улица      NaN  \n",
       "13       улица Авиаторов      NaN  \n",
       "14       улица Авиаторов      NaN  "
      ]
     },
     "execution_count": 110,
     "metadata": {},
     "output_type": "execute_result"
    }
   ],
   "source": [
    "rest_district[rest_district['District'].isna()].head(5)"
   ]
  },
  {
   "cell_type": "code",
   "execution_count": 111,
   "metadata": {},
   "outputs": [
    {
     "name": "stdout",
     "output_type": "stream",
     "text": [
      "<class 'pandas.core.frame.DataFrame'>\n",
      "Int64Index: 15510 entries, 0 to 15509\n",
      "Data columns (total 8 columns):\n",
      " #   Column       Non-Null Count  Dtype \n",
      "---  ------       --------------  ----- \n",
      " 0   id           15510 non-null  int64 \n",
      " 1   object_name  15510 non-null  object\n",
      " 2   chain        15510 non-null  object\n",
      " 3   object_type  15510 non-null  object\n",
      " 4   address      15510 non-null  object\n",
      " 5   number       15510 non-null  int64 \n",
      " 6   street       15510 non-null  object\n",
      " 7   District     12229 non-null  object\n",
      "dtypes: int64(2), object(6)\n",
      "memory usage: 1.1+ MB\n"
     ]
    }
   ],
   "source": [
    "rest_district.info()"
   ]
  },
  {
   "cell_type": "markdown",
   "metadata": {},
   "source": [
    "Для некоторых значений район не найден, где-то название улиц указано в адресе заведения некорректно и другие. Их можно исключить из анализа. Точность от этого не пострадает, ведь таких строк очень мало."
   ]
  },
  {
   "cell_type": "code",
   "execution_count": 112,
   "metadata": {},
   "outputs": [
    {
     "data": {
      "text/html": [
       "<div>\n",
       "<style scoped>\n",
       "    .dataframe tbody tr th:only-of-type {\n",
       "        vertical-align: middle;\n",
       "    }\n",
       "\n",
       "    .dataframe tbody tr th {\n",
       "        vertical-align: top;\n",
       "    }\n",
       "\n",
       "    .dataframe thead th {\n",
       "        text-align: right;\n",
       "    }\n",
       "</style>\n",
       "<table border=\"1\" class=\"dataframe\">\n",
       "  <thead>\n",
       "    <tr style=\"text-align: right;\">\n",
       "      <th></th>\n",
       "      <th>street</th>\n",
       "      <th>id</th>\n",
       "      <th>District</th>\n",
       "    </tr>\n",
       "  </thead>\n",
       "  <tbody>\n",
       "    <tr>\n",
       "      <th>1329</th>\n",
       "      <td>проспект Мира</td>\n",
       "      <td>175</td>\n",
       "      <td>район Свиблово</td>\n",
       "    </tr>\n",
       "    <tr>\n",
       "      <th>842</th>\n",
       "      <td>Пресненская набережная</td>\n",
       "      <td>167</td>\n",
       "      <td>Пресненский район</td>\n",
       "    </tr>\n",
       "    <tr>\n",
       "      <th>857</th>\n",
       "      <td>Профсоюзная улица</td>\n",
       "      <td>160</td>\n",
       "      <td>район Ясенево</td>\n",
       "    </tr>\n",
       "    <tr>\n",
       "      <th>570</th>\n",
       "      <td>Кутузовский проспект</td>\n",
       "      <td>145</td>\n",
       "      <td>район Фили-Давыдково</td>\n",
       "    </tr>\n",
       "    <tr>\n",
       "      <th>579</th>\n",
       "      <td>Ленинградский проспект</td>\n",
       "      <td>142</td>\n",
       "      <td>район Сокол</td>\n",
       "    </tr>\n",
       "    <tr>\n",
       "      <th>331</th>\n",
       "      <td>Варшавское шоссе</td>\n",
       "      <td>141</td>\n",
       "      <td>район Южное Бутово</td>\n",
       "    </tr>\n",
       "    <tr>\n",
       "      <th>582</th>\n",
       "      <td>Ленинский проспект</td>\n",
       "      <td>118</td>\n",
       "      <td>район Якиманка</td>\n",
       "    </tr>\n",
       "    <tr>\n",
       "      <th>1325</th>\n",
       "      <td>проспект Вернадского</td>\n",
       "      <td>112</td>\n",
       "      <td>район Тропарёво-Никулино</td>\n",
       "    </tr>\n",
       "    <tr>\n",
       "      <th>507</th>\n",
       "      <td>Кировоградская улица</td>\n",
       "      <td>106</td>\n",
       "      <td>район Чертаново Южное</td>\n",
       "    </tr>\n",
       "    <tr>\n",
       "      <th>1094</th>\n",
       "      <td>Ходынский бульвар</td>\n",
       "      <td>99</td>\n",
       "      <td>Хорошёвский район</td>\n",
       "    </tr>\n",
       "  </tbody>\n",
       "</table>\n",
       "</div>"
      ],
      "text/plain": [
       "                      street   id                  District\n",
       "1329           проспект Мира  175            район Свиблово\n",
       "842   Пресненская набережная  167         Пресненский район\n",
       "857        Профсоюзная улица  160             район Ясенево\n",
       "570     Кутузовский проспект  145      район Фили-Давыдково\n",
       "579   Ленинградский проспект  142               район Сокол\n",
       "331         Варшавское шоссе  141        район Южное Бутово\n",
       "582       Ленинский проспект  118            район Якиманка\n",
       "1325    проспект Вернадского  112  район Тропарёво-Никулино\n",
       "507     Кировоградская улица  106     район Чертаново Южное\n",
       "1094       Ходынский бульвар   99         Хорошёвский район"
      ]
     },
     "execution_count": 112,
     "metadata": {},
     "output_type": "execute_result"
    }
   ],
   "source": [
    "# число заведений по улицам\n",
    "rest_district = rest_district.query('District.isna()==False')\n",
    "top_streets = rest_district.groupby('street').agg({'id':'count', 'District':'max'}).reset_index().sort_values(by='id', ascending=False)\n",
    "top_streets.head(10)\n"
   ]
  },
  {
   "cell_type": "code",
   "execution_count": 113,
   "metadata": {},
   "outputs": [
    {
     "data": {
      "text/plain": [
       "['Пресненская набережная',\n",
       " 'Профсоюзная улица',\n",
       " 'Кутузовский проспект',\n",
       " 'Ленинградский проспект',\n",
       " 'Варшавское шоссе',\n",
       " 'Ленинский проспект',\n",
       " 'проспект Вернадского',\n",
       " 'Кировоградская улица',\n",
       " 'Ходынский бульвар']"
      ]
     },
     "execution_count": 113,
     "metadata": {},
     "output_type": "execute_result"
    }
   ],
   "source": [
    "top_streets_10 = list(top_streets.head(10)[1:11].street)\n",
    "top_streets_10"
   ]
  },
  {
   "cell_type": "code",
   "execution_count": 114,
   "metadata": {},
   "outputs": [
    {
     "name": "stdout",
     "output_type": "stream",
     "text": [
      "Топ-10 улиц с наибольшим количеством заведений:\n",
      "                       street  objects_type\n",
      "1329           проспект Мира           175\n",
      "842   Пресненская набережная           167\n",
      "857        Профсоюзная улица           160\n",
      "570     Кутузовский проспект           145\n",
      "579   Ленинградский проспект           142\n",
      "331         Варшавское шоссе           141\n",
      "582       Ленинский проспект           118\n",
      "1325    проспект Вернадского           112\n",
      "507     Кировоградская улица           106\n",
      "1094       Ходынский бульвар            99\n"
     ]
    }
   ],
   "source": [
    "top_streets = rest_district.groupby('street', as_index=False).agg({'object_name':'count'})\n",
    "top_streets.columns = ['street', 'objects_type']\n",
    "top_streets = top_streets.sort_values(by='objects_type', ascending = False)\n",
    "top10_streets = top_streets.head(10)\n",
    "print('Топ-10 улиц с наибольшим количеством заведений:\\n', top10_streets)"
   ]
  },
  {
   "cell_type": "code",
   "execution_count": 115,
   "metadata": {},
   "outputs": [
    {
     "name": "stdout",
     "output_type": "stream",
     "text": [
      "Топ-10 улиц с наибольшим количеством заведений:\n",
      "                       street  objects_type  district\n",
      "1329           проспект Мира           175         5\n",
      "842   Пресненская набережная           167         1\n",
      "857        Профсоюзная улица           160         6\n",
      "570     Кутузовский проспект           145         3\n",
      "579   Ленинградский проспект           142         4\n",
      "331         Варшавское шоссе           141         9\n",
      "582       Ленинский проспект           118         8\n",
      "1325    проспект Вернадского           112         5\n",
      "507     Кировоградская улица           106         3\n",
      "1094       Ходынский бульвар            99         1\n"
     ]
    }
   ],
   "source": [
    "top_streets = rest_district.groupby('street', as_index=False).agg({'object_name':'count','District':'nunique' })\n",
    "top_streets.columns = ['street', 'objects_type', 'district']\n",
    "top_streets = top_streets.sort_values(by='objects_type', ascending = False)\n",
    "top10_streets = top_streets.head(10)\n",
    "print('Топ-10 улиц с наибольшим количеством заведений:\\n', top10_streets)"
   ]
  },
  {
   "cell_type": "markdown",
   "metadata": {},
   "source": [
    "**Улицей с самым большим количеством заведений будет Проспект мира. Он пересекает город, являясь при этом очень оживленной улицей.**"
   ]
  },
  {
   "cell_type": "markdown",
   "metadata": {},
   "source": [
    "Улицы с одним объектом общественного питания"
   ]
  },
  {
   "cell_type": "code",
   "execution_count": 116,
   "metadata": {},
   "outputs": [
    {
     "data": {
      "text/html": [
       "<div>\n",
       "<style scoped>\n",
       "    .dataframe tbody tr th:only-of-type {\n",
       "        vertical-align: middle;\n",
       "    }\n",
       "\n",
       "    .dataframe tbody tr th {\n",
       "        vertical-align: top;\n",
       "    }\n",
       "\n",
       "    .dataframe thead th {\n",
       "        text-align: right;\n",
       "    }\n",
       "</style>\n",
       "<table border=\"1\" class=\"dataframe\">\n",
       "  <thead>\n",
       "    <tr style=\"text-align: right;\">\n",
       "      <th></th>\n",
       "      <th>street</th>\n",
       "      <th>id</th>\n",
       "      <th>District</th>\n",
       "    </tr>\n",
       "  </thead>\n",
       "  <tbody>\n",
       "    <tr>\n",
       "      <th>1482</th>\n",
       "      <td>улица Екатерины Будановой</td>\n",
       "      <td>1</td>\n",
       "      <td>район Кунцево</td>\n",
       "    </tr>\n",
       "    <tr>\n",
       "      <th>1573</th>\n",
       "      <td>улица Маршала Голованова</td>\n",
       "      <td>1</td>\n",
       "      <td>район Марьино</td>\n",
       "    </tr>\n",
       "    <tr>\n",
       "      <th>941</th>\n",
       "      <td>Смоленская-Сенная площадь</td>\n",
       "      <td>1</td>\n",
       "      <td>район Хамовники</td>\n",
       "    </tr>\n",
       "    <tr>\n",
       "      <th>439</th>\n",
       "      <td>Есенинский бульвар</td>\n",
       "      <td>1</td>\n",
       "      <td>район Кузьминки</td>\n",
       "    </tr>\n",
       "    <tr>\n",
       "      <th>938</th>\n",
       "      <td>Смирновская улица</td>\n",
       "      <td>1</td>\n",
       "      <td>Нижегородский район</td>\n",
       "    </tr>\n",
       "    <tr>\n",
       "      <th>...</th>\n",
       "      <td>...</td>\n",
       "      <td>...</td>\n",
       "      <td>...</td>\n",
       "    </tr>\n",
       "    <tr>\n",
       "      <th>304</th>\n",
       "      <td>Большой Трёхсвятительский переулок</td>\n",
       "      <td>1</td>\n",
       "      <td>Басманный район</td>\n",
       "    </tr>\n",
       "    <tr>\n",
       "      <th>1267</th>\n",
       "      <td>корпус 864</td>\n",
       "      <td>1</td>\n",
       "      <td>район Старое Крюково</td>\n",
       "    </tr>\n",
       "    <tr>\n",
       "      <th>1032</th>\n",
       "      <td>Тенистый проезд</td>\n",
       "      <td>1</td>\n",
       "      <td>район Свиблово</td>\n",
       "    </tr>\n",
       "    <tr>\n",
       "      <th>209</th>\n",
       "      <td>Аэрофлотская улица</td>\n",
       "      <td>1</td>\n",
       "      <td>район Внуково</td>\n",
       "    </tr>\n",
       "    <tr>\n",
       "      <th>1633</th>\n",
       "      <td>улица Паперника</td>\n",
       "      <td>1</td>\n",
       "      <td>Рязанский район</td>\n",
       "    </tr>\n",
       "  </tbody>\n",
       "</table>\n",
       "<p>608 rows × 3 columns</p>\n",
       "</div>"
      ],
      "text/plain": [
       "                                  street  id              District\n",
       "1482           улица Екатерины Будановой   1         район Кунцево\n",
       "1573            улица Маршала Голованова   1         район Марьино\n",
       "941            Смоленская-Сенная площадь   1       район Хамовники\n",
       "439                   Есенинский бульвар   1       район Кузьминки\n",
       "938                    Смирновская улица   1   Нижегородский район\n",
       "...                                  ...  ..                   ...\n",
       "304   Большой Трёхсвятительский переулок   1       Басманный район\n",
       "1267                          корпус 864   1  район Старое Крюково\n",
       "1032                     Тенистый проезд   1        район Свиблово\n",
       "209                   Аэрофлотская улица   1         район Внуково\n",
       "1633                     улица Паперника   1       Рязанский район\n",
       "\n",
       "[608 rows x 3 columns]"
      ]
     },
     "execution_count": 116,
     "metadata": {},
     "output_type": "execute_result"
    }
   ],
   "source": [
    "not_top_streets = rest_district.groupby('street').agg({'id':'count', 'District':'max'}).reset_index().sort_values(by='id')\n",
    "not_top_streets = not_top_streets[(not_top_streets['id']==1) & (not_top_streets['District'].isna()==False)]\n",
    "not_top_streets\n"
   ]
  },
  {
   "cell_type": "code",
   "execution_count": 117,
   "metadata": {},
   "outputs": [
    {
     "data": {
      "text/plain": [
       "District\n",
       "район Крюково           29\n",
       "Таганский район         28\n",
       "район Хамовники         24\n",
       "Басманный район         23\n",
       "Пресненский район       21\n",
       "Тверской район          17\n",
       "район Савёлки           17\n",
       "район Сокольники        17\n",
       "район Старое Крюково    14\n",
       "Мещанский район         11\n",
       "Name: id, dtype: int64"
      ]
     },
     "execution_count": 117,
     "metadata": {},
     "output_type": "execute_result"
    }
   ],
   "source": [
    "districts_1_place = not_top_streets.groupby('District')['id'].count().sort_values(ascending=False)\n",
    "districts_1_place.head(10)"
   ]
  },
  {
   "cell_type": "code",
   "execution_count": 118,
   "metadata": {},
   "outputs": [
    {
     "data": {
      "image/png": "[encoded data removed]",
      "text/plain": [
       "<Figure size 720x432 with 1 Axes>"
      ]
     },
     "metadata": {},
     "output_type": "display_data"
    }
   ],
   "source": [
    "plt.figure(figsize=(10,6))\n",
    "plt.xlim(0,400)\n",
    "sns.histplot(rest.query('street in @top_streets_10').number, bins=100)\n",
    "plt.title('Распределение числа мест в заведениях на улицах из топ-10')\n",
    "plt.show()"
   ]
  },
  {
   "cell_type": "code",
   "execution_count": 119,
   "metadata": {},
   "outputs": [
    {
     "data": {
      "text/plain": [
       "59.5471820903293"
      ]
     },
     "execution_count": 119,
     "metadata": {},
     "output_type": "execute_result"
    }
   ],
   "source": [
    "rest.number.mean()"
   ]
  },
  {
   "cell_type": "code",
   "execution_count": 120,
   "metadata": {},
   "outputs": [
    {
     "data": {
      "image/png": "[encoded data removed]",
      "text/plain": [
       "<Figure size 720x432 with 1 Axes>"
      ]
     },
     "metadata": {},
     "output_type": "display_data"
    }
   ],
   "source": [
    "plt.figure(figsize=(10,6))\n",
    "plt.xlim(0,400)\n",
    "sns.histplot(rest.number, bins=100)\n",
    "plt.title('Распределение по числу мест в общем')\n",
    "plt.show()"
   ]
  },
  {
   "cell_type": "code",
   "execution_count": 121,
   "metadata": {},
   "outputs": [
    {
     "data": {
      "application/vnd.plotly.v1+json": {
       "config": {
        "plotlyServerURL": "https://plot.ly"
       },
       "data": [
        {
         "labels": [
          "бар",
          "буфет",
          "закусочная",
          "кафе",
          "кафетерий",
          "магазин (отдел кулинарии)",
          "предприятие быстрого обслуживания",
          "ресторан",
          "столовая"
         ],
         "type": "pie",
         "values": [
          51,
          27,
          13,
          558,
          41,
          16,
          192,
          281,
          115
         ]
        }
       ],
       "layout": {
        "template": {
         "data": {
          "bar": [
           {
            "error_x": {
             "color": "#2a3f5f"
            },
            "error_y": {
             "color": "#2a3f5f"
            },
            "marker": {
             "line": {
              "color": "#E5ECF6",
              "width": 0.5
             },
             "pattern": {
              "fillmode": "overlay",
              "size": 10,
              "solidity": 0.2
             }
            },
            "type": "bar"
           }
          ],
          "barpolar": [
           {
            "marker": {
             "line": {
              "color": "#E5ECF6",
              "width": 0.5
             },
             "pattern": {
              "fillmode": "overlay",
              "size": 10,
              "solidity": 0.2
             }
            },
            "type": "barpolar"
           }
          ],
          "carpet": [
           {
            "aaxis": {
             "endlinecolor": "#2a3f5f",
             "gridcolor": "white",
             "linecolor": "white",
             "minorgridcolor": "white",
             "startlinecolor": "#2a3f5f"
            },
            "baxis": {
             "endlinecolor": "#2a3f5f",
             "gridcolor": "white",
             "linecolor": "white",
             "minorgridcolor": "white",
             "startlinecolor": "#2a3f5f"
            },
            "type": "carpet"
           }
          ],
          "choropleth": [
           {
            "colorbar": {
             "outlinewidth": 0,
             "ticks": ""
            },
            "type": "choropleth"
           }
          ],
          "contour": [
           {
            "colorbar": {
             "outlinewidth": 0,
             "ticks": ""
            },
            "colorscale": [
             [
              0,
              "#0d0887"
             ],
             [
              0.1111111111111111,
              "#46039f"
             ],
             [
              0.2222222222222222,
              "#7201a8"
             ],
             [
              0.3333333333333333,
              "#9c179e"
             ],
             [
              0.4444444444444444,
              "#bd3786"
             ],
             [
              0.5555555555555556,
              "#d8576b"
             ],
             [
              0.6666666666666666,
              "#ed7953"
             ],
             [
              0.7777777777777778,
              "#fb9f3a"
             ],
             [
              0.8888888888888888,
              "#fdca26"
             ],
             [
              1,
              "#f0f921"
             ]
            ],
            "type": "contour"
           }
          ],
          "contourcarpet": [
           {
            "colorbar": {
             "outlinewidth": 0,
             "ticks": ""
            },
            "type": "contourcarpet"
           }
          ],
          "heatmap": [
           {
            "colorbar": {
             "outlinewidth": 0,
             "ticks": ""
            },
            "colorscale": [
             [
              0,
              "#0d0887"
             ],
             [
              0.1111111111111111,
              "#46039f"
             ],
             [
              0.2222222222222222,
              "#7201a8"
             ],
             [
              0.3333333333333333,
              "#9c179e"
             ],
             [
              0.4444444444444444,
              "#bd3786"
             ],
             [
              0.5555555555555556,
              "#d8576b"
             ],
             [
              0.6666666666666666,
              "#ed7953"
             ],
             [
              0.7777777777777778,
              "#fb9f3a"
             ],
             [
              0.8888888888888888,
              "#fdca26"
             ],
             [
              1,
              "#f0f921"
             ]
            ],
            "type": "heatmap"
           }
          ],
          "heatmapgl": [
           {
            "colorbar": {
             "outlinewidth": 0,
             "ticks": ""
            },
            "colorscale": [
             [
              0,
              "#0d0887"
             ],
             [
              0.1111111111111111,
              "#46039f"
             ],
             [
              0.2222222222222222,
              "#7201a8"
             ],
             [
              0.3333333333333333,
              "#9c179e"
             ],
             [
              0.4444444444444444,
              "#bd3786"
             ],
             [
              0.5555555555555556,
              "#d8576b"
             ],
             [
              0.6666666666666666,
              "#ed7953"
             ],
             [
              0.7777777777777778,
              "#fb9f3a"
             ],
             [
              0.8888888888888888,
              "#fdca26"
             ],
             [
              1,
              "#f0f921"
             ]
            ],
            "type": "heatmapgl"
           }
          ],
          "histogram": [
           {
            "marker": {
             "pattern": {
              "fillmode": "overlay",
              "size": 10,
              "solidity": 0.2
             }
            },
            "type": "histogram"
           }
          ],
          "histogram2d": [
           {
            "colorbar": {
             "outlinewidth": 0,
             "ticks": ""
            },
            "colorscale": [
             [
              0,
              "#0d0887"
             ],
             [
              0.1111111111111111,
              "#46039f"
             ],
             [
              0.2222222222222222,
              "#7201a8"
             ],
             [
              0.3333333333333333,
              "#9c179e"
             ],
             [
              0.4444444444444444,
              "#bd3786"
             ],
             [
              0.5555555555555556,
              "#d8576b"
             ],
             [
              0.6666666666666666,
              "#ed7953"
             ],
             [
              0.7777777777777778,
              "#fb9f3a"
             ],
             [
              0.8888888888888888,
              "#fdca26"
             ],
             [
              1,
              "#f0f921"
             ]
            ],
            "type": "histogram2d"
           }
          ],
          "histogram2dcontour": [
           {
            "colorbar": {
             "outlinewidth": 0,
             "ticks": ""
            },
            "colorscale": [
             [
              0,
              "#0d0887"
             ],
             [
              0.1111111111111111,
              "#46039f"
             ],
             [
              0.2222222222222222,
              "#7201a8"
             ],
             [
              0.3333333333333333,
              "#9c179e"
             ],
             [
              0.4444444444444444,
              "#bd3786"
             ],
             [
              0.5555555555555556,
              "#d8576b"
             ],
             [
              0.6666666666666666,
              "#ed7953"
             ],
             [
              0.7777777777777778,
              "#fb9f3a"
             ],
             [
              0.8888888888888888,
              "#fdca26"
             ],
             [
              1,
              "#f0f921"
             ]
            ],
            "type": "histogram2dcontour"
           }
          ],
          "mesh3d": [
           {
            "colorbar": {
             "outlinewidth": 0,
             "ticks": ""
            },
            "type": "mesh3d"
           }
          ],
          "parcoords": [
           {
            "line": {
             "colorbar": {
              "outlinewidth": 0,
              "ticks": ""
             }
            },
            "type": "parcoords"
           }
          ],
          "pie": [
           {
            "automargin": true,
            "type": "pie"
           }
          ],
          "scatter": [
           {
            "marker": {
             "colorbar": {
              "outlinewidth": 0,
              "ticks": ""
             }
            },
            "type": "scatter"
           }
          ],
          "scatter3d": [
           {
            "line": {
             "colorbar": {
              "outlinewidth": 0,
              "ticks": ""
             }
            },
            "marker": {
             "colorbar": {
              "outlinewidth": 0,
              "ticks": ""
             }
            },
            "type": "scatter3d"
           }
          ],
          "scattercarpet": [
           {
            "marker": {
             "colorbar": {
              "outlinewidth": 0,
              "ticks": ""
             }
            },
            "type": "scattercarpet"
           }
          ],
          "scattergeo": [
           {
            "marker": {
             "colorbar": {
              "outlinewidth": 0,
              "ticks": ""
             }
            },
            "type": "scattergeo"
           }
          ],
          "scattergl": [
           {
            "marker": {
             "colorbar": {
              "outlinewidth": 0,
              "ticks": ""
             }
            },
            "type": "scattergl"
           }
          ],
          "scattermapbox": [
           {
            "marker": {
             "colorbar": {
              "outlinewidth": 0,
              "ticks": ""
             }
            },
            "type": "scattermapbox"
           }
          ],
          "scatterpolar": [
           {
            "marker": {
             "colorbar": {
              "outlinewidth": 0,
              "ticks": ""
             }
            },
            "type": "scatterpolar"
           }
          ],
          "scatterpolargl": [
           {
            "marker": {
             "colorbar": {
              "outlinewidth": 0,
              "ticks": ""
             }
            },
            "type": "scatterpolargl"
           }
          ],
          "scatterternary": [
           {
            "marker": {
             "colorbar": {
              "outlinewidth": 0,
              "ticks": ""
             }
            },
            "type": "scatterternary"
           }
          ],
          "surface": [
           {
            "colorbar": {
             "outlinewidth": 0,
             "ticks": ""
            },
            "colorscale": [
             [
              0,
              "#0d0887"
             ],
             [
              0.1111111111111111,
              "#46039f"
             ],
             [
              0.2222222222222222,
              "#7201a8"
             ],
             [
              0.3333333333333333,
              "#9c179e"
             ],
             [
              0.4444444444444444,
              "#bd3786"
             ],
             [
              0.5555555555555556,
              "#d8576b"
             ],
             [
              0.6666666666666666,
              "#ed7953"
             ],
             [
              0.7777777777777778,
              "#fb9f3a"
             ],
             [
              0.8888888888888888,
              "#fdca26"
             ],
             [
              1,
              "#f0f921"
             ]
            ],
            "type": "surface"
           }
          ],
          "table": [
           {
            "cells": {
             "fill": {
              "color": "#EBF0F8"
             },
             "line": {
              "color": "white"
             }
            },
            "header": {
             "fill": {
              "color": "#C8D4E3"
             },
             "line": {
              "color": "white"
             }
            },
            "type": "table"
           }
          ]
         },
         "layout": {
          "annotationdefaults": {
           "arrowcolor": "#2a3f5f",
           "arrowhead": 0,
           "arrowwidth": 1
          },
          "autotypenumbers": "strict",
          "coloraxis": {
           "colorbar": {
            "outlinewidth": 0,
            "ticks": ""
           }
          },
          "colorscale": {
           "diverging": [
            [
             0,
             "#8e0152"
            ],
            [
             0.1,
             "#c51b7d"
            ],
            [
             0.2,
             "#de77ae"
            ],
            [
             0.3,
             "#f1b6da"
            ],
            [
             0.4,
             "#fde0ef"
            ],
            [
             0.5,
             "#f7f7f7"
            ],
            [
             0.6,
             "#e6f5d0"
            ],
            [
             0.7,
             "#b8e186"
            ],
            [
             0.8,
             "#7fbc41"
            ],
            [
             0.9,
             "#4d9221"
            ],
            [
             1,
             "#276419"
            ]
           ],
           "sequential": [
            [
             0,
             "#0d0887"
            ],
            [
             0.1111111111111111,
             "#46039f"
            ],
            [
             0.2222222222222222,
             "#7201a8"
            ],
            [
             0.3333333333333333,
             "#9c179e"
            ],
            [
             0.4444444444444444,
             "#bd3786"
            ],
            [
             0.5555555555555556,
             "#d8576b"
            ],
            [
             0.6666666666666666,
             "#ed7953"
            ],
            [
             0.7777777777777778,
             "#fb9f3a"
            ],
            [
             0.8888888888888888,
             "#fdca26"
            ],
            [
             1,
             "#f0f921"
            ]
           ],
           "sequentialminus": [
            [
             0,
             "#0d0887"
            ],
            [
             0.1111111111111111,
             "#46039f"
            ],
            [
             0.2222222222222222,
             "#7201a8"
            ],
            [
             0.3333333333333333,
             "#9c179e"
            ],
            [
             0.4444444444444444,
             "#bd3786"
            ],
            [
             0.5555555555555556,
             "#d8576b"
            ],
            [
             0.6666666666666666,
             "#ed7953"
            ],
            [
             0.7777777777777778,
             "#fb9f3a"
            ],
            [
             0.8888888888888888,
             "#fdca26"
            ],
            [
             1,
             "#f0f921"
            ]
           ]
          },
          "colorway": [
           "#636efa",
           "#EF553B",
           "#00cc96",
           "#ab63fa",
           "#FFA15A",
           "#19d3f3",
           "#FF6692",
           "#B6E880",
           "#FF97FF",
           "#FECB52"
          ],
          "font": {
           "color": "#2a3f5f"
          },
          "geo": {
           "bgcolor": "white",
           "lakecolor": "white",
           "landcolor": "#E5ECF6",
           "showlakes": true,
           "showland": true,
           "subunitcolor": "white"
          },
          "hoverlabel": {
           "align": "left"
          },
          "hovermode": "closest",
          "mapbox": {
           "style": "light"
          },
          "paper_bgcolor": "white",
          "plot_bgcolor": "#E5ECF6",
          "polar": {
           "angularaxis": {
            "gridcolor": "white",
            "linecolor": "white",
            "ticks": ""
           },
           "bgcolor": "#E5ECF6",
           "radialaxis": {
            "gridcolor": "white",
            "linecolor": "white",
            "ticks": ""
           }
          },
          "scene": {
           "xaxis": {
            "backgroundcolor": "#E5ECF6",
            "gridcolor": "white",
            "gridwidth": 2,
            "linecolor": "white",
            "showbackground": true,
            "ticks": "",
            "zerolinecolor": "white"
           },
           "yaxis": {
            "backgroundcolor": "#E5ECF6",
            "gridcolor": "white",
            "gridwidth": 2,
            "linecolor": "white",
            "showbackground": true,
            "ticks": "",
            "zerolinecolor": "white"
           },
           "zaxis": {
            "backgroundcolor": "#E5ECF6",
            "gridcolor": "white",
            "gridwidth": 2,
            "linecolor": "white",
            "showbackground": true,
            "ticks": "",
            "zerolinecolor": "white"
           }
          },
          "shapedefaults": {
           "line": {
            "color": "#2a3f5f"
           }
          },
          "ternary": {
           "aaxis": {
            "gridcolor": "white",
            "linecolor": "white",
            "ticks": ""
           },
           "baxis": {
            "gridcolor": "white",
            "linecolor": "white",
            "ticks": ""
           },
           "bgcolor": "#E5ECF6",
           "caxis": {
            "gridcolor": "white",
            "linecolor": "white",
            "ticks": ""
           }
          },
          "title": {
           "x": 0.05
          },
          "xaxis": {
           "automargin": true,
           "gridcolor": "white",
           "linecolor": "white",
           "ticks": "",
           "title": {
            "standoff": 15
           },
           "zerolinecolor": "white",
           "zerolinewidth": 2
          },
          "yaxis": {
           "automargin": true,
           "gridcolor": "white",
           "linecolor": "white",
           "ticks": "",
           "title": {
            "standoff": 15
           },
           "zerolinecolor": "white",
           "zerolinewidth": 2
          }
         }
        }
       }
      },
      "text/html": [
       "<div>                            <div id=\"a88ce847-99f9-4af0-8c5a-6ebce109e411\" class=\"plotly-graph-div\" style=\"height:525px; width:100%;\"></div>            <script type=\"text/javascript\">                require([\"plotly\"], function(Plotly) {                    window.PLOTLYENV=window.PLOTLYENV || {};                                    if (document.getElementById(\"a88ce847-99f9-4af0-8c5a-6ebce109e411\")) {                    Plotly.newPlot(                        \"a88ce847-99f9-4af0-8c5a-6ebce109e411\",                        [{\"labels\":[\"\\u0431\\u0430\\u0440\",\"\\u0431\\u0443\\u0444\\u0435\\u0442\",\"\\u0437\\u0430\\u043a\\u0443\\u0441\\u043e\\u0447\\u043d\\u0430\\u044f\",\"\\u043a\\u0430\\u0444\\u0435\",\"\\u043a\\u0430\\u0444\\u0435\\u0442\\u0435\\u0440\\u0438\\u0439\",\"\\u043c\\u0430\\u0433\\u0430\\u0437\\u0438\\u043d (\\u043e\\u0442\\u0434\\u0435\\u043b \\u043a\\u0443\\u043b\\u0438\\u043d\\u0430\\u0440\\u0438\\u0438)\",\"\\u043f\\u0440\\u0435\\u0434\\u043f\\u0440\\u0438\\u044f\\u0442\\u0438\\u0435 \\u0431\\u044b\\u0441\\u0442\\u0440\\u043e\\u0433\\u043e \\u043e\\u0431\\u0441\\u043b\\u0443\\u0436\\u0438\\u0432\\u0430\\u043d\\u0438\\u044f\",\"\\u0440\\u0435\\u0441\\u0442\\u043e\\u0440\\u0430\\u043d\",\"\\u0441\\u0442\\u043e\\u043b\\u043e\\u0432\\u0430\\u044f\"],\"values\":[51,27,13,558,41,16,192,281,115],\"type\":\"pie\"}],                        {\"template\":{\"data\":{\"bar\":[{\"error_x\":{\"color\":\"#2a3f5f\"},\"error_y\":{\"color\":\"#2a3f5f\"},\"marker\":{\"line\":{\"color\":\"#E5ECF6\",\"width\":0.5},\"pattern\":{\"fillmode\":\"overlay\",\"size\":10,\"solidity\":0.2}},\"type\":\"bar\"}],\"barpolar\":[{\"marker\":{\"line\":{\"color\":\"#E5ECF6\",\"width\":0.5},\"pattern\":{\"fillmode\":\"overlay\",\"size\":10,\"solidity\":0.2}},\"type\":\"barpolar\"}],\"carpet\":[{\"aaxis\":{\"endlinecolor\":\"#2a3f5f\",\"gridcolor\":\"white\",\"linecolor\":\"white\",\"minorgridcolor\":\"white\",\"startlinecolor\":\"#2a3f5f\"},\"baxis\":{\"endlinecolor\":\"#2a3f5f\",\"gridcolor\":\"white\",\"linecolor\":\"white\",\"minorgridcolor\":\"white\",\"startlinecolor\":\"#2a3f5f\"},\"type\":\"carpet\"}],\"choropleth\":[{\"colorbar\":{\"outlinewidth\":0,\"ticks\":\"\"},\"type\":\"choropleth\"}],\"contour\":[{\"colorbar\":{\"outlinewidth\":0,\"ticks\":\"\"},\"colorscale\":[[0.0,\"#0d0887\"],[0.1111111111111111,\"#46039f\"],[0.2222222222222222,\"#7201a8\"],[0.3333333333333333,\"#9c179e\"],[0.4444444444444444,\"#bd3786\"],[0.5555555555555556,\"#d8576b\"],[0.6666666666666666,\"#ed7953\"],[0.7777777777777778,\"#fb9f3a\"],[0.8888888888888888,\"#fdca26\"],[1.0,\"#f0f921\"]],\"type\":\"contour\"}],\"contourcarpet\":[{\"colorbar\":{\"outlinewidth\":0,\"ticks\":\"\"},\"type\":\"contourcarpet\"}],\"heatmap\":[{\"colorbar\":{\"outlinewidth\":0,\"ticks\":\"\"},\"colorscale\":[[0.0,\"#0d0887\"],[0.1111111111111111,\"#46039f\"],[0.2222222222222222,\"#7201a8\"],[0.3333333333333333,\"#9c179e\"],[0.4444444444444444,\"#bd3786\"],[0.5555555555555556,\"#d8576b\"],[0.6666666666666666,\"#ed7953\"],[0.7777777777777778,\"#fb9f3a\"],[0.8888888888888888,\"#fdca26\"],[1.0,\"#f0f921\"]],\"type\":\"heatmap\"}],\"heatmapgl\":[{\"colorbar\":{\"outlinewidth\":0,\"ticks\":\"\"},\"colorscale\":[[0.0,\"#0d0887\"],[0.1111111111111111,\"#46039f\"],[0.2222222222222222,\"#7201a8\"],[0.3333333333333333,\"#9c179e\"],[0.4444444444444444,\"#bd3786\"],[0.5555555555555556,\"#d8576b\"],[0.6666666666666666,\"#ed7953\"],[0.7777777777777778,\"#fb9f3a\"],[0.8888888888888888,\"#fdca26\"],[1.0,\"#f0f921\"]],\"type\":\"heatmapgl\"}],\"histogram\":[{\"marker\":{\"pattern\":{\"fillmode\":\"overlay\",\"size\":10,\"solidity\":0.2}},\"type\":\"histogram\"}],\"histogram2d\":[{\"colorbar\":{\"outlinewidth\":0,\"ticks\":\"\"},\"colorscale\":[[0.0,\"#0d0887\"],[0.1111111111111111,\"#46039f\"],[0.2222222222222222,\"#7201a8\"],[0.3333333333333333,\"#9c179e\"],[0.4444444444444444,\"#bd3786\"],[0.5555555555555556,\"#d8576b\"],[0.6666666666666666,\"#ed7953\"],[0.7777777777777778,\"#fb9f3a\"],[0.8888888888888888,\"#fdca26\"],[1.0,\"#f0f921\"]],\"type\":\"histogram2d\"}],\"histogram2dcontour\":[{\"colorbar\":{\"outlinewidth\":0,\"ticks\":\"\"},\"colorscale\":[[0.0,\"#0d0887\"],[0.1111111111111111,\"#46039f\"],[0.2222222222222222,\"#7201a8\"],[0.3333333333333333,\"#9c179e\"],[0.4444444444444444,\"#bd3786\"],[0.5555555555555556,\"#d8576b\"],[0.6666666666666666,\"#ed7953\"],[0.7777777777777778,\"#fb9f3a\"],[0.8888888888888888,\"#fdca26\"],[1.0,\"#f0f921\"]],\"type\":\"histogram2dcontour\"}],\"mesh3d\":[{\"colorbar\":{\"outlinewidth\":0,\"ticks\":\"\"},\"type\":\"mesh3d\"}],\"parcoords\":[{\"line\":{\"colorbar\":{\"outlinewidth\":0,\"ticks\":\"\"}},\"type\":\"parcoords\"}],\"pie\":[{\"automargin\":true,\"type\":\"pie\"}],\"scatter\":[{\"marker\":{\"colorbar\":{\"outlinewidth\":0,\"ticks\":\"\"}},\"type\":\"scatter\"}],\"scatter3d\":[{\"line\":{\"colorbar\":{\"outlinewidth\":0,\"ticks\":\"\"}},\"marker\":{\"colorbar\":{\"outlinewidth\":0,\"ticks\":\"\"}},\"type\":\"scatter3d\"}],\"scattercarpet\":[{\"marker\":{\"colorbar\":{\"outlinewidth\":0,\"ticks\":\"\"}},\"type\":\"scattercarpet\"}],\"scattergeo\":[{\"marker\":{\"colorbar\":{\"outlinewidth\":0,\"ticks\":\"\"}},\"type\":\"scattergeo\"}],\"scattergl\":[{\"marker\":{\"colorbar\":{\"outlinewidth\":0,\"ticks\":\"\"}},\"type\":\"scattergl\"}],\"scattermapbox\":[{\"marker\":{\"colorbar\":{\"outlinewidth\":0,\"ticks\":\"\"}},\"type\":\"scattermapbox\"}],\"scatterpolar\":[{\"marker\":{\"colorbar\":{\"outlinewidth\":0,\"ticks\":\"\"}},\"type\":\"scatterpolar\"}],\"scatterpolargl\":[{\"marker\":{\"colorbar\":{\"outlinewidth\":0,\"ticks\":\"\"}},\"type\":\"scatterpolargl\"}],\"scatterternary\":[{\"marker\":{\"colorbar\":{\"outlinewidth\":0,\"ticks\":\"\"}},\"type\":\"scatterternary\"}],\"surface\":[{\"colorbar\":{\"outlinewidth\":0,\"ticks\":\"\"},\"colorscale\":[[0.0,\"#0d0887\"],[0.1111111111111111,\"#46039f\"],[0.2222222222222222,\"#7201a8\"],[0.3333333333333333,\"#9c179e\"],[0.4444444444444444,\"#bd3786\"],[0.5555555555555556,\"#d8576b\"],[0.6666666666666666,\"#ed7953\"],[0.7777777777777778,\"#fb9f3a\"],[0.8888888888888888,\"#fdca26\"],[1.0,\"#f0f921\"]],\"type\":\"surface\"}],\"table\":[{\"cells\":{\"fill\":{\"color\":\"#EBF0F8\"},\"line\":{\"color\":\"white\"}},\"header\":{\"fill\":{\"color\":\"#C8D4E3\"},\"line\":{\"color\":\"white\"}},\"type\":\"table\"}]},\"layout\":{\"annotationdefaults\":{\"arrowcolor\":\"#2a3f5f\",\"arrowhead\":0,\"arrowwidth\":1},\"autotypenumbers\":\"strict\",\"coloraxis\":{\"colorbar\":{\"outlinewidth\":0,\"ticks\":\"\"}},\"colorscale\":{\"diverging\":[[0,\"#8e0152\"],[0.1,\"#c51b7d\"],[0.2,\"#de77ae\"],[0.3,\"#f1b6da\"],[0.4,\"#fde0ef\"],[0.5,\"#f7f7f7\"],[0.6,\"#e6f5d0\"],[0.7,\"#b8e186\"],[0.8,\"#7fbc41\"],[0.9,\"#4d9221\"],[1,\"#276419\"]],\"sequential\":[[0.0,\"#0d0887\"],[0.1111111111111111,\"#46039f\"],[0.2222222222222222,\"#7201a8\"],[0.3333333333333333,\"#9c179e\"],[0.4444444444444444,\"#bd3786\"],[0.5555555555555556,\"#d8576b\"],[0.6666666666666666,\"#ed7953\"],[0.7777777777777778,\"#fb9f3a\"],[0.8888888888888888,\"#fdca26\"],[1.0,\"#f0f921\"]],\"sequentialminus\":[[0.0,\"#0d0887\"],[0.1111111111111111,\"#46039f\"],[0.2222222222222222,\"#7201a8\"],[0.3333333333333333,\"#9c179e\"],[0.4444444444444444,\"#bd3786\"],[0.5555555555555556,\"#d8576b\"],[0.6666666666666666,\"#ed7953\"],[0.7777777777777778,\"#fb9f3a\"],[0.8888888888888888,\"#fdca26\"],[1.0,\"#f0f921\"]]},\"colorway\":[\"#636efa\",\"#EF553B\",\"#00cc96\",\"#ab63fa\",\"#FFA15A\",\"#19d3f3\",\"#FF6692\",\"#B6E880\",\"#FF97FF\",\"#FECB52\"],\"font\":{\"color\":\"#2a3f5f\"},\"geo\":{\"bgcolor\":\"white\",\"lakecolor\":\"white\",\"landcolor\":\"#E5ECF6\",\"showlakes\":true,\"showland\":true,\"subunitcolor\":\"white\"},\"hoverlabel\":{\"align\":\"left\"},\"hovermode\":\"closest\",\"mapbox\":{\"style\":\"light\"},\"paper_bgcolor\":\"white\",\"plot_bgcolor\":\"#E5ECF6\",\"polar\":{\"angularaxis\":{\"gridcolor\":\"white\",\"linecolor\":\"white\",\"ticks\":\"\"},\"bgcolor\":\"#E5ECF6\",\"radialaxis\":{\"gridcolor\":\"white\",\"linecolor\":\"white\",\"ticks\":\"\"}},\"scene\":{\"xaxis\":{\"backgroundcolor\":\"#E5ECF6\",\"gridcolor\":\"white\",\"gridwidth\":2,\"linecolor\":\"white\",\"showbackground\":true,\"ticks\":\"\",\"zerolinecolor\":\"white\"},\"yaxis\":{\"backgroundcolor\":\"#E5ECF6\",\"gridcolor\":\"white\",\"gridwidth\":2,\"linecolor\":\"white\",\"showbackground\":true,\"ticks\":\"\",\"zerolinecolor\":\"white\"},\"zaxis\":{\"backgroundcolor\":\"#E5ECF6\",\"gridcolor\":\"white\",\"gridwidth\":2,\"linecolor\":\"white\",\"showbackground\":true,\"ticks\":\"\",\"zerolinecolor\":\"white\"}},\"shapedefaults\":{\"line\":{\"color\":\"#2a3f5f\"}},\"ternary\":{\"aaxis\":{\"gridcolor\":\"white\",\"linecolor\":\"white\",\"ticks\":\"\"},\"baxis\":{\"gridcolor\":\"white\",\"linecolor\":\"white\",\"ticks\":\"\"},\"bgcolor\":\"#E5ECF6\",\"caxis\":{\"gridcolor\":\"white\",\"linecolor\":\"white\",\"ticks\":\"\"}},\"title\":{\"x\":0.05},\"xaxis\":{\"automargin\":true,\"gridcolor\":\"white\",\"linecolor\":\"white\",\"ticks\":\"\",\"title\":{\"standoff\":15},\"zerolinecolor\":\"white\",\"zerolinewidth\":2},\"yaxis\":{\"automargin\":true,\"gridcolor\":\"white\",\"linecolor\":\"white\",\"ticks\":\"\",\"title\":{\"standoff\":15},\"zerolinecolor\":\"white\",\"zerolinewidth\":2}}}},                        {\"responsive\": true}                    ).then(function(){\n",
       "                            \n",
       "var gd = document.getElementById('a88ce847-99f9-4af0-8c5a-6ebce109e411');\n",
       "var x = new MutationObserver(function (mutations, observer) {{\n",
       "        var display = window.getComputedStyle(gd).display;\n",
       "        if (!display || display === 'none') {{\n",
       "            console.log([gd, 'removed!']);\n",
       "            Plotly.purge(gd);\n",
       "            observer.disconnect();\n",
       "        }}\n",
       "}});\n",
       "\n",
       "// Listen for the removal of the full notebook cells\n",
       "var notebookContainer = gd.closest('#notebook-container');\n",
       "if (notebookContainer) {{\n",
       "    x.observe(notebookContainer, {childList: true});\n",
       "}}\n",
       "\n",
       "// Listen for the clearing of the current output cell\n",
       "var outputEl = gd.closest('.output');\n",
       "if (outputEl) {{\n",
       "    x.observe(outputEl, {childList: true});\n",
       "}}\n",
       "\n",
       "                        })                };                });            </script>        </div>"
      ]
     },
     "metadata": {},
     "output_type": "display_data"
    }
   ],
   "source": [
    "top10_by_object = rest.query('street in @top_streets_10').groupby('object_type').agg({'id':'count'}).reset_index()\n",
    "top10_by_object.columns = ['object_type','counts']\n",
    "fig = go.Figure(go.Pie(labels=top10_by_object.object_type, values=top10_by_object.counts))\n",
    "fig.show()"
   ]
  },
  {
   "cell_type": "markdown",
   "metadata": {},
   "source": [
    "**Распределение по типам заведения на улицах, где большее кол-во объектов, несильно отличается от общей картины за исключением того, что в топ-10 улицах доля столовых в 2 раза меньше.**"
   ]
  },
  {
   "cell_type": "code",
   "execution_count": 122,
   "metadata": {},
   "outputs": [
    {
     "data": {
      "image/png": "[encoded data removed]",
      "text/plain": [
       "<Figure size 720x432 with 1 Axes>"
      ]
     },
     "metadata": {},
     "output_type": "display_data"
    }
   ],
   "source": [
    "plt.figure(figsize=(10,6))\n",
    "plt.xlim(0,400)\n",
    "sns.histplot(rest_district.query('District in @districts_1_place.head(10).index').number, bins=100)\n",
    "plt.title('Распределение числа мест в заведениях в районах с улицами с 1 заведением')\n",
    "plt.show()"
   ]
  },
  {
   "cell_type": "markdown",
   "metadata": {},
   "source": [
    "Распределение не отличается по виду от предыдущих. Распределение числа мест везде примерно одинаковое."
   ]
  },
  {
   "cell_type": "code",
   "execution_count": 123,
   "metadata": {},
   "outputs": [
    {
     "data": {
      "application/vnd.plotly.v1+json": {
       "config": {
        "plotlyServerURL": "https://plot.ly"
       },
       "data": [
        {
         "labels": [
          "бар",
          "буфет",
          "закусочная",
          "кафе",
          "кафетерий",
          "магазин (отдел кулинарии)",
          "предприятие быстрого обслуживания",
          "ресторан",
          "столовая"
         ],
         "type": "pie",
         "values": [
          259,
          99,
          21,
          1400,
          60,
          23,
          128,
          632,
          275
         ]
        }
       ],
       "layout": {
        "template": {
         "data": {
          "bar": [
           {
            "error_x": {
             "color": "#2a3f5f"
            },
            "error_y": {
             "color": "#2a3f5f"
            },
            "marker": {
             "line": {
              "color": "#E5ECF6",
              "width": 0.5
             },
             "pattern": {
              "fillmode": "overlay",
              "size": 10,
              "solidity": 0.2
             }
            },
            "type": "bar"
           }
          ],
          "barpolar": [
           {
            "marker": {
             "line": {
              "color": "#E5ECF6",
              "width": 0.5
             },
             "pattern": {
              "fillmode": "overlay",
              "size": 10,
              "solidity": 0.2
             }
            },
            "type": "barpolar"
           }
          ],
          "carpet": [
           {
            "aaxis": {
             "endlinecolor": "#2a3f5f",
             "gridcolor": "white",
             "linecolor": "white",
             "minorgridcolor": "white",
             "startlinecolor": "#2a3f5f"
            },
            "baxis": {
             "endlinecolor": "#2a3f5f",
             "gridcolor": "white",
             "linecolor": "white",
             "minorgridcolor": "white",
             "startlinecolor": "#2a3f5f"
            },
            "type": "carpet"
           }
          ],
          "choropleth": [
           {
            "colorbar": {
             "outlinewidth": 0,
             "ticks": ""
            },
            "type": "choropleth"
           }
          ],
          "contour": [
           {
            "colorbar": {
             "outlinewidth": 0,
             "ticks": ""
            },
            "colorscale": [
             [
              0,
              "#0d0887"
             ],
             [
              0.1111111111111111,
              "#46039f"
             ],
             [
              0.2222222222222222,
              "#7201a8"
             ],
             [
              0.3333333333333333,
              "#9c179e"
             ],
             [
              0.4444444444444444,
              "#bd3786"
             ],
             [
              0.5555555555555556,
              "#d8576b"
             ],
             [
              0.6666666666666666,
              "#ed7953"
             ],
             [
              0.7777777777777778,
              "#fb9f3a"
             ],
             [
              0.8888888888888888,
              "#fdca26"
             ],
             [
              1,
              "#f0f921"
             ]
            ],
            "type": "contour"
           }
          ],
          "contourcarpet": [
           {
            "colorbar": {
             "outlinewidth": 0,
             "ticks": ""
            },
            "type": "contourcarpet"
           }
          ],
          "heatmap": [
           {
            "colorbar": {
             "outlinewidth": 0,
             "ticks": ""
            },
            "colorscale": [
             [
              0,
              "#0d0887"
             ],
             [
              0.1111111111111111,
              "#46039f"
             ],
             [
              0.2222222222222222,
              "#7201a8"
             ],
             [
              0.3333333333333333,
              "#9c179e"
             ],
             [
              0.4444444444444444,
              "#bd3786"
             ],
             [
              0.5555555555555556,
              "#d8576b"
             ],
             [
              0.6666666666666666,
              "#ed7953"
             ],
             [
              0.7777777777777778,
              "#fb9f3a"
             ],
             [
              0.8888888888888888,
              "#fdca26"
             ],
             [
              1,
              "#f0f921"
             ]
            ],
            "type": "heatmap"
           }
          ],
          "heatmapgl": [
           {
            "colorbar": {
             "outlinewidth": 0,
             "ticks": ""
            },
            "colorscale": [
             [
              0,
              "#0d0887"
             ],
             [
              0.1111111111111111,
              "#46039f"
             ],
             [
              0.2222222222222222,
              "#7201a8"
             ],
             [
              0.3333333333333333,
              "#9c179e"
             ],
             [
              0.4444444444444444,
              "#bd3786"
             ],
             [
              0.5555555555555556,
              "#d8576b"
             ],
             [
              0.6666666666666666,
              "#ed7953"
             ],
             [
              0.7777777777777778,
              "#fb9f3a"
             ],
             [
              0.8888888888888888,
              "#fdca26"
             ],
             [
              1,
              "#f0f921"
             ]
            ],
            "type": "heatmapgl"
           }
          ],
          "histogram": [
           {
            "marker": {
             "pattern": {
              "fillmode": "overlay",
              "size": 10,
              "solidity": 0.2
             }
            },
            "type": "histogram"
           }
          ],
          "histogram2d": [
           {
            "colorbar": {
             "outlinewidth": 0,
             "ticks": ""
            },
            "colorscale": [
             [
              0,
              "#0d0887"
             ],
             [
              0.1111111111111111,
              "#46039f"
             ],
             [
              0.2222222222222222,
              "#7201a8"
             ],
             [
              0.3333333333333333,
              "#9c179e"
             ],
             [
              0.4444444444444444,
              "#bd3786"
             ],
             [
              0.5555555555555556,
              "#d8576b"
             ],
             [
              0.6666666666666666,
              "#ed7953"
             ],
             [
              0.7777777777777778,
              "#fb9f3a"
             ],
             [
              0.8888888888888888,
              "#fdca26"
             ],
             [
              1,
              "#f0f921"
             ]
            ],
            "type": "histogram2d"
           }
          ],
          "histogram2dcontour": [
           {
            "colorbar": {
             "outlinewidth": 0,
             "ticks": ""
            },
            "colorscale": [
             [
              0,
              "#0d0887"
             ],
             [
              0.1111111111111111,
              "#46039f"
             ],
             [
              0.2222222222222222,
              "#7201a8"
             ],
             [
              0.3333333333333333,
              "#9c179e"
             ],
             [
              0.4444444444444444,
              "#bd3786"
             ],
             [
              0.5555555555555556,
              "#d8576b"
             ],
             [
              0.6666666666666666,
              "#ed7953"
             ],
             [
              0.7777777777777778,
              "#fb9f3a"
             ],
             [
              0.8888888888888888,
              "#fdca26"
             ],
             [
              1,
              "#f0f921"
             ]
            ],
            "type": "histogram2dcontour"
           }
          ],
          "mesh3d": [
           {
            "colorbar": {
             "outlinewidth": 0,
             "ticks": ""
            },
            "type": "mesh3d"
           }
          ],
          "parcoords": [
           {
            "line": {
             "colorbar": {
              "outlinewidth": 0,
              "ticks": ""
             }
            },
            "type": "parcoords"
           }
          ],
          "pie": [
           {
            "automargin": true,
            "type": "pie"
           }
          ],
          "scatter": [
           {
            "marker": {
             "colorbar": {
              "outlinewidth": 0,
              "ticks": ""
             }
            },
            "type": "scatter"
           }
          ],
          "scatter3d": [
           {
            "line": {
             "colorbar": {
              "outlinewidth": 0,
              "ticks": ""
             }
            },
            "marker": {
             "colorbar": {
              "outlinewidth": 0,
              "ticks": ""
             }
            },
            "type": "scatter3d"
           }
          ],
          "scattercarpet": [
           {
            "marker": {
             "colorbar": {
              "outlinewidth": 0,
              "ticks": ""
             }
            },
            "type": "scattercarpet"
           }
          ],
          "scattergeo": [
           {
            "marker": {
             "colorbar": {
              "outlinewidth": 0,
              "ticks": ""
             }
            },
            "type": "scattergeo"
           }
          ],
          "scattergl": [
           {
            "marker": {
             "colorbar": {
              "outlinewidth": 0,
              "ticks": ""
             }
            },
            "type": "scattergl"
           }
          ],
          "scattermapbox": [
           {
            "marker": {
             "colorbar": {
              "outlinewidth": 0,
              "ticks": ""
             }
            },
            "type": "scattermapbox"
           }
          ],
          "scatterpolar": [
           {
            "marker": {
             "colorbar": {
              "outlinewidth": 0,
              "ticks": ""
             }
            },
            "type": "scatterpolar"
           }
          ],
          "scatterpolargl": [
           {
            "marker": {
             "colorbar": {
              "outlinewidth": 0,
              "ticks": ""
             }
            },
            "type": "scatterpolargl"
           }
          ],
          "scatterternary": [
           {
            "marker": {
             "colorbar": {
              "outlinewidth": 0,
              "ticks": ""
             }
            },
            "type": "scatterternary"
           }
          ],
          "surface": [
           {
            "colorbar": {
             "outlinewidth": 0,
             "ticks": ""
            },
            "colorscale": [
             [
              0,
              "#0d0887"
             ],
             [
              0.1111111111111111,
              "#46039f"
             ],
             [
              0.2222222222222222,
              "#7201a8"
             ],
             [
              0.3333333333333333,
              "#9c179e"
             ],
             [
              0.4444444444444444,
              "#bd3786"
             ],
             [
              0.5555555555555556,
              "#d8576b"
             ],
             [
              0.6666666666666666,
              "#ed7953"
             ],
             [
              0.7777777777777778,
              "#fb9f3a"
             ],
             [
              0.8888888888888888,
              "#fdca26"
             ],
             [
              1,
              "#f0f921"
             ]
            ],
            "type": "surface"
           }
          ],
          "table": [
           {
            "cells": {
             "fill": {
              "color": "#EBF0F8"
             },
             "line": {
              "color": "white"
             }
            },
            "header": {
             "fill": {
              "color": "#C8D4E3"
             },
             "line": {
              "color": "white"
             }
            },
            "type": "table"
           }
          ]
         },
         "layout": {
          "annotationdefaults": {
           "arrowcolor": "#2a3f5f",
           "arrowhead": 0,
           "arrowwidth": 1
          },
          "autotypenumbers": "strict",
          "coloraxis": {
           "colorbar": {
            "outlinewidth": 0,
            "ticks": ""
           }
          },
          "colorscale": {
           "diverging": [
            [
             0,
             "#8e0152"
            ],
            [
             0.1,
             "#c51b7d"
            ],
            [
             0.2,
             "#de77ae"
            ],
            [
             0.3,
             "#f1b6da"
            ],
            [
             0.4,
             "#fde0ef"
            ],
            [
             0.5,
             "#f7f7f7"
            ],
            [
             0.6,
             "#e6f5d0"
            ],
            [
             0.7,
             "#b8e186"
            ],
            [
             0.8,
             "#7fbc41"
            ],
            [
             0.9,
             "#4d9221"
            ],
            [
             1,
             "#276419"
            ]
           ],
           "sequential": [
            [
             0,
             "#0d0887"
            ],
            [
             0.1111111111111111,
             "#46039f"
            ],
            [
             0.2222222222222222,
             "#7201a8"
            ],
            [
             0.3333333333333333,
             "#9c179e"
            ],
            [
             0.4444444444444444,
             "#bd3786"
            ],
            [
             0.5555555555555556,
             "#d8576b"
            ],
            [
             0.6666666666666666,
             "#ed7953"
            ],
            [
             0.7777777777777778,
             "#fb9f3a"
            ],
            [
             0.8888888888888888,
             "#fdca26"
            ],
            [
             1,
             "#f0f921"
            ]
           ],
           "sequentialminus": [
            [
             0,
             "#0d0887"
            ],
            [
             0.1111111111111111,
             "#46039f"
            ],
            [
             0.2222222222222222,
             "#7201a8"
            ],
            [
             0.3333333333333333,
             "#9c179e"
            ],
            [
             0.4444444444444444,
             "#bd3786"
            ],
            [
             0.5555555555555556,
             "#d8576b"
            ],
            [
             0.6666666666666666,
             "#ed7953"
            ],
            [
             0.7777777777777778,
             "#fb9f3a"
            ],
            [
             0.8888888888888888,
             "#fdca26"
            ],
            [
             1,
             "#f0f921"
            ]
           ]
          },
          "colorway": [
           "#636efa",
           "#EF553B",
           "#00cc96",
           "#ab63fa",
           "#FFA15A",
           "#19d3f3",
           "#FF6692",
           "#B6E880",
           "#FF97FF",
           "#FECB52"
          ],
          "font": {
           "color": "#2a3f5f"
          },
          "geo": {
           "bgcolor": "white",
           "lakecolor": "white",
           "landcolor": "#E5ECF6",
           "showlakes": true,
           "showland": true,
           "subunitcolor": "white"
          },
          "hoverlabel": {
           "align": "left"
          },
          "hovermode": "closest",
          "mapbox": {
           "style": "light"
          },
          "paper_bgcolor": "white",
          "plot_bgcolor": "#E5ECF6",
          "polar": {
           "angularaxis": {
            "gridcolor": "white",
            "linecolor": "white",
            "ticks": ""
           },
           "bgcolor": "#E5ECF6",
           "radialaxis": {
            "gridcolor": "white",
            "linecolor": "white",
            "ticks": ""
           }
          },
          "scene": {
           "xaxis": {
            "backgroundcolor": "#E5ECF6",
            "gridcolor": "white",
            "gridwidth": 2,
            "linecolor": "white",
            "showbackground": true,
            "ticks": "",
            "zerolinecolor": "white"
           },
           "yaxis": {
            "backgroundcolor": "#E5ECF6",
            "gridcolor": "white",
            "gridwidth": 2,
            "linecolor": "white",
            "showbackground": true,
            "ticks": "",
            "zerolinecolor": "white"
           },
           "zaxis": {
            "backgroundcolor": "#E5ECF6",
            "gridcolor": "white",
            "gridwidth": 2,
            "linecolor": "white",
            "showbackground": true,
            "ticks": "",
            "zerolinecolor": "white"
           }
          },
          "shapedefaults": {
           "line": {
            "color": "#2a3f5f"
           }
          },
          "ternary": {
           "aaxis": {
            "gridcolor": "white",
            "linecolor": "white",
            "ticks": ""
           },
           "baxis": {
            "gridcolor": "white",
            "linecolor": "white",
            "ticks": ""
           },
           "bgcolor": "#E5ECF6",
           "caxis": {
            "gridcolor": "white",
            "linecolor": "white",
            "ticks": ""
           }
          },
          "title": {
           "x": 0.05
          },
          "xaxis": {
           "automargin": true,
           "gridcolor": "white",
           "linecolor": "white",
           "ticks": "",
           "title": {
            "standoff": 15
           },
           "zerolinecolor": "white",
           "zerolinewidth": 2
          },
          "yaxis": {
           "automargin": true,
           "gridcolor": "white",
           "linecolor": "white",
           "ticks": "",
           "title": {
            "standoff": 15
           },
           "zerolinecolor": "white",
           "zerolinewidth": 2
          }
         }
        }
       }
      },
      "text/html": [
       "<div>                            <div id=\"408f5e26-6c7a-44f2-b584-5d95b6f9304f\" class=\"plotly-graph-div\" style=\"height:525px; width:100%;\"></div>            <script type=\"text/javascript\">                require([\"plotly\"], function(Plotly) {                    window.PLOTLYENV=window.PLOTLYENV || {};                                    if (document.getElementById(\"408f5e26-6c7a-44f2-b584-5d95b6f9304f\")) {                    Plotly.newPlot(                        \"408f5e26-6c7a-44f2-b584-5d95b6f9304f\",                        [{\"labels\":[\"\\u0431\\u0430\\u0440\",\"\\u0431\\u0443\\u0444\\u0435\\u0442\",\"\\u0437\\u0430\\u043a\\u0443\\u0441\\u043e\\u0447\\u043d\\u0430\\u044f\",\"\\u043a\\u0430\\u0444\\u0435\",\"\\u043a\\u0430\\u0444\\u0435\\u0442\\u0435\\u0440\\u0438\\u0439\",\"\\u043c\\u0430\\u0433\\u0430\\u0437\\u0438\\u043d (\\u043e\\u0442\\u0434\\u0435\\u043b \\u043a\\u0443\\u043b\\u0438\\u043d\\u0430\\u0440\\u0438\\u0438)\",\"\\u043f\\u0440\\u0435\\u0434\\u043f\\u0440\\u0438\\u044f\\u0442\\u0438\\u0435 \\u0431\\u044b\\u0441\\u0442\\u0440\\u043e\\u0433\\u043e \\u043e\\u0431\\u0441\\u043b\\u0443\\u0436\\u0438\\u0432\\u0430\\u043d\\u0438\\u044f\",\"\\u0440\\u0435\\u0441\\u0442\\u043e\\u0440\\u0430\\u043d\",\"\\u0441\\u0442\\u043e\\u043b\\u043e\\u0432\\u0430\\u044f\"],\"values\":[259,99,21,1400,60,23,128,632,275],\"type\":\"pie\"}],                        {\"template\":{\"data\":{\"bar\":[{\"error_x\":{\"color\":\"#2a3f5f\"},\"error_y\":{\"color\":\"#2a3f5f\"},\"marker\":{\"line\":{\"color\":\"#E5ECF6\",\"width\":0.5},\"pattern\":{\"fillmode\":\"overlay\",\"size\":10,\"solidity\":0.2}},\"type\":\"bar\"}],\"barpolar\":[{\"marker\":{\"line\":{\"color\":\"#E5ECF6\",\"width\":0.5},\"pattern\":{\"fillmode\":\"overlay\",\"size\":10,\"solidity\":0.2}},\"type\":\"barpolar\"}],\"carpet\":[{\"aaxis\":{\"endlinecolor\":\"#2a3f5f\",\"gridcolor\":\"white\",\"linecolor\":\"white\",\"minorgridcolor\":\"white\",\"startlinecolor\":\"#2a3f5f\"},\"baxis\":{\"endlinecolor\":\"#2a3f5f\",\"gridcolor\":\"white\",\"linecolor\":\"white\",\"minorgridcolor\":\"white\",\"startlinecolor\":\"#2a3f5f\"},\"type\":\"carpet\"}],\"choropleth\":[{\"colorbar\":{\"outlinewidth\":0,\"ticks\":\"\"},\"type\":\"choropleth\"}],\"contour\":[{\"colorbar\":{\"outlinewidth\":0,\"ticks\":\"\"},\"colorscale\":[[0.0,\"#0d0887\"],[0.1111111111111111,\"#46039f\"],[0.2222222222222222,\"#7201a8\"],[0.3333333333333333,\"#9c179e\"],[0.4444444444444444,\"#bd3786\"],[0.5555555555555556,\"#d8576b\"],[0.6666666666666666,\"#ed7953\"],[0.7777777777777778,\"#fb9f3a\"],[0.8888888888888888,\"#fdca26\"],[1.0,\"#f0f921\"]],\"type\":\"contour\"}],\"contourcarpet\":[{\"colorbar\":{\"outlinewidth\":0,\"ticks\":\"\"},\"type\":\"contourcarpet\"}],\"heatmap\":[{\"colorbar\":{\"outlinewidth\":0,\"ticks\":\"\"},\"colorscale\":[[0.0,\"#0d0887\"],[0.1111111111111111,\"#46039f\"],[0.2222222222222222,\"#7201a8\"],[0.3333333333333333,\"#9c179e\"],[0.4444444444444444,\"#bd3786\"],[0.5555555555555556,\"#d8576b\"],[0.6666666666666666,\"#ed7953\"],[0.7777777777777778,\"#fb9f3a\"],[0.8888888888888888,\"#fdca26\"],[1.0,\"#f0f921\"]],\"type\":\"heatmap\"}],\"heatmapgl\":[{\"colorbar\":{\"outlinewidth\":0,\"ticks\":\"\"},\"colorscale\":[[0.0,\"#0d0887\"],[0.1111111111111111,\"#46039f\"],[0.2222222222222222,\"#7201a8\"],[0.3333333333333333,\"#9c179e\"],[0.4444444444444444,\"#bd3786\"],[0.5555555555555556,\"#d8576b\"],[0.6666666666666666,\"#ed7953\"],[0.7777777777777778,\"#fb9f3a\"],[0.8888888888888888,\"#fdca26\"],[1.0,\"#f0f921\"]],\"type\":\"heatmapgl\"}],\"histogram\":[{\"marker\":{\"pattern\":{\"fillmode\":\"overlay\",\"size\":10,\"solidity\":0.2}},\"type\":\"histogram\"}],\"histogram2d\":[{\"colorbar\":{\"outlinewidth\":0,\"ticks\":\"\"},\"colorscale\":[[0.0,\"#0d0887\"],[0.1111111111111111,\"#46039f\"],[0.2222222222222222,\"#7201a8\"],[0.3333333333333333,\"#9c179e\"],[0.4444444444444444,\"#bd3786\"],[0.5555555555555556,\"#d8576b\"],[0.6666666666666666,\"#ed7953\"],[0.7777777777777778,\"#fb9f3a\"],[0.8888888888888888,\"#fdca26\"],[1.0,\"#f0f921\"]],\"type\":\"histogram2d\"}],\"histogram2dcontour\":[{\"colorbar\":{\"outlinewidth\":0,\"ticks\":\"\"},\"colorscale\":[[0.0,\"#0d0887\"],[0.1111111111111111,\"#46039f\"],[0.2222222222222222,\"#7201a8\"],[0.3333333333333333,\"#9c179e\"],[0.4444444444444444,\"#bd3786\"],[0.5555555555555556,\"#d8576b\"],[0.6666666666666666,\"#ed7953\"],[0.7777777777777778,\"#fb9f3a\"],[0.8888888888888888,\"#fdca26\"],[1.0,\"#f0f921\"]],\"type\":\"histogram2dcontour\"}],\"mesh3d\":[{\"colorbar\":{\"outlinewidth\":0,\"ticks\":\"\"},\"type\":\"mesh3d\"}],\"parcoords\":[{\"line\":{\"colorbar\":{\"outlinewidth\":0,\"ticks\":\"\"}},\"type\":\"parcoords\"}],\"pie\":[{\"automargin\":true,\"type\":\"pie\"}],\"scatter\":[{\"marker\":{\"colorbar\":{\"outlinewidth\":0,\"ticks\":\"\"}},\"type\":\"scatter\"}],\"scatter3d\":[{\"line\":{\"colorbar\":{\"outlinewidth\":0,\"ticks\":\"\"}},\"marker\":{\"colorbar\":{\"outlinewidth\":0,\"ticks\":\"\"}},\"type\":\"scatter3d\"}],\"scattercarpet\":[{\"marker\":{\"colorbar\":{\"outlinewidth\":0,\"ticks\":\"\"}},\"type\":\"scattercarpet\"}],\"scattergeo\":[{\"marker\":{\"colorbar\":{\"outlinewidth\":0,\"ticks\":\"\"}},\"type\":\"scattergeo\"}],\"scattergl\":[{\"marker\":{\"colorbar\":{\"outlinewidth\":0,\"ticks\":\"\"}},\"type\":\"scattergl\"}],\"scattermapbox\":[{\"marker\":{\"colorbar\":{\"outlinewidth\":0,\"ticks\":\"\"}},\"type\":\"scattermapbox\"}],\"scatterpolar\":[{\"marker\":{\"colorbar\":{\"outlinewidth\":0,\"ticks\":\"\"}},\"type\":\"scatterpolar\"}],\"scatterpolargl\":[{\"marker\":{\"colorbar\":{\"outlinewidth\":0,\"ticks\":\"\"}},\"type\":\"scatterpolargl\"}],\"scatterternary\":[{\"marker\":{\"colorbar\":{\"outlinewidth\":0,\"ticks\":\"\"}},\"type\":\"scatterternary\"}],\"surface\":[{\"colorbar\":{\"outlinewidth\":0,\"ticks\":\"\"},\"colorscale\":[[0.0,\"#0d0887\"],[0.1111111111111111,\"#46039f\"],[0.2222222222222222,\"#7201a8\"],[0.3333333333333333,\"#9c179e\"],[0.4444444444444444,\"#bd3786\"],[0.5555555555555556,\"#d8576b\"],[0.6666666666666666,\"#ed7953\"],[0.7777777777777778,\"#fb9f3a\"],[0.8888888888888888,\"#fdca26\"],[1.0,\"#f0f921\"]],\"type\":\"surface\"}],\"table\":[{\"cells\":{\"fill\":{\"color\":\"#EBF0F8\"},\"line\":{\"color\":\"white\"}},\"header\":{\"fill\":{\"color\":\"#C8D4E3\"},\"line\":{\"color\":\"white\"}},\"type\":\"table\"}]},\"layout\":{\"annotationdefaults\":{\"arrowcolor\":\"#2a3f5f\",\"arrowhead\":0,\"arrowwidth\":1},\"autotypenumbers\":\"strict\",\"coloraxis\":{\"colorbar\":{\"outlinewidth\":0,\"ticks\":\"\"}},\"colorscale\":{\"diverging\":[[0,\"#8e0152\"],[0.1,\"#c51b7d\"],[0.2,\"#de77ae\"],[0.3,\"#f1b6da\"],[0.4,\"#fde0ef\"],[0.5,\"#f7f7f7\"],[0.6,\"#e6f5d0\"],[0.7,\"#b8e186\"],[0.8,\"#7fbc41\"],[0.9,\"#4d9221\"],[1,\"#276419\"]],\"sequential\":[[0.0,\"#0d0887\"],[0.1111111111111111,\"#46039f\"],[0.2222222222222222,\"#7201a8\"],[0.3333333333333333,\"#9c179e\"],[0.4444444444444444,\"#bd3786\"],[0.5555555555555556,\"#d8576b\"],[0.6666666666666666,\"#ed7953\"],[0.7777777777777778,\"#fb9f3a\"],[0.8888888888888888,\"#fdca26\"],[1.0,\"#f0f921\"]],\"sequentialminus\":[[0.0,\"#0d0887\"],[0.1111111111111111,\"#46039f\"],[0.2222222222222222,\"#7201a8\"],[0.3333333333333333,\"#9c179e\"],[0.4444444444444444,\"#bd3786\"],[0.5555555555555556,\"#d8576b\"],[0.6666666666666666,\"#ed7953\"],[0.7777777777777778,\"#fb9f3a\"],[0.8888888888888888,\"#fdca26\"],[1.0,\"#f0f921\"]]},\"colorway\":[\"#636efa\",\"#EF553B\",\"#00cc96\",\"#ab63fa\",\"#FFA15A\",\"#19d3f3\",\"#FF6692\",\"#B6E880\",\"#FF97FF\",\"#FECB52\"],\"font\":{\"color\":\"#2a3f5f\"},\"geo\":{\"bgcolor\":\"white\",\"lakecolor\":\"white\",\"landcolor\":\"#E5ECF6\",\"showlakes\":true,\"showland\":true,\"subunitcolor\":\"white\"},\"hoverlabel\":{\"align\":\"left\"},\"hovermode\":\"closest\",\"mapbox\":{\"style\":\"light\"},\"paper_bgcolor\":\"white\",\"plot_bgcolor\":\"#E5ECF6\",\"polar\":{\"angularaxis\":{\"gridcolor\":\"white\",\"linecolor\":\"white\",\"ticks\":\"\"},\"bgcolor\":\"#E5ECF6\",\"radialaxis\":{\"gridcolor\":\"white\",\"linecolor\":\"white\",\"ticks\":\"\"}},\"scene\":{\"xaxis\":{\"backgroundcolor\":\"#E5ECF6\",\"gridcolor\":\"white\",\"gridwidth\":2,\"linecolor\":\"white\",\"showbackground\":true,\"ticks\":\"\",\"zerolinecolor\":\"white\"},\"yaxis\":{\"backgroundcolor\":\"#E5ECF6\",\"gridcolor\":\"white\",\"gridwidth\":2,\"linecolor\":\"white\",\"showbackground\":true,\"ticks\":\"\",\"zerolinecolor\":\"white\"},\"zaxis\":{\"backgroundcolor\":\"#E5ECF6\",\"gridcolor\":\"white\",\"gridwidth\":2,\"linecolor\":\"white\",\"showbackground\":true,\"ticks\":\"\",\"zerolinecolor\":\"white\"}},\"shapedefaults\":{\"line\":{\"color\":\"#2a3f5f\"}},\"ternary\":{\"aaxis\":{\"gridcolor\":\"white\",\"linecolor\":\"white\",\"ticks\":\"\"},\"baxis\":{\"gridcolor\":\"white\",\"linecolor\":\"white\",\"ticks\":\"\"},\"bgcolor\":\"#E5ECF6\",\"caxis\":{\"gridcolor\":\"white\",\"linecolor\":\"white\",\"ticks\":\"\"}},\"title\":{\"x\":0.05},\"xaxis\":{\"automargin\":true,\"gridcolor\":\"white\",\"linecolor\":\"white\",\"ticks\":\"\",\"title\":{\"standoff\":15},\"zerolinecolor\":\"white\",\"zerolinewidth\":2},\"yaxis\":{\"automargin\":true,\"gridcolor\":\"white\",\"linecolor\":\"white\",\"ticks\":\"\",\"title\":{\"standoff\":15},\"zerolinecolor\":\"white\",\"zerolinewidth\":2}}}},                        {\"responsive\": true}                    ).then(function(){\n",
       "                            \n",
       "var gd = document.getElementById('408f5e26-6c7a-44f2-b584-5d95b6f9304f');\n",
       "var x = new MutationObserver(function (mutations, observer) {{\n",
       "        var display = window.getComputedStyle(gd).display;\n",
       "        if (!display || display === 'none') {{\n",
       "            console.log([gd, 'removed!']);\n",
       "            Plotly.purge(gd);\n",
       "            observer.disconnect();\n",
       "        }}\n",
       "}});\n",
       "\n",
       "// Listen for the removal of the full notebook cells\n",
       "var notebookContainer = gd.closest('#notebook-container');\n",
       "if (notebookContainer) {{\n",
       "    x.observe(notebookContainer, {childList: true});\n",
       "}}\n",
       "\n",
       "// Listen for the clearing of the current output cell\n",
       "var outputEl = gd.closest('.output');\n",
       "if (outputEl) {{\n",
       "    x.observe(outputEl, {childList: true});\n",
       "}}\n",
       "\n",
       "                        })                };                });            </script>        </div>"
      ]
     },
     "metadata": {},
     "output_type": "display_data"
    }
   ],
   "source": [
    "distr_1_place_by_object = rest_district.query('District in @districts_1_place.head(10).index').groupby('object_type').agg({'id':'count'}).reset_index()\n",
    "distr_1_place_by_object.columns = ['object_type','counts']\n",
    "fig = go.Figure(go.Pie(labels=distr_1_place_by_object.object_type, values=distr_1_place_by_object.counts))\n",
    "fig.show()"
   ]
  },
  {
   "cell_type": "markdown",
   "metadata": {},
   "source": [
    "Районы, где наибольшее кол-во улиц с одним заведением на 10% меньше предприятий быстрого обслуживания, на 5% больше кафе, на 4% больше баров."
   ]
  },
  {
   "cell_type": "markdown",
   "metadata": {},
   "source": [
    "**Мы выяснили, что наибольшее количество типов объектов общественного притания составляют кафе, дальше столовые столовые и рестораны.**\n",
    "\n",
    "**При этом сетевых заведений лишь 20% от общего количества, остальные - несетевые.\n",
    "Обычно для сетевых заведений характерно - мало заведений с большим количеством посадочных мест. В 90% сетей не больше 125 посадочных мест.**"
   ]
  },
  {
   "cell_type": "markdown",
   "metadata": {},
   "source": [
    "Возможно, имеет смысл открывать заведение с количеством мест меньше среднего (30) в одном из районов, где больше всего улиц с одним заведением. Эти районы (район Крюково, Таганский район, район Хамовники ) находятся в пределах центра, поэтому такое местоположение должно быть достаточно доступным и удобным для большого числа людей. Так как в таких районах в среднем меньше предприятий быстрого обслуживания и отделов кулинарии, то, возможно, нужно сконцентироваться на подобной концепции заведения. Тем более, что в таких районах кафе и рестораны достаточно дорогие. Если такая концепция будет прибыльной, то можно масштабироваться в сеть. \n",
    " Так же отметим такие здания для размещения заведений - высотки, исторические здания, топовые отели и гостиницы. Нужно подумать об иностранных туристах, которые обычно посещают центр Москвы, они захотят посетить кафе, в котором обслуживание из роботов."
   ]
  },
  {
   "cell_type": "markdown",
   "metadata": {},
   "source": [
    "## Презентация."
   ]
  },
  {
   "cell_type": "markdown",
   "metadata": {},
   "source": [
    "https://disk.yandex.ru/i/7bdBp_Dah2jivQ"
   ]
  }
 ],
 "metadata": {
  "ExecuteTimeLog": [
   {
    "duration": 87,
    "start_time": "2022-05-22T19:47:53.532Z"
   },
   {
    "duration": 578,
    "start_time": "2022-05-22T19:48:11.580Z"
   },
   {
    "duration": 64,
    "start_time": "2022-05-22T19:48:12.161Z"
   },
   {
    "duration": 0,
    "start_time": "2022-05-22T19:48:12.226Z"
   },
   {
    "duration": 2,
    "start_time": "2022-05-22T19:49:44.143Z"
   },
   {
    "duration": 46,
    "start_time": "2022-05-22T19:49:44.148Z"
   },
   {
    "duration": 0,
    "start_time": "2022-05-22T19:49:44.196Z"
   },
   {
    "duration": 286,
    "start_time": "2022-05-22T19:52:40.879Z"
   },
   {
    "duration": 2,
    "start_time": "2022-05-22T19:52:44.655Z"
   },
   {
    "duration": 66,
    "start_time": "2022-05-22T19:52:44.659Z"
   },
   {
    "duration": 19,
    "start_time": "2022-05-22T19:52:44.727Z"
   },
   {
    "duration": 1399,
    "start_time": "2022-05-23T08:01:29.906Z"
   },
   {
    "duration": 245,
    "start_time": "2022-05-23T08:01:31.307Z"
   },
   {
    "duration": 17,
    "start_time": "2022-05-23T08:01:31.554Z"
   },
   {
    "duration": 122,
    "start_time": "2022-05-23T08:02:25.241Z"
   },
   {
    "duration": 3,
    "start_time": "2022-05-23T08:02:29.270Z"
   },
   {
    "duration": 67,
    "start_time": "2022-05-23T08:02:29.276Z"
   },
   {
    "duration": 11,
    "start_time": "2022-05-23T08:02:29.345Z"
   },
   {
    "duration": 16,
    "start_time": "2022-05-23T08:02:29.357Z"
   },
   {
    "duration": 46,
    "start_time": "2022-05-23T08:17:41.803Z"
   },
   {
    "duration": 0,
    "start_time": "2022-05-23T08:17:41.851Z"
   },
   {
    "duration": 66,
    "start_time": "2022-05-23T08:17:41.984Z"
   },
   {
    "duration": 12,
    "start_time": "2022-05-23T08:17:42.052Z"
   },
   {
    "duration": 13,
    "start_time": "2022-05-23T08:17:42.065Z"
   },
   {
    "duration": 2,
    "start_time": "2022-05-23T08:38:14.471Z"
   },
   {
    "duration": 71,
    "start_time": "2022-05-23T08:38:14.477Z"
   },
   {
    "duration": 12,
    "start_time": "2022-05-23T08:38:14.550Z"
   },
   {
    "duration": 14,
    "start_time": "2022-05-23T08:38:14.564Z"
   },
   {
    "duration": 18,
    "start_time": "2022-05-23T08:38:14.580Z"
   },
   {
    "duration": 2,
    "start_time": "2022-05-23T08:40:46.592Z"
   },
   {
    "duration": 85,
    "start_time": "2022-05-23T08:40:46.598Z"
   },
   {
    "duration": 14,
    "start_time": "2022-05-23T08:40:46.685Z"
   },
   {
    "duration": 36,
    "start_time": "2022-05-23T08:40:46.700Z"
   },
   {
    "duration": 34,
    "start_time": "2022-05-23T08:40:46.739Z"
   },
   {
    "duration": 3,
    "start_time": "2022-05-23T08:43:02.541Z"
   },
   {
    "duration": 85,
    "start_time": "2022-05-23T08:43:02.549Z"
   },
   {
    "duration": 13,
    "start_time": "2022-05-23T08:43:02.635Z"
   },
   {
    "duration": 32,
    "start_time": "2022-05-23T08:43:02.649Z"
   },
   {
    "duration": 33,
    "start_time": "2022-05-23T08:43:02.683Z"
   },
   {
    "duration": 18,
    "start_time": "2022-05-23T08:43:02.717Z"
   },
   {
    "duration": 3,
    "start_time": "2022-05-23T08:44:31.834Z"
   },
   {
    "duration": 99,
    "start_time": "2022-05-23T08:44:31.839Z"
   },
   {
    "duration": 14,
    "start_time": "2022-05-23T08:44:31.940Z"
   },
   {
    "duration": 22,
    "start_time": "2022-05-23T08:44:31.955Z"
   },
   {
    "duration": 20,
    "start_time": "2022-05-23T08:44:31.978Z"
   },
   {
    "duration": 5,
    "start_time": "2022-05-23T08:44:31.999Z"
   },
   {
    "duration": 3,
    "start_time": "2022-05-23T08:59:03.462Z"
   },
   {
    "duration": 69,
    "start_time": "2022-05-23T08:59:03.467Z"
   },
   {
    "duration": 13,
    "start_time": "2022-05-23T08:59:03.537Z"
   },
   {
    "duration": 12,
    "start_time": "2022-05-23T08:59:03.553Z"
   },
   {
    "duration": 23,
    "start_time": "2022-05-23T08:59:03.567Z"
   },
   {
    "duration": 5,
    "start_time": "2022-05-23T08:59:03.592Z"
   },
   {
    "duration": 387,
    "start_time": "2022-05-23T08:59:03.598Z"
   },
   {
    "duration": 3,
    "start_time": "2022-05-23T09:00:52.592Z"
   },
   {
    "duration": 118,
    "start_time": "2022-05-23T09:00:52.598Z"
   },
   {
    "duration": 12,
    "start_time": "2022-05-23T09:00:52.718Z"
   },
   {
    "duration": 38,
    "start_time": "2022-05-23T09:00:52.732Z"
   },
   {
    "duration": 33,
    "start_time": "2022-05-23T09:00:52.773Z"
   },
   {
    "duration": 11,
    "start_time": "2022-05-23T09:00:52.808Z"
   },
   {
    "duration": 26,
    "start_time": "2022-05-23T09:00:52.821Z"
   },
   {
    "duration": 3,
    "start_time": "2022-05-23T09:02:47.853Z"
   },
   {
    "duration": 86,
    "start_time": "2022-05-23T09:02:47.861Z"
   },
   {
    "duration": 22,
    "start_time": "2022-05-23T09:02:47.950Z"
   },
   {
    "duration": 37,
    "start_time": "2022-05-23T09:02:47.974Z"
   },
   {
    "duration": 30,
    "start_time": "2022-05-23T09:02:48.013Z"
   },
   {
    "duration": 5,
    "start_time": "2022-05-23T09:02:48.046Z"
   },
   {
    "duration": 32,
    "start_time": "2022-05-23T09:02:48.053Z"
   },
   {
    "duration": 242,
    "start_time": "2022-05-23T09:02:48.087Z"
   },
   {
    "duration": 3,
    "start_time": "2022-05-23T09:06:35.103Z"
   },
   {
    "duration": 95,
    "start_time": "2022-05-23T09:06:35.107Z"
   },
   {
    "duration": 13,
    "start_time": "2022-05-23T09:06:35.204Z"
   },
   {
    "duration": 33,
    "start_time": "2022-05-23T09:06:35.219Z"
   },
   {
    "duration": 47,
    "start_time": "2022-05-23T09:06:35.254Z"
   },
   {
    "duration": 16,
    "start_time": "2022-05-23T09:06:35.303Z"
   },
   {
    "duration": 37,
    "start_time": "2022-05-23T09:06:35.321Z"
   },
   {
    "duration": 22,
    "start_time": "2022-05-23T09:06:35.359Z"
   },
   {
    "duration": 139,
    "start_time": "2022-05-23T09:06:35.383Z"
   },
   {
    "duration": 3,
    "start_time": "2022-05-23T09:07:20.450Z"
   },
   {
    "duration": 83,
    "start_time": "2022-05-23T09:07:20.456Z"
   },
   {
    "duration": 13,
    "start_time": "2022-05-23T09:07:20.540Z"
   },
   {
    "duration": 18,
    "start_time": "2022-05-23T09:07:20.554Z"
   },
   {
    "duration": 49,
    "start_time": "2022-05-23T09:07:20.573Z"
   },
   {
    "duration": 5,
    "start_time": "2022-05-23T09:07:20.624Z"
   },
   {
    "duration": 27,
    "start_time": "2022-05-23T09:07:20.630Z"
   },
   {
    "duration": 12,
    "start_time": "2022-05-23T09:07:20.659Z"
   },
   {
    "duration": 138,
    "start_time": "2022-05-23T09:07:20.672Z"
   },
   {
    "duration": 3,
    "start_time": "2022-05-23T09:10:35.628Z"
   },
   {
    "duration": 103,
    "start_time": "2022-05-23T09:10:35.633Z"
   },
   {
    "duration": 14,
    "start_time": "2022-05-23T09:10:35.739Z"
   },
   {
    "duration": 37,
    "start_time": "2022-05-23T09:10:35.755Z"
   },
   {
    "duration": 22,
    "start_time": "2022-05-23T09:10:35.794Z"
   },
   {
    "duration": 5,
    "start_time": "2022-05-23T09:10:35.817Z"
   },
   {
    "duration": 33,
    "start_time": "2022-05-23T09:10:35.823Z"
   },
   {
    "duration": 12,
    "start_time": "2022-05-23T09:10:35.858Z"
   },
   {
    "duration": 129,
    "start_time": "2022-05-23T09:10:35.871Z"
   },
   {
    "duration": 14,
    "start_time": "2022-05-23T09:10:36.002Z"
   },
   {
    "duration": 21,
    "start_time": "2022-05-23T09:10:36.018Z"
   },
   {
    "duration": 3,
    "start_time": "2022-05-23T09:19:10.147Z"
   },
   {
    "duration": 90,
    "start_time": "2022-05-23T09:19:10.155Z"
   },
   {
    "duration": 13,
    "start_time": "2022-05-23T09:19:10.247Z"
   },
   {
    "duration": 26,
    "start_time": "2022-05-23T09:19:10.261Z"
   },
   {
    "duration": 23,
    "start_time": "2022-05-23T09:19:10.289Z"
   },
   {
    "duration": 4,
    "start_time": "2022-05-23T09:19:10.314Z"
   },
   {
    "duration": 16,
    "start_time": "2022-05-23T09:19:10.320Z"
   },
   {
    "duration": 10,
    "start_time": "2022-05-23T09:19:10.338Z"
   },
   {
    "duration": 172,
    "start_time": "2022-05-23T09:19:10.350Z"
   },
   {
    "duration": 13,
    "start_time": "2022-05-23T09:19:10.524Z"
   },
   {
    "duration": 13,
    "start_time": "2022-05-23T09:19:10.540Z"
   },
   {
    "duration": 728,
    "start_time": "2022-05-23T09:19:10.554Z"
   },
   {
    "duration": 4,
    "start_time": "2022-05-23T09:27:45.576Z"
   },
   {
    "duration": 86,
    "start_time": "2022-05-23T09:27:45.593Z"
   },
   {
    "duration": 13,
    "start_time": "2022-05-23T09:27:45.681Z"
   },
   {
    "duration": 16,
    "start_time": "2022-05-23T09:27:45.696Z"
   },
   {
    "duration": 27,
    "start_time": "2022-05-23T09:27:45.714Z"
   },
   {
    "duration": 7,
    "start_time": "2022-05-23T09:27:45.744Z"
   },
   {
    "duration": 42,
    "start_time": "2022-05-23T09:27:45.752Z"
   },
   {
    "duration": 10,
    "start_time": "2022-05-23T09:27:45.796Z"
   },
   {
    "duration": 248,
    "start_time": "2022-05-23T09:27:45.808Z"
   },
   {
    "duration": 15,
    "start_time": "2022-05-23T09:27:46.057Z"
   },
   {
    "duration": 19,
    "start_time": "2022-05-23T09:27:46.073Z"
   },
   {
    "duration": 53,
    "start_time": "2022-05-23T09:27:46.093Z"
   },
   {
    "duration": 80,
    "start_time": "2022-05-23T09:27:46.147Z"
   },
   {
    "duration": 11,
    "start_time": "2022-05-23T09:27:46.228Z"
   },
   {
    "duration": 4,
    "start_time": "2022-05-23T09:29:15.513Z"
   },
   {
    "duration": 89,
    "start_time": "2022-05-23T09:29:15.518Z"
   },
   {
    "duration": 12,
    "start_time": "2022-05-23T09:29:15.609Z"
   },
   {
    "duration": 26,
    "start_time": "2022-05-23T09:29:15.623Z"
   },
   {
    "duration": 31,
    "start_time": "2022-05-23T09:29:15.651Z"
   },
   {
    "duration": 6,
    "start_time": "2022-05-23T09:29:15.684Z"
   },
   {
    "duration": 38,
    "start_time": "2022-05-23T09:29:15.692Z"
   },
   {
    "duration": 21,
    "start_time": "2022-05-23T09:29:15.732Z"
   },
   {
    "duration": 120,
    "start_time": "2022-05-23T09:29:15.754Z"
   },
   {
    "duration": 18,
    "start_time": "2022-05-23T09:29:15.875Z"
   },
   {
    "duration": 11,
    "start_time": "2022-05-23T09:29:15.895Z"
   },
   {
    "duration": 50,
    "start_time": "2022-05-23T09:29:15.908Z"
   },
   {
    "duration": 77,
    "start_time": "2022-05-23T09:29:15.960Z"
   },
   {
    "duration": 10,
    "start_time": "2022-05-23T09:29:16.039Z"
   },
   {
    "duration": 3,
    "start_time": "2022-05-23T09:30:21.124Z"
   },
   {
    "duration": 67,
    "start_time": "2022-05-23T09:30:21.133Z"
   },
   {
    "duration": 13,
    "start_time": "2022-05-23T09:30:21.202Z"
   },
   {
    "duration": 23,
    "start_time": "2022-05-23T09:30:21.216Z"
   },
   {
    "duration": 20,
    "start_time": "2022-05-23T09:30:21.241Z"
   },
   {
    "duration": 24,
    "start_time": "2022-05-23T09:30:21.262Z"
   },
   {
    "duration": 23,
    "start_time": "2022-05-23T09:30:21.288Z"
   },
   {
    "duration": 9,
    "start_time": "2022-05-23T09:30:21.313Z"
   },
   {
    "duration": 134,
    "start_time": "2022-05-23T09:30:21.323Z"
   },
   {
    "duration": 24,
    "start_time": "2022-05-23T09:30:21.459Z"
   },
   {
    "duration": 13,
    "start_time": "2022-05-23T09:30:21.486Z"
   },
   {
    "duration": 50,
    "start_time": "2022-05-23T09:30:21.501Z"
   },
   {
    "duration": 72,
    "start_time": "2022-05-23T09:30:21.552Z"
   },
   {
    "duration": 10,
    "start_time": "2022-05-23T09:30:21.626Z"
   },
   {
    "duration": 4,
    "start_time": "2022-05-23T09:31:57.998Z"
   },
   {
    "duration": 93,
    "start_time": "2022-05-23T09:31:58.005Z"
   },
   {
    "duration": 18,
    "start_time": "2022-05-23T09:31:58.101Z"
   },
   {
    "duration": 16,
    "start_time": "2022-05-23T09:31:58.121Z"
   },
   {
    "duration": 45,
    "start_time": "2022-05-23T09:31:58.140Z"
   },
   {
    "duration": 5,
    "start_time": "2022-05-23T09:31:58.186Z"
   },
   {
    "duration": 19,
    "start_time": "2022-05-23T09:31:58.193Z"
   },
   {
    "duration": 12,
    "start_time": "2022-05-23T09:31:58.214Z"
   },
   {
    "duration": 136,
    "start_time": "2022-05-23T09:31:58.228Z"
   },
   {
    "duration": 21,
    "start_time": "2022-05-23T09:31:58.366Z"
   },
   {
    "duration": 11,
    "start_time": "2022-05-23T09:31:58.389Z"
   },
   {
    "duration": 52,
    "start_time": "2022-05-23T09:31:58.401Z"
   },
   {
    "duration": 71,
    "start_time": "2022-05-23T09:31:58.454Z"
   },
   {
    "duration": 10,
    "start_time": "2022-05-23T09:31:58.527Z"
   },
   {
    "duration": 64,
    "start_time": "2022-05-23T09:31:58.538Z"
   },
   {
    "duration": 2,
    "start_time": "2022-05-23T09:32:16.397Z"
   },
   {
    "duration": 72,
    "start_time": "2022-05-23T09:32:16.401Z"
   },
   {
    "duration": 12,
    "start_time": "2022-05-23T09:32:16.474Z"
   },
   {
    "duration": 15,
    "start_time": "2022-05-23T09:32:16.488Z"
   },
   {
    "duration": 17,
    "start_time": "2022-05-23T09:32:16.505Z"
   },
   {
    "duration": 5,
    "start_time": "2022-05-23T09:32:16.523Z"
   },
   {
    "duration": 17,
    "start_time": "2022-05-23T09:32:16.529Z"
   },
   {
    "duration": 9,
    "start_time": "2022-05-23T09:32:16.547Z"
   },
   {
    "duration": 124,
    "start_time": "2022-05-23T09:32:16.585Z"
   },
   {
    "duration": 13,
    "start_time": "2022-05-23T09:32:16.711Z"
   },
   {
    "duration": 12,
    "start_time": "2022-05-23T09:32:16.725Z"
   },
   {
    "duration": 73,
    "start_time": "2022-05-23T09:32:16.739Z"
   },
   {
    "duration": 56,
    "start_time": "2022-05-23T09:32:16.814Z"
   },
   {
    "duration": 13,
    "start_time": "2022-05-23T09:32:16.884Z"
   },
   {
    "duration": 56,
    "start_time": "2022-05-23T09:32:16.899Z"
   },
   {
    "duration": 40,
    "start_time": "2022-05-23T09:32:16.957Z"
   },
   {
    "duration": 1507,
    "start_time": "2022-05-24T07:24:39.721Z"
   },
   {
    "duration": 124,
    "start_time": "2022-05-24T07:24:41.230Z"
   },
   {
    "duration": 18,
    "start_time": "2022-05-24T07:24:41.356Z"
   },
   {
    "duration": 13,
    "start_time": "2022-05-24T07:24:41.376Z"
   },
   {
    "duration": 21,
    "start_time": "2022-05-24T07:24:41.391Z"
   },
   {
    "duration": 5,
    "start_time": "2022-05-24T07:24:41.413Z"
   },
   {
    "duration": 35,
    "start_time": "2022-05-24T07:24:41.420Z"
   },
   {
    "duration": 208,
    "start_time": "2022-05-24T07:24:41.457Z"
   },
   {
    "duration": 221,
    "start_time": "2022-05-24T07:24:41.667Z"
   },
   {
    "duration": 13,
    "start_time": "2022-05-24T07:24:41.891Z"
   },
   {
    "duration": 12,
    "start_time": "2022-05-24T07:24:41.906Z"
   },
   {
    "duration": 559,
    "start_time": "2022-05-24T07:24:41.919Z"
   },
   {
    "duration": 58,
    "start_time": "2022-05-24T07:24:42.480Z"
   },
   {
    "duration": 11,
    "start_time": "2022-05-24T07:24:42.541Z"
   },
   {
    "duration": 57,
    "start_time": "2022-05-24T07:24:42.554Z"
   },
   {
    "duration": 29,
    "start_time": "2022-05-24T07:25:01.600Z"
   },
   {
    "duration": 33,
    "start_time": "2022-05-24T07:27:34.046Z"
   },
   {
    "duration": 34,
    "start_time": "2022-05-24T07:30:26.232Z"
   },
   {
    "duration": 3,
    "start_time": "2022-05-24T07:42:38.855Z"
   },
   {
    "duration": 84,
    "start_time": "2022-05-24T07:42:38.863Z"
   },
   {
    "duration": 16,
    "start_time": "2022-05-24T07:42:38.950Z"
   },
   {
    "duration": 15,
    "start_time": "2022-05-24T07:42:38.968Z"
   },
   {
    "duration": 22,
    "start_time": "2022-05-24T07:42:38.986Z"
   },
   {
    "duration": 7,
    "start_time": "2022-05-24T07:42:39.042Z"
   },
   {
    "duration": 18,
    "start_time": "2022-05-24T07:42:39.051Z"
   },
   {
    "duration": 11,
    "start_time": "2022-05-24T07:42:39.071Z"
   },
   {
    "duration": 165,
    "start_time": "2022-05-24T07:42:39.084Z"
   },
   {
    "duration": 16,
    "start_time": "2022-05-24T07:42:39.252Z"
   },
   {
    "duration": 15,
    "start_time": "2022-05-24T07:42:39.270Z"
   },
   {
    "duration": 79,
    "start_time": "2022-05-24T07:42:39.287Z"
   },
   {
    "duration": 75,
    "start_time": "2022-05-24T07:42:39.369Z"
   },
   {
    "duration": 12,
    "start_time": "2022-05-24T07:42:39.446Z"
   },
   {
    "duration": 50,
    "start_time": "2022-05-24T07:42:39.460Z"
   },
   {
    "duration": 50,
    "start_time": "2022-05-24T07:42:39.512Z"
   },
   {
    "duration": 31,
    "start_time": "2022-05-24T07:42:39.564Z"
   },
   {
    "duration": 206,
    "start_time": "2022-05-24T07:42:39.598Z"
   },
   {
    "duration": 0,
    "start_time": "2022-05-24T07:42:39.806Z"
   },
   {
    "duration": 4,
    "start_time": "2022-05-24T07:56:19.881Z"
   },
   {
    "duration": 131,
    "start_time": "2022-05-24T07:56:19.888Z"
   },
   {
    "duration": 29,
    "start_time": "2022-05-24T07:56:20.022Z"
   },
   {
    "duration": 23,
    "start_time": "2022-05-24T07:56:20.053Z"
   },
   {
    "duration": 30,
    "start_time": "2022-05-24T07:56:20.079Z"
   },
   {
    "duration": 6,
    "start_time": "2022-05-24T07:56:20.141Z"
   },
   {
    "duration": 31,
    "start_time": "2022-05-24T07:56:20.149Z"
   },
   {
    "duration": 11,
    "start_time": "2022-05-24T07:56:20.182Z"
   },
   {
    "duration": 208,
    "start_time": "2022-05-24T07:56:20.195Z"
   },
   {
    "duration": 17,
    "start_time": "2022-05-24T07:56:20.405Z"
   },
   {
    "duration": 31,
    "start_time": "2022-05-24T07:56:20.425Z"
   },
   {
    "duration": 188,
    "start_time": "2022-05-24T07:56:20.458Z"
   },
   {
    "duration": 59,
    "start_time": "2022-05-24T07:56:20.648Z"
   },
   {
    "duration": 34,
    "start_time": "2022-05-24T07:56:20.709Z"
   },
   {
    "duration": 64,
    "start_time": "2022-05-24T07:56:20.746Z"
   },
   {
    "duration": 57,
    "start_time": "2022-05-24T07:56:20.813Z"
   },
   {
    "duration": 68,
    "start_time": "2022-05-24T07:56:20.873Z"
   },
   {
    "duration": 49,
    "start_time": "2022-05-24T07:56:20.944Z"
   },
   {
    "duration": 0,
    "start_time": "2022-05-24T07:56:20.996Z"
   },
   {
    "duration": 4,
    "start_time": "2022-05-24T07:59:52.327Z"
   },
   {
    "duration": 84,
    "start_time": "2022-05-24T07:59:52.332Z"
   },
   {
    "duration": 14,
    "start_time": "2022-05-24T07:59:52.419Z"
   },
   {
    "duration": 24,
    "start_time": "2022-05-24T07:59:52.434Z"
   },
   {
    "duration": 27,
    "start_time": "2022-05-24T07:59:52.460Z"
   },
   {
    "duration": 5,
    "start_time": "2022-05-24T07:59:52.489Z"
   },
   {
    "duration": 45,
    "start_time": "2022-05-24T07:59:52.496Z"
   },
   {
    "duration": 10,
    "start_time": "2022-05-24T07:59:52.543Z"
   },
   {
    "duration": 142,
    "start_time": "2022-05-24T07:59:52.554Z"
   },
   {
    "duration": 14,
    "start_time": "2022-05-24T07:59:52.698Z"
   },
   {
    "duration": 29,
    "start_time": "2022-05-24T07:59:52.715Z"
   },
   {
    "duration": 60,
    "start_time": "2022-05-24T07:59:52.746Z"
   },
   {
    "duration": 77,
    "start_time": "2022-05-24T07:59:52.808Z"
   },
   {
    "duration": 11,
    "start_time": "2022-05-24T07:59:52.887Z"
   },
   {
    "duration": 76,
    "start_time": "2022-05-24T07:59:52.899Z"
   },
   {
    "duration": 73,
    "start_time": "2022-05-24T07:59:52.978Z"
   },
   {
    "duration": 55,
    "start_time": "2022-05-24T07:59:53.060Z"
   },
   {
    "duration": 63,
    "start_time": "2022-05-24T07:59:53.118Z"
   },
   {
    "duration": 0,
    "start_time": "2022-05-24T07:59:53.183Z"
   },
   {
    "duration": 2,
    "start_time": "2022-05-24T08:02:44.046Z"
   },
   {
    "duration": 83,
    "start_time": "2022-05-24T08:02:44.052Z"
   },
   {
    "duration": 12,
    "start_time": "2022-05-24T08:02:44.137Z"
   },
   {
    "duration": 15,
    "start_time": "2022-05-24T08:02:44.150Z"
   },
   {
    "duration": 19,
    "start_time": "2022-05-24T08:02:44.167Z"
   },
   {
    "duration": 5,
    "start_time": "2022-05-24T08:02:44.187Z"
   },
   {
    "duration": 17,
    "start_time": "2022-05-24T08:02:44.193Z"
   },
   {
    "duration": 37,
    "start_time": "2022-05-24T08:02:44.211Z"
   },
   {
    "duration": 134,
    "start_time": "2022-05-24T08:02:44.250Z"
   },
   {
    "duration": 13,
    "start_time": "2022-05-24T08:02:44.385Z"
   },
   {
    "duration": 13,
    "start_time": "2022-05-24T08:02:44.401Z"
   },
   {
    "duration": 86,
    "start_time": "2022-05-24T08:02:44.416Z"
   },
   {
    "duration": 67,
    "start_time": "2022-05-24T08:02:44.504Z"
   },
   {
    "duration": 11,
    "start_time": "2022-05-24T08:02:44.572Z"
   },
   {
    "duration": 60,
    "start_time": "2022-05-24T08:02:44.584Z"
   },
   {
    "duration": 31,
    "start_time": "2022-05-24T08:02:44.645Z"
   },
   {
    "duration": 71,
    "start_time": "2022-05-24T08:02:44.678Z"
   },
   {
    "duration": 45,
    "start_time": "2022-05-24T08:02:44.751Z"
   },
   {
    "duration": 0,
    "start_time": "2022-05-24T08:02:44.798Z"
   },
   {
    "duration": 43,
    "start_time": "2022-05-24T08:11:54.059Z"
   },
   {
    "duration": 31,
    "start_time": "2022-05-24T08:12:15.452Z"
   },
   {
    "duration": 3,
    "start_time": "2022-05-24T08:13:41.596Z"
   },
   {
    "duration": 76,
    "start_time": "2022-05-24T08:13:41.604Z"
   },
   {
    "duration": 14,
    "start_time": "2022-05-24T08:13:41.681Z"
   },
   {
    "duration": 14,
    "start_time": "2022-05-24T08:13:41.696Z"
   },
   {
    "duration": 37,
    "start_time": "2022-05-24T08:13:41.713Z"
   },
   {
    "duration": 5,
    "start_time": "2022-05-24T08:13:41.751Z"
   },
   {
    "duration": 18,
    "start_time": "2022-05-24T08:13:41.758Z"
   },
   {
    "duration": 9,
    "start_time": "2022-05-24T08:13:41.777Z"
   },
   {
    "duration": 154,
    "start_time": "2022-05-24T08:13:41.788Z"
   },
   {
    "duration": 15,
    "start_time": "2022-05-24T08:13:41.944Z"
   },
   {
    "duration": 14,
    "start_time": "2022-05-24T08:13:41.961Z"
   },
   {
    "duration": 78,
    "start_time": "2022-05-24T08:13:41.976Z"
   },
   {
    "duration": 57,
    "start_time": "2022-05-24T08:13:42.056Z"
   },
   {
    "duration": 27,
    "start_time": "2022-05-24T08:13:42.115Z"
   },
   {
    "duration": 54,
    "start_time": "2022-05-24T08:13:42.144Z"
   },
   {
    "duration": 48,
    "start_time": "2022-05-24T08:13:42.200Z"
   },
   {
    "duration": 33,
    "start_time": "2022-05-24T08:13:42.250Z"
   },
   {
    "duration": 45,
    "start_time": "2022-05-24T08:13:42.285Z"
   },
   {
    "duration": 0,
    "start_time": "2022-05-24T08:13:42.332Z"
   },
   {
    "duration": 31,
    "start_time": "2022-05-24T08:14:40.372Z"
   },
   {
    "duration": 41,
    "start_time": "2022-05-24T08:17:47.813Z"
   },
   {
    "duration": 57,
    "start_time": "2022-05-24T08:19:40.238Z"
   },
   {
    "duration": 3,
    "start_time": "2022-05-24T08:23:52.605Z"
   },
   {
    "duration": 85,
    "start_time": "2022-05-24T08:23:52.618Z"
   },
   {
    "duration": 15,
    "start_time": "2022-05-24T08:23:52.705Z"
   },
   {
    "duration": 39,
    "start_time": "2022-05-24T08:23:52.722Z"
   },
   {
    "duration": 20,
    "start_time": "2022-05-24T08:23:52.764Z"
   },
   {
    "duration": 6,
    "start_time": "2022-05-24T08:23:52.787Z"
   },
   {
    "duration": 55,
    "start_time": "2022-05-24T08:23:52.795Z"
   },
   {
    "duration": 14,
    "start_time": "2022-05-24T08:23:52.853Z"
   },
   {
    "duration": 174,
    "start_time": "2022-05-24T08:23:52.869Z"
   },
   {
    "duration": 15,
    "start_time": "2022-05-24T08:23:53.045Z"
   },
   {
    "duration": 13,
    "start_time": "2022-05-24T08:23:53.063Z"
   },
   {
    "duration": 86,
    "start_time": "2022-05-24T08:23:53.078Z"
   },
   {
    "duration": 75,
    "start_time": "2022-05-24T08:23:53.166Z"
   },
   {
    "duration": 12,
    "start_time": "2022-05-24T08:23:53.243Z"
   },
   {
    "duration": 55,
    "start_time": "2022-05-24T08:23:53.257Z"
   },
   {
    "duration": 60,
    "start_time": "2022-05-24T08:23:53.314Z"
   },
   {
    "duration": 67,
    "start_time": "2022-05-24T08:23:53.376Z"
   },
   {
    "duration": 73,
    "start_time": "2022-05-24T08:23:53.445Z"
   },
   {
    "duration": 0,
    "start_time": "2022-05-24T08:23:53.520Z"
   },
   {
    "duration": 28,
    "start_time": "2022-05-24T08:24:26.632Z"
   },
   {
    "duration": 63,
    "start_time": "2022-05-24T08:25:01.875Z"
   },
   {
    "duration": 91,
    "start_time": "2022-05-24T08:28:21.652Z"
   },
   {
    "duration": 38,
    "start_time": "2022-05-24T08:29:20.874Z"
   },
   {
    "duration": 36,
    "start_time": "2022-05-24T08:29:43.795Z"
   },
   {
    "duration": 34,
    "start_time": "2022-05-24T08:31:10.443Z"
   },
   {
    "duration": 34,
    "start_time": "2022-05-24T08:31:46.758Z"
   },
   {
    "duration": 3,
    "start_time": "2022-05-24T08:31:51.868Z"
   },
   {
    "duration": 83,
    "start_time": "2022-05-24T08:31:51.874Z"
   },
   {
    "duration": 14,
    "start_time": "2022-05-24T08:31:51.959Z"
   },
   {
    "duration": 16,
    "start_time": "2022-05-24T08:31:51.975Z"
   },
   {
    "duration": 26,
    "start_time": "2022-05-24T08:31:51.993Z"
   },
   {
    "duration": 6,
    "start_time": "2022-05-24T08:31:52.042Z"
   },
   {
    "duration": 39,
    "start_time": "2022-05-24T08:31:52.049Z"
   },
   {
    "duration": 23,
    "start_time": "2022-05-24T08:31:52.090Z"
   },
   {
    "duration": 136,
    "start_time": "2022-05-24T08:31:52.115Z"
   },
   {
    "duration": 15,
    "start_time": "2022-05-24T08:31:52.253Z"
   },
   {
    "duration": 14,
    "start_time": "2022-05-24T08:31:52.270Z"
   },
   {
    "duration": 77,
    "start_time": "2022-05-24T08:31:52.285Z"
   },
   {
    "duration": 60,
    "start_time": "2022-05-24T08:31:52.364Z"
   },
   {
    "duration": 12,
    "start_time": "2022-05-24T08:31:52.441Z"
   },
   {
    "duration": 73,
    "start_time": "2022-05-24T08:31:52.454Z"
   },
   {
    "duration": 43,
    "start_time": "2022-05-24T08:31:52.529Z"
   },
   {
    "duration": 74,
    "start_time": "2022-05-24T08:31:52.574Z"
   },
   {
    "duration": 43,
    "start_time": "2022-05-24T08:31:52.651Z"
   },
   {
    "duration": 0,
    "start_time": "2022-05-24T08:31:52.696Z"
   },
   {
    "duration": 55,
    "start_time": "2022-05-24T08:32:12.670Z"
   },
   {
    "duration": 34,
    "start_time": "2022-05-24T08:32:18.426Z"
   },
   {
    "duration": 42,
    "start_time": "2022-05-24T08:34:59.536Z"
   },
   {
    "duration": 117,
    "start_time": "2022-05-24T08:35:06.736Z"
   },
   {
    "duration": 350,
    "start_time": "2022-05-24T08:35:11.710Z"
   },
   {
    "duration": 211,
    "start_time": "2022-05-24T08:35:34.155Z"
   },
   {
    "duration": 234,
    "start_time": "2022-05-24T08:35:43.543Z"
   },
   {
    "duration": 51,
    "start_time": "2022-05-24T08:36:06.557Z"
   },
   {
    "duration": 30,
    "start_time": "2022-05-24T08:37:06.565Z"
   },
   {
    "duration": 3,
    "start_time": "2022-05-24T08:37:09.722Z"
   },
   {
    "duration": 110,
    "start_time": "2022-05-24T08:37:09.728Z"
   },
   {
    "duration": 21,
    "start_time": "2022-05-24T08:37:09.840Z"
   },
   {
    "duration": 25,
    "start_time": "2022-05-24T08:37:09.862Z"
   },
   {
    "duration": 38,
    "start_time": "2022-05-24T08:37:09.890Z"
   },
   {
    "duration": 19,
    "start_time": "2022-05-24T08:37:09.929Z"
   },
   {
    "duration": 22,
    "start_time": "2022-05-24T08:37:09.950Z"
   },
   {
    "duration": 13,
    "start_time": "2022-05-24T08:37:09.974Z"
   },
   {
    "duration": 160,
    "start_time": "2022-05-24T08:37:09.990Z"
   },
   {
    "duration": 14,
    "start_time": "2022-05-24T08:37:10.153Z"
   },
   {
    "duration": 14,
    "start_time": "2022-05-24T08:37:10.171Z"
   },
   {
    "duration": 91,
    "start_time": "2022-05-24T08:37:10.187Z"
   },
   {
    "duration": 72,
    "start_time": "2022-05-24T08:37:10.280Z"
   },
   {
    "duration": 11,
    "start_time": "2022-05-24T08:37:10.353Z"
   },
   {
    "duration": 51,
    "start_time": "2022-05-24T08:37:10.366Z"
   },
   {
    "duration": 50,
    "start_time": "2022-05-24T08:37:10.419Z"
   },
   {
    "duration": 70,
    "start_time": "2022-05-24T08:37:10.471Z"
   },
   {
    "duration": 41,
    "start_time": "2022-05-24T08:37:10.543Z"
   },
   {
    "duration": 0,
    "start_time": "2022-05-24T08:37:10.586Z"
   },
   {
    "duration": 46,
    "start_time": "2022-05-24T08:37:51.020Z"
   },
   {
    "duration": 56,
    "start_time": "2022-05-24T08:40:12.513Z"
   },
   {
    "duration": 40,
    "start_time": "2022-05-24T08:41:32.325Z"
   },
   {
    "duration": 57,
    "start_time": "2022-05-24T08:41:58.307Z"
   },
   {
    "duration": 47,
    "start_time": "2022-05-24T08:43:25.580Z"
   },
   {
    "duration": 33,
    "start_time": "2022-05-24T08:44:02.249Z"
   },
   {
    "duration": 43,
    "start_time": "2022-05-24T08:48:27.007Z"
   },
   {
    "duration": 55,
    "start_time": "2022-05-24T08:49:36.943Z"
   },
   {
    "duration": 53,
    "start_time": "2022-05-24T08:51:44.554Z"
   },
   {
    "duration": 37,
    "start_time": "2022-05-24T08:51:56.822Z"
   },
   {
    "duration": 32,
    "start_time": "2022-05-24T08:52:03.758Z"
   },
   {
    "duration": 63,
    "start_time": "2022-05-24T08:52:41.121Z"
   },
   {
    "duration": 4,
    "start_time": "2022-05-24T08:52:46.802Z"
   },
   {
    "duration": 93,
    "start_time": "2022-05-24T08:52:46.810Z"
   },
   {
    "duration": 16,
    "start_time": "2022-05-24T08:52:46.906Z"
   },
   {
    "duration": 32,
    "start_time": "2022-05-24T08:52:46.943Z"
   },
   {
    "duration": 27,
    "start_time": "2022-05-24T08:52:46.979Z"
   },
   {
    "duration": 8,
    "start_time": "2022-05-24T08:52:47.009Z"
   },
   {
    "duration": 55,
    "start_time": "2022-05-24T08:52:47.019Z"
   },
   {
    "duration": 13,
    "start_time": "2022-05-24T08:52:47.077Z"
   },
   {
    "duration": 220,
    "start_time": "2022-05-24T08:52:47.092Z"
   },
   {
    "duration": 27,
    "start_time": "2022-05-24T08:52:47.314Z"
   },
   {
    "duration": 15,
    "start_time": "2022-05-24T08:52:47.344Z"
   },
   {
    "duration": 65,
    "start_time": "2022-05-24T08:52:47.361Z"
   },
   {
    "duration": 65,
    "start_time": "2022-05-24T08:52:47.428Z"
   },
   {
    "duration": 11,
    "start_time": "2022-05-24T08:52:47.495Z"
   },
   {
    "duration": 82,
    "start_time": "2022-05-24T08:52:47.509Z"
   },
   {
    "duration": 52,
    "start_time": "2022-05-24T08:52:47.592Z"
   },
   {
    "duration": 30,
    "start_time": "2022-05-24T08:52:47.646Z"
   },
   {
    "duration": 37,
    "start_time": "2022-05-24T08:52:47.677Z"
   },
   {
    "duration": 0,
    "start_time": "2022-05-24T08:52:47.716Z"
   },
   {
    "duration": 34,
    "start_time": "2022-05-24T08:53:12.659Z"
   },
   {
    "duration": 29,
    "start_time": "2022-05-24T08:53:18.841Z"
   },
   {
    "duration": 3,
    "start_time": "2022-05-24T09:10:02.730Z"
   },
   {
    "duration": 84,
    "start_time": "2022-05-24T09:10:02.737Z"
   },
   {
    "duration": 14,
    "start_time": "2022-05-24T09:10:02.823Z"
   },
   {
    "duration": 34,
    "start_time": "2022-05-24T09:10:02.838Z"
   },
   {
    "duration": 31,
    "start_time": "2022-05-24T09:10:02.873Z"
   },
   {
    "duration": 5,
    "start_time": "2022-05-24T09:10:02.906Z"
   },
   {
    "duration": 17,
    "start_time": "2022-05-24T09:10:02.913Z"
   },
   {
    "duration": 14,
    "start_time": "2022-05-24T09:10:02.932Z"
   },
   {
    "duration": 112,
    "start_time": "2022-05-24T09:10:02.956Z"
   },
   {
    "duration": 12,
    "start_time": "2022-05-24T09:10:03.069Z"
   },
   {
    "duration": 12,
    "start_time": "2022-05-24T09:10:03.083Z"
   },
   {
    "duration": 181,
    "start_time": "2022-05-24T09:10:03.097Z"
   },
   {
    "duration": 50,
    "start_time": "2022-05-24T09:10:03.280Z"
   },
   {
    "duration": 12,
    "start_time": "2022-05-24T09:10:03.350Z"
   },
   {
    "duration": 85,
    "start_time": "2022-05-24T09:10:03.363Z"
   },
   {
    "duration": 30,
    "start_time": "2022-05-24T09:10:03.450Z"
   },
   {
    "duration": 30,
    "start_time": "2022-05-24T09:10:03.482Z"
   },
   {
    "duration": 744,
    "start_time": "2022-05-24T09:10:03.514Z"
   },
   {
    "duration": 4,
    "start_time": "2022-05-24T09:10:04.260Z"
   },
   {
    "duration": 0,
    "start_time": "2022-05-24T09:10:04.265Z"
   },
   {
    "duration": 35,
    "start_time": "2022-05-24T10:04:23.956Z"
   },
   {
    "duration": 3,
    "start_time": "2022-05-24T10:05:08.450Z"
   },
   {
    "duration": 111,
    "start_time": "2022-05-24T10:05:08.457Z"
   },
   {
    "duration": 15,
    "start_time": "2022-05-24T10:05:08.570Z"
   },
   {
    "duration": 14,
    "start_time": "2022-05-24T10:05:08.587Z"
   },
   {
    "duration": 18,
    "start_time": "2022-05-24T10:05:08.604Z"
   },
   {
    "duration": 16,
    "start_time": "2022-05-24T10:05:08.626Z"
   },
   {
    "duration": 16,
    "start_time": "2022-05-24T10:05:08.643Z"
   },
   {
    "duration": 9,
    "start_time": "2022-05-24T10:05:08.660Z"
   },
   {
    "duration": 137,
    "start_time": "2022-05-24T10:05:08.671Z"
   },
   {
    "duration": 14,
    "start_time": "2022-05-24T10:05:08.810Z"
   },
   {
    "duration": 25,
    "start_time": "2022-05-24T10:05:08.827Z"
   },
   {
    "duration": 49,
    "start_time": "2022-05-24T10:05:08.853Z"
   },
   {
    "duration": 71,
    "start_time": "2022-05-24T10:05:08.903Z"
   },
   {
    "duration": 10,
    "start_time": "2022-05-24T10:05:08.975Z"
   },
   {
    "duration": 60,
    "start_time": "2022-05-24T10:05:08.987Z"
   },
   {
    "duration": 29,
    "start_time": "2022-05-24T10:05:09.049Z"
   },
   {
    "duration": 63,
    "start_time": "2022-05-24T10:05:09.079Z"
   },
   {
    "duration": 36,
    "start_time": "2022-05-24T10:05:09.144Z"
   },
   {
    "duration": 0,
    "start_time": "2022-05-24T10:05:09.182Z"
   },
   {
    "duration": 0,
    "start_time": "2022-05-24T10:05:09.183Z"
   },
   {
    "duration": 4,
    "start_time": "2022-05-24T10:05:40.456Z"
   },
   {
    "duration": 95,
    "start_time": "2022-05-24T10:05:40.463Z"
   },
   {
    "duration": 18,
    "start_time": "2022-05-24T10:05:40.561Z"
   },
   {
    "duration": 23,
    "start_time": "2022-05-24T10:05:40.580Z"
   },
   {
    "duration": 36,
    "start_time": "2022-05-24T10:05:40.606Z"
   },
   {
    "duration": 5,
    "start_time": "2022-05-24T10:05:40.644Z"
   },
   {
    "duration": 36,
    "start_time": "2022-05-24T10:05:40.651Z"
   },
   {
    "duration": 17,
    "start_time": "2022-05-24T10:05:40.689Z"
   },
   {
    "duration": 134,
    "start_time": "2022-05-24T10:05:40.707Z"
   },
   {
    "duration": 15,
    "start_time": "2022-05-24T10:05:40.843Z"
   },
   {
    "duration": 19,
    "start_time": "2022-05-24T10:05:40.861Z"
   },
   {
    "duration": 74,
    "start_time": "2022-05-24T10:05:40.882Z"
   },
   {
    "duration": 56,
    "start_time": "2022-05-24T10:05:40.957Z"
   },
   {
    "duration": 11,
    "start_time": "2022-05-24T10:05:41.015Z"
   },
   {
    "duration": 53,
    "start_time": "2022-05-24T10:05:41.043Z"
   },
   {
    "duration": 54,
    "start_time": "2022-05-24T10:05:41.098Z"
   },
   {
    "duration": 30,
    "start_time": "2022-05-24T10:05:41.154Z"
   },
   {
    "duration": 844,
    "start_time": "2022-05-24T10:05:41.185Z"
   },
   {
    "duration": 3,
    "start_time": "2022-05-24T10:06:37.394Z"
   },
   {
    "duration": 73,
    "start_time": "2022-05-24T10:06:37.402Z"
   },
   {
    "duration": 14,
    "start_time": "2022-05-24T10:06:37.476Z"
   },
   {
    "duration": 17,
    "start_time": "2022-05-24T10:06:37.492Z"
   },
   {
    "duration": 38,
    "start_time": "2022-05-24T10:06:37.512Z"
   },
   {
    "duration": 5,
    "start_time": "2022-05-24T10:06:37.553Z"
   },
   {
    "duration": 26,
    "start_time": "2022-05-24T10:06:37.560Z"
   },
   {
    "duration": 12,
    "start_time": "2022-05-24T10:06:37.587Z"
   },
   {
    "duration": 143,
    "start_time": "2022-05-24T10:06:37.601Z"
   },
   {
    "duration": 15,
    "start_time": "2022-05-24T10:06:37.746Z"
   },
   {
    "duration": 14,
    "start_time": "2022-05-24T10:06:37.764Z"
   },
   {
    "duration": 81,
    "start_time": "2022-05-24T10:06:37.779Z"
   },
   {
    "duration": 57,
    "start_time": "2022-05-24T10:06:37.862Z"
   },
   {
    "duration": 27,
    "start_time": "2022-05-24T10:06:37.921Z"
   },
   {
    "duration": 51,
    "start_time": "2022-05-24T10:06:37.950Z"
   },
   {
    "duration": 58,
    "start_time": "2022-05-24T10:06:38.003Z"
   },
   {
    "duration": 30,
    "start_time": "2022-05-24T10:06:38.063Z"
   },
   {
    "duration": 768,
    "start_time": "2022-05-24T10:06:38.095Z"
   },
   {
    "duration": 1038,
    "start_time": "2022-05-24T10:09:15.279Z"
   },
   {
    "duration": 1398,
    "start_time": "2022-05-24T10:16:38.632Z"
   },
   {
    "duration": 71,
    "start_time": "2022-05-24T10:16:40.033Z"
   },
   {
    "duration": 18,
    "start_time": "2022-05-24T10:16:40.105Z"
   },
   {
    "duration": 15,
    "start_time": "2022-05-24T10:16:40.126Z"
   },
   {
    "duration": 21,
    "start_time": "2022-05-24T10:16:40.143Z"
   },
   {
    "duration": 5,
    "start_time": "2022-05-24T10:16:40.165Z"
   },
   {
    "duration": 21,
    "start_time": "2022-05-24T10:16:40.172Z"
   },
   {
    "duration": 233,
    "start_time": "2022-05-24T10:16:40.195Z"
   },
   {
    "duration": 232,
    "start_time": "2022-05-24T10:16:40.430Z"
   },
   {
    "duration": 14,
    "start_time": "2022-05-24T10:16:40.665Z"
   },
   {
    "duration": 13,
    "start_time": "2022-05-24T10:16:40.680Z"
   },
   {
    "duration": 264,
    "start_time": "2022-05-24T10:16:40.695Z"
   },
   {
    "duration": 57,
    "start_time": "2022-05-24T10:16:40.961Z"
   },
   {
    "duration": 26,
    "start_time": "2022-05-24T10:16:41.020Z"
   },
   {
    "duration": 51,
    "start_time": "2022-05-24T10:16:41.047Z"
   },
   {
    "duration": 67,
    "start_time": "2022-05-24T10:16:41.100Z"
   },
   {
    "duration": 33,
    "start_time": "2022-05-24T10:16:41.169Z"
   },
   {
    "duration": 1101,
    "start_time": "2022-05-24T10:16:41.204Z"
   },
   {
    "duration": 4,
    "start_time": "2022-05-24T10:19:49.041Z"
   },
   {
    "duration": 109,
    "start_time": "2022-05-24T10:19:49.048Z"
   },
   {
    "duration": 14,
    "start_time": "2022-05-24T10:19:49.159Z"
   },
   {
    "duration": 21,
    "start_time": "2022-05-24T10:19:49.175Z"
   },
   {
    "duration": 20,
    "start_time": "2022-05-24T10:19:49.199Z"
   },
   {
    "duration": 25,
    "start_time": "2022-05-24T10:19:49.221Z"
   },
   {
    "duration": 38,
    "start_time": "2022-05-24T10:19:49.248Z"
   },
   {
    "duration": 11,
    "start_time": "2022-05-24T10:19:49.289Z"
   },
   {
    "duration": 132,
    "start_time": "2022-05-24T10:19:49.302Z"
   },
   {
    "duration": 18,
    "start_time": "2022-05-24T10:19:49.436Z"
   },
   {
    "duration": 12,
    "start_time": "2022-05-24T10:19:49.456Z"
   },
   {
    "duration": 50,
    "start_time": "2022-05-24T10:19:49.470Z"
   },
   {
    "duration": 56,
    "start_time": "2022-05-24T10:19:49.542Z"
   },
   {
    "duration": 11,
    "start_time": "2022-05-24T10:19:49.599Z"
   },
   {
    "duration": 215,
    "start_time": "2022-05-24T10:19:49.642Z"
   },
   {
    "duration": 35,
    "start_time": "2022-05-24T10:19:49.859Z"
   },
   {
    "duration": 78,
    "start_time": "2022-05-24T10:19:49.896Z"
   },
   {
    "duration": 1100,
    "start_time": "2022-05-24T10:19:49.976Z"
   },
   {
    "duration": 2928,
    "start_time": "2022-05-24T10:20:48.253Z"
   },
   {
    "duration": 5,
    "start_time": "2022-05-24T10:21:06.910Z"
   },
   {
    "duration": 132,
    "start_time": "2022-05-24T10:21:06.918Z"
   },
   {
    "duration": 22,
    "start_time": "2022-05-24T10:21:07.053Z"
   },
   {
    "duration": 73,
    "start_time": "2022-05-24T10:21:07.077Z"
   },
   {
    "duration": 47,
    "start_time": "2022-05-24T10:21:07.153Z"
   },
   {
    "duration": 22,
    "start_time": "2022-05-24T10:21:07.203Z"
   },
   {
    "duration": 40,
    "start_time": "2022-05-24T10:21:07.227Z"
   },
   {
    "duration": 28,
    "start_time": "2022-05-24T10:21:07.270Z"
   },
   {
    "duration": 153,
    "start_time": "2022-05-24T10:21:07.301Z"
   },
   {
    "duration": 14,
    "start_time": "2022-05-24T10:21:07.456Z"
   },
   {
    "duration": 18,
    "start_time": "2022-05-24T10:21:07.473Z"
   },
   {
    "duration": 85,
    "start_time": "2022-05-24T10:21:07.492Z"
   },
   {
    "duration": 67,
    "start_time": "2022-05-24T10:21:07.579Z"
   },
   {
    "duration": 12,
    "start_time": "2022-05-24T10:21:07.648Z"
   },
   {
    "duration": 56,
    "start_time": "2022-05-24T10:21:07.662Z"
   },
   {
    "duration": 69,
    "start_time": "2022-05-24T10:21:07.720Z"
   },
   {
    "duration": 57,
    "start_time": "2022-05-24T10:21:07.791Z"
   },
   {
    "duration": 1059,
    "start_time": "2022-05-24T10:21:07.852Z"
   },
   {
    "duration": 2987,
    "start_time": "2022-05-24T10:21:08.913Z"
   },
   {
    "duration": 12,
    "start_time": "2022-05-24T10:21:11.903Z"
   },
   {
    "duration": 3,
    "start_time": "2022-05-24T11:10:30.560Z"
   },
   {
    "duration": 122,
    "start_time": "2022-05-24T11:10:30.567Z"
   },
   {
    "duration": 15,
    "start_time": "2022-05-24T11:10:30.691Z"
   },
   {
    "duration": 38,
    "start_time": "2022-05-24T11:10:30.708Z"
   },
   {
    "duration": 25,
    "start_time": "2022-05-24T11:10:30.749Z"
   },
   {
    "duration": 6,
    "start_time": "2022-05-24T11:10:30.776Z"
   },
   {
    "duration": 34,
    "start_time": "2022-05-24T11:10:30.784Z"
   },
   {
    "duration": 58,
    "start_time": "2022-05-24T11:10:30.820Z"
   },
   {
    "duration": 133,
    "start_time": "2022-05-24T11:10:30.880Z"
   },
   {
    "duration": 17,
    "start_time": "2022-05-24T11:10:31.015Z"
   },
   {
    "duration": 12,
    "start_time": "2022-05-24T11:10:31.040Z"
   },
   {
    "duration": 67,
    "start_time": "2022-05-24T11:10:31.054Z"
   },
   {
    "duration": 64,
    "start_time": "2022-05-24T11:10:31.123Z"
   },
   {
    "duration": 11,
    "start_time": "2022-05-24T11:10:31.189Z"
   },
   {
    "duration": 70,
    "start_time": "2022-05-24T11:10:31.202Z"
   },
   {
    "duration": 26,
    "start_time": "2022-05-24T11:10:31.274Z"
   },
   {
    "duration": 62,
    "start_time": "2022-05-24T11:10:31.303Z"
   },
   {
    "duration": 1422,
    "start_time": "2022-05-24T11:10:31.368Z"
   },
   {
    "duration": 2700,
    "start_time": "2022-05-24T11:10:32.792Z"
   },
   {
    "duration": 10,
    "start_time": "2022-05-24T11:10:35.494Z"
   },
   {
    "duration": 378,
    "start_time": "2022-05-24T11:10:35.506Z"
   },
   {
    "duration": 14,
    "start_time": "2022-05-24T11:11:24.469Z"
   },
   {
    "duration": 3,
    "start_time": "2022-05-24T11:11:55.924Z"
   },
   {
    "duration": 85,
    "start_time": "2022-05-24T11:11:55.929Z"
   },
   {
    "duration": 13,
    "start_time": "2022-05-24T11:11:56.016Z"
   },
   {
    "duration": 31,
    "start_time": "2022-05-24T11:11:56.031Z"
   },
   {
    "duration": 32,
    "start_time": "2022-05-24T11:11:56.064Z"
   },
   {
    "duration": 6,
    "start_time": "2022-05-24T11:11:56.098Z"
   },
   {
    "duration": 19,
    "start_time": "2022-05-24T11:11:56.106Z"
   },
   {
    "duration": 16,
    "start_time": "2022-05-24T11:11:56.127Z"
   },
   {
    "duration": 131,
    "start_time": "2022-05-24T11:11:56.145Z"
   },
   {
    "duration": 20,
    "start_time": "2022-05-24T11:11:56.278Z"
   },
   {
    "duration": 19,
    "start_time": "2022-05-24T11:11:56.301Z"
   },
   {
    "duration": 75,
    "start_time": "2022-05-24T11:11:56.321Z"
   },
   {
    "duration": 80,
    "start_time": "2022-05-24T11:11:56.398Z"
   },
   {
    "duration": 14,
    "start_time": "2022-05-24T11:11:56.481Z"
   },
   {
    "duration": 64,
    "start_time": "2022-05-24T11:11:56.497Z"
   },
   {
    "duration": 33,
    "start_time": "2022-05-24T11:11:56.563Z"
   },
   {
    "duration": 59,
    "start_time": "2022-05-24T11:11:56.597Z"
   },
   {
    "duration": 955,
    "start_time": "2022-05-24T11:11:56.658Z"
   },
   {
    "duration": 2719,
    "start_time": "2022-05-24T11:11:57.616Z"
   },
   {
    "duration": 11,
    "start_time": "2022-05-24T11:12:00.342Z"
   },
   {
    "duration": 155,
    "start_time": "2022-05-24T11:12:00.355Z"
   },
   {
    "duration": 3,
    "start_time": "2022-05-24T11:20:52.388Z"
   },
   {
    "duration": 115,
    "start_time": "2022-05-24T11:20:52.394Z"
   },
   {
    "duration": 14,
    "start_time": "2022-05-24T11:20:52.511Z"
   },
   {
    "duration": 16,
    "start_time": "2022-05-24T11:20:52.527Z"
   },
   {
    "duration": 18,
    "start_time": "2022-05-24T11:20:52.545Z"
   },
   {
    "duration": 5,
    "start_time": "2022-05-24T11:20:52.565Z"
   },
   {
    "duration": 20,
    "start_time": "2022-05-24T11:20:52.572Z"
   },
   {
    "duration": 13,
    "start_time": "2022-05-24T11:20:52.594Z"
   },
   {
    "duration": 136,
    "start_time": "2022-05-24T11:20:52.642Z"
   },
   {
    "duration": 14,
    "start_time": "2022-05-24T11:20:52.780Z"
   },
   {
    "duration": 12,
    "start_time": "2022-05-24T11:20:52.797Z"
   },
   {
    "duration": 72,
    "start_time": "2022-05-24T11:20:52.811Z"
   },
   {
    "duration": 69,
    "start_time": "2022-05-24T11:20:52.885Z"
   },
   {
    "duration": 12,
    "start_time": "2022-05-24T11:20:52.955Z"
   },
   {
    "duration": 61,
    "start_time": "2022-05-24T11:20:52.969Z"
   },
   {
    "duration": 37,
    "start_time": "2022-05-24T11:20:53.032Z"
   },
   {
    "duration": 32,
    "start_time": "2022-05-24T11:20:53.071Z"
   },
   {
    "duration": 1497,
    "start_time": "2022-05-24T11:20:53.105Z"
   },
   {
    "duration": 2749,
    "start_time": "2022-05-24T11:20:54.604Z"
   },
   {
    "duration": 10,
    "start_time": "2022-05-24T11:20:57.355Z"
   },
   {
    "duration": 2193,
    "start_time": "2022-05-24T11:20:57.367Z"
   },
   {
    "duration": 3,
    "start_time": "2022-05-24T11:22:51.520Z"
   },
   {
    "duration": 114,
    "start_time": "2022-05-24T11:22:51.525Z"
   },
   {
    "duration": 13,
    "start_time": "2022-05-24T11:22:51.641Z"
   },
   {
    "duration": 15,
    "start_time": "2022-05-24T11:22:51.656Z"
   },
   {
    "duration": 19,
    "start_time": "2022-05-24T11:22:51.674Z"
   },
   {
    "duration": 5,
    "start_time": "2022-05-24T11:22:51.695Z"
   },
   {
    "duration": 46,
    "start_time": "2022-05-24T11:22:51.702Z"
   },
   {
    "duration": 9,
    "start_time": "2022-05-24T11:22:51.750Z"
   },
   {
    "duration": 134,
    "start_time": "2022-05-24T11:22:51.761Z"
   },
   {
    "duration": 19,
    "start_time": "2022-05-24T11:22:51.897Z"
   },
   {
    "duration": 33,
    "start_time": "2022-05-24T11:22:51.918Z"
   },
   {
    "duration": 65,
    "start_time": "2022-05-24T11:22:51.953Z"
   },
   {
    "duration": 66,
    "start_time": "2022-05-24T11:22:52.020Z"
   },
   {
    "duration": 10,
    "start_time": "2022-05-24T11:22:52.089Z"
   },
   {
    "duration": 63,
    "start_time": "2022-05-24T11:22:52.101Z"
   },
   {
    "duration": 29,
    "start_time": "2022-05-24T11:22:52.165Z"
   },
   {
    "duration": 57,
    "start_time": "2022-05-24T11:22:52.196Z"
   },
   {
    "duration": 1088,
    "start_time": "2022-05-24T11:22:52.255Z"
   },
   {
    "duration": 2621,
    "start_time": "2022-05-24T11:22:53.345Z"
   },
   {
    "duration": 9,
    "start_time": "2022-05-24T11:22:55.968Z"
   },
   {
    "duration": 1977,
    "start_time": "2022-05-24T11:22:55.978Z"
   },
   {
    "duration": 4,
    "start_time": "2022-05-24T11:43:29.865Z"
   },
   {
    "duration": 152,
    "start_time": "2022-05-24T11:43:29.875Z"
   },
   {
    "duration": 18,
    "start_time": "2022-05-24T11:43:30.030Z"
   },
   {
    "duration": 18,
    "start_time": "2022-05-24T11:43:30.051Z"
   },
   {
    "duration": 23,
    "start_time": "2022-05-24T11:43:30.071Z"
   },
   {
    "duration": 7,
    "start_time": "2022-05-24T11:43:30.097Z"
   },
   {
    "duration": 53,
    "start_time": "2022-05-24T11:43:30.106Z"
   },
   {
    "duration": 11,
    "start_time": "2022-05-24T11:43:30.161Z"
   },
   {
    "duration": 162,
    "start_time": "2022-05-24T11:43:30.174Z"
   },
   {
    "duration": 18,
    "start_time": "2022-05-24T11:43:30.337Z"
   },
   {
    "duration": 17,
    "start_time": "2022-05-24T11:43:30.357Z"
   },
   {
    "duration": 90,
    "start_time": "2022-05-24T11:43:30.376Z"
   },
   {
    "duration": 80,
    "start_time": "2022-05-24T11:43:30.468Z"
   },
   {
    "duration": 13,
    "start_time": "2022-05-24T11:43:30.550Z"
   },
   {
    "duration": 68,
    "start_time": "2022-05-24T11:43:30.564Z"
   },
   {
    "duration": 39,
    "start_time": "2022-05-24T11:43:30.634Z"
   },
   {
    "duration": 36,
    "start_time": "2022-05-24T11:43:30.675Z"
   },
   {
    "duration": 1470,
    "start_time": "2022-05-24T11:43:30.742Z"
   },
   {
    "duration": 3106,
    "start_time": "2022-05-24T11:43:32.214Z"
   },
   {
    "duration": 12,
    "start_time": "2022-05-24T11:43:35.322Z"
   },
   {
    "duration": 3387,
    "start_time": "2022-05-24T11:43:35.342Z"
   },
   {
    "duration": 15,
    "start_time": "2022-05-24T11:43:38.741Z"
   },
   {
    "duration": 3,
    "start_time": "2022-05-24T11:44:43.004Z"
   },
   {
    "duration": 91,
    "start_time": "2022-05-24T11:44:43.010Z"
   },
   {
    "duration": 15,
    "start_time": "2022-05-24T11:44:43.104Z"
   },
   {
    "duration": 38,
    "start_time": "2022-05-24T11:44:43.121Z"
   },
   {
    "duration": 21,
    "start_time": "2022-05-24T11:44:43.164Z"
   },
   {
    "duration": 7,
    "start_time": "2022-05-24T11:44:43.187Z"
   },
   {
    "duration": 59,
    "start_time": "2022-05-24T11:44:43.196Z"
   },
   {
    "duration": 13,
    "start_time": "2022-05-24T11:44:43.258Z"
   },
   {
    "duration": 158,
    "start_time": "2022-05-24T11:44:43.273Z"
   },
   {
    "duration": 24,
    "start_time": "2022-05-24T11:44:43.433Z"
   },
   {
    "duration": 14,
    "start_time": "2022-05-24T11:44:43.461Z"
   },
   {
    "duration": 79,
    "start_time": "2022-05-24T11:44:43.477Z"
   },
   {
    "duration": 59,
    "start_time": "2022-05-24T11:44:43.558Z"
   },
   {
    "duration": 34,
    "start_time": "2022-05-24T11:44:43.619Z"
   },
   {
    "duration": 55,
    "start_time": "2022-05-24T11:44:43.656Z"
   },
   {
    "duration": 63,
    "start_time": "2022-05-24T11:44:43.713Z"
   },
   {
    "duration": 33,
    "start_time": "2022-05-24T11:44:43.778Z"
   },
   {
    "duration": 1157,
    "start_time": "2022-05-24T11:44:43.813Z"
   },
   {
    "duration": 3107,
    "start_time": "2022-05-24T11:44:44.972Z"
   },
   {
    "duration": 10,
    "start_time": "2022-05-24T11:44:48.081Z"
   },
   {
    "duration": 1998,
    "start_time": "2022-05-24T11:44:48.093Z"
   },
   {
    "duration": 498,
    "start_time": "2022-05-24T11:44:50.094Z"
   },
   {
    "duration": 4,
    "start_time": "2022-05-24T11:52:30.663Z"
   },
   {
    "duration": 157,
    "start_time": "2022-05-24T11:52:30.669Z"
   },
   {
    "duration": 15,
    "start_time": "2022-05-24T11:52:30.829Z"
   },
   {
    "duration": 55,
    "start_time": "2022-05-24T11:52:30.846Z"
   },
   {
    "duration": 20,
    "start_time": "2022-05-24T11:52:30.904Z"
   },
   {
    "duration": 5,
    "start_time": "2022-05-24T11:52:30.927Z"
   },
   {
    "duration": 34,
    "start_time": "2022-05-24T11:52:30.934Z"
   },
   {
    "duration": 10,
    "start_time": "2022-05-24T11:52:30.969Z"
   },
   {
    "duration": 142,
    "start_time": "2022-05-24T11:52:30.982Z"
   },
   {
    "duration": 23,
    "start_time": "2022-05-24T11:52:31.126Z"
   },
   {
    "duration": 14,
    "start_time": "2022-05-24T11:52:31.153Z"
   },
   {
    "duration": 203,
    "start_time": "2022-05-24T11:52:31.170Z"
   },
   {
    "duration": 71,
    "start_time": "2022-05-24T11:52:31.374Z"
   },
   {
    "duration": 12,
    "start_time": "2022-05-24T11:52:31.447Z"
   },
   {
    "duration": 56,
    "start_time": "2022-05-24T11:52:31.461Z"
   },
   {
    "duration": 67,
    "start_time": "2022-05-24T11:52:31.519Z"
   },
   {
    "duration": 66,
    "start_time": "2022-05-24T11:52:31.588Z"
   },
   {
    "duration": 1494,
    "start_time": "2022-05-24T11:52:31.657Z"
   },
   {
    "duration": 2948,
    "start_time": "2022-05-24T11:52:33.153Z"
   },
   {
    "duration": 12,
    "start_time": "2022-05-24T11:52:36.103Z"
   },
   {
    "duration": 2883,
    "start_time": "2022-05-24T11:52:36.117Z"
   },
   {
    "duration": 37,
    "start_time": "2022-05-24T11:52:39.002Z"
   },
   {
    "duration": 480,
    "start_time": "2022-05-24T11:52:51.564Z"
   },
   {
    "duration": 3,
    "start_time": "2022-05-24T11:55:42.513Z"
   },
   {
    "duration": 69,
    "start_time": "2022-05-24T11:55:42.519Z"
   },
   {
    "duration": 13,
    "start_time": "2022-05-24T11:55:42.590Z"
   },
   {
    "duration": 14,
    "start_time": "2022-05-24T11:55:42.605Z"
   },
   {
    "duration": 37,
    "start_time": "2022-05-24T11:55:42.622Z"
   },
   {
    "duration": 6,
    "start_time": "2022-05-24T11:55:42.661Z"
   },
   {
    "duration": 17,
    "start_time": "2022-05-24T11:55:42.669Z"
   },
   {
    "duration": 9,
    "start_time": "2022-05-24T11:55:42.688Z"
   },
   {
    "duration": 149,
    "start_time": "2022-05-24T11:55:42.699Z"
   },
   {
    "duration": 15,
    "start_time": "2022-05-24T11:55:42.850Z"
   },
   {
    "duration": 12,
    "start_time": "2022-05-24T11:55:42.868Z"
   },
   {
    "duration": 77,
    "start_time": "2022-05-24T11:55:42.882Z"
   },
   {
    "duration": 56,
    "start_time": "2022-05-24T11:55:42.960Z"
   },
   {
    "duration": 23,
    "start_time": "2022-05-24T11:55:43.018Z"
   },
   {
    "duration": 47,
    "start_time": "2022-05-24T11:55:43.043Z"
   },
   {
    "duration": 63,
    "start_time": "2022-05-24T11:55:43.092Z"
   },
   {
    "duration": 30,
    "start_time": "2022-05-24T11:55:43.157Z"
   },
   {
    "duration": 1061,
    "start_time": "2022-05-24T11:55:43.189Z"
   },
   {
    "duration": 2566,
    "start_time": "2022-05-24T11:55:44.251Z"
   },
   {
    "duration": 10,
    "start_time": "2022-05-24T11:55:46.819Z"
   },
   {
    "duration": 1889,
    "start_time": "2022-05-24T11:55:46.840Z"
   },
   {
    "duration": 392,
    "start_time": "2022-05-24T11:55:48.732Z"
   },
   {
    "duration": 381,
    "start_time": "2022-05-24T11:55:49.126Z"
   },
   {
    "duration": 5,
    "start_time": "2022-05-24T12:08:25.689Z"
   },
   {
    "duration": 131,
    "start_time": "2022-05-24T12:08:25.696Z"
   },
   {
    "duration": 14,
    "start_time": "2022-05-24T12:08:25.829Z"
   },
   {
    "duration": 23,
    "start_time": "2022-05-24T12:08:25.845Z"
   },
   {
    "duration": 21,
    "start_time": "2022-05-24T12:08:25.871Z"
   },
   {
    "duration": 6,
    "start_time": "2022-05-24T12:08:25.893Z"
   },
   {
    "duration": 45,
    "start_time": "2022-05-24T12:08:25.901Z"
   },
   {
    "duration": 10,
    "start_time": "2022-05-24T12:08:25.948Z"
   },
   {
    "duration": 149,
    "start_time": "2022-05-24T12:08:25.961Z"
   },
   {
    "duration": 14,
    "start_time": "2022-05-24T12:08:26.113Z"
   },
   {
    "duration": 24,
    "start_time": "2022-05-24T12:08:26.130Z"
   },
   {
    "duration": 56,
    "start_time": "2022-05-24T12:08:26.156Z"
   },
   {
    "duration": 73,
    "start_time": "2022-05-24T12:08:26.214Z"
   },
   {
    "duration": 10,
    "start_time": "2022-05-24T12:08:26.289Z"
   },
   {
    "duration": 78,
    "start_time": "2022-05-24T12:08:26.301Z"
   },
   {
    "duration": 60,
    "start_time": "2022-05-24T12:08:26.381Z"
   },
   {
    "duration": 33,
    "start_time": "2022-05-24T12:08:26.443Z"
   },
   {
    "duration": 1320,
    "start_time": "2022-05-24T12:08:26.478Z"
   },
   {
    "duration": 2885,
    "start_time": "2022-05-24T12:08:27.800Z"
   },
   {
    "duration": 12,
    "start_time": "2022-05-24T12:08:30.688Z"
   },
   {
    "duration": 3255,
    "start_time": "2022-05-24T12:08:30.702Z"
   },
   {
    "duration": 403,
    "start_time": "2022-05-24T12:08:33.959Z"
   },
   {
    "duration": 223,
    "start_time": "2022-05-24T12:14:49.184Z"
   },
   {
    "duration": 4,
    "start_time": "2022-05-24T12:15:49.086Z"
   },
   {
    "duration": 157,
    "start_time": "2022-05-24T12:15:49.092Z"
   },
   {
    "duration": 18,
    "start_time": "2022-05-24T12:15:49.252Z"
   },
   {
    "duration": 18,
    "start_time": "2022-05-24T12:15:49.272Z"
   },
   {
    "duration": 49,
    "start_time": "2022-05-24T12:15:49.293Z"
   },
   {
    "duration": 6,
    "start_time": "2022-05-24T12:15:49.345Z"
   },
   {
    "duration": 20,
    "start_time": "2022-05-24T12:15:49.353Z"
   },
   {
    "duration": 14,
    "start_time": "2022-05-24T12:15:49.375Z"
   },
   {
    "duration": 176,
    "start_time": "2022-05-24T12:15:49.392Z"
   },
   {
    "duration": 16,
    "start_time": "2022-05-24T12:15:49.570Z"
   },
   {
    "duration": 14,
    "start_time": "2022-05-24T12:15:49.589Z"
   },
   {
    "duration": 75,
    "start_time": "2022-05-24T12:15:49.606Z"
   },
   {
    "duration": 67,
    "start_time": "2022-05-24T12:15:49.683Z"
   },
   {
    "duration": 11,
    "start_time": "2022-05-24T12:15:49.752Z"
   },
   {
    "duration": 79,
    "start_time": "2022-05-24T12:15:49.765Z"
   },
   {
    "duration": 36,
    "start_time": "2022-05-24T12:15:49.846Z"
   },
   {
    "duration": 81,
    "start_time": "2022-05-24T12:15:49.884Z"
   },
   {
    "duration": 1541,
    "start_time": "2022-05-24T12:15:49.967Z"
   },
   {
    "duration": 3088,
    "start_time": "2022-05-24T12:15:51.510Z"
   },
   {
    "duration": 14,
    "start_time": "2022-05-24T12:15:54.600Z"
   },
   {
    "duration": 248,
    "start_time": "2022-05-24T12:15:54.616Z"
   },
   {
    "duration": 8,
    "start_time": "2022-05-24T12:15:54.866Z"
   },
   {
    "duration": 3048,
    "start_time": "2022-05-24T12:15:54.877Z"
   },
   {
    "duration": 498,
    "start_time": "2022-05-24T12:15:57.926Z"
   },
   {
    "duration": 3,
    "start_time": "2022-05-24T12:20:34.166Z"
   },
   {
    "duration": 129,
    "start_time": "2022-05-24T12:20:34.171Z"
   },
   {
    "duration": 20,
    "start_time": "2022-05-24T12:20:34.302Z"
   },
   {
    "duration": 25,
    "start_time": "2022-05-24T12:20:34.324Z"
   },
   {
    "duration": 20,
    "start_time": "2022-05-24T12:20:34.351Z"
   },
   {
    "duration": 6,
    "start_time": "2022-05-24T12:20:34.373Z"
   },
   {
    "duration": 25,
    "start_time": "2022-05-24T12:20:34.380Z"
   },
   {
    "duration": 39,
    "start_time": "2022-05-24T12:20:34.407Z"
   },
   {
    "duration": 137,
    "start_time": "2022-05-24T12:20:34.448Z"
   },
   {
    "duration": 18,
    "start_time": "2022-05-24T12:20:34.587Z"
   },
   {
    "duration": 14,
    "start_time": "2022-05-24T12:20:34.609Z"
   },
   {
    "duration": 55,
    "start_time": "2022-05-24T12:20:34.641Z"
   },
   {
    "duration": 77,
    "start_time": "2022-05-24T12:20:34.698Z"
   },
   {
    "duration": 11,
    "start_time": "2022-05-24T12:20:34.776Z"
   },
   {
    "duration": 58,
    "start_time": "2022-05-24T12:20:34.788Z"
   },
   {
    "duration": 30,
    "start_time": "2022-05-24T12:20:34.848Z"
   },
   {
    "duration": 60,
    "start_time": "2022-05-24T12:20:34.880Z"
   },
   {
    "duration": 1110,
    "start_time": "2022-05-24T12:20:34.943Z"
   },
   {
    "duration": 2882,
    "start_time": "2022-05-24T12:20:36.055Z"
   },
   {
    "duration": 11,
    "start_time": "2022-05-24T12:20:38.939Z"
   },
   {
    "duration": 231,
    "start_time": "2022-05-24T12:20:38.952Z"
   },
   {
    "duration": 5,
    "start_time": "2022-05-24T12:20:39.185Z"
   },
   {
    "duration": 2390,
    "start_time": "2022-05-24T12:20:39.192Z"
   },
   {
    "duration": 12,
    "start_time": "2022-05-24T12:20:41.584Z"
   },
   {
    "duration": 0,
    "start_time": "2022-05-24T12:20:41.597Z"
   },
   {
    "duration": 3,
    "start_time": "2022-05-24T12:21:16.391Z"
   },
   {
    "duration": 85,
    "start_time": "2022-05-24T12:21:16.396Z"
   },
   {
    "duration": 13,
    "start_time": "2022-05-24T12:21:16.483Z"
   },
   {
    "duration": 15,
    "start_time": "2022-05-24T12:21:16.497Z"
   },
   {
    "duration": 44,
    "start_time": "2022-05-24T12:21:16.515Z"
   },
   {
    "duration": 6,
    "start_time": "2022-05-24T12:21:16.561Z"
   },
   {
    "duration": 20,
    "start_time": "2022-05-24T12:21:16.568Z"
   },
   {
    "duration": 10,
    "start_time": "2022-05-24T12:21:16.590Z"
   },
   {
    "duration": 160,
    "start_time": "2022-05-24T12:21:16.601Z"
   },
   {
    "duration": 15,
    "start_time": "2022-05-24T12:21:16.762Z"
   },
   {
    "duration": 12,
    "start_time": "2022-05-24T12:21:16.779Z"
   },
   {
    "duration": 92,
    "start_time": "2022-05-24T12:21:16.793Z"
   },
   {
    "duration": 72,
    "start_time": "2022-05-24T12:21:16.888Z"
   },
   {
    "duration": 14,
    "start_time": "2022-05-24T12:21:16.963Z"
   },
   {
    "duration": 79,
    "start_time": "2022-05-24T12:21:16.980Z"
   },
   {
    "duration": 45,
    "start_time": "2022-05-24T12:21:17.061Z"
   },
   {
    "duration": 62,
    "start_time": "2022-05-24T12:21:17.109Z"
   },
   {
    "duration": 1219,
    "start_time": "2022-05-24T12:21:17.173Z"
   },
   {
    "duration": 2804,
    "start_time": "2022-05-24T12:21:18.393Z"
   },
   {
    "duration": 10,
    "start_time": "2022-05-24T12:21:21.199Z"
   },
   {
    "duration": 247,
    "start_time": "2022-05-24T12:21:21.211Z"
   },
   {
    "duration": 6,
    "start_time": "2022-05-24T12:21:21.460Z"
   },
   {
    "duration": 1966,
    "start_time": "2022-05-24T12:21:21.468Z"
   },
   {
    "duration": 22,
    "start_time": "2022-05-24T12:21:23.436Z"
   },
   {
    "duration": 0,
    "start_time": "2022-05-24T12:21:23.459Z"
   },
   {
    "duration": 3,
    "start_time": "2022-05-24T12:22:01.069Z"
   },
   {
    "duration": 79,
    "start_time": "2022-05-24T12:22:01.074Z"
   },
   {
    "duration": 14,
    "start_time": "2022-05-24T12:22:01.155Z"
   },
   {
    "duration": 17,
    "start_time": "2022-05-24T12:22:01.171Z"
   },
   {
    "duration": 31,
    "start_time": "2022-05-24T12:22:01.190Z"
   },
   {
    "duration": 18,
    "start_time": "2022-05-24T12:22:01.223Z"
   },
   {
    "duration": 15,
    "start_time": "2022-05-24T12:22:02.070Z"
   },
   {
    "duration": 10,
    "start_time": "2022-05-24T12:22:02.088Z"
   },
   {
    "duration": 117,
    "start_time": "2022-05-24T12:22:02.100Z"
   },
   {
    "duration": 24,
    "start_time": "2022-05-24T12:22:02.219Z"
   },
   {
    "duration": 12,
    "start_time": "2022-05-24T12:22:02.245Z"
   },
   {
    "duration": 49,
    "start_time": "2022-05-24T12:22:02.259Z"
   },
   {
    "duration": 75,
    "start_time": "2022-05-24T12:22:02.310Z"
   },
   {
    "duration": 11,
    "start_time": "2022-05-24T12:22:02.388Z"
   },
   {
    "duration": 61,
    "start_time": "2022-05-24T12:22:02.401Z"
   },
   {
    "duration": 31,
    "start_time": "2022-05-24T12:22:02.464Z"
   },
   {
    "duration": 60,
    "start_time": "2022-05-24T12:22:02.497Z"
   },
   {
    "duration": 1069,
    "start_time": "2022-05-24T12:22:02.559Z"
   },
   {
    "duration": 2685,
    "start_time": "2022-05-24T12:22:03.630Z"
   },
   {
    "duration": 10,
    "start_time": "2022-05-24T12:22:06.317Z"
   },
   {
    "duration": 201,
    "start_time": "2022-05-24T12:22:06.340Z"
   },
   {
    "duration": 5,
    "start_time": "2022-05-24T12:22:06.543Z"
   },
   {
    "duration": 1849,
    "start_time": "2022-05-24T12:22:06.549Z"
   },
   {
    "duration": 20,
    "start_time": "2022-05-24T12:22:08.400Z"
   },
   {
    "duration": 31,
    "start_time": "2022-05-24T12:22:08.422Z"
   },
   {
    "duration": 3,
    "start_time": "2022-05-24T12:26:00.978Z"
   },
   {
    "duration": 70,
    "start_time": "2022-05-24T12:26:00.985Z"
   },
   {
    "duration": 15,
    "start_time": "2022-05-24T12:26:01.058Z"
   },
   {
    "duration": 25,
    "start_time": "2022-05-24T12:26:01.074Z"
   },
   {
    "duration": 33,
    "start_time": "2022-05-24T12:26:01.102Z"
   },
   {
    "duration": 12,
    "start_time": "2022-05-24T12:26:01.137Z"
   },
   {
    "duration": 33,
    "start_time": "2022-05-24T12:26:01.152Z"
   },
   {
    "duration": 10,
    "start_time": "2022-05-24T12:26:01.187Z"
   },
   {
    "duration": 136,
    "start_time": "2022-05-24T12:26:01.199Z"
   },
   {
    "duration": 14,
    "start_time": "2022-05-24T12:26:01.341Z"
   },
   {
    "duration": 19,
    "start_time": "2022-05-24T12:26:01.358Z"
   },
   {
    "duration": 71,
    "start_time": "2022-05-24T12:26:01.379Z"
   },
   {
    "duration": 56,
    "start_time": "2022-05-24T12:26:01.453Z"
   },
   {
    "duration": 10,
    "start_time": "2022-05-24T12:26:01.511Z"
   },
   {
    "duration": 48,
    "start_time": "2022-05-24T12:26:01.542Z"
   },
   {
    "duration": 57,
    "start_time": "2022-05-24T12:26:01.593Z"
   },
   {
    "duration": 30,
    "start_time": "2022-05-24T12:26:01.651Z"
   },
   {
    "duration": 1200,
    "start_time": "2022-05-24T12:26:01.683Z"
   },
   {
    "duration": 22,
    "start_time": "2022-05-24T12:26:02.885Z"
   },
   {
    "duration": 1841,
    "start_time": "2022-05-24T12:26:02.909Z"
   },
   {
    "duration": 15,
    "start_time": "2022-05-24T12:26:04.752Z"
   },
   {
    "duration": 3,
    "start_time": "2022-05-24T12:27:07.797Z"
   },
   {
    "duration": 73,
    "start_time": "2022-05-24T12:27:07.805Z"
   },
   {
    "duration": 13,
    "start_time": "2022-05-24T12:27:07.880Z"
   },
   {
    "duration": 17,
    "start_time": "2022-05-24T12:27:07.895Z"
   },
   {
    "duration": 41,
    "start_time": "2022-05-24T12:27:07.914Z"
   },
   {
    "duration": 5,
    "start_time": "2022-05-24T12:27:07.957Z"
   },
   {
    "duration": 18,
    "start_time": "2022-05-24T12:27:07.964Z"
   },
   {
    "duration": 9,
    "start_time": "2022-05-24T12:27:07.984Z"
   },
   {
    "duration": 161,
    "start_time": "2022-05-24T12:27:07.995Z"
   },
   {
    "duration": 14,
    "start_time": "2022-05-24T12:27:08.158Z"
   },
   {
    "duration": 12,
    "start_time": "2022-05-24T12:27:08.175Z"
   },
   {
    "duration": 193,
    "start_time": "2022-05-24T12:27:08.189Z"
   },
   {
    "duration": 63,
    "start_time": "2022-05-24T12:27:08.383Z"
   },
   {
    "duration": 10,
    "start_time": "2022-05-24T12:27:08.448Z"
   },
   {
    "duration": 64,
    "start_time": "2022-05-24T12:27:08.460Z"
   },
   {
    "duration": 40,
    "start_time": "2022-05-24T12:27:08.525Z"
   },
   {
    "duration": 43,
    "start_time": "2022-05-24T12:27:08.568Z"
   },
   {
    "duration": 1136,
    "start_time": "2022-05-24T12:27:08.613Z"
   },
   {
    "duration": 18,
    "start_time": "2022-05-24T12:27:09.750Z"
   },
   {
    "duration": 2176,
    "start_time": "2022-05-24T12:27:09.770Z"
   },
   {
    "duration": 430,
    "start_time": "2022-05-24T12:27:11.948Z"
   },
   {
    "duration": 3,
    "start_time": "2022-05-24T12:36:33.073Z"
   },
   {
    "duration": 129,
    "start_time": "2022-05-24T12:36:33.079Z"
   },
   {
    "duration": 16,
    "start_time": "2022-05-24T12:36:33.210Z"
   },
   {
    "duration": 25,
    "start_time": "2022-05-24T12:36:33.228Z"
   },
   {
    "duration": 31,
    "start_time": "2022-05-24T12:36:33.256Z"
   },
   {
    "duration": 7,
    "start_time": "2022-05-24T12:36:33.290Z"
   },
   {
    "duration": 46,
    "start_time": "2022-05-24T12:36:33.299Z"
   },
   {
    "duration": 11,
    "start_time": "2022-05-24T12:36:33.347Z"
   },
   {
    "duration": 156,
    "start_time": "2022-05-24T12:36:33.361Z"
   },
   {
    "duration": 26,
    "start_time": "2022-05-24T12:36:33.520Z"
   },
   {
    "duration": 13,
    "start_time": "2022-05-24T12:36:33.549Z"
   },
   {
    "duration": 78,
    "start_time": "2022-05-24T12:36:33.564Z"
   },
   {
    "duration": 84,
    "start_time": "2022-05-24T12:36:33.645Z"
   },
   {
    "duration": 12,
    "start_time": "2022-05-24T12:36:33.743Z"
   },
   {
    "duration": 55,
    "start_time": "2022-05-24T12:36:33.758Z"
   },
   {
    "duration": 57,
    "start_time": "2022-05-24T12:36:33.815Z"
   },
   {
    "duration": 67,
    "start_time": "2022-05-24T12:36:33.874Z"
   },
   {
    "duration": 1535,
    "start_time": "2022-05-24T12:36:33.944Z"
   },
   {
    "duration": 18,
    "start_time": "2022-05-24T12:36:35.481Z"
   },
   {
    "duration": 2987,
    "start_time": "2022-05-24T12:36:35.501Z"
   },
   {
    "duration": 421,
    "start_time": "2022-05-24T12:36:38.490Z"
   },
   {
    "duration": 5,
    "start_time": "2022-05-24T12:39:01.938Z"
   },
   {
    "duration": 114,
    "start_time": "2022-05-24T12:39:01.946Z"
   },
   {
    "duration": 19,
    "start_time": "2022-05-24T12:39:02.063Z"
   },
   {
    "duration": 60,
    "start_time": "2022-05-24T12:39:02.084Z"
   },
   {
    "duration": 51,
    "start_time": "2022-05-24T12:39:02.147Z"
   },
   {
    "duration": 33,
    "start_time": "2022-05-24T12:39:02.201Z"
   },
   {
    "duration": 35,
    "start_time": "2022-05-24T12:39:02.236Z"
   },
   {
    "duration": 11,
    "start_time": "2022-05-24T12:39:02.273Z"
   },
   {
    "duration": 147,
    "start_time": "2022-05-24T12:39:02.286Z"
   },
   {
    "duration": 17,
    "start_time": "2022-05-24T12:39:02.436Z"
   },
   {
    "duration": 27,
    "start_time": "2022-05-24T12:39:02.457Z"
   },
   {
    "duration": 73,
    "start_time": "2022-05-24T12:39:02.487Z"
   },
   {
    "duration": 66,
    "start_time": "2022-05-24T12:39:02.562Z"
   },
   {
    "duration": 14,
    "start_time": "2022-05-24T12:39:02.642Z"
   },
   {
    "duration": 60,
    "start_time": "2022-05-24T12:39:02.658Z"
   },
   {
    "duration": 53,
    "start_time": "2022-05-24T12:39:02.720Z"
   },
   {
    "duration": 73,
    "start_time": "2022-05-24T12:39:02.775Z"
   },
   {
    "duration": 1104,
    "start_time": "2022-05-24T12:39:02.851Z"
   },
   {
    "duration": 1927,
    "start_time": "2022-05-24T12:39:03.957Z"
   },
   {
    "duration": 12,
    "start_time": "2022-05-24T12:39:05.886Z"
   },
   {
    "duration": 124,
    "start_time": "2022-05-24T12:39:05.900Z"
   },
   {
    "duration": 4,
    "start_time": "2022-05-24T12:40:18.456Z"
   },
   {
    "duration": 77,
    "start_time": "2022-05-24T12:40:18.462Z"
   },
   {
    "duration": 16,
    "start_time": "2022-05-24T12:40:18.542Z"
   },
   {
    "duration": 21,
    "start_time": "2022-05-24T12:40:18.560Z"
   },
   {
    "duration": 27,
    "start_time": "2022-05-24T12:40:18.585Z"
   },
   {
    "duration": 30,
    "start_time": "2022-05-24T12:40:18.614Z"
   },
   {
    "duration": 25,
    "start_time": "2022-05-24T12:40:18.646Z"
   },
   {
    "duration": 11,
    "start_time": "2022-05-24T12:40:18.673Z"
   },
   {
    "duration": 193,
    "start_time": "2022-05-24T12:40:18.687Z"
   },
   {
    "duration": 18,
    "start_time": "2022-05-24T12:40:18.882Z"
   },
   {
    "duration": 37,
    "start_time": "2022-05-24T12:40:18.905Z"
   },
   {
    "duration": 105,
    "start_time": "2022-05-24T12:40:18.945Z"
   },
   {
    "duration": 69,
    "start_time": "2022-05-24T12:40:19.052Z"
   },
   {
    "duration": 31,
    "start_time": "2022-05-24T12:40:19.123Z"
   },
   {
    "duration": 64,
    "start_time": "2022-05-24T12:40:19.156Z"
   },
   {
    "duration": 55,
    "start_time": "2022-05-24T12:40:19.223Z"
   },
   {
    "duration": 77,
    "start_time": "2022-05-24T12:40:19.280Z"
   },
   {
    "duration": 1081,
    "start_time": "2022-05-24T12:40:19.359Z"
   },
   {
    "duration": 2020,
    "start_time": "2022-05-24T12:40:20.443Z"
   },
   {
    "duration": 14,
    "start_time": "2022-05-24T12:40:22.465Z"
   },
   {
    "duration": 19,
    "start_time": "2022-05-24T12:40:22.481Z"
   },
   {
    "duration": 95,
    "start_time": "2022-05-24T12:40:22.503Z"
   },
   {
    "duration": 3,
    "start_time": "2022-05-24T12:40:34.797Z"
   },
   {
    "duration": 85,
    "start_time": "2022-05-24T12:40:34.805Z"
   },
   {
    "duration": 22,
    "start_time": "2022-05-24T12:40:34.893Z"
   },
   {
    "duration": 22,
    "start_time": "2022-05-24T12:40:34.942Z"
   },
   {
    "duration": 23,
    "start_time": "2022-05-24T12:40:34.967Z"
   },
   {
    "duration": 8,
    "start_time": "2022-05-24T12:40:34.992Z"
   },
   {
    "duration": 61,
    "start_time": "2022-05-24T12:40:35.005Z"
   },
   {
    "duration": 14,
    "start_time": "2022-05-24T12:40:35.069Z"
   },
   {
    "duration": 191,
    "start_time": "2022-05-24T12:40:35.085Z"
   },
   {
    "duration": 16,
    "start_time": "2022-05-24T12:40:35.278Z"
   },
   {
    "duration": 15,
    "start_time": "2022-05-24T12:40:35.296Z"
   },
   {
    "duration": 116,
    "start_time": "2022-05-24T12:40:35.313Z"
   },
   {
    "duration": 87,
    "start_time": "2022-05-24T12:40:35.430Z"
   },
   {
    "duration": 22,
    "start_time": "2022-05-24T12:40:35.520Z"
   },
   {
    "duration": 97,
    "start_time": "2022-05-24T12:40:35.544Z"
   },
   {
    "duration": 36,
    "start_time": "2022-05-24T12:40:35.644Z"
   },
   {
    "duration": 78,
    "start_time": "2022-05-24T12:40:35.683Z"
   },
   {
    "duration": 1261,
    "start_time": "2022-05-24T12:40:35.763Z"
   },
   {
    "duration": 2627,
    "start_time": "2022-05-24T12:40:37.027Z"
   },
   {
    "duration": 13,
    "start_time": "2022-05-24T12:40:39.656Z"
   },
   {
    "duration": 30,
    "start_time": "2022-05-24T12:40:39.672Z"
   },
   {
    "duration": 81,
    "start_time": "2022-05-24T12:40:39.704Z"
   },
   {
    "duration": 49,
    "start_time": "2022-05-24T14:26:55.690Z"
   },
   {
    "duration": 43,
    "start_time": "2022-05-24T14:27:10.342Z"
   },
   {
    "duration": 3,
    "start_time": "2022-05-24T14:28:50.224Z"
   },
   {
    "duration": 72,
    "start_time": "2022-05-24T14:28:50.230Z"
   },
   {
    "duration": 14,
    "start_time": "2022-05-24T14:28:50.304Z"
   },
   {
    "duration": 21,
    "start_time": "2022-05-24T14:28:50.320Z"
   },
   {
    "duration": 19,
    "start_time": "2022-05-24T14:28:50.343Z"
   },
   {
    "duration": 4,
    "start_time": "2022-05-24T14:28:50.364Z"
   },
   {
    "duration": 16,
    "start_time": "2022-05-24T14:28:50.370Z"
   },
   {
    "duration": 9,
    "start_time": "2022-05-24T14:28:50.388Z"
   },
   {
    "duration": 146,
    "start_time": "2022-05-24T14:28:50.399Z"
   },
   {
    "duration": 14,
    "start_time": "2022-05-24T14:28:50.547Z"
   },
   {
    "duration": 13,
    "start_time": "2022-05-24T14:28:50.562Z"
   },
   {
    "duration": 68,
    "start_time": "2022-05-24T14:28:50.577Z"
   },
   {
    "duration": 51,
    "start_time": "2022-05-24T14:28:50.646Z"
   },
   {
    "duration": 11,
    "start_time": "2022-05-24T14:28:50.699Z"
   },
   {
    "duration": 70,
    "start_time": "2022-05-24T14:28:50.711Z"
   },
   {
    "duration": 30,
    "start_time": "2022-05-24T14:28:50.783Z"
   },
   {
    "duration": 51,
    "start_time": "2022-05-24T14:28:50.815Z"
   },
   {
    "duration": 1278,
    "start_time": "2022-05-24T14:28:50.868Z"
   },
   {
    "duration": 3787,
    "start_time": "2022-05-24T14:28:52.149Z"
   },
   {
    "duration": 10,
    "start_time": "2022-05-24T14:28:55.940Z"
   },
   {
    "duration": 21,
    "start_time": "2022-05-24T14:28:55.952Z"
   },
   {
    "duration": 47,
    "start_time": "2022-05-24T14:28:55.975Z"
   },
   {
    "duration": 44,
    "start_time": "2022-05-24T14:30:43.519Z"
   },
   {
    "duration": 3,
    "start_time": "2022-05-24T14:33:47.267Z"
   },
   {
    "duration": 73,
    "start_time": "2022-05-24T14:33:47.271Z"
   },
   {
    "duration": 14,
    "start_time": "2022-05-24T14:33:47.346Z"
   },
   {
    "duration": 17,
    "start_time": "2022-05-24T14:33:47.363Z"
   },
   {
    "duration": 30,
    "start_time": "2022-05-24T14:33:47.381Z"
   },
   {
    "duration": 5,
    "start_time": "2022-05-24T14:33:47.413Z"
   },
   {
    "duration": 36,
    "start_time": "2022-05-24T14:33:47.419Z"
   },
   {
    "duration": 8,
    "start_time": "2022-05-24T14:33:47.457Z"
   },
   {
    "duration": 132,
    "start_time": "2022-05-24T14:33:47.468Z"
   },
   {
    "duration": 12,
    "start_time": "2022-05-24T14:33:47.602Z"
   },
   {
    "duration": 11,
    "start_time": "2022-05-24T14:33:47.616Z"
   },
   {
    "duration": 47,
    "start_time": "2022-05-24T14:33:47.642Z"
   },
   {
    "duration": 68,
    "start_time": "2022-05-24T14:33:47.691Z"
   },
   {
    "duration": 11,
    "start_time": "2022-05-24T14:33:47.761Z"
   },
   {
    "duration": 48,
    "start_time": "2022-05-24T14:33:47.773Z"
   },
   {
    "duration": 44,
    "start_time": "2022-05-24T14:33:47.822Z"
   },
   {
    "duration": 35,
    "start_time": "2022-05-24T14:33:47.867Z"
   },
   {
    "duration": 969,
    "start_time": "2022-05-24T14:33:47.905Z"
   },
   {
    "duration": 2549,
    "start_time": "2022-05-24T14:33:48.875Z"
   },
   {
    "duration": 19,
    "start_time": "2022-05-24T14:33:51.426Z"
   },
   {
    "duration": 17,
    "start_time": "2022-05-24T14:33:51.447Z"
   },
   {
    "duration": 50,
    "start_time": "2022-05-24T14:33:51.466Z"
   },
   {
    "duration": 511,
    "start_time": "2022-05-24T14:33:51.518Z"
   },
   {
    "duration": 13,
    "start_time": "2022-05-24T14:34:15.624Z"
   },
   {
    "duration": 13,
    "start_time": "2022-05-24T14:35:22.170Z"
   },
   {
    "duration": 13,
    "start_time": "2022-05-24T14:37:09.636Z"
   },
   {
    "duration": 3,
    "start_time": "2022-05-24T14:38:25.843Z"
   },
   {
    "duration": 73,
    "start_time": "2022-05-24T14:38:25.849Z"
   },
   {
    "duration": 12,
    "start_time": "2022-05-24T14:38:25.924Z"
   },
   {
    "duration": 20,
    "start_time": "2022-05-24T14:38:25.937Z"
   },
   {
    "duration": 27,
    "start_time": "2022-05-24T14:38:25.959Z"
   },
   {
    "duration": 5,
    "start_time": "2022-05-24T14:38:25.987Z"
   },
   {
    "duration": 22,
    "start_time": "2022-05-24T14:38:25.993Z"
   },
   {
    "duration": 9,
    "start_time": "2022-05-24T14:38:26.017Z"
   },
   {
    "duration": 118,
    "start_time": "2022-05-24T14:38:26.040Z"
   },
   {
    "duration": 14,
    "start_time": "2022-05-24T14:38:26.159Z"
   },
   {
    "duration": 12,
    "start_time": "2022-05-24T14:38:26.174Z"
   },
   {
    "duration": 76,
    "start_time": "2022-05-24T14:38:26.188Z"
   },
   {
    "duration": 58,
    "start_time": "2022-05-24T14:38:27.010Z"
   },
   {
    "duration": 11,
    "start_time": "2022-05-24T14:38:27.070Z"
   },
   {
    "duration": 61,
    "start_time": "2022-05-24T14:38:27.083Z"
   },
   {
    "duration": 31,
    "start_time": "2022-05-24T14:38:27.146Z"
   },
   {
    "duration": 31,
    "start_time": "2022-05-24T14:38:27.180Z"
   },
   {
    "duration": 1127,
    "start_time": "2022-05-24T14:38:27.242Z"
   },
   {
    "duration": 3354,
    "start_time": "2022-05-24T14:38:28.370Z"
   },
   {
    "duration": 16,
    "start_time": "2022-05-24T14:38:31.727Z"
   },
   {
    "duration": 20,
    "start_time": "2022-05-24T14:38:31.745Z"
   },
   {
    "duration": 50,
    "start_time": "2022-05-24T14:38:31.766Z"
   },
   {
    "duration": 598,
    "start_time": "2022-05-24T14:38:31.817Z"
   },
   {
    "duration": 0,
    "start_time": "2022-05-24T14:38:32.417Z"
   },
   {
    "duration": 3,
    "start_time": "2022-05-24T14:38:57.356Z"
   },
   {
    "duration": 78,
    "start_time": "2022-05-24T14:38:57.364Z"
   },
   {
    "duration": 14,
    "start_time": "2022-05-24T14:38:57.445Z"
   },
   {
    "duration": 16,
    "start_time": "2022-05-24T14:38:57.460Z"
   },
   {
    "duration": 22,
    "start_time": "2022-05-24T14:38:57.478Z"
   },
   {
    "duration": 6,
    "start_time": "2022-05-24T14:38:57.502Z"
   },
   {
    "duration": 43,
    "start_time": "2022-05-24T14:38:57.510Z"
   },
   {
    "duration": 9,
    "start_time": "2022-05-24T14:38:57.554Z"
   },
   {
    "duration": 141,
    "start_time": "2022-05-24T14:38:57.565Z"
   },
   {
    "duration": 13,
    "start_time": "2022-05-24T14:38:57.708Z"
   },
   {
    "duration": 23,
    "start_time": "2022-05-24T14:38:57.722Z"
   },
   {
    "duration": 178,
    "start_time": "2022-05-24T14:38:57.746Z"
   },
   {
    "duration": 67,
    "start_time": "2022-05-24T14:38:57.926Z"
   },
   {
    "duration": 12,
    "start_time": "2022-05-24T14:38:57.995Z"
   },
   {
    "duration": 63,
    "start_time": "2022-05-24T14:38:58.009Z"
   },
   {
    "duration": 28,
    "start_time": "2022-05-24T14:38:58.073Z"
   },
   {
    "duration": 56,
    "start_time": "2022-05-24T14:38:58.103Z"
   },
   {
    "duration": 1048,
    "start_time": "2022-05-24T14:38:58.161Z"
   },
   {
    "duration": 2477,
    "start_time": "2022-05-24T14:38:59.212Z"
   },
   {
    "duration": 10,
    "start_time": "2022-05-24T14:39:01.690Z"
   },
   {
    "duration": 17,
    "start_time": "2022-05-24T14:39:01.702Z"
   },
   {
    "duration": 64,
    "start_time": "2022-05-24T14:39:01.721Z"
   },
   {
    "duration": 145,
    "start_time": "2022-05-24T14:39:01.787Z"
   },
   {
    "duration": 20,
    "start_time": "2022-05-24T14:39:01.933Z"
   },
   {
    "duration": 16,
    "start_time": "2022-05-24T14:45:12.118Z"
   },
   {
    "duration": 3,
    "start_time": "2022-05-24T15:29:33.897Z"
   },
   {
    "duration": 65,
    "start_time": "2022-05-24T15:29:33.904Z"
   },
   {
    "duration": 14,
    "start_time": "2022-05-24T15:29:33.971Z"
   },
   {
    "duration": 14,
    "start_time": "2022-05-24T15:29:33.986Z"
   },
   {
    "duration": 17,
    "start_time": "2022-05-24T15:29:34.002Z"
   },
   {
    "duration": 5,
    "start_time": "2022-05-24T15:29:34.042Z"
   },
   {
    "duration": 24,
    "start_time": "2022-05-24T15:29:34.049Z"
   },
   {
    "duration": 9,
    "start_time": "2022-05-24T15:29:34.075Z"
   },
   {
    "duration": 142,
    "start_time": "2022-05-24T15:29:34.086Z"
   },
   {
    "duration": 20,
    "start_time": "2022-05-24T15:29:34.230Z"
   },
   {
    "duration": 12,
    "start_time": "2022-05-24T15:29:34.251Z"
   },
   {
    "duration": 48,
    "start_time": "2022-05-24T15:29:34.265Z"
   },
   {
    "duration": 68,
    "start_time": "2022-05-24T15:29:34.315Z"
   },
   {
    "duration": 10,
    "start_time": "2022-05-24T15:29:34.385Z"
   },
   {
    "duration": 64,
    "start_time": "2022-05-24T15:29:34.397Z"
   },
   {
    "duration": 31,
    "start_time": "2022-05-24T15:29:34.463Z"
   },
   {
    "duration": 65,
    "start_time": "2022-05-24T15:29:34.497Z"
   },
   {
    "duration": 2862,
    "start_time": "2022-05-24T15:29:34.563Z"
   },
   {
    "duration": 16,
    "start_time": "2022-05-24T15:29:37.427Z"
   },
   {
    "duration": 24,
    "start_time": "2022-05-24T15:29:37.445Z"
   },
   {
    "duration": 52,
    "start_time": "2022-05-24T15:29:37.471Z"
   },
   {
    "duration": 24,
    "start_time": "2022-05-24T15:29:37.524Z"
   },
   {
    "duration": 26,
    "start_time": "2022-05-24T15:29:37.550Z"
   },
   {
    "duration": 37,
    "start_time": "2022-05-24T15:29:37.579Z"
   },
   {
    "duration": 163,
    "start_time": "2022-05-24T15:30:25.679Z"
   },
   {
    "duration": 158,
    "start_time": "2022-05-24T15:31:12.034Z"
   },
   {
    "duration": 152,
    "start_time": "2022-05-24T15:35:43.368Z"
   },
   {
    "duration": 3,
    "start_time": "2022-05-24T15:38:10.133Z"
   },
   {
    "duration": 75,
    "start_time": "2022-05-24T15:38:10.140Z"
   },
   {
    "duration": 12,
    "start_time": "2022-05-24T15:38:10.217Z"
   },
   {
    "duration": 15,
    "start_time": "2022-05-24T15:38:10.230Z"
   },
   {
    "duration": 17,
    "start_time": "2022-05-24T15:38:10.247Z"
   },
   {
    "duration": 6,
    "start_time": "2022-05-24T15:38:10.266Z"
   },
   {
    "duration": 16,
    "start_time": "2022-05-24T15:38:10.273Z"
   },
   {
    "duration": 9,
    "start_time": "2022-05-24T15:38:10.290Z"
   },
   {
    "duration": 149,
    "start_time": "2022-05-24T15:38:10.301Z"
   },
   {
    "duration": 13,
    "start_time": "2022-05-24T15:38:10.452Z"
   },
   {
    "duration": 24,
    "start_time": "2022-05-24T15:38:10.467Z"
   },
   {
    "duration": 57,
    "start_time": "2022-05-24T15:38:10.493Z"
   },
   {
    "duration": 50,
    "start_time": "2022-05-24T15:38:10.552Z"
   },
   {
    "duration": 10,
    "start_time": "2022-05-24T15:38:10.604Z"
   },
   {
    "duration": 66,
    "start_time": "2022-05-24T15:38:10.616Z"
   },
   {
    "duration": 30,
    "start_time": "2022-05-24T15:38:10.684Z"
   },
   {
    "duration": 29,
    "start_time": "2022-05-24T15:38:10.742Z"
   },
   {
    "duration": 3244,
    "start_time": "2022-05-24T15:38:10.773Z"
   },
   {
    "duration": 11,
    "start_time": "2022-05-24T15:38:14.019Z"
   },
   {
    "duration": 26,
    "start_time": "2022-05-24T15:38:14.031Z"
   },
   {
    "duration": 49,
    "start_time": "2022-05-24T15:38:14.058Z"
   },
   {
    "duration": 12,
    "start_time": "2022-05-24T15:38:14.109Z"
   },
   {
    "duration": 16,
    "start_time": "2022-05-24T15:38:14.140Z"
   },
   {
    "duration": 196,
    "start_time": "2022-05-24T15:38:14.157Z"
   },
   {
    "duration": 5,
    "start_time": "2022-05-24T15:38:14.355Z"
   },
   {
    "duration": 3,
    "start_time": "2022-05-24T15:38:32.260Z"
   },
   {
    "duration": 64,
    "start_time": "2022-05-24T15:38:32.272Z"
   },
   {
    "duration": 13,
    "start_time": "2022-05-24T15:38:32.337Z"
   },
   {
    "duration": 17,
    "start_time": "2022-05-24T15:38:32.352Z"
   },
   {
    "duration": 23,
    "start_time": "2022-05-24T15:38:32.370Z"
   },
   {
    "duration": 4,
    "start_time": "2022-05-24T15:38:32.395Z"
   },
   {
    "duration": 21,
    "start_time": "2022-05-24T15:38:32.401Z"
   },
   {
    "duration": 11,
    "start_time": "2022-05-24T15:38:32.440Z"
   },
   {
    "duration": 138,
    "start_time": "2022-05-24T15:38:32.452Z"
   },
   {
    "duration": 14,
    "start_time": "2022-05-24T15:38:32.592Z"
   },
   {
    "duration": 12,
    "start_time": "2022-05-24T15:38:32.608Z"
   },
   {
    "duration": 67,
    "start_time": "2022-05-24T15:38:32.621Z"
   },
   {
    "duration": 67,
    "start_time": "2022-05-24T15:38:32.690Z"
   },
   {
    "duration": 11,
    "start_time": "2022-05-24T15:38:32.759Z"
   },
   {
    "duration": 48,
    "start_time": "2022-05-24T15:38:32.771Z"
   },
   {
    "duration": 46,
    "start_time": "2022-05-24T15:38:32.821Z"
   },
   {
    "duration": 30,
    "start_time": "2022-05-24T15:38:32.869Z"
   },
   {
    "duration": 1769,
    "start_time": "2022-05-24T15:38:32.901Z"
   },
   {
    "duration": 11,
    "start_time": "2022-05-24T15:38:34.671Z"
   },
   {
    "duration": 17,
    "start_time": "2022-05-24T15:38:34.683Z"
   },
   {
    "duration": 67,
    "start_time": "2022-05-24T15:38:34.701Z"
   },
   {
    "duration": 11,
    "start_time": "2022-05-24T15:38:34.770Z"
   },
   {
    "duration": 13,
    "start_time": "2022-05-24T15:38:34.783Z"
   },
   {
    "duration": 157,
    "start_time": "2022-05-24T15:38:34.798Z"
   },
   {
    "duration": 4,
    "start_time": "2022-05-24T15:38:34.957Z"
   },
   {
    "duration": 3,
    "start_time": "2022-05-24T15:40:55.953Z"
   },
   {
    "duration": 67,
    "start_time": "2022-05-24T15:40:55.958Z"
   },
   {
    "duration": 13,
    "start_time": "2022-05-24T15:40:56.027Z"
   },
   {
    "duration": 15,
    "start_time": "2022-05-24T15:40:56.041Z"
   },
   {
    "duration": 21,
    "start_time": "2022-05-24T15:40:56.058Z"
   },
   {
    "duration": 5,
    "start_time": "2022-05-24T15:40:56.080Z"
   },
   {
    "duration": 27,
    "start_time": "2022-05-24T15:40:56.087Z"
   },
   {
    "duration": 32,
    "start_time": "2022-05-24T15:40:56.116Z"
   },
   {
    "duration": 123,
    "start_time": "2022-05-24T15:40:56.149Z"
   },
   {
    "duration": 13,
    "start_time": "2022-05-24T15:40:56.274Z"
   },
   {
    "duration": 11,
    "start_time": "2022-05-24T15:40:56.289Z"
   },
   {
    "duration": 71,
    "start_time": "2022-05-24T15:40:56.302Z"
   },
   {
    "duration": 50,
    "start_time": "2022-05-24T15:40:56.375Z"
   },
   {
    "duration": 22,
    "start_time": "2022-05-24T15:40:56.426Z"
   },
   {
    "duration": 43,
    "start_time": "2022-05-24T15:40:56.449Z"
   },
   {
    "duration": 54,
    "start_time": "2022-05-24T15:40:56.494Z"
   },
   {
    "duration": 29,
    "start_time": "2022-05-24T15:40:56.549Z"
   },
   {
    "duration": 1884,
    "start_time": "2022-05-24T15:40:56.580Z"
   },
   {
    "duration": 10,
    "start_time": "2022-05-24T15:40:58.467Z"
   },
   {
    "duration": 18,
    "start_time": "2022-05-24T15:40:58.479Z"
   },
   {
    "duration": 70,
    "start_time": "2022-05-24T15:40:58.499Z"
   },
   {
    "duration": 13,
    "start_time": "2022-05-24T15:40:58.571Z"
   },
   {
    "duration": 16,
    "start_time": "2022-05-24T15:40:58.586Z"
   },
   {
    "duration": 155,
    "start_time": "2022-05-24T15:40:58.604Z"
   },
   {
    "duration": 5,
    "start_time": "2022-05-24T15:40:58.761Z"
   },
   {
    "duration": 158,
    "start_time": "2022-05-24T15:42:28.722Z"
   },
   {
    "duration": 16,
    "start_time": "2022-05-24T15:43:47.876Z"
   },
   {
    "duration": 94,
    "start_time": "2022-05-24T15:44:50.336Z"
   },
   {
    "duration": 165,
    "start_time": "2022-05-24T15:45:20.288Z"
   },
   {
    "duration": 3,
    "start_time": "2022-05-24T16:19:39.889Z"
   },
   {
    "duration": 79,
    "start_time": "2022-05-24T16:19:39.898Z"
   },
   {
    "duration": 13,
    "start_time": "2022-05-24T16:19:39.979Z"
   },
   {
    "duration": 13,
    "start_time": "2022-05-24T16:19:39.993Z"
   },
   {
    "duration": 36,
    "start_time": "2022-05-24T16:19:40.008Z"
   },
   {
    "duration": 5,
    "start_time": "2022-05-24T16:19:40.046Z"
   },
   {
    "duration": 17,
    "start_time": "2022-05-24T16:19:40.053Z"
   },
   {
    "duration": 8,
    "start_time": "2022-05-24T16:19:40.072Z"
   },
   {
    "duration": 132,
    "start_time": "2022-05-24T16:19:40.081Z"
   },
   {
    "duration": 12,
    "start_time": "2022-05-24T16:19:40.215Z"
   },
   {
    "duration": 13,
    "start_time": "2022-05-24T16:19:40.240Z"
   },
   {
    "duration": 47,
    "start_time": "2022-05-24T16:19:40.255Z"
   },
   {
    "duration": 62,
    "start_time": "2022-05-24T16:19:40.304Z"
   },
   {
    "duration": 10,
    "start_time": "2022-05-24T16:19:40.367Z"
   },
   {
    "duration": 42,
    "start_time": "2022-05-24T16:19:40.378Z"
   },
   {
    "duration": 45,
    "start_time": "2022-05-24T16:19:40.421Z"
   },
   {
    "duration": 26,
    "start_time": "2022-05-24T16:19:40.468Z"
   },
   {
    "duration": 3223,
    "start_time": "2022-05-24T16:19:40.496Z"
   },
   {
    "duration": 11,
    "start_time": "2022-05-24T16:19:43.720Z"
   },
   {
    "duration": 15,
    "start_time": "2022-05-24T16:19:43.740Z"
   },
   {
    "duration": 45,
    "start_time": "2022-05-24T16:19:43.757Z"
   },
   {
    "duration": 12,
    "start_time": "2022-05-24T16:19:43.804Z"
   },
   {
    "duration": 15,
    "start_time": "2022-05-24T16:19:43.841Z"
   },
   {
    "duration": 144,
    "start_time": "2022-05-24T16:19:43.858Z"
   },
   {
    "duration": 166,
    "start_time": "2022-05-24T16:19:44.004Z"
   },
   {
    "duration": 181,
    "start_time": "2022-05-24T16:19:44.172Z"
   },
   {
    "duration": 304,
    "start_time": "2022-05-24T16:20:05.384Z"
   },
   {
    "duration": 34,
    "start_time": "2022-05-24T16:23:48.208Z"
   },
   {
    "duration": 7,
    "start_time": "2022-05-24T16:25:20.651Z"
   },
   {
    "duration": 130,
    "start_time": "2022-05-24T16:25:21.750Z"
   },
   {
    "duration": 67,
    "start_time": "2022-05-25T15:39:47.467Z"
   },
   {
    "duration": 1384,
    "start_time": "2022-05-25T15:40:05.876Z"
   },
   {
    "duration": 273,
    "start_time": "2022-05-25T15:40:07.262Z"
   },
   {
    "duration": 16,
    "start_time": "2022-05-25T15:40:07.537Z"
   },
   {
    "duration": 14,
    "start_time": "2022-05-25T15:40:07.555Z"
   },
   {
    "duration": 26,
    "start_time": "2022-05-25T15:40:07.570Z"
   },
   {
    "duration": 5,
    "start_time": "2022-05-25T15:40:07.598Z"
   },
   {
    "duration": 28,
    "start_time": "2022-05-25T15:40:07.604Z"
   },
   {
    "duration": 235,
    "start_time": "2022-05-25T15:40:07.634Z"
   },
   {
    "duration": 222,
    "start_time": "2022-05-25T15:40:07.871Z"
   },
   {
    "duration": 30,
    "start_time": "2022-05-25T15:40:08.096Z"
   },
   {
    "duration": 13,
    "start_time": "2022-05-25T15:40:08.128Z"
   },
   {
    "duration": 236,
    "start_time": "2022-05-25T15:40:08.143Z"
   },
   {
    "duration": 58,
    "start_time": "2022-05-25T15:40:08.380Z"
   },
   {
    "duration": 10,
    "start_time": "2022-05-25T15:40:08.440Z"
   },
   {
    "duration": 46,
    "start_time": "2022-05-25T15:40:08.451Z"
   },
   {
    "duration": 43,
    "start_time": "2022-05-25T15:40:08.498Z"
   },
   {
    "duration": 35,
    "start_time": "2022-05-25T15:40:08.543Z"
   },
   {
    "duration": 3503,
    "start_time": "2022-05-25T15:40:08.580Z"
   },
   {
    "duration": 13,
    "start_time": "2022-05-25T15:40:12.085Z"
   },
   {
    "duration": 31,
    "start_time": "2022-05-25T15:40:12.099Z"
   },
   {
    "duration": 49,
    "start_time": "2022-05-25T15:40:12.132Z"
   },
   {
    "duration": 138,
    "start_time": "2022-05-25T15:40:12.183Z"
   },
   {
    "duration": 0,
    "start_time": "2022-05-25T15:40:12.322Z"
   },
   {
    "duration": 0,
    "start_time": "2022-05-25T15:40:12.324Z"
   },
   {
    "duration": 0,
    "start_time": "2022-05-25T15:40:12.325Z"
   },
   {
    "duration": 3,
    "start_time": "2022-05-25T15:41:20.098Z"
   },
   {
    "duration": 75,
    "start_time": "2022-05-25T15:41:20.104Z"
   },
   {
    "duration": 13,
    "start_time": "2022-05-25T15:41:20.181Z"
   },
   {
    "duration": 15,
    "start_time": "2022-05-25T15:41:20.195Z"
   },
   {
    "duration": 28,
    "start_time": "2022-05-25T15:41:20.212Z"
   },
   {
    "duration": 4,
    "start_time": "2022-05-25T15:41:20.242Z"
   },
   {
    "duration": 19,
    "start_time": "2022-05-25T15:41:20.248Z"
   },
   {
    "duration": 9,
    "start_time": "2022-05-25T15:41:20.269Z"
   },
   {
    "duration": 142,
    "start_time": "2022-05-25T15:41:20.282Z"
   },
   {
    "duration": 13,
    "start_time": "2022-05-25T15:41:20.426Z"
   },
   {
    "duration": 11,
    "start_time": "2022-05-25T15:41:20.440Z"
   },
   {
    "duration": 56,
    "start_time": "2022-05-25T15:41:20.453Z"
   },
   {
    "duration": 63,
    "start_time": "2022-05-25T15:41:20.511Z"
   },
   {
    "duration": 11,
    "start_time": "2022-05-25T15:41:20.576Z"
   },
   {
    "duration": 173,
    "start_time": "2022-05-25T15:41:20.589Z"
   },
   {
    "duration": 31,
    "start_time": "2022-05-25T15:41:20.764Z"
   },
   {
    "duration": 58,
    "start_time": "2022-05-25T15:41:20.798Z"
   },
   {
    "duration": 2293,
    "start_time": "2022-05-25T15:41:20.858Z"
   },
   {
    "duration": 11,
    "start_time": "2022-05-25T15:41:23.154Z"
   },
   {
    "duration": 18,
    "start_time": "2022-05-25T15:41:23.166Z"
   },
   {
    "duration": 69,
    "start_time": "2022-05-25T15:41:23.185Z"
   },
   {
    "duration": 12,
    "start_time": "2022-05-25T15:41:23.257Z"
   },
   {
    "duration": 15,
    "start_time": "2022-05-25T15:41:23.271Z"
   },
   {
    "duration": 177,
    "start_time": "2022-05-25T15:41:23.288Z"
   },
   {
    "duration": 160,
    "start_time": "2022-05-25T15:41:23.467Z"
   },
   {
    "duration": 159,
    "start_time": "2022-05-25T15:42:47.830Z"
   },
   {
    "duration": 177,
    "start_time": "2022-05-25T15:43:42.728Z"
   },
   {
    "duration": 177,
    "start_time": "2022-05-25T15:51:27.722Z"
   },
   {
    "duration": 167,
    "start_time": "2022-05-25T15:52:09.239Z"
   },
   {
    "duration": 4,
    "start_time": "2022-05-25T15:52:22.759Z"
   },
   {
    "duration": 79,
    "start_time": "2022-05-25T15:52:22.766Z"
   },
   {
    "duration": 14,
    "start_time": "2022-05-25T15:52:22.848Z"
   },
   {
    "duration": 17,
    "start_time": "2022-05-25T15:52:22.864Z"
   },
   {
    "duration": 44,
    "start_time": "2022-05-25T15:52:22.883Z"
   },
   {
    "duration": 6,
    "start_time": "2022-05-25T15:52:22.929Z"
   },
   {
    "duration": 19,
    "start_time": "2022-05-25T15:52:22.937Z"
   },
   {
    "duration": 8,
    "start_time": "2022-05-25T15:52:22.958Z"
   },
   {
    "duration": 155,
    "start_time": "2022-05-25T15:52:22.968Z"
   },
   {
    "duration": 13,
    "start_time": "2022-05-25T15:52:23.124Z"
   },
   {
    "duration": 38,
    "start_time": "2022-05-25T15:52:23.140Z"
   },
   {
    "duration": 61,
    "start_time": "2022-05-25T15:52:23.180Z"
   },
   {
    "duration": 52,
    "start_time": "2022-05-25T15:52:23.242Z"
   },
   {
    "duration": 11,
    "start_time": "2022-05-25T15:52:23.296Z"
   },
   {
    "duration": 54,
    "start_time": "2022-05-25T15:52:23.327Z"
   },
   {
    "duration": 56,
    "start_time": "2022-05-25T15:52:23.384Z"
   },
   {
    "duration": 33,
    "start_time": "2022-05-25T15:52:23.442Z"
   },
   {
    "duration": 4484,
    "start_time": "2022-05-25T15:52:23.477Z"
   },
   {
    "duration": 11,
    "start_time": "2022-05-25T15:52:27.962Z"
   },
   {
    "duration": 18,
    "start_time": "2022-05-25T15:52:27.975Z"
   },
   {
    "duration": 67,
    "start_time": "2022-05-25T15:52:27.995Z"
   },
   {
    "duration": 12,
    "start_time": "2022-05-25T15:52:28.063Z"
   },
   {
    "duration": 22,
    "start_time": "2022-05-25T15:52:28.076Z"
   },
   {
    "duration": 159,
    "start_time": "2022-05-25T15:52:28.100Z"
   },
   {
    "duration": 188,
    "start_time": "2022-05-25T15:52:28.261Z"
   },
   {
    "duration": 188,
    "start_time": "2022-05-25T15:52:28.451Z"
   },
   {
    "duration": 176,
    "start_time": "2022-05-25T15:53:26.189Z"
   },
   {
    "duration": 319,
    "start_time": "2022-05-25T15:53:33.958Z"
   },
   {
    "duration": 4,
    "start_time": "2022-05-25T15:53:37.381Z"
   },
   {
    "duration": 92,
    "start_time": "2022-05-25T15:53:37.388Z"
   },
   {
    "duration": 14,
    "start_time": "2022-05-25T15:53:37.482Z"
   },
   {
    "duration": 32,
    "start_time": "2022-05-25T15:53:37.498Z"
   },
   {
    "duration": 19,
    "start_time": "2022-05-25T15:53:37.532Z"
   },
   {
    "duration": 5,
    "start_time": "2022-05-25T15:53:37.553Z"
   },
   {
    "duration": 19,
    "start_time": "2022-05-25T15:53:37.560Z"
   },
   {
    "duration": 45,
    "start_time": "2022-05-25T15:53:37.581Z"
   },
   {
    "duration": 139,
    "start_time": "2022-05-25T15:53:37.629Z"
   },
   {
    "duration": 16,
    "start_time": "2022-05-25T15:53:37.769Z"
   },
   {
    "duration": 13,
    "start_time": "2022-05-25T15:53:37.788Z"
   },
   {
    "duration": 77,
    "start_time": "2022-05-25T15:53:37.803Z"
   },
   {
    "duration": 76,
    "start_time": "2022-05-25T15:53:37.881Z"
   },
   {
    "duration": 11,
    "start_time": "2022-05-25T15:53:37.959Z"
   },
   {
    "duration": 76,
    "start_time": "2022-05-25T15:53:37.972Z"
   },
   {
    "duration": 37,
    "start_time": "2022-05-25T15:53:38.050Z"
   },
   {
    "duration": 74,
    "start_time": "2022-05-25T15:53:38.089Z"
   },
   {
    "duration": 1949,
    "start_time": "2022-05-25T15:53:38.165Z"
   },
   {
    "duration": 17,
    "start_time": "2022-05-25T15:53:40.116Z"
   },
   {
    "duration": 33,
    "start_time": "2022-05-25T15:53:40.135Z"
   },
   {
    "duration": 49,
    "start_time": "2022-05-25T15:53:40.169Z"
   },
   {
    "duration": 15,
    "start_time": "2022-05-25T15:53:40.220Z"
   },
   {
    "duration": 20,
    "start_time": "2022-05-25T15:53:40.237Z"
   },
   {
    "duration": 200,
    "start_time": "2022-05-25T15:53:40.259Z"
   },
   {
    "duration": 180,
    "start_time": "2022-05-25T15:53:40.461Z"
   },
   {
    "duration": 328,
    "start_time": "2022-05-25T15:53:40.642Z"
   },
   {
    "duration": 356,
    "start_time": "2022-05-25T15:56:02.647Z"
   },
   {
    "duration": 4,
    "start_time": "2022-05-25T15:56:18.202Z"
   },
   {
    "duration": 85,
    "start_time": "2022-05-25T15:56:18.209Z"
   },
   {
    "duration": 13,
    "start_time": "2022-05-25T15:56:18.296Z"
   },
   {
    "duration": 31,
    "start_time": "2022-05-25T15:56:18.311Z"
   },
   {
    "duration": 23,
    "start_time": "2022-05-25T15:56:18.344Z"
   },
   {
    "duration": 5,
    "start_time": "2022-05-25T15:56:18.368Z"
   },
   {
    "duration": 19,
    "start_time": "2022-05-25T15:56:18.375Z"
   },
   {
    "duration": 34,
    "start_time": "2022-05-25T15:56:18.396Z"
   },
   {
    "duration": 150,
    "start_time": "2022-05-25T15:56:18.431Z"
   },
   {
    "duration": 13,
    "start_time": "2022-05-25T15:56:18.583Z"
   },
   {
    "duration": 12,
    "start_time": "2022-05-25T15:56:18.599Z"
   },
   {
    "duration": 54,
    "start_time": "2022-05-25T15:56:18.626Z"
   },
   {
    "duration": 70,
    "start_time": "2022-05-25T15:56:18.683Z"
   },
   {
    "duration": 11,
    "start_time": "2022-05-25T15:56:18.755Z"
   },
   {
    "duration": 78,
    "start_time": "2022-05-25T15:56:18.767Z"
   },
   {
    "duration": 37,
    "start_time": "2022-05-25T15:56:18.847Z"
   },
   {
    "duration": 54,
    "start_time": "2022-05-25T15:56:18.885Z"
   },
   {
    "duration": 3043,
    "start_time": "2022-05-25T15:56:18.941Z"
   },
   {
    "duration": 11,
    "start_time": "2022-05-25T15:56:21.986Z"
   },
   {
    "duration": 28,
    "start_time": "2022-05-25T15:56:21.998Z"
   },
   {
    "duration": 50,
    "start_time": "2022-05-25T15:56:22.028Z"
   },
   {
    "duration": 19,
    "start_time": "2022-05-25T15:56:22.079Z"
   },
   {
    "duration": 37,
    "start_time": "2022-05-25T15:56:22.100Z"
   },
   {
    "duration": 148,
    "start_time": "2022-05-25T15:56:22.139Z"
   },
   {
    "duration": 194,
    "start_time": "2022-05-25T15:56:22.289Z"
   },
   {
    "duration": 362,
    "start_time": "2022-05-25T15:56:22.485Z"
   },
   {
    "duration": 171,
    "start_time": "2022-05-25T15:58:19.069Z"
   },
   {
    "duration": 193,
    "start_time": "2022-05-25T15:58:25.986Z"
   },
   {
    "duration": 183,
    "start_time": "2022-05-25T15:58:41.419Z"
   },
   {
    "duration": 181,
    "start_time": "2022-05-25T15:59:23.149Z"
   },
   {
    "duration": 3,
    "start_time": "2022-05-25T16:01:06.786Z"
   },
   {
    "duration": 89,
    "start_time": "2022-05-25T16:01:06.792Z"
   },
   {
    "duration": 14,
    "start_time": "2022-05-25T16:01:06.884Z"
   },
   {
    "duration": 32,
    "start_time": "2022-05-25T16:01:06.900Z"
   },
   {
    "duration": 32,
    "start_time": "2022-05-25T16:01:06.934Z"
   },
   {
    "duration": 6,
    "start_time": "2022-05-25T16:01:06.968Z"
   },
   {
    "duration": 29,
    "start_time": "2022-05-25T16:01:06.975Z"
   },
   {
    "duration": 22,
    "start_time": "2022-05-25T16:01:07.005Z"
   },
   {
    "duration": 150,
    "start_time": "2022-05-25T16:01:07.028Z"
   },
   {
    "duration": 13,
    "start_time": "2022-05-25T16:01:07.180Z"
   },
   {
    "duration": 31,
    "start_time": "2022-05-25T16:01:07.196Z"
   },
   {
    "duration": 58,
    "start_time": "2022-05-25T16:01:07.229Z"
   },
   {
    "duration": 63,
    "start_time": "2022-05-25T16:01:07.288Z"
   },
   {
    "duration": 11,
    "start_time": "2022-05-25T16:01:07.353Z"
   },
   {
    "duration": 92,
    "start_time": "2022-05-25T16:01:07.366Z"
   },
   {
    "duration": 34,
    "start_time": "2022-05-25T16:01:07.459Z"
   },
   {
    "duration": 56,
    "start_time": "2022-05-25T16:01:07.495Z"
   },
   {
    "duration": 2619,
    "start_time": "2022-05-25T16:01:07.553Z"
   },
   {
    "duration": 11,
    "start_time": "2022-05-25T16:01:10.174Z"
   },
   {
    "duration": 19,
    "start_time": "2022-05-25T16:01:10.187Z"
   },
   {
    "duration": 71,
    "start_time": "2022-05-25T16:01:10.207Z"
   },
   {
    "duration": 12,
    "start_time": "2022-05-25T16:01:10.280Z"
   },
   {
    "duration": 40,
    "start_time": "2022-05-25T16:01:10.294Z"
   },
   {
    "duration": 171,
    "start_time": "2022-05-25T16:01:10.335Z"
   },
   {
    "duration": 5,
    "start_time": "2022-05-25T16:01:10.507Z"
   },
   {
    "duration": 157,
    "start_time": "2022-05-25T16:01:10.529Z"
   },
   {
    "duration": 194,
    "start_time": "2022-05-25T16:01:10.688Z"
   },
   {
    "duration": 177,
    "start_time": "2022-05-25T16:01:51.030Z"
   },
   {
    "duration": 465,
    "start_time": "2022-05-25T16:01:57.762Z"
   },
   {
    "duration": 4,
    "start_time": "2022-05-25T16:02:07.124Z"
   },
   {
    "duration": 96,
    "start_time": "2022-05-25T16:02:07.130Z"
   },
   {
    "duration": 12,
    "start_time": "2022-05-25T16:02:07.229Z"
   },
   {
    "duration": 16,
    "start_time": "2022-05-25T16:02:07.243Z"
   },
   {
    "duration": 19,
    "start_time": "2022-05-25T16:02:07.261Z"
   },
   {
    "duration": 4,
    "start_time": "2022-05-25T16:02:07.282Z"
   },
   {
    "duration": 43,
    "start_time": "2022-05-25T16:02:07.288Z"
   },
   {
    "duration": 9,
    "start_time": "2022-05-25T16:02:07.333Z"
   },
   {
    "duration": 152,
    "start_time": "2022-05-25T16:02:07.343Z"
   },
   {
    "duration": 14,
    "start_time": "2022-05-25T16:02:07.496Z"
   },
   {
    "duration": 22,
    "start_time": "2022-05-25T16:02:07.513Z"
   },
   {
    "duration": 57,
    "start_time": "2022-05-25T16:02:07.537Z"
   },
   {
    "duration": 79,
    "start_time": "2022-05-25T16:02:07.596Z"
   },
   {
    "duration": 11,
    "start_time": "2022-05-25T16:02:07.677Z"
   },
   {
    "duration": 71,
    "start_time": "2022-05-25T16:02:07.689Z"
   },
   {
    "duration": 30,
    "start_time": "2022-05-25T16:02:07.762Z"
   },
   {
    "duration": 52,
    "start_time": "2022-05-25T16:02:07.794Z"
   },
   {
    "duration": 1936,
    "start_time": "2022-05-25T16:02:07.848Z"
   },
   {
    "duration": 10,
    "start_time": "2022-05-25T16:02:09.786Z"
   },
   {
    "duration": 29,
    "start_time": "2022-05-25T16:02:09.797Z"
   },
   {
    "duration": 52,
    "start_time": "2022-05-25T16:02:09.828Z"
   },
   {
    "duration": 13,
    "start_time": "2022-05-25T16:02:09.882Z"
   },
   {
    "duration": 37,
    "start_time": "2022-05-25T16:02:09.896Z"
   },
   {
    "duration": 173,
    "start_time": "2022-05-25T16:02:09.935Z"
   },
   {
    "duration": 5,
    "start_time": "2022-05-25T16:02:10.109Z"
   },
   {
    "duration": 183,
    "start_time": "2022-05-25T16:02:10.116Z"
   },
   {
    "duration": 319,
    "start_time": "2022-05-25T16:02:10.301Z"
   },
   {
    "duration": 16,
    "start_time": "2022-05-25T16:03:38.130Z"
   },
   {
    "duration": 3,
    "start_time": "2022-05-25T16:03:50.962Z"
   },
   {
    "duration": 82,
    "start_time": "2022-05-25T16:03:50.970Z"
   },
   {
    "duration": 13,
    "start_time": "2022-05-25T16:03:51.054Z"
   },
   {
    "duration": 14,
    "start_time": "2022-05-25T16:03:51.069Z"
   },
   {
    "duration": 19,
    "start_time": "2022-05-25T16:03:51.085Z"
   },
   {
    "duration": 5,
    "start_time": "2022-05-25T16:03:51.127Z"
   },
   {
    "duration": 23,
    "start_time": "2022-05-25T16:03:51.133Z"
   },
   {
    "duration": 9,
    "start_time": "2022-05-25T16:03:51.157Z"
   },
   {
    "duration": 135,
    "start_time": "2022-05-25T16:03:51.168Z"
   },
   {
    "duration": 12,
    "start_time": "2022-05-25T16:03:51.305Z"
   },
   {
    "duration": 23,
    "start_time": "2022-05-25T16:03:51.325Z"
   },
   {
    "duration": 68,
    "start_time": "2022-05-25T16:03:51.349Z"
   },
   {
    "duration": 58,
    "start_time": "2022-05-25T16:03:51.418Z"
   },
   {
    "duration": 10,
    "start_time": "2022-05-25T16:03:51.477Z"
   },
   {
    "duration": 53,
    "start_time": "2022-05-25T16:03:51.489Z"
   },
   {
    "duration": 27,
    "start_time": "2022-05-25T16:03:51.543Z"
   },
   {
    "duration": 55,
    "start_time": "2022-05-25T16:03:51.572Z"
   },
   {
    "duration": 2022,
    "start_time": "2022-05-25T16:03:51.629Z"
   },
   {
    "duration": 10,
    "start_time": "2022-05-25T16:03:53.653Z"
   },
   {
    "duration": 19,
    "start_time": "2022-05-25T16:03:53.664Z"
   },
   {
    "duration": 63,
    "start_time": "2022-05-25T16:03:53.685Z"
   },
   {
    "duration": 12,
    "start_time": "2022-05-25T16:03:53.749Z"
   },
   {
    "duration": 20,
    "start_time": "2022-05-25T16:03:53.763Z"
   },
   {
    "duration": 161,
    "start_time": "2022-05-25T16:03:53.786Z"
   },
   {
    "duration": 5,
    "start_time": "2022-05-25T16:03:53.949Z"
   },
   {
    "duration": 184,
    "start_time": "2022-05-25T16:03:53.956Z"
   },
   {
    "duration": 20,
    "start_time": "2022-05-25T16:03:54.141Z"
   },
   {
    "duration": 16,
    "start_time": "2022-05-25T16:04:20.916Z"
   },
   {
    "duration": 4,
    "start_time": "2022-05-25T16:04:24.401Z"
   },
   {
    "duration": 96,
    "start_time": "2022-05-25T16:04:24.407Z"
   },
   {
    "duration": 15,
    "start_time": "2022-05-25T16:04:24.506Z"
   },
   {
    "duration": 21,
    "start_time": "2022-05-25T16:04:24.523Z"
   },
   {
    "duration": 19,
    "start_time": "2022-05-25T16:04:24.546Z"
   },
   {
    "duration": 5,
    "start_time": "2022-05-25T16:04:24.567Z"
   },
   {
    "duration": 15,
    "start_time": "2022-05-25T16:04:24.573Z"
   },
   {
    "duration": 30,
    "start_time": "2022-05-25T16:04:24.590Z"
   },
   {
    "duration": 118,
    "start_time": "2022-05-25T16:04:24.622Z"
   },
   {
    "duration": 14,
    "start_time": "2022-05-25T16:04:24.742Z"
   },
   {
    "duration": 13,
    "start_time": "2022-05-25T16:04:24.759Z"
   },
   {
    "duration": 81,
    "start_time": "2022-05-25T16:04:24.774Z"
   },
   {
    "duration": 51,
    "start_time": "2022-05-25T16:04:24.856Z"
   },
   {
    "duration": 20,
    "start_time": "2022-05-25T16:04:24.909Z"
   },
   {
    "duration": 51,
    "start_time": "2022-05-25T16:04:24.930Z"
   },
   {
    "duration": 50,
    "start_time": "2022-05-25T16:04:24.983Z"
   },
   {
    "duration": 33,
    "start_time": "2022-05-25T16:04:25.037Z"
   },
   {
    "duration": 3309,
    "start_time": "2022-05-25T16:04:25.072Z"
   },
   {
    "duration": 10,
    "start_time": "2022-05-25T16:04:28.383Z"
   },
   {
    "duration": 19,
    "start_time": "2022-05-25T16:04:28.394Z"
   },
   {
    "duration": 53,
    "start_time": "2022-05-25T16:04:28.414Z"
   },
   {
    "duration": 10,
    "start_time": "2022-05-25T16:04:28.469Z"
   },
   {
    "duration": 13,
    "start_time": "2022-05-25T16:04:28.481Z"
   },
   {
    "duration": 180,
    "start_time": "2022-05-25T16:04:28.496Z"
   },
   {
    "duration": 4,
    "start_time": "2022-05-25T16:04:28.678Z"
   },
   {
    "duration": 161,
    "start_time": "2022-05-25T16:04:28.684Z"
   },
   {
    "duration": 15,
    "start_time": "2022-05-25T16:04:28.847Z"
   },
   {
    "duration": 17,
    "start_time": "2022-05-25T16:05:39.381Z"
   },
   {
    "duration": 4,
    "start_time": "2022-05-25T16:05:42.117Z"
   },
   {
    "duration": 82,
    "start_time": "2022-05-25T16:05:42.123Z"
   },
   {
    "duration": 13,
    "start_time": "2022-05-25T16:05:42.207Z"
   },
   {
    "duration": 16,
    "start_time": "2022-05-25T16:05:42.222Z"
   },
   {
    "duration": 28,
    "start_time": "2022-05-25T16:05:42.240Z"
   },
   {
    "duration": 6,
    "start_time": "2022-05-25T16:05:42.269Z"
   },
   {
    "duration": 18,
    "start_time": "2022-05-25T16:05:42.277Z"
   },
   {
    "duration": 31,
    "start_time": "2022-05-25T16:05:42.297Z"
   },
   {
    "duration": 133,
    "start_time": "2022-05-25T16:05:42.330Z"
   },
   {
    "duration": 14,
    "start_time": "2022-05-25T16:05:42.465Z"
   },
   {
    "duration": 12,
    "start_time": "2022-05-25T16:05:42.481Z"
   },
   {
    "duration": 63,
    "start_time": "2022-05-25T16:05:42.495Z"
   },
   {
    "duration": 51,
    "start_time": "2022-05-25T16:05:42.559Z"
   },
   {
    "duration": 21,
    "start_time": "2022-05-25T16:05:42.612Z"
   },
   {
    "duration": 59,
    "start_time": "2022-05-25T16:05:42.634Z"
   },
   {
    "duration": 46,
    "start_time": "2022-05-25T16:05:42.694Z"
   },
   {
    "duration": 39,
    "start_time": "2022-05-25T16:05:42.742Z"
   },
   {
    "duration": 3016,
    "start_time": "2022-05-25T16:05:42.783Z"
   },
   {
    "duration": 9,
    "start_time": "2022-05-25T16:05:45.801Z"
   },
   {
    "duration": 25,
    "start_time": "2022-05-25T16:05:45.811Z"
   },
   {
    "duration": 48,
    "start_time": "2022-05-25T16:05:45.837Z"
   },
   {
    "duration": 12,
    "start_time": "2022-05-25T16:05:45.886Z"
   },
   {
    "duration": 40,
    "start_time": "2022-05-25T16:05:45.899Z"
   },
   {
    "duration": 165,
    "start_time": "2022-05-25T16:05:45.941Z"
   },
   {
    "duration": 4,
    "start_time": "2022-05-25T16:05:46.108Z"
   },
   {
    "duration": 183,
    "start_time": "2022-05-25T16:05:46.114Z"
   },
   {
    "duration": 14,
    "start_time": "2022-05-25T16:05:46.299Z"
   },
   {
    "duration": 3,
    "start_time": "2022-05-25T16:06:46.956Z"
   },
   {
    "duration": 78,
    "start_time": "2022-05-25T16:06:46.963Z"
   },
   {
    "duration": 14,
    "start_time": "2022-05-25T16:06:47.043Z"
   },
   {
    "duration": 26,
    "start_time": "2022-05-25T16:06:47.058Z"
   },
   {
    "duration": 19,
    "start_time": "2022-05-25T16:06:47.086Z"
   },
   {
    "duration": 8,
    "start_time": "2022-05-25T16:06:47.125Z"
   },
   {
    "duration": 26,
    "start_time": "2022-05-25T16:06:47.135Z"
   },
   {
    "duration": 9,
    "start_time": "2022-05-25T16:06:47.163Z"
   },
   {
    "duration": 147,
    "start_time": "2022-05-25T16:06:47.173Z"
   },
   {
    "duration": 14,
    "start_time": "2022-05-25T16:06:47.325Z"
   },
   {
    "duration": 12,
    "start_time": "2022-05-25T16:06:47.341Z"
   },
   {
    "duration": 78,
    "start_time": "2022-05-25T16:06:47.355Z"
   },
   {
    "duration": 51,
    "start_time": "2022-05-25T16:06:47.434Z"
   },
   {
    "duration": 11,
    "start_time": "2022-05-25T16:06:47.487Z"
   },
   {
    "duration": 64,
    "start_time": "2022-05-25T16:06:47.499Z"
   },
   {
    "duration": 34,
    "start_time": "2022-05-25T16:06:47.565Z"
   },
   {
    "duration": 28,
    "start_time": "2022-05-25T16:06:47.627Z"
   },
   {
    "duration": 2039,
    "start_time": "2022-05-25T16:06:47.657Z"
   },
   {
    "duration": 10,
    "start_time": "2022-05-25T16:06:49.697Z"
   },
   {
    "duration": 32,
    "start_time": "2022-05-25T16:06:49.709Z"
   },
   {
    "duration": 50,
    "start_time": "2022-05-25T16:06:49.743Z"
   },
   {
    "duration": 11,
    "start_time": "2022-05-25T16:06:49.795Z"
   },
   {
    "duration": 41,
    "start_time": "2022-05-25T16:06:49.808Z"
   },
   {
    "duration": 143,
    "start_time": "2022-05-25T16:06:49.851Z"
   },
   {
    "duration": 5,
    "start_time": "2022-05-25T16:06:49.996Z"
   },
   {
    "duration": 198,
    "start_time": "2022-05-25T16:06:50.002Z"
   },
   {
    "duration": 189,
    "start_time": "2022-05-25T16:06:50.201Z"
   },
   {
    "duration": 510,
    "start_time": "2022-05-25T16:06:57.804Z"
   },
   {
    "duration": 197,
    "start_time": "2022-05-25T16:07:41.670Z"
   },
   {
    "duration": 184,
    "start_time": "2022-05-25T16:08:17.110Z"
   },
   {
    "duration": 370,
    "start_time": "2022-05-25T16:08:37.699Z"
   },
   {
    "duration": 347,
    "start_time": "2022-05-25T16:09:05.824Z"
   },
   {
    "duration": 341,
    "start_time": "2022-05-25T16:09:41.799Z"
   },
   {
    "duration": 184,
    "start_time": "2022-05-25T16:14:29.187Z"
   },
   {
    "duration": 473,
    "start_time": "2022-05-25T16:14:47.710Z"
   },
   {
    "duration": 172,
    "start_time": "2022-05-25T16:18:07.893Z"
   },
   {
    "duration": 293,
    "start_time": "2022-05-25T16:18:19.452Z"
   },
   {
    "duration": 16,
    "start_time": "2022-05-25T16:21:39.392Z"
   },
   {
    "duration": 4,
    "start_time": "2022-05-25T16:25:30.383Z"
   },
   {
    "duration": 91,
    "start_time": "2022-05-25T16:25:30.388Z"
   },
   {
    "duration": 14,
    "start_time": "2022-05-25T16:25:30.480Z"
   },
   {
    "duration": 18,
    "start_time": "2022-05-25T16:25:30.496Z"
   },
   {
    "duration": 27,
    "start_time": "2022-05-25T16:25:30.517Z"
   },
   {
    "duration": 16,
    "start_time": "2022-05-25T16:25:30.545Z"
   },
   {
    "duration": 43,
    "start_time": "2022-05-25T16:25:30.563Z"
   },
   {
    "duration": 24,
    "start_time": "2022-05-25T16:25:30.607Z"
   },
   {
    "duration": 166,
    "start_time": "2022-05-25T16:25:30.632Z"
   },
   {
    "duration": 14,
    "start_time": "2022-05-25T16:25:30.800Z"
   },
   {
    "duration": 16,
    "start_time": "2022-05-25T16:25:30.818Z"
   },
   {
    "duration": 77,
    "start_time": "2022-05-25T16:25:30.836Z"
   },
   {
    "duration": 87,
    "start_time": "2022-05-25T16:25:30.915Z"
   },
   {
    "duration": 13,
    "start_time": "2022-05-25T16:25:31.004Z"
   },
   {
    "duration": 76,
    "start_time": "2022-05-25T16:25:31.019Z"
   },
   {
    "duration": 69,
    "start_time": "2022-05-25T16:25:31.097Z"
   },
   {
    "duration": 31,
    "start_time": "2022-05-25T16:25:31.167Z"
   },
   {
    "duration": 2808,
    "start_time": "2022-05-25T16:25:31.200Z"
   },
   {
    "duration": 16,
    "start_time": "2022-05-25T16:25:34.010Z"
   },
   {
    "duration": 14,
    "start_time": "2022-05-25T16:25:34.028Z"
   },
   {
    "duration": 52,
    "start_time": "2022-05-25T16:25:34.044Z"
   },
   {
    "duration": 36,
    "start_time": "2022-05-25T16:25:34.098Z"
   },
   {
    "duration": 15,
    "start_time": "2022-05-25T16:25:34.135Z"
   },
   {
    "duration": 166,
    "start_time": "2022-05-25T16:25:34.152Z"
   },
   {
    "duration": 8,
    "start_time": "2022-05-25T16:25:34.319Z"
   },
   {
    "duration": 201,
    "start_time": "2022-05-25T16:25:34.329Z"
   },
   {
    "duration": 342,
    "start_time": "2022-05-25T16:25:34.532Z"
   },
   {
    "duration": 321,
    "start_time": "2022-05-25T16:25:34.878Z"
   },
   {
    "duration": 159,
    "start_time": "2022-05-25T16:25:35.203Z"
   },
   {
    "duration": 185,
    "start_time": "2022-05-25T16:25:35.364Z"
   },
   {
    "duration": 168,
    "start_time": "2022-05-25T16:25:42.604Z"
   },
   {
    "duration": 20,
    "start_time": "2022-05-25T16:26:47.863Z"
   },
   {
    "duration": 7,
    "start_time": "2022-05-25T16:27:10.508Z"
   },
   {
    "duration": 3,
    "start_time": "2022-05-25T16:27:20.917Z"
   },
   {
    "duration": 73,
    "start_time": "2022-05-25T16:27:20.924Z"
   },
   {
    "duration": 13,
    "start_time": "2022-05-25T16:27:20.999Z"
   },
   {
    "duration": 22,
    "start_time": "2022-05-25T16:27:21.013Z"
   },
   {
    "duration": 27,
    "start_time": "2022-05-25T16:27:21.038Z"
   },
   {
    "duration": 5,
    "start_time": "2022-05-25T16:27:21.067Z"
   },
   {
    "duration": 27,
    "start_time": "2022-05-25T16:27:21.073Z"
   },
   {
    "duration": 9,
    "start_time": "2022-05-25T16:27:21.101Z"
   },
   {
    "duration": 151,
    "start_time": "2022-05-25T16:27:21.111Z"
   },
   {
    "duration": 13,
    "start_time": "2022-05-25T16:27:21.264Z"
   },
   {
    "duration": 20,
    "start_time": "2022-05-25T16:27:21.280Z"
   },
   {
    "duration": 64,
    "start_time": "2022-05-25T16:27:21.301Z"
   },
   {
    "duration": 72,
    "start_time": "2022-05-25T16:27:21.367Z"
   },
   {
    "duration": 10,
    "start_time": "2022-05-25T16:27:21.441Z"
   },
   {
    "duration": 102,
    "start_time": "2022-05-25T16:27:21.453Z"
   },
   {
    "duration": 52,
    "start_time": "2022-05-25T16:27:21.556Z"
   },
   {
    "duration": 36,
    "start_time": "2022-05-25T16:27:21.610Z"
   },
   {
    "duration": 1885,
    "start_time": "2022-05-25T16:27:21.648Z"
   },
   {
    "duration": 11,
    "start_time": "2022-05-25T16:27:23.535Z"
   },
   {
    "duration": 34,
    "start_time": "2022-05-25T16:27:23.548Z"
   },
   {
    "duration": 54,
    "start_time": "2022-05-25T16:27:23.584Z"
   },
   {
    "duration": 11,
    "start_time": "2022-05-25T16:27:23.640Z"
   },
   {
    "duration": 22,
    "start_time": "2022-05-25T16:27:23.652Z"
   },
   {
    "duration": 178,
    "start_time": "2022-05-25T16:27:23.676Z"
   },
   {
    "duration": 5,
    "start_time": "2022-05-25T16:27:23.855Z"
   },
   {
    "duration": 168,
    "start_time": "2022-05-25T16:27:23.861Z"
   },
   {
    "duration": 6,
    "start_time": "2022-05-25T16:27:24.030Z"
   },
   {
    "duration": 326,
    "start_time": "2022-05-25T16:27:24.037Z"
   },
   {
    "duration": 339,
    "start_time": "2022-05-25T16:27:24.368Z"
   },
   {
    "duration": 21,
    "start_time": "2022-05-25T16:27:24.709Z"
   },
   {
    "duration": 177,
    "start_time": "2022-05-25T16:27:24.732Z"
   },
   {
    "duration": 167,
    "start_time": "2022-05-25T16:28:25.550Z"
   },
   {
    "duration": 507,
    "start_time": "2022-05-25T16:30:53.053Z"
   },
   {
    "duration": 18,
    "start_time": "2022-05-25T16:32:48.259Z"
   },
   {
    "duration": 17,
    "start_time": "2022-05-25T16:33:34.494Z"
   },
   {
    "duration": 4,
    "start_time": "2022-05-25T17:16:55.349Z"
   },
   {
    "duration": 3,
    "start_time": "2022-05-25T17:24:59.978Z"
   },
   {
    "duration": 81,
    "start_time": "2022-05-25T17:24:59.983Z"
   },
   {
    "duration": 13,
    "start_time": "2022-05-25T17:25:00.066Z"
   },
   {
    "duration": 20,
    "start_time": "2022-05-25T17:25:00.081Z"
   },
   {
    "duration": 42,
    "start_time": "2022-05-25T17:25:00.104Z"
   },
   {
    "duration": 6,
    "start_time": "2022-05-25T17:25:00.147Z"
   },
   {
    "duration": 19,
    "start_time": "2022-05-25T17:25:00.208Z"
   },
   {
    "duration": 41,
    "start_time": "2022-05-25T17:25:00.229Z"
   },
   {
    "duration": 136,
    "start_time": "2022-05-25T17:25:00.272Z"
   },
   {
    "duration": 13,
    "start_time": "2022-05-25T17:25:00.410Z"
   },
   {
    "duration": 20,
    "start_time": "2022-05-25T17:25:00.426Z"
   },
   {
    "duration": 84,
    "start_time": "2022-05-25T17:25:00.448Z"
   },
   {
    "duration": 118,
    "start_time": "2022-05-25T17:25:00.535Z"
   },
   {
    "duration": 10,
    "start_time": "2022-05-25T17:25:00.655Z"
   },
   {
    "duration": 73,
    "start_time": "2022-05-25T17:25:00.668Z"
   },
   {
    "duration": 45,
    "start_time": "2022-05-25T17:25:00.743Z"
   },
   {
    "duration": 67,
    "start_time": "2022-05-25T17:25:00.790Z"
   },
   {
    "duration": 3083,
    "start_time": "2022-05-25T17:25:00.859Z"
   },
   {
    "duration": 10,
    "start_time": "2022-05-25T17:25:03.944Z"
   },
   {
    "duration": 21,
    "start_time": "2022-05-25T17:25:03.955Z"
   },
   {
    "duration": 71,
    "start_time": "2022-05-25T17:25:03.978Z"
   },
   {
    "duration": 12,
    "start_time": "2022-05-25T17:25:04.050Z"
   },
   {
    "duration": 26,
    "start_time": "2022-05-25T17:25:04.064Z"
   },
   {
    "duration": 194,
    "start_time": "2022-05-25T17:25:04.092Z"
   },
   {
    "duration": 5,
    "start_time": "2022-05-25T17:25:04.288Z"
   },
   {
    "duration": 200,
    "start_time": "2022-05-25T17:25:04.294Z"
   },
   {
    "duration": 8,
    "start_time": "2022-05-25T17:25:04.496Z"
   },
   {
    "duration": 378,
    "start_time": "2022-05-25T17:25:04.506Z"
   },
   {
    "duration": 5,
    "start_time": "2022-05-25T17:25:04.885Z"
   },
   {
    "duration": 337,
    "start_time": "2022-05-25T17:25:04.892Z"
   },
   {
    "duration": 21,
    "start_time": "2022-05-25T17:25:05.231Z"
   },
   {
    "duration": 366,
    "start_time": "2022-05-25T17:25:05.254Z"
   },
   {
    "duration": 22,
    "start_time": "2022-05-25T17:25:05.622Z"
   },
   {
    "duration": 3,
    "start_time": "2022-05-25T17:27:36.439Z"
   },
   {
    "duration": 79,
    "start_time": "2022-05-25T17:27:36.444Z"
   },
   {
    "duration": 22,
    "start_time": "2022-05-25T17:27:36.525Z"
   },
   {
    "duration": 19,
    "start_time": "2022-05-25T17:27:36.549Z"
   },
   {
    "duration": 29,
    "start_time": "2022-05-25T17:27:36.570Z"
   },
   {
    "duration": 9,
    "start_time": "2022-05-25T17:27:36.601Z"
   },
   {
    "duration": 23,
    "start_time": "2022-05-25T17:27:36.812Z"
   },
   {
    "duration": 9,
    "start_time": "2022-05-25T17:27:36.838Z"
   },
   {
    "duration": 134,
    "start_time": "2022-05-25T17:27:36.849Z"
   },
   {
    "duration": 14,
    "start_time": "2022-05-25T17:27:36.985Z"
   },
   {
    "duration": 35,
    "start_time": "2022-05-25T17:27:37.001Z"
   },
   {
    "duration": 65,
    "start_time": "2022-05-25T17:27:37.038Z"
   },
   {
    "duration": 67,
    "start_time": "2022-05-25T17:27:37.104Z"
   },
   {
    "duration": 11,
    "start_time": "2022-05-25T17:27:37.173Z"
   },
   {
    "duration": 221,
    "start_time": "2022-05-25T17:27:37.186Z"
   },
   {
    "duration": 33,
    "start_time": "2022-05-25T17:27:37.409Z"
   },
   {
    "duration": 35,
    "start_time": "2022-05-25T17:27:37.451Z"
   },
   {
    "duration": 1760,
    "start_time": "2022-05-25T17:27:37.488Z"
   },
   {
    "duration": 11,
    "start_time": "2022-05-25T17:27:39.251Z"
   },
   {
    "duration": 22,
    "start_time": "2022-05-25T17:27:39.265Z"
   },
   {
    "duration": 78,
    "start_time": "2022-05-25T17:27:39.288Z"
   },
   {
    "duration": 19,
    "start_time": "2022-05-25T17:27:39.368Z"
   },
   {
    "duration": 21,
    "start_time": "2022-05-25T17:27:39.389Z"
   },
   {
    "duration": 177,
    "start_time": "2022-05-25T17:27:39.412Z"
   },
   {
    "duration": 4,
    "start_time": "2022-05-25T17:27:39.591Z"
   },
   {
    "duration": 164,
    "start_time": "2022-05-25T17:27:39.597Z"
   },
   {
    "duration": 7,
    "start_time": "2022-05-25T17:27:39.762Z"
   },
   {
    "duration": 368,
    "start_time": "2022-05-25T17:27:39.771Z"
   },
   {
    "duration": 4,
    "start_time": "2022-05-25T17:27:40.143Z"
   },
   {
    "duration": 355,
    "start_time": "2022-05-25T17:27:40.148Z"
   },
   {
    "duration": 23,
    "start_time": "2022-05-25T17:27:40.505Z"
   },
   {
    "duration": 373,
    "start_time": "2022-05-25T17:27:40.530Z"
   },
   {
    "duration": 26,
    "start_time": "2022-05-25T17:27:40.905Z"
   },
   {
    "duration": 1484,
    "start_time": "2022-05-26T07:02:53.470Z"
   },
   {
    "duration": 115,
    "start_time": "2022-05-26T07:02:54.957Z"
   },
   {
    "duration": 16,
    "start_time": "2022-05-26T07:02:55.074Z"
   },
   {
    "duration": 35,
    "start_time": "2022-05-26T07:02:55.093Z"
   },
   {
    "duration": 26,
    "start_time": "2022-05-26T07:02:55.131Z"
   },
   {
    "duration": 8,
    "start_time": "2022-05-26T07:02:55.159Z"
   },
   {
    "duration": 26,
    "start_time": "2022-05-26T07:02:55.169Z"
   },
   {
    "duration": 133,
    "start_time": "2022-05-26T07:02:55.196Z"
   },
   {
    "duration": 181,
    "start_time": "2022-05-26T07:02:55.331Z"
   },
   {
    "duration": 12,
    "start_time": "2022-05-26T07:02:55.515Z"
   },
   {
    "duration": 48,
    "start_time": "2022-05-26T07:02:55.529Z"
   },
   {
    "duration": 264,
    "start_time": "2022-05-26T07:02:55.580Z"
   },
   {
    "duration": 77,
    "start_time": "2022-05-26T07:02:55.846Z"
   },
   {
    "duration": 11,
    "start_time": "2022-05-26T07:02:55.925Z"
   },
   {
    "duration": 75,
    "start_time": "2022-05-26T07:02:55.937Z"
   },
   {
    "duration": 27,
    "start_time": "2022-05-26T07:02:56.014Z"
   },
   {
    "duration": 45,
    "start_time": "2022-05-26T07:02:56.043Z"
   },
   {
    "duration": 3109,
    "start_time": "2022-05-26T07:02:56.090Z"
   },
   {
    "duration": 9,
    "start_time": "2022-05-26T07:02:59.201Z"
   },
   {
    "duration": 20,
    "start_time": "2022-05-26T07:02:59.212Z"
   },
   {
    "duration": 58,
    "start_time": "2022-05-26T07:02:59.234Z"
   },
   {
    "duration": 15,
    "start_time": "2022-05-26T07:02:59.293Z"
   },
   {
    "duration": 14,
    "start_time": "2022-05-26T07:02:59.310Z"
   },
   {
    "duration": 161,
    "start_time": "2022-05-26T07:02:59.325Z"
   },
   {
    "duration": 5,
    "start_time": "2022-05-26T07:02:59.488Z"
   },
   {
    "duration": 157,
    "start_time": "2022-05-26T07:02:59.495Z"
   },
   {
    "duration": 12,
    "start_time": "2022-05-26T07:02:59.654Z"
   },
   {
    "duration": 445,
    "start_time": "2022-05-26T07:02:59.669Z"
   },
   {
    "duration": 4,
    "start_time": "2022-05-26T07:03:00.116Z"
   },
   {
    "duration": 316,
    "start_time": "2022-05-26T07:03:00.122Z"
   },
   {
    "duration": 23,
    "start_time": "2022-05-26T07:03:00.440Z"
   },
   {
    "duration": 325,
    "start_time": "2022-05-26T07:03:00.464Z"
   },
   {
    "duration": 16,
    "start_time": "2022-05-26T07:03:00.791Z"
   },
   {
    "duration": 3,
    "start_time": "2022-05-26T07:25:49.693Z"
   },
   {
    "duration": 71,
    "start_time": "2022-05-26T07:25:49.700Z"
   },
   {
    "duration": 12,
    "start_time": "2022-05-26T07:25:49.773Z"
   },
   {
    "duration": 13,
    "start_time": "2022-05-26T07:25:49.786Z"
   },
   {
    "duration": 17,
    "start_time": "2022-05-26T07:25:49.801Z"
   },
   {
    "duration": 5,
    "start_time": "2022-05-26T07:25:49.819Z"
   },
   {
    "duration": 15,
    "start_time": "2022-05-26T07:25:49.904Z"
   },
   {
    "duration": 8,
    "start_time": "2022-05-26T07:25:49.920Z"
   },
   {
    "duration": 107,
    "start_time": "2022-05-26T07:25:49.930Z"
   },
   {
    "duration": 11,
    "start_time": "2022-05-26T07:25:50.038Z"
   },
   {
    "duration": 21,
    "start_time": "2022-05-26T07:25:50.060Z"
   },
   {
    "duration": 47,
    "start_time": "2022-05-26T07:25:50.083Z"
   },
   {
    "duration": 54,
    "start_time": "2022-05-26T07:25:50.131Z"
   },
   {
    "duration": 9,
    "start_time": "2022-05-26T07:25:50.187Z"
   },
   {
    "duration": 45,
    "start_time": "2022-05-26T07:25:50.198Z"
   },
   {
    "duration": 20,
    "start_time": "2022-05-26T07:25:50.260Z"
   },
   {
    "duration": 26,
    "start_time": "2022-05-26T07:25:50.289Z"
   },
   {
    "duration": 3137,
    "start_time": "2022-05-26T07:25:50.316Z"
   },
   {
    "duration": 20,
    "start_time": "2022-05-26T07:25:53.455Z"
   },
   {
    "duration": 45,
    "start_time": "2022-05-26T07:25:53.477Z"
   },
   {
    "duration": 57,
    "start_time": "2022-05-26T07:25:53.523Z"
   },
   {
    "duration": 12,
    "start_time": "2022-05-26T07:25:53.581Z"
   },
   {
    "duration": 38,
    "start_time": "2022-05-26T07:25:53.594Z"
   },
   {
    "duration": 152,
    "start_time": "2022-05-26T07:25:53.634Z"
   },
   {
    "duration": 4,
    "start_time": "2022-05-26T07:25:53.788Z"
   },
   {
    "duration": 200,
    "start_time": "2022-05-26T07:25:53.793Z"
   },
   {
    "duration": 7,
    "start_time": "2022-05-26T07:25:53.995Z"
   },
   {
    "duration": 329,
    "start_time": "2022-05-26T07:25:54.003Z"
   },
   {
    "duration": 4,
    "start_time": "2022-05-26T07:25:54.333Z"
   },
   {
    "duration": 284,
    "start_time": "2022-05-26T07:25:54.338Z"
   },
   {
    "duration": 147,
    "start_time": "2022-05-26T07:25:54.624Z"
   },
   {
    "duration": 279,
    "start_time": "2022-05-26T07:25:54.772Z"
   },
   {
    "duration": 25,
    "start_time": "2022-05-26T07:25:55.052Z"
   },
   {
    "duration": 2,
    "start_time": "2022-05-26T08:06:42.824Z"
   },
   {
    "duration": 76,
    "start_time": "2022-05-26T08:06:42.828Z"
   },
   {
    "duration": 11,
    "start_time": "2022-05-26T08:06:42.906Z"
   },
   {
    "duration": 19,
    "start_time": "2022-05-26T08:06:42.918Z"
   },
   {
    "duration": 21,
    "start_time": "2022-05-26T08:06:42.939Z"
   },
   {
    "duration": 5,
    "start_time": "2022-05-26T08:06:42.961Z"
   },
   {
    "duration": 17,
    "start_time": "2022-05-26T08:06:42.967Z"
   },
   {
    "duration": 8,
    "start_time": "2022-05-26T08:06:42.986Z"
   },
   {
    "duration": 125,
    "start_time": "2022-05-26T08:06:42.996Z"
   },
   {
    "duration": 12,
    "start_time": "2022-05-26T08:06:43.123Z"
   },
   {
    "duration": 22,
    "start_time": "2022-05-26T08:06:43.138Z"
   },
   {
    "duration": 43,
    "start_time": "2022-05-26T08:06:43.162Z"
   },
   {
    "duration": 65,
    "start_time": "2022-05-26T08:06:43.206Z"
   },
   {
    "duration": 9,
    "start_time": "2022-05-26T08:06:43.273Z"
   },
   {
    "duration": 54,
    "start_time": "2022-05-26T08:06:43.283Z"
   },
   {
    "duration": 31,
    "start_time": "2022-05-26T08:06:43.339Z"
   },
   {
    "duration": 25,
    "start_time": "2022-05-26T08:06:43.372Z"
   },
   {
    "duration": 3034,
    "start_time": "2022-05-26T08:06:43.398Z"
   },
   {
    "duration": 10,
    "start_time": "2022-05-26T08:06:46.434Z"
   },
   {
    "duration": 23,
    "start_time": "2022-05-26T08:06:46.446Z"
   },
   {
    "duration": 45,
    "start_time": "2022-05-26T08:06:46.470Z"
   },
   {
    "duration": 11,
    "start_time": "2022-05-26T08:06:46.517Z"
   },
   {
    "duration": 38,
    "start_time": "2022-05-26T08:06:46.530Z"
   },
   {
    "duration": 153,
    "start_time": "2022-05-26T08:06:46.570Z"
   },
   {
    "duration": 4,
    "start_time": "2022-05-26T08:06:46.725Z"
   },
   {
    "duration": 168,
    "start_time": "2022-05-26T08:06:46.731Z"
   },
   {
    "duration": 5,
    "start_time": "2022-05-26T08:06:46.901Z"
   },
   {
    "duration": 298,
    "start_time": "2022-05-26T08:06:46.908Z"
   },
   {
    "duration": 4,
    "start_time": "2022-05-26T08:06:47.209Z"
   },
   {
    "duration": 275,
    "start_time": "2022-05-26T08:06:47.214Z"
   },
   {
    "duration": 13,
    "start_time": "2022-05-26T08:06:47.491Z"
   },
   {
    "duration": 298,
    "start_time": "2022-05-26T08:06:47.506Z"
   },
   {
    "duration": 19,
    "start_time": "2022-05-26T08:06:47.805Z"
   },
   {
    "duration": 8,
    "start_time": "2022-05-26T08:08:06.240Z"
   },
   {
    "duration": 8,
    "start_time": "2022-05-26T08:08:09.450Z"
   },
   {
    "duration": 9,
    "start_time": "2022-05-26T08:12:10.877Z"
   },
   {
    "duration": 1205,
    "start_time": "2022-05-26T08:12:20.061Z"
   },
   {
    "duration": 68,
    "start_time": "2022-05-26T08:12:21.268Z"
   },
   {
    "duration": 15,
    "start_time": "2022-05-26T08:12:21.337Z"
   },
   {
    "duration": 17,
    "start_time": "2022-05-26T08:12:21.354Z"
   },
   {
    "duration": 33,
    "start_time": "2022-05-26T08:12:21.372Z"
   },
   {
    "duration": 18,
    "start_time": "2022-05-26T08:12:21.407Z"
   },
   {
    "duration": 23,
    "start_time": "2022-05-26T08:12:21.427Z"
   },
   {
    "duration": 217,
    "start_time": "2022-05-26T08:12:21.452Z"
   },
   {
    "duration": 216,
    "start_time": "2022-05-26T08:12:21.671Z"
   },
   {
    "duration": 13,
    "start_time": "2022-05-26T08:12:21.889Z"
   },
   {
    "duration": 12,
    "start_time": "2022-05-26T08:12:21.903Z"
   },
   {
    "duration": 226,
    "start_time": "2022-05-26T08:12:21.917Z"
   },
   {
    "duration": 61,
    "start_time": "2022-05-26T08:12:22.145Z"
   },
   {
    "duration": 9,
    "start_time": "2022-05-26T08:12:22.208Z"
   },
   {
    "duration": 56,
    "start_time": "2022-05-26T08:12:22.219Z"
   },
   {
    "duration": 37,
    "start_time": "2022-05-26T08:12:22.277Z"
   },
   {
    "duration": 44,
    "start_time": "2022-05-26T08:12:22.316Z"
   },
   {
    "duration": 3075,
    "start_time": "2022-05-26T08:12:22.362Z"
   },
   {
    "duration": 21,
    "start_time": "2022-05-26T08:12:25.439Z"
   },
   {
    "duration": 15,
    "start_time": "2022-05-26T08:12:25.461Z"
   },
   {
    "duration": 46,
    "start_time": "2022-05-26T08:12:25.477Z"
   },
   {
    "duration": 35,
    "start_time": "2022-05-26T08:12:25.525Z"
   },
   {
    "duration": 13,
    "start_time": "2022-05-26T08:12:25.561Z"
   },
   {
    "duration": 158,
    "start_time": "2022-05-26T08:12:25.576Z"
   },
   {
    "duration": 4,
    "start_time": "2022-05-26T08:12:25.736Z"
   },
   {
    "duration": 171,
    "start_time": "2022-05-26T08:12:25.741Z"
   },
   {
    "duration": 6,
    "start_time": "2022-05-26T08:12:25.914Z"
   },
   {
    "duration": 312,
    "start_time": "2022-05-26T08:12:25.922Z"
   },
   {
    "duration": 4,
    "start_time": "2022-05-26T08:12:26.236Z"
   },
   {
    "duration": 384,
    "start_time": "2022-05-26T08:12:26.242Z"
   },
   {
    "duration": 15,
    "start_time": "2022-05-26T08:12:26.628Z"
   },
   {
    "duration": 311,
    "start_time": "2022-05-26T08:12:26.645Z"
   },
   {
    "duration": 17,
    "start_time": "2022-05-26T08:12:26.958Z"
   },
   {
    "duration": 49,
    "start_time": "2022-05-26T16:27:28.425Z"
   },
   {
    "duration": 1837,
    "start_time": "2022-05-26T16:34:29.680Z"
   },
   {
    "duration": 287,
    "start_time": "2022-05-26T16:34:31.519Z"
   },
   {
    "duration": 17,
    "start_time": "2022-05-26T16:34:31.808Z"
   },
   {
    "duration": 13,
    "start_time": "2022-05-26T16:34:31.827Z"
   },
   {
    "duration": 34,
    "start_time": "2022-05-26T16:34:31.842Z"
   },
   {
    "duration": 15,
    "start_time": "2022-05-26T16:34:31.890Z"
   },
   {
    "duration": 28,
    "start_time": "2022-05-26T16:34:31.906Z"
   },
   {
    "duration": 393,
    "start_time": "2022-05-26T16:34:31.936Z"
   },
   {
    "duration": 228,
    "start_time": "2022-05-26T16:34:32.330Z"
   },
   {
    "duration": 17,
    "start_time": "2022-05-26T16:34:32.560Z"
   },
   {
    "duration": 47,
    "start_time": "2022-05-26T16:34:32.579Z"
   },
   {
    "duration": 2085,
    "start_time": "2022-05-26T16:34:32.628Z"
   },
   {
    "duration": 71,
    "start_time": "2022-05-26T16:34:34.716Z"
   },
   {
    "duration": 11,
    "start_time": "2022-05-26T16:34:34.790Z"
   },
   {
    "duration": 63,
    "start_time": "2022-05-26T16:34:34.803Z"
   },
   {
    "duration": 32,
    "start_time": "2022-05-26T16:34:34.871Z"
   },
   {
    "duration": 60,
    "start_time": "2022-05-26T16:34:34.905Z"
   },
   {
    "duration": 3084,
    "start_time": "2022-05-26T16:34:34.966Z"
   },
   {
    "duration": 15,
    "start_time": "2022-05-26T16:34:38.051Z"
   },
   {
    "duration": 36,
    "start_time": "2022-05-26T16:34:38.069Z"
   },
   {
    "duration": 64,
    "start_time": "2022-05-26T16:34:38.107Z"
   },
   {
    "duration": 17,
    "start_time": "2022-05-26T16:34:38.173Z"
   },
   {
    "duration": 17,
    "start_time": "2022-05-26T16:34:38.191Z"
   },
   {
    "duration": 198,
    "start_time": "2022-05-26T16:34:38.210Z"
   },
   {
    "duration": 4,
    "start_time": "2022-05-26T16:34:38.410Z"
   },
   {
    "duration": 176,
    "start_time": "2022-05-26T16:34:38.416Z"
   },
   {
    "duration": 11,
    "start_time": "2022-05-26T16:34:38.594Z"
   },
   {
    "duration": 396,
    "start_time": "2022-05-26T16:34:38.606Z"
   },
   {
    "duration": 5,
    "start_time": "2022-05-26T16:34:39.003Z"
   },
   {
    "duration": 506,
    "start_time": "2022-05-26T16:34:39.010Z"
   },
   {
    "duration": 17,
    "start_time": "2022-05-26T16:34:39.518Z"
   },
   {
    "duration": 403,
    "start_time": "2022-05-26T16:34:39.537Z"
   },
   {
    "duration": 40,
    "start_time": "2022-05-26T16:34:39.942Z"
   },
   {
    "duration": 12,
    "start_time": "2022-05-26T16:55:48.089Z"
   },
   {
    "duration": 21,
    "start_time": "2022-05-26T17:13:30.897Z"
   },
   {
    "duration": 191,
    "start_time": "2022-05-26T17:13:36.587Z"
   },
   {
    "duration": 50,
    "start_time": "2022-05-26T17:36:24.076Z"
   },
   {
    "duration": 1193,
    "start_time": "2022-05-27T12:01:36.569Z"
   },
   {
    "duration": 65,
    "start_time": "2022-05-27T12:01:37.764Z"
   },
   {
    "duration": 14,
    "start_time": "2022-05-27T12:01:37.831Z"
   },
   {
    "duration": 12,
    "start_time": "2022-05-27T12:01:37.847Z"
   },
   {
    "duration": 18,
    "start_time": "2022-05-27T12:01:37.860Z"
   },
   {
    "duration": 5,
    "start_time": "2022-05-27T12:01:37.879Z"
   },
   {
    "duration": 20,
    "start_time": "2022-05-27T12:01:37.885Z"
   },
   {
    "duration": 229,
    "start_time": "2022-05-27T12:01:37.907Z"
   },
   {
    "duration": 166,
    "start_time": "2022-05-27T12:01:38.137Z"
   },
   {
    "duration": 43,
    "start_time": "2022-05-27T12:01:38.305Z"
   },
   {
    "duration": 12,
    "start_time": "2022-05-27T12:01:38.349Z"
   },
   {
    "duration": 219,
    "start_time": "2022-05-27T12:01:38.362Z"
   },
   {
    "duration": 59,
    "start_time": "2022-05-27T12:01:38.582Z"
   },
   {
    "duration": 9,
    "start_time": "2022-05-27T12:01:38.644Z"
   },
   {
    "duration": 46,
    "start_time": "2022-05-27T12:01:38.654Z"
   },
   {
    "duration": 52,
    "start_time": "2022-05-27T12:01:38.701Z"
   },
   {
    "duration": 28,
    "start_time": "2022-05-27T12:01:38.754Z"
   },
   {
    "duration": 2063,
    "start_time": "2022-05-27T12:01:38.783Z"
   },
   {
    "duration": 10,
    "start_time": "2022-05-27T12:01:40.848Z"
   },
   {
    "duration": 15,
    "start_time": "2022-05-27T12:01:40.861Z"
   },
   {
    "duration": 67,
    "start_time": "2022-05-27T12:01:40.880Z"
   },
   {
    "duration": 12,
    "start_time": "2022-05-27T12:01:40.948Z"
   },
   {
    "duration": 14,
    "start_time": "2022-05-27T12:01:40.962Z"
   },
   {
    "duration": 171,
    "start_time": "2022-05-27T12:01:40.978Z"
   },
   {
    "duration": 164,
    "start_time": "2022-05-27T12:01:41.151Z"
   },
   {
    "duration": 0,
    "start_time": "2022-05-27T12:01:41.316Z"
   },
   {
    "duration": 0,
    "start_time": "2022-05-27T12:01:41.318Z"
   },
   {
    "duration": 0,
    "start_time": "2022-05-27T12:01:41.318Z"
   },
   {
    "duration": 0,
    "start_time": "2022-05-27T12:01:41.320Z"
   },
   {
    "duration": 0,
    "start_time": "2022-05-27T12:01:41.320Z"
   },
   {
    "duration": 0,
    "start_time": "2022-05-27T12:01:41.321Z"
   },
   {
    "duration": 0,
    "start_time": "2022-05-27T12:01:41.322Z"
   },
   {
    "duration": 0,
    "start_time": "2022-05-27T12:01:41.323Z"
   },
   {
    "duration": 0,
    "start_time": "2022-05-27T12:01:41.341Z"
   },
   {
    "duration": 0,
    "start_time": "2022-05-27T12:01:41.342Z"
   },
   {
    "duration": 13,
    "start_time": "2022-05-27T12:03:07.460Z"
   },
   {
    "duration": 12,
    "start_time": "2022-05-27T12:03:50.272Z"
   },
   {
    "duration": 12,
    "start_time": "2022-05-27T12:23:21.790Z"
   },
   {
    "duration": 18,
    "start_time": "2022-05-27T12:23:40.095Z"
   },
   {
    "duration": 3,
    "start_time": "2022-05-27T12:23:43.673Z"
   },
   {
    "duration": 70,
    "start_time": "2022-05-27T12:23:43.691Z"
   },
   {
    "duration": 13,
    "start_time": "2022-05-27T12:23:43.763Z"
   },
   {
    "duration": 16,
    "start_time": "2022-05-27T12:23:43.778Z"
   },
   {
    "duration": 18,
    "start_time": "2022-05-27T12:23:43.796Z"
   },
   {
    "duration": 27,
    "start_time": "2022-05-27T12:23:43.816Z"
   },
   {
    "duration": 19,
    "start_time": "2022-05-27T12:23:43.845Z"
   },
   {
    "duration": 9,
    "start_time": "2022-05-27T12:23:43.865Z"
   },
   {
    "duration": 147,
    "start_time": "2022-05-27T12:23:43.876Z"
   },
   {
    "duration": 13,
    "start_time": "2022-05-27T12:23:44.209Z"
   },
   {
    "duration": 11,
    "start_time": "2022-05-27T12:23:44.224Z"
   },
   {
    "duration": 50,
    "start_time": "2022-05-27T12:23:44.237Z"
   },
   {
    "duration": 68,
    "start_time": "2022-05-27T12:23:44.289Z"
   },
   {
    "duration": 10,
    "start_time": "2022-05-27T12:23:44.359Z"
   },
   {
    "duration": 157,
    "start_time": "2022-05-27T12:23:44.371Z"
   },
   {
    "duration": 38,
    "start_time": "2022-05-27T12:23:44.530Z"
   },
   {
    "duration": 30,
    "start_time": "2022-05-27T12:23:44.571Z"
   },
   {
    "duration": 7779,
    "start_time": "2022-05-27T12:23:44.602Z"
   },
   {
    "duration": 10,
    "start_time": "2022-05-27T12:23:52.383Z"
   },
   {
    "duration": 20,
    "start_time": "2022-05-27T12:23:52.394Z"
   },
   {
    "duration": 66,
    "start_time": "2022-05-27T12:23:52.416Z"
   },
   {
    "duration": 12,
    "start_time": "2022-05-27T12:23:52.484Z"
   },
   {
    "duration": 14,
    "start_time": "2022-05-27T12:23:52.498Z"
   },
   {
    "duration": 163,
    "start_time": "2022-05-27T12:23:52.514Z"
   },
   {
    "duration": 14,
    "start_time": "2022-05-27T12:23:52.679Z"
   },
   {
    "duration": 5,
    "start_time": "2022-05-27T12:23:52.694Z"
   },
   {
    "duration": 49,
    "start_time": "2022-05-27T12:23:52.701Z"
   },
   {
    "duration": 17,
    "start_time": "2022-05-27T12:23:52.752Z"
   },
   {
    "duration": 0,
    "start_time": "2022-05-27T12:23:52.771Z"
   },
   {
    "duration": 0,
    "start_time": "2022-05-27T12:23:52.773Z"
   },
   {
    "duration": 0,
    "start_time": "2022-05-27T12:23:52.774Z"
   },
   {
    "duration": 0,
    "start_time": "2022-05-27T12:23:52.776Z"
   },
   {
    "duration": 0,
    "start_time": "2022-05-27T12:23:52.777Z"
   },
   {
    "duration": 0,
    "start_time": "2022-05-27T12:23:52.778Z"
   },
   {
    "duration": 0,
    "start_time": "2022-05-27T12:23:52.780Z"
   },
   {
    "duration": 0,
    "start_time": "2022-05-27T12:23:52.781Z"
   },
   {
    "duration": 20,
    "start_time": "2022-05-27T12:25:00.717Z"
   },
   {
    "duration": 46,
    "start_time": "2022-05-27T12:33:08.888Z"
   },
   {
    "duration": 11,
    "start_time": "2022-05-27T12:35:02.389Z"
   },
   {
    "duration": 50,
    "start_time": "2022-05-27T12:35:25.801Z"
   },
   {
    "duration": 3,
    "start_time": "2022-05-27T12:35:39.773Z"
   },
   {
    "duration": 77,
    "start_time": "2022-05-27T12:35:39.778Z"
   },
   {
    "duration": 13,
    "start_time": "2022-05-27T12:35:39.858Z"
   },
   {
    "duration": 56,
    "start_time": "2022-05-27T12:35:39.931Z"
   },
   {
    "duration": 13,
    "start_time": "2022-05-27T12:35:39.989Z"
   },
   {
    "duration": 40,
    "start_time": "2022-05-27T12:35:40.004Z"
   },
   {
    "duration": 7,
    "start_time": "2022-05-27T12:35:40.047Z"
   },
   {
    "duration": 23,
    "start_time": "2022-05-27T12:35:40.057Z"
   },
   {
    "duration": 8,
    "start_time": "2022-05-27T12:35:40.082Z"
   },
   {
    "duration": 175,
    "start_time": "2022-05-27T12:35:40.091Z"
   },
   {
    "duration": 14,
    "start_time": "2022-05-27T12:35:40.268Z"
   },
   {
    "duration": 12,
    "start_time": "2022-05-27T12:35:40.284Z"
   },
   {
    "duration": 92,
    "start_time": "2022-05-27T12:35:40.298Z"
   },
   {
    "duration": 67,
    "start_time": "2022-05-27T12:35:40.391Z"
   },
   {
    "duration": 9,
    "start_time": "2022-05-27T12:35:40.460Z"
   },
   {
    "duration": 44,
    "start_time": "2022-05-27T12:35:40.470Z"
   },
   {
    "duration": 40,
    "start_time": "2022-05-27T12:35:40.541Z"
   },
   {
    "duration": 35,
    "start_time": "2022-05-27T12:35:42.427Z"
   },
   {
    "duration": 3719,
    "start_time": "2022-05-27T12:35:42.464Z"
   },
   {
    "duration": 10,
    "start_time": "2022-05-27T12:35:46.184Z"
   },
   {
    "duration": 18,
    "start_time": "2022-05-27T12:35:46.195Z"
   },
   {
    "duration": 73,
    "start_time": "2022-05-27T12:35:46.215Z"
   },
   {
    "duration": 12,
    "start_time": "2022-05-27T12:35:46.290Z"
   },
   {
    "duration": 14,
    "start_time": "2022-05-27T12:35:46.303Z"
   },
   {
    "duration": 19,
    "start_time": "2022-05-27T12:35:46.343Z"
   },
   {
    "duration": 8,
    "start_time": "2022-05-27T12:35:46.364Z"
   },
   {
    "duration": 7,
    "start_time": "2022-05-27T12:35:46.374Z"
   },
   {
    "duration": 9,
    "start_time": "2022-05-27T12:35:46.383Z"
   },
   {
    "duration": 50,
    "start_time": "2022-05-27T12:35:46.393Z"
   },
   {
    "duration": 9,
    "start_time": "2022-05-27T12:35:46.445Z"
   },
   {
    "duration": 206,
    "start_time": "2022-05-27T12:35:46.457Z"
   },
   {
    "duration": 4,
    "start_time": "2022-05-27T12:35:46.665Z"
   },
   {
    "duration": 355,
    "start_time": "2022-05-27T12:35:46.671Z"
   },
   {
    "duration": 31,
    "start_time": "2022-05-27T12:35:47.029Z"
   },
   {
    "duration": 243,
    "start_time": "2022-05-27T12:35:47.062Z"
   },
   {
    "duration": 15,
    "start_time": "2022-05-27T12:35:47.307Z"
   },
   {
    "duration": 11,
    "start_time": "2022-05-27T12:37:38.096Z"
   },
   {
    "duration": 11,
    "start_time": "2022-05-27T12:40:05.698Z"
   },
   {
    "duration": 10,
    "start_time": "2022-05-27T12:40:20.856Z"
   },
   {
    "duration": 3,
    "start_time": "2022-05-27T12:40:34.411Z"
   },
   {
    "duration": 72,
    "start_time": "2022-05-27T12:40:34.432Z"
   },
   {
    "duration": 14,
    "start_time": "2022-05-27T12:40:34.506Z"
   },
   {
    "duration": 13,
    "start_time": "2022-05-27T12:40:34.522Z"
   },
   {
    "duration": 13,
    "start_time": "2022-05-27T12:40:34.537Z"
   },
   {
    "duration": 17,
    "start_time": "2022-05-27T12:40:35.206Z"
   },
   {
    "duration": 4,
    "start_time": "2022-05-27T12:40:35.225Z"
   },
   {
    "duration": 20,
    "start_time": "2022-05-27T12:40:35.230Z"
   },
   {
    "duration": 11,
    "start_time": "2022-05-27T12:40:35.252Z"
   },
   {
    "duration": 132,
    "start_time": "2022-05-27T12:40:35.265Z"
   },
   {
    "duration": 13,
    "start_time": "2022-05-27T12:40:35.399Z"
   },
   {
    "duration": 12,
    "start_time": "2022-05-27T12:40:35.413Z"
   },
   {
    "duration": 54,
    "start_time": "2022-05-27T12:40:35.443Z"
   },
   {
    "duration": 86,
    "start_time": "2022-05-27T12:40:35.498Z"
   },
   {
    "duration": 12,
    "start_time": "2022-05-27T12:40:35.586Z"
   },
   {
    "duration": 73,
    "start_time": "2022-05-27T12:40:35.600Z"
   },
   {
    "duration": 28,
    "start_time": "2022-05-27T12:40:35.675Z"
   },
   {
    "duration": 71,
    "start_time": "2022-05-27T12:40:35.704Z"
   },
   {
    "duration": 2394,
    "start_time": "2022-05-27T12:40:35.777Z"
   },
   {
    "duration": 8,
    "start_time": "2022-05-27T12:40:38.173Z"
   },
   {
    "duration": 15,
    "start_time": "2022-05-27T12:40:38.184Z"
   },
   {
    "duration": 75,
    "start_time": "2022-05-27T12:40:38.200Z"
   },
   {
    "duration": 11,
    "start_time": "2022-05-27T12:40:38.276Z"
   },
   {
    "duration": 16,
    "start_time": "2022-05-27T12:40:38.288Z"
   },
   {
    "duration": 167,
    "start_time": "2022-05-27T12:40:38.306Z"
   },
   {
    "duration": 11,
    "start_time": "2022-05-27T12:40:38.475Z"
   },
   {
    "duration": 4,
    "start_time": "2022-05-27T12:40:38.488Z"
   },
   {
    "duration": 16,
    "start_time": "2022-05-27T12:40:38.494Z"
   },
   {
    "duration": 194,
    "start_time": "2022-05-27T12:40:38.512Z"
   },
   {
    "duration": 6,
    "start_time": "2022-05-27T12:40:38.707Z"
   },
   {
    "duration": 345,
    "start_time": "2022-05-27T12:40:38.715Z"
   },
   {
    "duration": 4,
    "start_time": "2022-05-27T12:40:39.062Z"
   },
   {
    "duration": 423,
    "start_time": "2022-05-27T12:40:39.068Z"
   },
   {
    "duration": 14,
    "start_time": "2022-05-27T12:40:39.493Z"
   },
   {
    "duration": 322,
    "start_time": "2022-05-27T12:40:39.509Z"
   },
   {
    "duration": 25,
    "start_time": "2022-05-27T12:40:39.832Z"
   },
   {
    "duration": 9,
    "start_time": "2022-05-27T12:42:08.270Z"
   },
   {
    "duration": 3,
    "start_time": "2022-05-27T12:42:18.052Z"
   },
   {
    "duration": 81,
    "start_time": "2022-05-27T12:42:18.057Z"
   },
   {
    "duration": 19,
    "start_time": "2022-05-27T12:42:18.140Z"
   },
   {
    "duration": 17,
    "start_time": "2022-05-27T12:42:18.160Z"
   },
   {
    "duration": 12,
    "start_time": "2022-05-27T12:42:18.179Z"
   },
   {
    "duration": 19,
    "start_time": "2022-05-27T12:42:18.193Z"
   },
   {
    "duration": 47,
    "start_time": "2022-05-27T12:42:18.213Z"
   },
   {
    "duration": 5,
    "start_time": "2022-05-27T12:42:18.262Z"
   },
   {
    "duration": 28,
    "start_time": "2022-05-27T12:42:18.269Z"
   },
   {
    "duration": 9,
    "start_time": "2022-05-27T12:42:18.299Z"
   },
   {
    "duration": 156,
    "start_time": "2022-05-27T12:42:18.310Z"
   },
   {
    "duration": 16,
    "start_time": "2022-05-27T12:42:18.468Z"
   },
   {
    "duration": 14,
    "start_time": "2022-05-27T12:42:18.485Z"
   },
   {
    "duration": 85,
    "start_time": "2022-05-27T12:42:18.501Z"
   },
   {
    "duration": 74,
    "start_time": "2022-05-27T12:42:18.588Z"
   },
   {
    "duration": 10,
    "start_time": "2022-05-27T12:42:18.663Z"
   },
   {
    "duration": 56,
    "start_time": "2022-05-27T12:42:19.319Z"
   },
   {
    "duration": 27,
    "start_time": "2022-05-27T12:42:19.377Z"
   },
   {
    "duration": 28,
    "start_time": "2022-05-27T12:42:19.462Z"
   },
   {
    "duration": 2746,
    "start_time": "2022-05-27T12:42:19.492Z"
   },
   {
    "duration": 14,
    "start_time": "2022-05-27T12:42:22.239Z"
   },
   {
    "duration": 24,
    "start_time": "2022-05-27T12:42:22.255Z"
   },
   {
    "duration": 63,
    "start_time": "2022-05-27T12:42:22.281Z"
   },
   {
    "duration": 15,
    "start_time": "2022-05-27T12:42:22.350Z"
   },
   {
    "duration": 15,
    "start_time": "2022-05-27T12:42:22.366Z"
   },
   {
    "duration": 220,
    "start_time": "2022-05-27T12:42:22.383Z"
   },
   {
    "duration": 12,
    "start_time": "2022-05-27T12:42:22.604Z"
   },
   {
    "duration": 25,
    "start_time": "2022-05-27T12:42:22.618Z"
   },
   {
    "duration": 31,
    "start_time": "2022-05-27T12:42:22.646Z"
   },
   {
    "duration": 203,
    "start_time": "2022-05-27T12:42:22.678Z"
   },
   {
    "duration": 6,
    "start_time": "2022-05-27T12:42:22.882Z"
   },
   {
    "duration": 383,
    "start_time": "2022-05-27T12:42:22.891Z"
   },
   {
    "duration": 4,
    "start_time": "2022-05-27T12:42:23.276Z"
   },
   {
    "duration": 343,
    "start_time": "2022-05-27T12:42:23.282Z"
   },
   {
    "duration": 30,
    "start_time": "2022-05-27T12:42:23.626Z"
   },
   {
    "duration": 345,
    "start_time": "2022-05-27T12:42:23.658Z"
   },
   {
    "duration": 155,
    "start_time": "2022-05-27T12:42:24.005Z"
   },
   {
    "duration": 19,
    "start_time": "2022-05-27T12:54:15.283Z"
   },
   {
    "duration": 21,
    "start_time": "2022-05-27T12:54:26.954Z"
   },
   {
    "duration": 21,
    "start_time": "2022-05-27T12:54:42.545Z"
   },
   {
    "duration": 14,
    "start_time": "2022-05-27T12:54:51.751Z"
   },
   {
    "duration": 21,
    "start_time": "2022-05-27T12:59:46.000Z"
   },
   {
    "duration": 32,
    "start_time": "2022-05-27T13:17:44.861Z"
   },
   {
    "duration": 20,
    "start_time": "2022-05-27T13:18:48.963Z"
   },
   {
    "duration": 13,
    "start_time": "2022-05-27T13:21:17.310Z"
   },
   {
    "duration": 213,
    "start_time": "2022-05-27T13:21:44.456Z"
   },
   {
    "duration": 4,
    "start_time": "2022-05-27T13:22:49.967Z"
   },
   {
    "duration": 79,
    "start_time": "2022-05-27T13:22:49.972Z"
   },
   {
    "duration": 14,
    "start_time": "2022-05-27T13:22:50.054Z"
   },
   {
    "duration": 14,
    "start_time": "2022-05-27T13:22:50.396Z"
   },
   {
    "duration": 16,
    "start_time": "2022-05-27T13:22:50.412Z"
   },
   {
    "duration": 18,
    "start_time": "2022-05-27T13:22:50.430Z"
   },
   {
    "duration": 11,
    "start_time": "2022-05-27T13:22:50.573Z"
   },
   {
    "duration": 27,
    "start_time": "2022-05-27T13:22:50.586Z"
   },
   {
    "duration": 22,
    "start_time": "2022-05-27T13:22:50.615Z"
   },
   {
    "duration": 6,
    "start_time": "2022-05-27T13:22:50.639Z"
   },
   {
    "duration": 22,
    "start_time": "2022-05-27T13:22:50.647Z"
   },
   {
    "duration": 9,
    "start_time": "2022-05-27T13:22:50.986Z"
   },
   {
    "duration": 155,
    "start_time": "2022-05-27T13:22:50.997Z"
   },
   {
    "duration": 16,
    "start_time": "2022-05-27T13:22:51.154Z"
   },
   {
    "duration": 15,
    "start_time": "2022-05-27T13:22:51.173Z"
   },
   {
    "duration": 84,
    "start_time": "2022-05-27T13:22:51.190Z"
   },
   {
    "duration": 72,
    "start_time": "2022-05-27T13:22:51.276Z"
   },
   {
    "duration": 312,
    "start_time": "2022-05-27T13:22:51.350Z"
   },
   {
    "duration": 0,
    "start_time": "2022-05-27T13:22:51.665Z"
   },
   {
    "duration": 0,
    "start_time": "2022-05-27T13:22:51.666Z"
   },
   {
    "duration": 0,
    "start_time": "2022-05-27T13:22:51.668Z"
   },
   {
    "duration": 0,
    "start_time": "2022-05-27T13:22:51.670Z"
   },
   {
    "duration": 0,
    "start_time": "2022-05-27T13:22:51.671Z"
   },
   {
    "duration": 0,
    "start_time": "2022-05-27T13:22:51.673Z"
   },
   {
    "duration": 0,
    "start_time": "2022-05-27T13:22:51.674Z"
   },
   {
    "duration": 0,
    "start_time": "2022-05-27T13:22:51.675Z"
   },
   {
    "duration": 0,
    "start_time": "2022-05-27T13:22:51.676Z"
   },
   {
    "duration": 0,
    "start_time": "2022-05-27T13:22:51.678Z"
   },
   {
    "duration": 0,
    "start_time": "2022-05-27T13:22:51.679Z"
   },
   {
    "duration": 0,
    "start_time": "2022-05-27T13:22:51.680Z"
   },
   {
    "duration": 0,
    "start_time": "2022-05-27T13:22:51.681Z"
   },
   {
    "duration": 0,
    "start_time": "2022-05-27T13:22:51.682Z"
   },
   {
    "duration": 0,
    "start_time": "2022-05-27T13:22:51.684Z"
   },
   {
    "duration": 0,
    "start_time": "2022-05-27T13:22:51.685Z"
   },
   {
    "duration": 0,
    "start_time": "2022-05-27T13:22:51.686Z"
   },
   {
    "duration": 0,
    "start_time": "2022-05-27T13:22:51.687Z"
   },
   {
    "duration": 0,
    "start_time": "2022-05-27T13:22:51.688Z"
   },
   {
    "duration": 0,
    "start_time": "2022-05-27T13:22:51.689Z"
   },
   {
    "duration": 0,
    "start_time": "2022-05-27T13:22:51.690Z"
   },
   {
    "duration": 0,
    "start_time": "2022-05-27T13:22:51.692Z"
   },
   {
    "duration": 329,
    "start_time": "2022-05-27T13:23:41.425Z"
   },
   {
    "duration": 3,
    "start_time": "2022-05-27T13:25:29.066Z"
   },
   {
    "duration": 78,
    "start_time": "2022-05-27T13:25:29.071Z"
   },
   {
    "duration": 13,
    "start_time": "2022-05-27T13:25:29.151Z"
   },
   {
    "duration": 12,
    "start_time": "2022-05-27T13:25:29.166Z"
   },
   {
    "duration": 12,
    "start_time": "2022-05-27T13:25:29.180Z"
   },
   {
    "duration": 15,
    "start_time": "2022-05-27T13:25:29.194Z"
   },
   {
    "duration": 10,
    "start_time": "2022-05-27T13:25:29.210Z"
   },
   {
    "duration": 36,
    "start_time": "2022-05-27T13:25:29.221Z"
   },
   {
    "duration": 20,
    "start_time": "2022-05-27T13:25:29.485Z"
   },
   {
    "duration": 11,
    "start_time": "2022-05-27T13:25:29.507Z"
   },
   {
    "duration": 18,
    "start_time": "2022-05-27T13:25:29.520Z"
   },
   {
    "duration": 8,
    "start_time": "2022-05-27T13:25:29.540Z"
   },
   {
    "duration": 139,
    "start_time": "2022-05-27T13:25:29.551Z"
   },
   {
    "duration": 15,
    "start_time": "2022-05-27T13:25:29.692Z"
   },
   {
    "duration": 13,
    "start_time": "2022-05-27T13:25:29.708Z"
   },
   {
    "duration": 67,
    "start_time": "2022-05-27T13:25:29.722Z"
   },
   {
    "duration": 87,
    "start_time": "2022-05-27T13:25:29.791Z"
   },
   {
    "duration": 305,
    "start_time": "2022-05-27T13:25:29.885Z"
   },
   {
    "duration": 0,
    "start_time": "2022-05-27T13:25:30.192Z"
   },
   {
    "duration": 0,
    "start_time": "2022-05-27T13:25:30.194Z"
   },
   {
    "duration": 0,
    "start_time": "2022-05-27T13:25:30.195Z"
   },
   {
    "duration": 0,
    "start_time": "2022-05-27T13:25:30.196Z"
   },
   {
    "duration": 0,
    "start_time": "2022-05-27T13:25:30.197Z"
   },
   {
    "duration": 0,
    "start_time": "2022-05-27T13:25:30.198Z"
   },
   {
    "duration": 0,
    "start_time": "2022-05-27T13:25:30.199Z"
   },
   {
    "duration": 0,
    "start_time": "2022-05-27T13:25:30.200Z"
   },
   {
    "duration": 0,
    "start_time": "2022-05-27T13:25:30.201Z"
   },
   {
    "duration": 0,
    "start_time": "2022-05-27T13:25:30.202Z"
   },
   {
    "duration": 0,
    "start_time": "2022-05-27T13:25:30.203Z"
   },
   {
    "duration": 0,
    "start_time": "2022-05-27T13:25:30.204Z"
   },
   {
    "duration": 0,
    "start_time": "2022-05-27T13:25:30.205Z"
   },
   {
    "duration": 0,
    "start_time": "2022-05-27T13:25:30.206Z"
   },
   {
    "duration": 0,
    "start_time": "2022-05-27T13:25:30.207Z"
   },
   {
    "duration": 0,
    "start_time": "2022-05-27T13:25:30.208Z"
   },
   {
    "duration": 0,
    "start_time": "2022-05-27T13:25:30.241Z"
   },
   {
    "duration": 0,
    "start_time": "2022-05-27T13:25:30.243Z"
   },
   {
    "duration": 0,
    "start_time": "2022-05-27T13:25:30.245Z"
   },
   {
    "duration": 0,
    "start_time": "2022-05-27T13:25:30.246Z"
   },
   {
    "duration": 0,
    "start_time": "2022-05-27T13:25:30.247Z"
   },
   {
    "duration": 0,
    "start_time": "2022-05-27T13:25:30.248Z"
   },
   {
    "duration": 392,
    "start_time": "2022-05-27T13:26:06.785Z"
   },
   {
    "duration": 183,
    "start_time": "2022-05-27T13:26:17.454Z"
   },
   {
    "duration": 4,
    "start_time": "2022-05-27T13:30:57.016Z"
   },
   {
    "duration": 90,
    "start_time": "2022-05-27T13:30:57.022Z"
   },
   {
    "duration": 18,
    "start_time": "2022-05-27T13:30:57.115Z"
   },
   {
    "duration": 18,
    "start_time": "2022-05-27T13:30:57.135Z"
   },
   {
    "duration": 21,
    "start_time": "2022-05-27T13:30:57.156Z"
   },
   {
    "duration": 33,
    "start_time": "2022-05-27T13:30:57.179Z"
   },
   {
    "duration": 10,
    "start_time": "2022-05-27T13:30:57.215Z"
   },
   {
    "duration": 38,
    "start_time": "2022-05-27T13:30:57.227Z"
   },
   {
    "duration": 23,
    "start_time": "2022-05-27T13:30:57.267Z"
   },
   {
    "duration": 7,
    "start_time": "2022-05-27T13:30:57.292Z"
   },
   {
    "duration": 46,
    "start_time": "2022-05-27T13:30:57.302Z"
   },
   {
    "duration": 9,
    "start_time": "2022-05-27T13:30:57.350Z"
   },
   {
    "duration": 140,
    "start_time": "2022-05-27T13:30:57.360Z"
   },
   {
    "duration": 13,
    "start_time": "2022-05-27T13:30:57.502Z"
   },
   {
    "duration": 30,
    "start_time": "2022-05-27T13:30:57.517Z"
   },
   {
    "duration": 49,
    "start_time": "2022-05-27T13:30:57.549Z"
   },
   {
    "duration": 74,
    "start_time": "2022-05-27T13:30:57.600Z"
   },
   {
    "duration": 197,
    "start_time": "2022-05-27T13:30:57.675Z"
   },
   {
    "duration": 10,
    "start_time": "2022-05-27T13:30:57.873Z"
   },
   {
    "duration": 65,
    "start_time": "2022-05-27T13:30:57.884Z"
   },
   {
    "duration": 31,
    "start_time": "2022-05-27T13:30:57.953Z"
   },
   {
    "duration": 70,
    "start_time": "2022-05-27T13:30:57.985Z"
   },
   {
    "duration": 2980,
    "start_time": "2022-05-27T13:30:58.058Z"
   },
   {
    "duration": 13,
    "start_time": "2022-05-27T13:31:01.040Z"
   },
   {
    "duration": 21,
    "start_time": "2022-05-27T13:31:01.055Z"
   },
   {
    "duration": 66,
    "start_time": "2022-05-27T13:31:01.077Z"
   },
   {
    "duration": 20,
    "start_time": "2022-05-27T13:31:01.145Z"
   },
   {
    "duration": 19,
    "start_time": "2022-05-27T13:31:01.166Z"
   },
   {
    "duration": 166,
    "start_time": "2022-05-27T13:31:01.186Z"
   },
   {
    "duration": 15,
    "start_time": "2022-05-27T13:31:01.354Z"
   },
   {
    "duration": 16,
    "start_time": "2022-05-27T13:31:01.370Z"
   },
   {
    "duration": 33,
    "start_time": "2022-05-27T13:31:01.388Z"
   },
   {
    "duration": 179,
    "start_time": "2022-05-27T13:31:01.423Z"
   },
   {
    "duration": 7,
    "start_time": "2022-05-27T13:31:01.604Z"
   },
   {
    "duration": 379,
    "start_time": "2022-05-27T13:31:01.612Z"
   },
   {
    "duration": 6,
    "start_time": "2022-05-27T13:31:01.993Z"
   },
   {
    "duration": 490,
    "start_time": "2022-05-27T13:31:02.001Z"
   },
   {
    "duration": 19,
    "start_time": "2022-05-27T13:31:02.493Z"
   },
   {
    "duration": 352,
    "start_time": "2022-05-27T13:31:02.514Z"
   },
   {
    "duration": 16,
    "start_time": "2022-05-27T13:31:02.867Z"
   },
   {
    "duration": 215,
    "start_time": "2022-05-27T13:34:10.409Z"
   },
   {
    "duration": 201,
    "start_time": "2022-05-27T13:35:59.460Z"
   },
   {
    "duration": 206,
    "start_time": "2022-05-27T13:38:14.286Z"
   },
   {
    "duration": 195,
    "start_time": "2022-05-27T13:38:48.464Z"
   },
   {
    "duration": 208,
    "start_time": "2022-05-27T13:39:02.439Z"
   },
   {
    "duration": 214,
    "start_time": "2022-05-27T13:39:31.986Z"
   },
   {
    "duration": 212,
    "start_time": "2022-05-27T13:39:56.318Z"
   },
   {
    "duration": 296,
    "start_time": "2022-05-27T13:41:12.942Z"
   },
   {
    "duration": 292,
    "start_time": "2022-05-27T13:41:55.314Z"
   },
   {
    "duration": 3,
    "start_time": "2022-05-27T13:42:30.071Z"
   },
   {
    "duration": 67,
    "start_time": "2022-05-27T13:42:30.087Z"
   },
   {
    "duration": 14,
    "start_time": "2022-05-27T13:42:30.156Z"
   },
   {
    "duration": 16,
    "start_time": "2022-05-27T13:42:30.171Z"
   },
   {
    "duration": 16,
    "start_time": "2022-05-27T13:42:30.188Z"
   },
   {
    "duration": 19,
    "start_time": "2022-05-27T13:42:30.206Z"
   },
   {
    "duration": 15,
    "start_time": "2022-05-27T13:42:30.241Z"
   },
   {
    "duration": 28,
    "start_time": "2022-05-27T13:42:30.258Z"
   },
   {
    "duration": 18,
    "start_time": "2022-05-27T13:42:30.529Z"
   },
   {
    "duration": 6,
    "start_time": "2022-05-27T13:42:30.549Z"
   },
   {
    "duration": 21,
    "start_time": "2022-05-27T13:42:30.638Z"
   },
   {
    "duration": 137,
    "start_time": "2022-05-27T13:42:30.662Z"
   },
   {
    "duration": 138,
    "start_time": "2022-05-27T13:42:30.801Z"
   },
   {
    "duration": 14,
    "start_time": "2022-05-27T13:42:30.941Z"
   },
   {
    "duration": 21,
    "start_time": "2022-05-27T13:42:30.957Z"
   },
   {
    "duration": 69,
    "start_time": "2022-05-27T13:42:30.979Z"
   },
   {
    "duration": 51,
    "start_time": "2022-05-27T13:42:31.050Z"
   },
   {
    "duration": 388,
    "start_time": "2022-05-27T13:42:31.103Z"
   },
   {
    "duration": 0,
    "start_time": "2022-05-27T13:42:31.493Z"
   },
   {
    "duration": 0,
    "start_time": "2022-05-27T13:42:31.494Z"
   },
   {
    "duration": 0,
    "start_time": "2022-05-27T13:42:31.495Z"
   },
   {
    "duration": 0,
    "start_time": "2022-05-27T13:42:31.497Z"
   },
   {
    "duration": 0,
    "start_time": "2022-05-27T13:42:31.498Z"
   },
   {
    "duration": 0,
    "start_time": "2022-05-27T13:42:31.498Z"
   },
   {
    "duration": 0,
    "start_time": "2022-05-27T13:42:31.499Z"
   },
   {
    "duration": 0,
    "start_time": "2022-05-27T13:42:31.500Z"
   },
   {
    "duration": 0,
    "start_time": "2022-05-27T13:42:31.501Z"
   },
   {
    "duration": 0,
    "start_time": "2022-05-27T13:42:31.502Z"
   },
   {
    "duration": 0,
    "start_time": "2022-05-27T13:42:31.503Z"
   },
   {
    "duration": 0,
    "start_time": "2022-05-27T13:42:31.504Z"
   },
   {
    "duration": 0,
    "start_time": "2022-05-27T13:42:31.506Z"
   },
   {
    "duration": 0,
    "start_time": "2022-05-27T13:42:31.507Z"
   },
   {
    "duration": 0,
    "start_time": "2022-05-27T13:42:31.508Z"
   },
   {
    "duration": 0,
    "start_time": "2022-05-27T13:42:31.542Z"
   },
   {
    "duration": 0,
    "start_time": "2022-05-27T13:42:31.543Z"
   },
   {
    "duration": 0,
    "start_time": "2022-05-27T13:42:31.545Z"
   },
   {
    "duration": 0,
    "start_time": "2022-05-27T13:42:31.546Z"
   },
   {
    "duration": 34,
    "start_time": "2022-05-27T13:42:31.553Z"
   },
   {
    "duration": 0,
    "start_time": "2022-05-27T13:42:31.589Z"
   },
   {
    "duration": 0,
    "start_time": "2022-05-27T13:42:31.590Z"
   },
   {
    "duration": 276,
    "start_time": "2022-05-27T13:43:07.316Z"
   },
   {
    "duration": 3,
    "start_time": "2022-05-27T13:43:20.558Z"
   },
   {
    "duration": 73,
    "start_time": "2022-05-27T13:43:20.563Z"
   },
   {
    "duration": 17,
    "start_time": "2022-05-27T13:43:20.638Z"
   },
   {
    "duration": 11,
    "start_time": "2022-05-27T13:43:20.975Z"
   },
   {
    "duration": 15,
    "start_time": "2022-05-27T13:43:20.989Z"
   },
   {
    "duration": 16,
    "start_time": "2022-05-27T13:43:21.006Z"
   },
   {
    "duration": 10,
    "start_time": "2022-05-27T13:43:21.095Z"
   },
   {
    "duration": 22,
    "start_time": "2022-05-27T13:43:21.107Z"
   },
   {
    "duration": 20,
    "start_time": "2022-05-27T13:43:21.130Z"
   },
   {
    "duration": 8,
    "start_time": "2022-05-27T13:43:21.153Z"
   },
   {
    "duration": 18,
    "start_time": "2022-05-27T13:43:21.163Z"
   },
   {
    "duration": 8,
    "start_time": "2022-05-27T13:43:21.182Z"
   },
   {
    "duration": 169,
    "start_time": "2022-05-27T13:43:21.192Z"
   },
   {
    "duration": 15,
    "start_time": "2022-05-27T13:43:21.362Z"
   },
   {
    "duration": 12,
    "start_time": "2022-05-27T13:43:21.378Z"
   },
   {
    "duration": 84,
    "start_time": "2022-05-27T13:43:21.392Z"
   },
   {
    "duration": 70,
    "start_time": "2022-05-27T13:43:21.478Z"
   },
   {
    "duration": 12,
    "start_time": "2022-05-27T13:43:21.554Z"
   },
   {
    "duration": 48,
    "start_time": "2022-05-27T13:43:21.568Z"
   },
   {
    "duration": 54,
    "start_time": "2022-05-27T13:43:21.618Z"
   },
   {
    "duration": 31,
    "start_time": "2022-05-27T13:43:21.674Z"
   },
   {
    "duration": 3530,
    "start_time": "2022-05-27T13:43:21.706Z"
   },
   {
    "duration": 20,
    "start_time": "2022-05-27T13:43:25.237Z"
   },
   {
    "duration": 20,
    "start_time": "2022-05-27T13:43:25.259Z"
   },
   {
    "duration": 62,
    "start_time": "2022-05-27T13:43:25.281Z"
   },
   {
    "duration": 17,
    "start_time": "2022-05-27T13:43:25.345Z"
   },
   {
    "duration": 18,
    "start_time": "2022-05-27T13:43:25.364Z"
   },
   {
    "duration": 197,
    "start_time": "2022-05-27T13:43:25.384Z"
   },
   {
    "duration": 14,
    "start_time": "2022-05-27T13:43:25.582Z"
   },
   {
    "duration": 10,
    "start_time": "2022-05-27T13:43:25.598Z"
   },
   {
    "duration": 35,
    "start_time": "2022-05-27T13:43:25.610Z"
   },
   {
    "duration": 213,
    "start_time": "2022-05-27T13:43:25.647Z"
   },
   {
    "duration": 8,
    "start_time": "2022-05-27T13:43:25.863Z"
   },
   {
    "duration": 391,
    "start_time": "2022-05-27T13:43:25.874Z"
   },
   {
    "duration": 5,
    "start_time": "2022-05-27T13:43:26.267Z"
   },
   {
    "duration": 350,
    "start_time": "2022-05-27T13:43:26.274Z"
   },
   {
    "duration": 26,
    "start_time": "2022-05-27T13:43:26.625Z"
   },
   {
    "duration": 541,
    "start_time": "2022-05-27T13:43:26.653Z"
   },
   {
    "duration": 21,
    "start_time": "2022-05-27T13:43:27.195Z"
   },
   {
    "duration": 304,
    "start_time": "2022-05-27T13:47:02.888Z"
   },
   {
    "duration": 18,
    "start_time": "2022-05-27T13:49:56.403Z"
   },
   {
    "duration": 284,
    "start_time": "2022-05-27T13:50:33.230Z"
   },
   {
    "duration": 309,
    "start_time": "2022-05-27T13:52:28.104Z"
   },
   {
    "duration": 20,
    "start_time": "2022-05-27T13:55:31.568Z"
   },
   {
    "duration": 3,
    "start_time": "2022-05-27T13:56:50.638Z"
   },
   {
    "duration": 94,
    "start_time": "2022-05-27T13:56:50.644Z"
   },
   {
    "duration": 18,
    "start_time": "2022-05-27T13:56:50.741Z"
   },
   {
    "duration": 16,
    "start_time": "2022-05-27T13:56:50.762Z"
   },
   {
    "duration": 14,
    "start_time": "2022-05-27T13:56:50.781Z"
   },
   {
    "duration": 17,
    "start_time": "2022-05-27T13:56:50.797Z"
   },
   {
    "duration": 11,
    "start_time": "2022-05-27T13:56:50.841Z"
   },
   {
    "duration": 34,
    "start_time": "2022-05-27T13:56:50.855Z"
   },
   {
    "duration": 25,
    "start_time": "2022-05-27T13:56:50.891Z"
   },
   {
    "duration": 7,
    "start_time": "2022-05-27T13:56:50.942Z"
   },
   {
    "duration": 20,
    "start_time": "2022-05-27T13:56:50.952Z"
   },
   {
    "duration": 15,
    "start_time": "2022-05-27T13:56:50.975Z"
   },
   {
    "duration": 169,
    "start_time": "2022-05-27T13:56:51.188Z"
   },
   {
    "duration": 18,
    "start_time": "2022-05-27T13:56:51.360Z"
   },
   {
    "duration": 13,
    "start_time": "2022-05-27T13:56:51.380Z"
   },
   {
    "duration": 92,
    "start_time": "2022-05-27T13:56:51.394Z"
   },
   {
    "duration": 86,
    "start_time": "2022-05-27T13:56:51.489Z"
   },
   {
    "duration": 119,
    "start_time": "2022-05-27T13:56:51.578Z"
   },
   {
    "duration": 0,
    "start_time": "2022-05-27T13:56:51.701Z"
   },
   {
    "duration": 0,
    "start_time": "2022-05-27T13:56:51.703Z"
   },
   {
    "duration": 0,
    "start_time": "2022-05-27T13:56:51.705Z"
   },
   {
    "duration": 0,
    "start_time": "2022-05-27T13:56:51.706Z"
   },
   {
    "duration": 0,
    "start_time": "2022-05-27T13:56:51.709Z"
   },
   {
    "duration": 0,
    "start_time": "2022-05-27T13:56:51.711Z"
   },
   {
    "duration": 0,
    "start_time": "2022-05-27T13:56:51.712Z"
   },
   {
    "duration": 0,
    "start_time": "2022-05-27T13:56:51.713Z"
   },
   {
    "duration": 0,
    "start_time": "2022-05-27T13:56:51.714Z"
   },
   {
    "duration": 0,
    "start_time": "2022-05-27T13:56:51.716Z"
   },
   {
    "duration": 0,
    "start_time": "2022-05-27T13:56:51.717Z"
   },
   {
    "duration": 0,
    "start_time": "2022-05-27T13:56:51.719Z"
   },
   {
    "duration": 0,
    "start_time": "2022-05-27T13:56:51.720Z"
   },
   {
    "duration": 0,
    "start_time": "2022-05-27T13:56:51.722Z"
   },
   {
    "duration": 0,
    "start_time": "2022-05-27T13:56:51.724Z"
   },
   {
    "duration": 0,
    "start_time": "2022-05-27T13:56:51.726Z"
   },
   {
    "duration": 0,
    "start_time": "2022-05-27T13:56:51.727Z"
   },
   {
    "duration": 0,
    "start_time": "2022-05-27T13:56:51.728Z"
   },
   {
    "duration": 0,
    "start_time": "2022-05-27T13:56:51.730Z"
   },
   {
    "duration": 0,
    "start_time": "2022-05-27T13:56:51.731Z"
   },
   {
    "duration": 0,
    "start_time": "2022-05-27T13:56:51.742Z"
   },
   {
    "duration": 0,
    "start_time": "2022-05-27T13:56:51.743Z"
   },
   {
    "duration": 129,
    "start_time": "2022-05-27T13:59:13.962Z"
   },
   {
    "duration": 725,
    "start_time": "2022-05-27T14:10:05.080Z"
   },
   {
    "duration": 512,
    "start_time": "2022-05-27T14:10:53.457Z"
   },
   {
    "duration": 9,
    "start_time": "2022-05-27T14:11:25.759Z"
   },
   {
    "duration": 38,
    "start_time": "2022-05-27T14:13:41.831Z"
   },
   {
    "duration": 9,
    "start_time": "2022-05-27T14:14:27.368Z"
   },
   {
    "duration": 9,
    "start_time": "2022-05-27T14:15:07.210Z"
   },
   {
    "duration": 9,
    "start_time": "2022-05-27T14:15:18.160Z"
   },
   {
    "duration": 165,
    "start_time": "2022-05-27T14:18:45.916Z"
   },
   {
    "duration": 7,
    "start_time": "2022-05-27T14:18:58.726Z"
   },
   {
    "duration": 9,
    "start_time": "2022-05-27T14:19:18.609Z"
   },
   {
    "duration": 9,
    "start_time": "2022-05-27T14:19:28.894Z"
   },
   {
    "duration": 9,
    "start_time": "2022-05-27T14:19:58.806Z"
   },
   {
    "duration": 11,
    "start_time": "2022-05-27T14:25:48.996Z"
   },
   {
    "duration": 7,
    "start_time": "2022-05-27T14:26:06.162Z"
   },
   {
    "duration": 11,
    "start_time": "2022-05-27T14:28:20.666Z"
   },
   {
    "duration": 4,
    "start_time": "2022-05-27T14:28:56.511Z"
   },
   {
    "duration": 46,
    "start_time": "2022-05-27T14:29:18.330Z"
   },
   {
    "duration": 9,
    "start_time": "2022-05-27T14:29:31.221Z"
   },
   {
    "duration": 30,
    "start_time": "2022-05-27T14:34:19.740Z"
   },
   {
    "duration": 3,
    "start_time": "2022-05-27T14:34:51.766Z"
   },
   {
    "duration": 71,
    "start_time": "2022-05-27T14:34:51.771Z"
   },
   {
    "duration": 11,
    "start_time": "2022-05-27T14:34:51.844Z"
   },
   {
    "duration": 11,
    "start_time": "2022-05-27T14:34:51.857Z"
   },
   {
    "duration": 9,
    "start_time": "2022-05-27T14:34:51.870Z"
   },
   {
    "duration": 14,
    "start_time": "2022-05-27T14:34:51.880Z"
   },
   {
    "duration": 8,
    "start_time": "2022-05-27T14:34:51.896Z"
   },
   {
    "duration": 45,
    "start_time": "2022-05-27T14:34:51.905Z"
   },
   {
    "duration": 16,
    "start_time": "2022-05-27T14:34:51.952Z"
   },
   {
    "duration": 5,
    "start_time": "2022-05-27T14:34:51.970Z"
   },
   {
    "duration": 16,
    "start_time": "2022-05-27T14:34:51.978Z"
   },
   {
    "duration": 9,
    "start_time": "2022-05-27T14:34:51.996Z"
   },
   {
    "duration": 118,
    "start_time": "2022-05-27T14:34:52.041Z"
   },
   {
    "duration": 14,
    "start_time": "2022-05-27T14:34:52.161Z"
   },
   {
    "duration": 11,
    "start_time": "2022-05-27T14:34:52.176Z"
   },
   {
    "duration": 66,
    "start_time": "2022-05-27T14:34:52.188Z"
   },
   {
    "duration": 51,
    "start_time": "2022-05-27T14:34:52.256Z"
   },
   {
    "duration": 48,
    "start_time": "2022-05-27T14:34:52.309Z"
   },
   {
    "duration": 0,
    "start_time": "2022-05-27T14:34:52.359Z"
   },
   {
    "duration": 0,
    "start_time": "2022-05-27T14:34:52.360Z"
   },
   {
    "duration": 0,
    "start_time": "2022-05-27T14:34:52.361Z"
   },
   {
    "duration": 0,
    "start_time": "2022-05-27T14:34:52.362Z"
   },
   {
    "duration": 0,
    "start_time": "2022-05-27T14:34:52.362Z"
   },
   {
    "duration": 0,
    "start_time": "2022-05-27T14:34:52.363Z"
   },
   {
    "duration": 0,
    "start_time": "2022-05-27T14:34:52.364Z"
   },
   {
    "duration": 40,
    "start_time": "2022-05-27T14:34:52.695Z"
   },
   {
    "duration": 11,
    "start_time": "2022-05-27T14:34:52.736Z"
   },
   {
    "duration": 18,
    "start_time": "2022-05-27T14:34:52.748Z"
   },
   {
    "duration": 19,
    "start_time": "2022-05-27T14:34:52.801Z"
   },
   {
    "duration": 0,
    "start_time": "2022-05-27T14:34:52.821Z"
   },
   {
    "duration": 0,
    "start_time": "2022-05-27T14:34:52.823Z"
   },
   {
    "duration": 0,
    "start_time": "2022-05-27T14:34:52.824Z"
   },
   {
    "duration": 0,
    "start_time": "2022-05-27T14:34:52.825Z"
   },
   {
    "duration": 7,
    "start_time": "2022-05-27T14:34:52.903Z"
   },
   {
    "duration": 169,
    "start_time": "2022-05-27T14:34:52.912Z"
   },
   {
    "duration": 0,
    "start_time": "2022-05-27T14:34:53.083Z"
   },
   {
    "duration": 0,
    "start_time": "2022-05-27T14:34:53.084Z"
   },
   {
    "duration": 0,
    "start_time": "2022-05-27T14:34:53.085Z"
   },
   {
    "duration": 0,
    "start_time": "2022-05-27T14:34:53.086Z"
   },
   {
    "duration": 0,
    "start_time": "2022-05-27T14:34:53.087Z"
   },
   {
    "duration": 4,
    "start_time": "2022-05-27T14:36:17.239Z"
   },
   {
    "duration": 64,
    "start_time": "2022-05-27T14:36:17.257Z"
   },
   {
    "duration": 13,
    "start_time": "2022-05-27T14:36:17.323Z"
   },
   {
    "duration": 13,
    "start_time": "2022-05-27T14:36:17.337Z"
   },
   {
    "duration": 11,
    "start_time": "2022-05-27T14:36:17.352Z"
   },
   {
    "duration": 13,
    "start_time": "2022-05-27T14:36:17.365Z"
   },
   {
    "duration": 10,
    "start_time": "2022-05-27T14:36:17.380Z"
   },
   {
    "duration": 25,
    "start_time": "2022-05-27T14:36:17.392Z"
   },
   {
    "duration": 39,
    "start_time": "2022-05-27T14:36:17.419Z"
   },
   {
    "duration": 6,
    "start_time": "2022-05-27T14:36:17.460Z"
   },
   {
    "duration": 21,
    "start_time": "2022-05-27T14:36:17.468Z"
   },
   {
    "duration": 11,
    "start_time": "2022-05-27T14:36:17.491Z"
   },
   {
    "duration": 171,
    "start_time": "2022-05-27T14:36:17.503Z"
   },
   {
    "duration": 16,
    "start_time": "2022-05-27T14:36:17.677Z"
   },
   {
    "duration": 15,
    "start_time": "2022-05-27T14:36:17.695Z"
   },
   {
    "duration": 86,
    "start_time": "2022-05-27T14:36:17.712Z"
   },
   {
    "duration": 71,
    "start_time": "2022-05-27T14:36:17.800Z"
   },
   {
    "duration": 14,
    "start_time": "2022-05-27T14:36:17.873Z"
   },
   {
    "duration": 0,
    "start_time": "2022-05-27T14:36:17.889Z"
   },
   {
    "duration": 0,
    "start_time": "2022-05-27T14:36:17.890Z"
   },
   {
    "duration": 0,
    "start_time": "2022-05-27T14:36:17.892Z"
   },
   {
    "duration": 0,
    "start_time": "2022-05-27T14:36:17.893Z"
   },
   {
    "duration": 0,
    "start_time": "2022-05-27T14:36:17.894Z"
   },
   {
    "duration": 0,
    "start_time": "2022-05-27T14:36:17.895Z"
   },
   {
    "duration": 0,
    "start_time": "2022-05-27T14:36:17.897Z"
   },
   {
    "duration": 0,
    "start_time": "2022-05-27T14:36:17.898Z"
   },
   {
    "duration": 0,
    "start_time": "2022-05-27T14:36:17.899Z"
   },
   {
    "duration": 0,
    "start_time": "2022-05-27T14:36:17.900Z"
   },
   {
    "duration": 0,
    "start_time": "2022-05-27T14:36:17.901Z"
   },
   {
    "duration": 0,
    "start_time": "2022-05-27T14:36:17.902Z"
   },
   {
    "duration": 0,
    "start_time": "2022-05-27T14:36:17.903Z"
   },
   {
    "duration": 0,
    "start_time": "2022-05-27T14:36:17.904Z"
   },
   {
    "duration": 0,
    "start_time": "2022-05-27T14:36:17.905Z"
   },
   {
    "duration": 0,
    "start_time": "2022-05-27T14:36:17.942Z"
   },
   {
    "duration": 0,
    "start_time": "2022-05-27T14:36:17.943Z"
   },
   {
    "duration": 5,
    "start_time": "2022-05-27T14:36:18.123Z"
   },
   {
    "duration": 329,
    "start_time": "2022-05-27T14:36:18.130Z"
   },
   {
    "duration": 33,
    "start_time": "2022-05-27T14:36:18.460Z"
   },
   {
    "duration": 0,
    "start_time": "2022-05-27T14:36:18.495Z"
   },
   {
    "duration": 0,
    "start_time": "2022-05-27T14:36:18.497Z"
   },
   {
    "duration": 278,
    "start_time": "2022-05-27T14:36:49.783Z"
   },
   {
    "duration": 167,
    "start_time": "2022-05-27T14:49:47.518Z"
   },
   {
    "duration": 14,
    "start_time": "2022-05-27T14:52:41.122Z"
   },
   {
    "duration": 10,
    "start_time": "2022-05-27T14:55:05.503Z"
   },
   {
    "duration": 10,
    "start_time": "2022-05-27T14:55:26.864Z"
   },
   {
    "duration": 14,
    "start_time": "2022-05-27T14:55:46.036Z"
   },
   {
    "duration": 197,
    "start_time": "2022-05-27T14:56:07.917Z"
   },
   {
    "duration": 556,
    "start_time": "2022-05-27T16:45:26.489Z"
   },
   {
    "duration": 411,
    "start_time": "2022-05-27T16:46:06.894Z"
   },
   {
    "duration": 4,
    "start_time": "2022-05-27T16:47:52.178Z"
   },
   {
    "duration": 66,
    "start_time": "2022-05-27T16:47:52.188Z"
   },
   {
    "duration": 13,
    "start_time": "2022-05-27T16:47:52.256Z"
   },
   {
    "duration": 12,
    "start_time": "2022-05-27T16:47:52.270Z"
   },
   {
    "duration": 13,
    "start_time": "2022-05-27T16:47:52.284Z"
   },
   {
    "duration": 21,
    "start_time": "2022-05-27T16:47:52.299Z"
   },
   {
    "duration": 16,
    "start_time": "2022-05-27T16:47:52.352Z"
   },
   {
    "duration": 37,
    "start_time": "2022-05-27T16:47:52.370Z"
   },
   {
    "duration": 19,
    "start_time": "2022-05-27T16:47:52.409Z"
   },
   {
    "duration": 24,
    "start_time": "2022-05-27T16:47:52.430Z"
   },
   {
    "duration": 19,
    "start_time": "2022-05-27T16:47:52.458Z"
   },
   {
    "duration": 9,
    "start_time": "2022-05-27T16:47:52.479Z"
   },
   {
    "duration": 128,
    "start_time": "2022-05-27T16:47:52.490Z"
   },
   {
    "duration": 31,
    "start_time": "2022-05-27T16:47:52.620Z"
   },
   {
    "duration": 11,
    "start_time": "2022-05-27T16:47:52.657Z"
   },
   {
    "duration": 49,
    "start_time": "2022-05-27T16:47:52.670Z"
   },
   {
    "duration": 70,
    "start_time": "2022-05-27T16:47:52.721Z"
   },
   {
    "duration": 373,
    "start_time": "2022-05-27T16:47:52.794Z"
   },
   {
    "duration": 10,
    "start_time": "2022-05-27T16:47:53.169Z"
   },
   {
    "duration": 44,
    "start_time": "2022-05-27T16:47:53.181Z"
   },
   {
    "duration": 35,
    "start_time": "2022-05-27T16:47:53.227Z"
   },
   {
    "duration": 30,
    "start_time": "2022-05-27T16:47:53.263Z"
   },
   {
    "duration": 2821,
    "start_time": "2022-05-27T16:47:53.295Z"
   },
   {
    "duration": 9,
    "start_time": "2022-05-27T16:47:56.119Z"
   },
   {
    "duration": 29,
    "start_time": "2022-05-27T16:47:56.130Z"
   },
   {
    "duration": 52,
    "start_time": "2022-05-27T16:47:56.162Z"
   },
   {
    "duration": 38,
    "start_time": "2022-05-27T16:47:56.216Z"
   },
   {
    "duration": 19,
    "start_time": "2022-05-27T16:47:56.260Z"
   },
   {
    "duration": 154,
    "start_time": "2022-05-27T16:47:56.282Z"
   },
   {
    "duration": 21,
    "start_time": "2022-05-27T16:47:56.443Z"
   },
   {
    "duration": 7,
    "start_time": "2022-05-27T16:47:56.466Z"
   },
   {
    "duration": 22,
    "start_time": "2022-05-27T16:47:56.475Z"
   },
   {
    "duration": 174,
    "start_time": "2022-05-27T16:47:56.500Z"
   },
   {
    "duration": 6,
    "start_time": "2022-05-27T16:47:56.676Z"
   },
   {
    "duration": 408,
    "start_time": "2022-05-27T16:47:56.684Z"
   },
   {
    "duration": 15,
    "start_time": "2022-05-27T16:47:57.095Z"
   },
   {
    "duration": 410,
    "start_time": "2022-05-27T16:47:57.113Z"
   },
   {
    "duration": 40,
    "start_time": "2022-05-27T16:47:57.525Z"
   },
   {
    "duration": 442,
    "start_time": "2022-05-27T16:47:57.567Z"
   },
   {
    "duration": 17,
    "start_time": "2022-05-27T16:47:58.011Z"
   },
   {
    "duration": 388,
    "start_time": "2022-05-27T16:49:29.880Z"
   },
   {
    "duration": 454,
    "start_time": "2022-05-27T16:49:49.519Z"
   },
   {
    "duration": 412,
    "start_time": "2022-05-27T16:51:13.398Z"
   },
   {
    "duration": 1380,
    "start_time": "2022-05-27T20:29:33.031Z"
   },
   {
    "duration": 113,
    "start_time": "2022-05-27T20:29:34.413Z"
   },
   {
    "duration": 16,
    "start_time": "2022-05-27T20:29:34.528Z"
   },
   {
    "duration": 10,
    "start_time": "2022-05-27T20:29:34.545Z"
   },
   {
    "duration": 10,
    "start_time": "2022-05-27T20:29:34.557Z"
   },
   {
    "duration": 14,
    "start_time": "2022-05-27T20:29:34.568Z"
   },
   {
    "duration": 16,
    "start_time": "2022-05-27T20:29:34.584Z"
   },
   {
    "duration": 21,
    "start_time": "2022-05-27T20:29:34.602Z"
   },
   {
    "duration": 17,
    "start_time": "2022-05-27T20:29:34.625Z"
   },
   {
    "duration": 6,
    "start_time": "2022-05-27T20:29:34.644Z"
   },
   {
    "duration": 53,
    "start_time": "2022-05-27T20:29:34.651Z"
   },
   {
    "duration": 220,
    "start_time": "2022-05-27T20:29:34.705Z"
   },
   {
    "duration": 185,
    "start_time": "2022-05-27T20:29:34.927Z"
   },
   {
    "duration": 14,
    "start_time": "2022-05-27T20:29:35.115Z"
   },
   {
    "duration": 12,
    "start_time": "2022-05-27T20:29:35.131Z"
   },
   {
    "duration": 274,
    "start_time": "2022-05-27T20:29:35.145Z"
   },
   {
    "duration": 79,
    "start_time": "2022-05-27T20:29:35.421Z"
   },
   {
    "duration": 427,
    "start_time": "2022-05-27T20:29:35.503Z"
   },
   {
    "duration": 10,
    "start_time": "2022-05-27T20:29:35.931Z"
   },
   {
    "duration": 58,
    "start_time": "2022-05-27T20:29:35.943Z"
   },
   {
    "duration": 28,
    "start_time": "2022-05-27T20:29:36.002Z"
   },
   {
    "duration": 30,
    "start_time": "2022-05-27T20:29:36.031Z"
   },
   {
    "duration": 2754,
    "start_time": "2022-05-27T20:29:36.095Z"
   },
   {
    "duration": 10,
    "start_time": "2022-05-27T20:29:38.850Z"
   },
   {
    "duration": 17,
    "start_time": "2022-05-27T20:29:38.861Z"
   },
   {
    "duration": 58,
    "start_time": "2022-05-27T20:29:38.879Z"
   },
   {
    "duration": 11,
    "start_time": "2022-05-27T20:29:38.939Z"
   },
   {
    "duration": 18,
    "start_time": "2022-05-27T20:29:38.952Z"
   },
   {
    "duration": 195,
    "start_time": "2022-05-27T20:29:38.971Z"
   },
   {
    "duration": 29,
    "start_time": "2022-05-27T20:29:39.168Z"
   },
   {
    "duration": 4,
    "start_time": "2022-05-27T20:29:39.199Z"
   },
   {
    "duration": 16,
    "start_time": "2022-05-27T20:29:39.205Z"
   },
   {
    "duration": 163,
    "start_time": "2022-05-27T20:29:39.223Z"
   },
   {
    "duration": 12,
    "start_time": "2022-05-27T20:29:39.387Z"
   },
   {
    "duration": 335,
    "start_time": "2022-05-27T20:29:39.400Z"
   },
   {
    "duration": 5,
    "start_time": "2022-05-27T20:29:39.736Z"
   },
   {
    "duration": 404,
    "start_time": "2022-05-27T20:29:39.743Z"
   },
   {
    "duration": 15,
    "start_time": "2022-05-27T20:29:40.149Z"
   },
   {
    "duration": 332,
    "start_time": "2022-05-27T20:29:40.165Z"
   },
   {
    "duration": 16,
    "start_time": "2022-05-27T20:29:40.498Z"
   },
   {
    "duration": 35,
    "start_time": "2022-05-27T20:29:40.518Z"
   },
   {
    "duration": 1676,
    "start_time": "2022-05-28T14:01:44.084Z"
   },
   {
    "duration": 239,
    "start_time": "2022-05-28T14:01:45.762Z"
   },
   {
    "duration": 15,
    "start_time": "2022-05-28T14:01:46.003Z"
   },
   {
    "duration": 12,
    "start_time": "2022-05-28T14:01:46.020Z"
   },
   {
    "duration": 10,
    "start_time": "2022-05-28T14:01:46.035Z"
   },
   {
    "duration": 23,
    "start_time": "2022-05-28T14:01:46.047Z"
   },
   {
    "duration": 22,
    "start_time": "2022-05-28T14:01:46.072Z"
   },
   {
    "duration": 22,
    "start_time": "2022-05-28T14:01:46.095Z"
   },
   {
    "duration": 22,
    "start_time": "2022-05-28T14:01:46.119Z"
   },
   {
    "duration": 6,
    "start_time": "2022-05-28T14:01:46.143Z"
   },
   {
    "duration": 44,
    "start_time": "2022-05-28T14:01:46.151Z"
   },
   {
    "duration": 160,
    "start_time": "2022-05-28T14:01:46.197Z"
   },
   {
    "duration": 182,
    "start_time": "2022-05-28T14:01:46.359Z"
   },
   {
    "duration": 14,
    "start_time": "2022-05-28T14:01:46.544Z"
   },
   {
    "duration": 18,
    "start_time": "2022-05-28T14:01:46.560Z"
   },
   {
    "duration": 263,
    "start_time": "2022-05-28T14:01:46.580Z"
   },
   {
    "duration": 61,
    "start_time": "2022-05-28T14:01:46.845Z"
   },
   {
    "duration": 413,
    "start_time": "2022-05-28T14:01:46.908Z"
   },
   {
    "duration": 14,
    "start_time": "2022-05-28T14:01:47.323Z"
   },
   {
    "duration": 63,
    "start_time": "2022-05-28T14:01:47.339Z"
   },
   {
    "duration": 30,
    "start_time": "2022-05-28T14:01:47.404Z"
   },
   {
    "duration": 29,
    "start_time": "2022-05-28T14:01:47.436Z"
   },
   {
    "duration": 2999,
    "start_time": "2022-05-28T14:01:47.466Z"
   },
   {
    "duration": 10,
    "start_time": "2022-05-28T14:01:50.466Z"
   },
   {
    "duration": 29,
    "start_time": "2022-05-28T14:01:50.478Z"
   },
   {
    "duration": 56,
    "start_time": "2022-05-28T14:01:50.509Z"
   },
   {
    "duration": 36,
    "start_time": "2022-05-28T14:01:50.567Z"
   },
   {
    "duration": 22,
    "start_time": "2022-05-28T14:01:50.605Z"
   },
   {
    "duration": 179,
    "start_time": "2022-05-28T14:01:50.629Z"
   },
   {
    "duration": 24,
    "start_time": "2022-05-28T14:01:50.810Z"
   },
   {
    "duration": 5,
    "start_time": "2022-05-28T14:01:50.836Z"
   },
   {
    "duration": 17,
    "start_time": "2022-05-28T14:01:50.843Z"
   },
   {
    "duration": 196,
    "start_time": "2022-05-28T14:01:50.861Z"
   },
   {
    "duration": 10,
    "start_time": "2022-05-28T14:01:51.059Z"
   },
   {
    "duration": 455,
    "start_time": "2022-05-28T14:01:51.071Z"
   },
   {
    "duration": 4,
    "start_time": "2022-05-28T14:01:51.528Z"
   },
   {
    "duration": 335,
    "start_time": "2022-05-28T14:01:51.534Z"
   },
   {
    "duration": 32,
    "start_time": "2022-05-28T14:01:51.870Z"
   },
   {
    "duration": 387,
    "start_time": "2022-05-28T14:01:51.905Z"
   },
   {
    "duration": 16,
    "start_time": "2022-05-28T14:01:52.294Z"
   },
   {
    "duration": 4,
    "start_time": "2022-05-28T14:01:52.314Z"
   },
   {
    "duration": 1350,
    "start_time": "2022-05-28T15:37:18.926Z"
   },
   {
    "duration": 115,
    "start_time": "2022-05-28T15:37:20.278Z"
   },
   {
    "duration": 16,
    "start_time": "2022-05-28T15:37:20.394Z"
   },
   {
    "duration": 16,
    "start_time": "2022-05-28T15:37:20.413Z"
   },
   {
    "duration": 16,
    "start_time": "2022-05-28T15:37:20.430Z"
   },
   {
    "duration": 22,
    "start_time": "2022-05-28T15:37:20.448Z"
   },
   {
    "duration": 11,
    "start_time": "2022-05-28T15:37:20.472Z"
   },
   {
    "duration": 25,
    "start_time": "2022-05-28T15:37:20.484Z"
   },
   {
    "duration": 18,
    "start_time": "2022-05-28T15:37:20.511Z"
   },
   {
    "duration": 29,
    "start_time": "2022-05-28T15:37:20.532Z"
   },
   {
    "duration": 10,
    "start_time": "2022-05-28T15:37:20.563Z"
   },
   {
    "duration": 22,
    "start_time": "2022-05-28T15:37:20.575Z"
   },
   {
    "duration": 234,
    "start_time": "2022-05-28T15:37:20.602Z"
   },
   {
    "duration": 186,
    "start_time": "2022-05-28T15:37:20.838Z"
   },
   {
    "duration": 14,
    "start_time": "2022-05-28T15:37:21.026Z"
   },
   {
    "duration": 13,
    "start_time": "2022-05-28T15:37:21.060Z"
   },
   {
    "duration": 236,
    "start_time": "2022-05-28T15:37:21.074Z"
   },
   {
    "duration": 68,
    "start_time": "2022-05-28T15:37:21.312Z"
   },
   {
    "duration": 447,
    "start_time": "2022-05-28T15:37:21.382Z"
   },
   {
    "duration": 10,
    "start_time": "2022-05-28T15:37:21.831Z"
   },
   {
    "duration": 86,
    "start_time": "2022-05-28T15:37:21.843Z"
   },
   {
    "duration": 41,
    "start_time": "2022-05-28T15:37:21.931Z"
   },
   {
    "duration": 37,
    "start_time": "2022-05-28T15:37:21.974Z"
   },
   {
    "duration": 2994,
    "start_time": "2022-05-28T15:37:22.013Z"
   },
   {
    "duration": 10,
    "start_time": "2022-05-28T15:37:25.009Z"
   },
   {
    "duration": 21,
    "start_time": "2022-05-28T15:37:25.021Z"
   },
   {
    "duration": 57,
    "start_time": "2022-05-28T15:37:25.044Z"
   },
   {
    "duration": 11,
    "start_time": "2022-05-28T15:37:25.104Z"
   },
   {
    "duration": 16,
    "start_time": "2022-05-28T15:37:25.117Z"
   },
   {
    "duration": 203,
    "start_time": "2022-05-28T15:37:25.134Z"
   },
   {
    "duration": 26,
    "start_time": "2022-05-28T15:37:25.339Z"
   },
   {
    "duration": 5,
    "start_time": "2022-05-28T15:37:25.367Z"
   },
   {
    "duration": 22,
    "start_time": "2022-05-28T15:37:25.374Z"
   },
   {
    "duration": 210,
    "start_time": "2022-05-28T15:37:25.398Z"
   },
   {
    "duration": 7,
    "start_time": "2022-05-28T15:37:25.609Z"
   },
   {
    "duration": 330,
    "start_time": "2022-05-28T15:37:25.617Z"
   },
   {
    "duration": 11,
    "start_time": "2022-05-28T15:37:25.949Z"
   },
   {
    "duration": 381,
    "start_time": "2022-05-28T15:37:25.962Z"
   },
   {
    "duration": 26,
    "start_time": "2022-05-28T15:37:26.345Z"
   },
   {
    "duration": 298,
    "start_time": "2022-05-28T15:37:26.372Z"
   },
   {
    "duration": 20,
    "start_time": "2022-05-28T15:37:26.672Z"
   },
   {
    "duration": 7,
    "start_time": "2022-05-28T15:39:42.474Z"
   },
   {
    "duration": 8,
    "start_time": "2022-05-28T15:40:38.399Z"
   },
   {
    "duration": 11,
    "start_time": "2022-05-28T15:41:04.376Z"
   },
   {
    "duration": 7,
    "start_time": "2022-05-28T15:42:53.518Z"
   },
   {
    "duration": 10,
    "start_time": "2022-05-28T15:49:01.730Z"
   },
   {
    "duration": 8,
    "start_time": "2022-05-28T15:50:02.410Z"
   },
   {
    "duration": 8,
    "start_time": "2022-05-28T15:51:39.713Z"
   },
   {
    "duration": 15,
    "start_time": "2022-05-28T15:53:22.288Z"
   },
   {
    "duration": 4,
    "start_time": "2022-05-28T16:00:02.129Z"
   },
   {
    "duration": 104,
    "start_time": "2022-05-28T16:00:02.135Z"
   },
   {
    "duration": 11,
    "start_time": "2022-05-28T16:00:02.241Z"
   },
   {
    "duration": 46,
    "start_time": "2022-05-28T16:00:02.255Z"
   },
   {
    "duration": 24,
    "start_time": "2022-05-28T16:00:02.302Z"
   },
   {
    "duration": 42,
    "start_time": "2022-05-28T16:00:02.328Z"
   },
   {
    "duration": 28,
    "start_time": "2022-05-28T16:00:02.372Z"
   },
   {
    "duration": 56,
    "start_time": "2022-05-28T16:00:02.402Z"
   },
   {
    "duration": 20,
    "start_time": "2022-05-28T16:00:02.466Z"
   },
   {
    "duration": 34,
    "start_time": "2022-05-28T16:00:02.488Z"
   },
   {
    "duration": 54,
    "start_time": "2022-05-28T16:00:02.524Z"
   },
   {
    "duration": 33,
    "start_time": "2022-05-28T16:00:02.580Z"
   },
   {
    "duration": 35,
    "start_time": "2022-05-28T16:00:02.614Z"
   },
   {
    "duration": 142,
    "start_time": "2022-05-28T16:00:02.650Z"
   },
   {
    "duration": 13,
    "start_time": "2022-05-28T16:00:02.793Z"
   },
   {
    "duration": 23,
    "start_time": "2022-05-28T16:00:02.807Z"
   },
   {
    "duration": 103,
    "start_time": "2022-05-28T16:00:02.832Z"
   },
   {
    "duration": 63,
    "start_time": "2022-05-28T16:00:02.936Z"
   },
   {
    "duration": 345,
    "start_time": "2022-05-28T16:00:03.000Z"
   },
   {
    "duration": 24,
    "start_time": "2022-05-28T16:00:03.346Z"
   },
   {
    "duration": 80,
    "start_time": "2022-05-28T16:00:03.371Z"
   },
   {
    "duration": 26,
    "start_time": "2022-05-28T16:00:03.452Z"
   },
   {
    "duration": 32,
    "start_time": "2022-05-28T16:00:03.480Z"
   },
   {
    "duration": 2975,
    "start_time": "2022-05-28T16:00:03.515Z"
   },
   {
    "duration": 9,
    "start_time": "2022-05-28T16:00:06.492Z"
   },
   {
    "duration": 15,
    "start_time": "2022-05-28T16:00:06.502Z"
   },
   {
    "duration": 72,
    "start_time": "2022-05-28T16:00:06.519Z"
   },
   {
    "duration": 10,
    "start_time": "2022-05-28T16:00:06.593Z"
   },
   {
    "duration": 15,
    "start_time": "2022-05-28T16:00:06.605Z"
   },
   {
    "duration": 159,
    "start_time": "2022-05-28T16:00:06.621Z"
   },
   {
    "duration": 5,
    "start_time": "2022-05-28T16:00:06.781Z"
   },
   {
    "duration": 13,
    "start_time": "2022-05-28T16:00:06.787Z"
   },
   {
    "duration": 179,
    "start_time": "2022-05-28T16:00:06.801Z"
   },
   {
    "duration": 0,
    "start_time": "2022-05-28T16:00:06.982Z"
   },
   {
    "duration": 0,
    "start_time": "2022-05-28T16:00:06.983Z"
   },
   {
    "duration": 0,
    "start_time": "2022-05-28T16:00:06.984Z"
   },
   {
    "duration": 0,
    "start_time": "2022-05-28T16:00:06.985Z"
   },
   {
    "duration": 0,
    "start_time": "2022-05-28T16:00:06.986Z"
   },
   {
    "duration": 0,
    "start_time": "2022-05-28T16:00:06.987Z"
   },
   {
    "duration": 0,
    "start_time": "2022-05-28T16:00:06.988Z"
   },
   {
    "duration": 0,
    "start_time": "2022-05-28T16:00:06.989Z"
   },
   {
    "duration": 17,
    "start_time": "2022-05-28T16:04:56.191Z"
   },
   {
    "duration": 15,
    "start_time": "2022-05-28T16:07:56.206Z"
   },
   {
    "duration": 4,
    "start_time": "2022-05-28T16:08:32.774Z"
   },
   {
    "duration": 72,
    "start_time": "2022-05-28T16:08:32.780Z"
   },
   {
    "duration": 24,
    "start_time": "2022-05-28T16:08:32.854Z"
   },
   {
    "duration": 12,
    "start_time": "2022-05-28T16:08:32.880Z"
   },
   {
    "duration": 13,
    "start_time": "2022-05-28T16:08:32.894Z"
   },
   {
    "duration": 14,
    "start_time": "2022-05-28T16:08:32.908Z"
   },
   {
    "duration": 8,
    "start_time": "2022-05-28T16:08:32.924Z"
   },
   {
    "duration": 44,
    "start_time": "2022-05-28T16:08:32.933Z"
   },
   {
    "duration": 17,
    "start_time": "2022-05-28T16:08:32.978Z"
   },
   {
    "duration": 4,
    "start_time": "2022-05-28T16:08:32.997Z"
   },
   {
    "duration": 16,
    "start_time": "2022-05-28T16:08:33.003Z"
   },
   {
    "duration": 49,
    "start_time": "2022-05-28T16:08:33.021Z"
   },
   {
    "duration": 8,
    "start_time": "2022-05-28T16:08:33.073Z"
   },
   {
    "duration": 122,
    "start_time": "2022-05-28T16:08:33.083Z"
   },
   {
    "duration": 21,
    "start_time": "2022-05-28T16:08:33.208Z"
   },
   {
    "duration": 40,
    "start_time": "2022-05-28T16:08:33.231Z"
   },
   {
    "duration": 53,
    "start_time": "2022-05-28T16:08:33.272Z"
   },
   {
    "duration": 63,
    "start_time": "2022-05-28T16:08:33.327Z"
   },
   {
    "duration": 387,
    "start_time": "2022-05-28T16:08:33.392Z"
   },
   {
    "duration": 10,
    "start_time": "2022-05-28T16:08:33.781Z"
   },
   {
    "duration": 76,
    "start_time": "2022-05-28T16:08:33.793Z"
   },
   {
    "duration": 35,
    "start_time": "2022-05-28T16:08:33.873Z"
   },
   {
    "duration": 55,
    "start_time": "2022-05-28T16:08:33.911Z"
   },
   {
    "duration": 2838,
    "start_time": "2022-05-28T16:08:33.968Z"
   },
   {
    "duration": 12,
    "start_time": "2022-05-28T16:08:36.807Z"
   },
   {
    "duration": 16,
    "start_time": "2022-05-28T16:08:36.820Z"
   },
   {
    "duration": 84,
    "start_time": "2022-05-28T16:08:36.838Z"
   },
   {
    "duration": 13,
    "start_time": "2022-05-28T16:08:36.924Z"
   },
   {
    "duration": 32,
    "start_time": "2022-05-28T16:08:36.939Z"
   },
   {
    "duration": 199,
    "start_time": "2022-05-28T16:08:36.973Z"
   },
   {
    "duration": 5,
    "start_time": "2022-05-28T16:08:37.178Z"
   },
   {
    "duration": 15,
    "start_time": "2022-05-28T16:08:37.184Z"
   },
   {
    "duration": 15,
    "start_time": "2022-05-28T16:08:37.200Z"
   },
   {
    "duration": 0,
    "start_time": "2022-05-28T16:08:37.217Z"
   },
   {
    "duration": 0,
    "start_time": "2022-05-28T16:08:37.218Z"
   },
   {
    "duration": 0,
    "start_time": "2022-05-28T16:08:37.219Z"
   },
   {
    "duration": 0,
    "start_time": "2022-05-28T16:08:37.220Z"
   },
   {
    "duration": 0,
    "start_time": "2022-05-28T16:08:37.221Z"
   },
   {
    "duration": 0,
    "start_time": "2022-05-28T16:08:37.221Z"
   },
   {
    "duration": 0,
    "start_time": "2022-05-28T16:08:37.222Z"
   },
   {
    "duration": 0,
    "start_time": "2022-05-28T16:08:37.223Z"
   },
   {
    "duration": 22,
    "start_time": "2022-05-28T16:10:34.258Z"
   },
   {
    "duration": 28,
    "start_time": "2022-05-28T16:10:47.551Z"
   },
   {
    "duration": 13,
    "start_time": "2022-05-28T16:13:58.512Z"
   },
   {
    "duration": 4,
    "start_time": "2022-05-28T16:14:01.635Z"
   },
   {
    "duration": 109,
    "start_time": "2022-05-28T16:14:01.657Z"
   },
   {
    "duration": 14,
    "start_time": "2022-05-28T16:14:01.772Z"
   },
   {
    "duration": 12,
    "start_time": "2022-05-28T16:14:01.787Z"
   },
   {
    "duration": 11,
    "start_time": "2022-05-28T16:14:01.801Z"
   },
   {
    "duration": 29,
    "start_time": "2022-05-28T16:14:01.814Z"
   },
   {
    "duration": 62,
    "start_time": "2022-05-28T16:14:01.846Z"
   },
   {
    "duration": 40,
    "start_time": "2022-05-28T16:14:01.910Z"
   },
   {
    "duration": 25,
    "start_time": "2022-05-28T16:14:01.952Z"
   },
   {
    "duration": 16,
    "start_time": "2022-05-28T16:14:01.980Z"
   },
   {
    "duration": 16,
    "start_time": "2022-05-28T16:14:01.997Z"
   },
   {
    "duration": 17,
    "start_time": "2022-05-28T16:14:02.015Z"
   },
   {
    "duration": 34,
    "start_time": "2022-05-28T16:14:02.034Z"
   },
   {
    "duration": 159,
    "start_time": "2022-05-28T16:14:02.070Z"
   },
   {
    "duration": 15,
    "start_time": "2022-05-28T16:14:02.234Z"
   },
   {
    "duration": 26,
    "start_time": "2022-05-28T16:14:02.261Z"
   },
   {
    "duration": 190,
    "start_time": "2022-05-28T16:14:02.288Z"
   },
   {
    "duration": 53,
    "start_time": "2022-05-28T16:14:02.480Z"
   },
   {
    "duration": 410,
    "start_time": "2022-05-28T16:14:02.534Z"
   },
   {
    "duration": 19,
    "start_time": "2022-05-28T16:14:02.945Z"
   },
   {
    "duration": 78,
    "start_time": "2022-05-28T16:14:02.968Z"
   },
   {
    "duration": 27,
    "start_time": "2022-05-28T16:14:03.047Z"
   },
   {
    "duration": 29,
    "start_time": "2022-05-28T16:14:03.076Z"
   },
   {
    "duration": 3764,
    "start_time": "2022-05-28T16:14:03.106Z"
   },
   {
    "duration": 12,
    "start_time": "2022-05-28T16:14:06.875Z"
   },
   {
    "duration": 17,
    "start_time": "2022-05-28T16:14:06.888Z"
   },
   {
    "duration": 69,
    "start_time": "2022-05-28T16:14:06.907Z"
   },
   {
    "duration": 11,
    "start_time": "2022-05-28T16:14:06.978Z"
   },
   {
    "duration": 16,
    "start_time": "2022-05-28T16:14:06.991Z"
   },
   {
    "duration": 162,
    "start_time": "2022-05-28T16:14:07.009Z"
   },
   {
    "duration": 6,
    "start_time": "2022-05-28T16:14:07.176Z"
   },
   {
    "duration": 36,
    "start_time": "2022-05-28T16:14:07.184Z"
   },
   {
    "duration": 0,
    "start_time": "2022-05-28T16:14:07.222Z"
   },
   {
    "duration": 0,
    "start_time": "2022-05-28T16:14:07.223Z"
   },
   {
    "duration": 0,
    "start_time": "2022-05-28T16:14:07.224Z"
   },
   {
    "duration": 0,
    "start_time": "2022-05-28T16:14:07.226Z"
   },
   {
    "duration": 0,
    "start_time": "2022-05-28T16:14:07.227Z"
   },
   {
    "duration": 0,
    "start_time": "2022-05-28T16:14:07.228Z"
   },
   {
    "duration": 0,
    "start_time": "2022-05-28T16:14:07.229Z"
   },
   {
    "duration": 0,
    "start_time": "2022-05-28T16:14:07.230Z"
   },
   {
    "duration": 0,
    "start_time": "2022-05-28T16:14:07.231Z"
   },
   {
    "duration": 17,
    "start_time": "2022-05-28T16:15:31.820Z"
   },
   {
    "duration": 15,
    "start_time": "2022-05-28T16:15:40.313Z"
   },
   {
    "duration": 12,
    "start_time": "2022-05-28T16:20:26.706Z"
   },
   {
    "duration": 16,
    "start_time": "2022-05-28T16:22:05.909Z"
   },
   {
    "duration": 22,
    "start_time": "2022-05-28T16:23:01.156Z"
   },
   {
    "duration": 15,
    "start_time": "2022-05-28T16:24:28.514Z"
   },
   {
    "duration": 36,
    "start_time": "2022-05-28T16:25:52.855Z"
   },
   {
    "duration": 29,
    "start_time": "2022-05-28T16:26:28.554Z"
   },
   {
    "duration": 19,
    "start_time": "2022-05-28T16:27:26.031Z"
   },
   {
    "duration": 16,
    "start_time": "2022-05-28T16:32:02.920Z"
   },
   {
    "duration": 324,
    "start_time": "2022-05-28T16:35:10.914Z"
   },
   {
    "duration": 17,
    "start_time": "2022-05-28T16:35:13.820Z"
   },
   {
    "duration": 1335,
    "start_time": "2022-05-28T22:59:36.664Z"
   },
   {
    "duration": 80,
    "start_time": "2022-05-28T22:59:38.002Z"
   },
   {
    "duration": 17,
    "start_time": "2022-05-28T22:59:38.083Z"
   },
   {
    "duration": 12,
    "start_time": "2022-05-28T22:59:38.102Z"
   },
   {
    "duration": 39,
    "start_time": "2022-05-28T22:59:38.116Z"
   },
   {
    "duration": 16,
    "start_time": "2022-05-28T22:59:38.157Z"
   },
   {
    "duration": 10,
    "start_time": "2022-05-28T22:59:38.175Z"
   },
   {
    "duration": 25,
    "start_time": "2022-05-28T22:59:38.186Z"
   },
   {
    "duration": 18,
    "start_time": "2022-05-28T22:59:38.212Z"
   },
   {
    "duration": 12,
    "start_time": "2022-05-28T22:59:38.247Z"
   },
   {
    "duration": 17,
    "start_time": "2022-05-28T22:59:38.261Z"
   },
   {
    "duration": 16,
    "start_time": "2022-05-28T22:59:38.280Z"
   },
   {
    "duration": 241,
    "start_time": "2022-05-28T22:59:38.298Z"
   },
   {
    "duration": 230,
    "start_time": "2022-05-28T22:59:38.548Z"
   },
   {
    "duration": 14,
    "start_time": "2022-05-28T22:59:38.780Z"
   },
   {
    "duration": 12,
    "start_time": "2022-05-28T22:59:38.796Z"
   },
   {
    "duration": 255,
    "start_time": "2022-05-28T22:59:38.810Z"
   },
   {
    "duration": 84,
    "start_time": "2022-05-28T22:59:39.067Z"
   },
   {
    "duration": 377,
    "start_time": "2022-05-28T22:59:39.153Z"
   },
   {
    "duration": 17,
    "start_time": "2022-05-28T22:59:39.542Z"
   },
   {
    "duration": 52,
    "start_time": "2022-05-28T22:59:39.561Z"
   },
   {
    "duration": 48,
    "start_time": "2022-05-28T22:59:39.615Z"
   },
   {
    "duration": 32,
    "start_time": "2022-05-28T22:59:39.665Z"
   },
   {
    "duration": 2962,
    "start_time": "2022-05-28T22:59:39.698Z"
   },
   {
    "duration": 12,
    "start_time": "2022-05-28T22:59:42.661Z"
   },
   {
    "duration": 19,
    "start_time": "2022-05-28T22:59:42.675Z"
   },
   {
    "duration": 76,
    "start_time": "2022-05-28T22:59:42.696Z"
   },
   {
    "duration": 14,
    "start_time": "2022-05-28T22:59:42.774Z"
   },
   {
    "duration": 15,
    "start_time": "2022-05-28T22:59:42.789Z"
   },
   {
    "duration": 175,
    "start_time": "2022-05-28T22:59:42.806Z"
   },
   {
    "duration": 6,
    "start_time": "2022-05-28T22:59:42.982Z"
   },
   {
    "duration": 16,
    "start_time": "2022-05-28T22:59:42.990Z"
   },
   {
    "duration": 45,
    "start_time": "2022-05-28T22:59:43.008Z"
   },
   {
    "duration": 175,
    "start_time": "2022-05-28T22:59:43.054Z"
   },
   {
    "duration": 21,
    "start_time": "2022-05-28T22:59:43.231Z"
   },
   {
    "duration": 443,
    "start_time": "2022-05-28T22:59:43.255Z"
   },
   {
    "duration": 4,
    "start_time": "2022-05-28T22:59:43.700Z"
   },
   {
    "duration": 334,
    "start_time": "2022-05-28T22:59:43.706Z"
   },
   {
    "duration": 19,
    "start_time": "2022-05-28T22:59:44.043Z"
   },
   {
    "duration": 340,
    "start_time": "2022-05-28T22:59:44.064Z"
   },
   {
    "duration": 18,
    "start_time": "2022-05-28T22:59:44.408Z"
   },
   {
    "duration": 77,
    "start_time": "2022-05-28T23:07:48.355Z"
   },
   {
    "duration": 1300,
    "start_time": "2022-05-29T05:55:42.153Z"
   },
   {
    "duration": 253,
    "start_time": "2022-05-29T05:55:43.455Z"
   },
   {
    "duration": 15,
    "start_time": "2022-05-29T05:55:43.709Z"
   },
   {
    "duration": 31,
    "start_time": "2022-05-29T05:55:43.726Z"
   },
   {
    "duration": 23,
    "start_time": "2022-05-29T05:55:43.759Z"
   },
   {
    "duration": 20,
    "start_time": "2022-05-29T05:55:43.783Z"
   },
   {
    "duration": 36,
    "start_time": "2022-05-29T05:55:43.805Z"
   },
   {
    "duration": 36,
    "start_time": "2022-05-29T05:55:43.843Z"
   },
   {
    "duration": 21,
    "start_time": "2022-05-29T05:55:43.880Z"
   },
   {
    "duration": 6,
    "start_time": "2022-05-29T05:55:43.904Z"
   },
   {
    "duration": 23,
    "start_time": "2022-05-29T05:55:43.912Z"
   },
   {
    "duration": 20,
    "start_time": "2022-05-29T05:55:43.937Z"
   },
   {
    "duration": 196,
    "start_time": "2022-05-29T05:55:43.958Z"
   },
   {
    "duration": 181,
    "start_time": "2022-05-29T05:55:44.155Z"
   },
   {
    "duration": 13,
    "start_time": "2022-05-29T05:55:44.338Z"
   },
   {
    "duration": 31,
    "start_time": "2022-05-29T05:55:44.352Z"
   },
   {
    "duration": 214,
    "start_time": "2022-05-29T05:55:44.385Z"
   },
   {
    "duration": 53,
    "start_time": "2022-05-29T05:55:44.601Z"
   },
   {
    "duration": 383,
    "start_time": "2022-05-29T05:55:44.656Z"
   },
   {
    "duration": 10,
    "start_time": "2022-05-29T05:55:45.040Z"
   },
   {
    "duration": 56,
    "start_time": "2022-05-29T05:55:45.051Z"
   },
   {
    "duration": 35,
    "start_time": "2022-05-29T05:55:45.108Z"
   },
   {
    "duration": 25,
    "start_time": "2022-05-29T05:55:45.144Z"
   },
   {
    "duration": 3345,
    "start_time": "2022-05-29T05:55:45.171Z"
   },
   {
    "duration": 16,
    "start_time": "2022-05-29T05:55:48.518Z"
   },
   {
    "duration": 18,
    "start_time": "2022-05-29T05:55:48.535Z"
   },
   {
    "duration": 43,
    "start_time": "2022-05-29T05:55:48.555Z"
   },
   {
    "duration": 11,
    "start_time": "2022-05-29T05:55:48.601Z"
   },
   {
    "duration": 13,
    "start_time": "2022-05-29T05:55:48.628Z"
   },
   {
    "duration": 168,
    "start_time": "2022-05-29T05:55:48.643Z"
   },
   {
    "duration": 17,
    "start_time": "2022-05-29T05:55:48.813Z"
   },
   {
    "duration": 14,
    "start_time": "2022-05-29T05:55:48.831Z"
   },
   {
    "duration": 14,
    "start_time": "2022-05-29T05:55:48.847Z"
   },
   {
    "duration": 157,
    "start_time": "2022-05-29T05:55:48.863Z"
   },
   {
    "duration": 9,
    "start_time": "2022-05-29T05:55:49.022Z"
   },
   {
    "duration": 320,
    "start_time": "2022-05-29T05:55:49.032Z"
   },
   {
    "duration": 4,
    "start_time": "2022-05-29T05:55:49.354Z"
   },
   {
    "duration": 380,
    "start_time": "2022-05-29T05:55:49.359Z"
   },
   {
    "duration": 16,
    "start_time": "2022-05-29T05:55:49.740Z"
   },
   {
    "duration": 303,
    "start_time": "2022-05-29T05:55:49.758Z"
   },
   {
    "duration": 21,
    "start_time": "2022-05-29T05:55:50.062Z"
   },
   {
    "duration": 4,
    "start_time": "2022-05-29T06:29:34.364Z"
   },
   {
    "duration": 100,
    "start_time": "2022-05-29T06:29:34.370Z"
   },
   {
    "duration": 15,
    "start_time": "2022-05-29T06:29:34.474Z"
   },
   {
    "duration": 25,
    "start_time": "2022-05-29T06:29:34.490Z"
   },
   {
    "duration": 13,
    "start_time": "2022-05-29T06:29:34.518Z"
   },
   {
    "duration": 46,
    "start_time": "2022-05-29T06:29:34.534Z"
   },
   {
    "duration": 12,
    "start_time": "2022-05-29T06:29:34.581Z"
   },
   {
    "duration": 24,
    "start_time": "2022-05-29T06:29:34.595Z"
   },
   {
    "duration": 21,
    "start_time": "2022-05-29T06:29:34.621Z"
   },
   {
    "duration": 18,
    "start_time": "2022-05-29T06:29:34.644Z"
   },
   {
    "duration": 15,
    "start_time": "2022-05-29T06:29:34.667Z"
   },
   {
    "duration": 16,
    "start_time": "2022-05-29T06:29:34.683Z"
   },
   {
    "duration": 9,
    "start_time": "2022-05-29T06:29:34.701Z"
   },
   {
    "duration": 150,
    "start_time": "2022-05-29T06:29:34.713Z"
   },
   {
    "duration": 18,
    "start_time": "2022-05-29T06:29:34.864Z"
   },
   {
    "duration": 24,
    "start_time": "2022-05-29T06:29:34.884Z"
   },
   {
    "duration": 80,
    "start_time": "2022-05-29T06:29:34.910Z"
   },
   {
    "duration": 70,
    "start_time": "2022-05-29T06:29:34.992Z"
   },
   {
    "duration": 380,
    "start_time": "2022-05-29T06:29:35.064Z"
   },
   {
    "duration": 15,
    "start_time": "2022-05-29T06:29:35.446Z"
   },
   {
    "duration": 76,
    "start_time": "2022-05-29T06:29:35.463Z"
   },
   {
    "duration": 59,
    "start_time": "2022-05-29T06:29:35.541Z"
   },
   {
    "duration": 48,
    "start_time": "2022-05-29T06:29:35.603Z"
   },
   {
    "duration": 2720,
    "start_time": "2022-05-29T06:29:35.653Z"
   },
   {
    "duration": 14,
    "start_time": "2022-05-29T06:29:38.376Z"
   },
   {
    "duration": 26,
    "start_time": "2022-05-29T06:29:38.392Z"
   },
   {
    "duration": 75,
    "start_time": "2022-05-29T06:29:38.420Z"
   },
   {
    "duration": 15,
    "start_time": "2022-05-29T06:29:38.498Z"
   },
   {
    "duration": 43,
    "start_time": "2022-05-29T06:29:38.515Z"
   },
   {
    "duration": 300,
    "start_time": "2022-05-29T06:29:38.559Z"
   },
   {
    "duration": 13,
    "start_time": "2022-05-29T06:29:38.861Z"
   },
   {
    "duration": 13,
    "start_time": "2022-05-29T06:29:38.876Z"
   },
   {
    "duration": 28,
    "start_time": "2022-05-29T06:29:38.891Z"
   },
   {
    "duration": 180,
    "start_time": "2022-05-29T06:29:38.921Z"
   },
   {
    "duration": 7,
    "start_time": "2022-05-29T06:29:39.102Z"
   },
   {
    "duration": 388,
    "start_time": "2022-05-29T06:29:39.111Z"
   },
   {
    "duration": 5,
    "start_time": "2022-05-29T06:29:39.501Z"
   },
   {
    "duration": 364,
    "start_time": "2022-05-29T06:29:39.509Z"
   },
   {
    "duration": 141,
    "start_time": "2022-05-29T06:29:39.876Z"
   },
   {
    "duration": 346,
    "start_time": "2022-05-29T06:29:40.018Z"
   },
   {
    "duration": 17,
    "start_time": "2022-05-29T06:29:40.369Z"
   },
   {
    "duration": 3,
    "start_time": "2022-05-29T06:34:19.673Z"
   },
   {
    "duration": 87,
    "start_time": "2022-05-29T06:34:19.679Z"
   },
   {
    "duration": 16,
    "start_time": "2022-05-29T06:34:19.769Z"
   },
   {
    "duration": 16,
    "start_time": "2022-05-29T06:34:19.787Z"
   },
   {
    "duration": 36,
    "start_time": "2022-05-29T06:34:19.805Z"
   },
   {
    "duration": 15,
    "start_time": "2022-05-29T06:34:19.846Z"
   },
   {
    "duration": 13,
    "start_time": "2022-05-29T06:34:19.863Z"
   },
   {
    "duration": 32,
    "start_time": "2022-05-29T06:34:19.878Z"
   },
   {
    "duration": 40,
    "start_time": "2022-05-29T06:34:19.911Z"
   },
   {
    "duration": 7,
    "start_time": "2022-05-29T06:34:19.953Z"
   },
   {
    "duration": 20,
    "start_time": "2022-05-29T06:34:19.963Z"
   },
   {
    "duration": 60,
    "start_time": "2022-05-29T06:34:19.985Z"
   },
   {
    "duration": 10,
    "start_time": "2022-05-29T06:34:20.052Z"
   },
   {
    "duration": 119,
    "start_time": "2022-05-29T06:34:20.064Z"
   },
   {
    "duration": 13,
    "start_time": "2022-05-29T06:34:20.185Z"
   },
   {
    "duration": 10,
    "start_time": "2022-05-29T06:34:20.200Z"
   },
   {
    "duration": 54,
    "start_time": "2022-05-29T06:34:20.230Z"
   },
   {
    "duration": 76,
    "start_time": "2022-05-29T06:34:20.285Z"
   },
   {
    "duration": 334,
    "start_time": "2022-05-29T06:34:20.363Z"
   },
   {
    "duration": 10,
    "start_time": "2022-05-29T06:34:20.699Z"
   },
   {
    "duration": 58,
    "start_time": "2022-05-29T06:34:20.729Z"
   },
   {
    "duration": 49,
    "start_time": "2022-05-29T06:34:20.789Z"
   },
   {
    "duration": 32,
    "start_time": "2022-05-29T06:34:20.839Z"
   },
   {
    "duration": 1775,
    "start_time": "2022-05-29T06:34:20.873Z"
   },
   {
    "duration": 10,
    "start_time": "2022-05-29T06:34:22.650Z"
   },
   {
    "duration": 16,
    "start_time": "2022-05-29T06:34:22.661Z"
   },
   {
    "duration": 66,
    "start_time": "2022-05-29T06:34:22.680Z"
   },
   {
    "duration": 14,
    "start_time": "2022-05-29T06:34:22.747Z"
   },
   {
    "duration": 21,
    "start_time": "2022-05-29T06:34:22.764Z"
   },
   {
    "duration": 177,
    "start_time": "2022-05-29T06:34:22.787Z"
   },
   {
    "duration": 5,
    "start_time": "2022-05-29T06:34:22.966Z"
   },
   {
    "duration": 14,
    "start_time": "2022-05-29T06:34:22.972Z"
   },
   {
    "duration": 15,
    "start_time": "2022-05-29T06:34:22.988Z"
   },
   {
    "duration": 199,
    "start_time": "2022-05-29T06:34:23.004Z"
   },
   {
    "duration": 7,
    "start_time": "2022-05-29T06:34:23.204Z"
   },
   {
    "duration": 398,
    "start_time": "2022-05-29T06:34:23.212Z"
   },
   {
    "duration": 10,
    "start_time": "2022-05-29T06:34:23.612Z"
   },
   {
    "duration": 340,
    "start_time": "2022-05-29T06:34:23.624Z"
   },
   {
    "duration": 15,
    "start_time": "2022-05-29T06:34:23.966Z"
   },
   {
    "duration": 336,
    "start_time": "2022-05-29T06:34:23.983Z"
   },
   {
    "duration": 137,
    "start_time": "2022-05-29T06:34:24.320Z"
   }
  ],
  "kernelspec": {
   "display_name": "Python 3 (ipykernel)",
   "language": "python",
   "name": "python3"
  },
  "language_info": {
   "codemirror_mode": {
    "name": "ipython",
    "version": 3
   },
   "file_extension": ".py",
   "mimetype": "text/x-python",
   "name": "python",
   "nbconvert_exporter": "python",
   "pygments_lexer": "ipython3",
   "version": "3.9.7"
  },
  "toc": {
   "base_numbering": 1,
   "nav_menu": {},
   "number_sections": true,
   "sideBar": true,
   "skip_h1_title": true,
   "title_cell": "Table of Contents",
   "title_sidebar": "Contents",
   "toc_cell": false,
   "toc_position": {},
   "toc_section_display": true,
   "toc_window_display": false
  }
 },
 "nbformat": 4,
 "nbformat_minor": 2
}
